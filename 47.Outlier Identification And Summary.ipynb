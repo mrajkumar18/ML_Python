{
 "cells": [
  {
   "cell_type": "markdown",
   "metadata": {
    "colab_type": "text",
    "id": "e9mGxzDF5Cl9"
   },
   "source": [
    "# Exploratory Data Analysis"
   ]
  },
  {
   "cell_type": "markdown",
   "metadata": {
    "colab_type": "text",
    "id": "1FzYccB24irQ"
   },
   "source": [
    "## Reading Files into Python"
   ]
  },
  {
   "cell_type": "code",
   "execution_count": 1,
   "metadata": {
    "colab": {},
    "colab_type": "code",
    "id": "zDWO5w4jIiWL"
   },
   "outputs": [],
   "source": [
    "# importing libraries\n",
    "import pandas as pd\n",
    "import numpy as np\n",
    "import matplotlib.pyplot as plt\n",
    "import seaborn as sns"
   ]
  },
  {
   "cell_type": "code",
   "execution_count": 2,
   "metadata": {
    "colab": {},
    "colab_type": "code",
    "id": "LFxGyLx3L5IS"
   },
   "outputs": [],
   "source": [
    "#importing data\n",
    "data = pd.read_csv('datasets\\churn_prediction.csv')"
   ]
  },
  {
   "cell_type": "code",
   "execution_count": null,
   "metadata": {
    "colab": {
     "base_uri": "https://localhost:8080/"
    },
    "colab_type": "code",
    "executionInfo": {
     "elapsed": 2621,
     "status": "ok",
     "timestamp": 1584010478599,
     "user": {
      "displayName": "Sharoon Saxena",
      "photoUrl": "https://lh3.googleusercontent.com/a-/AOh14GjyKz9rNCPkHi6QK8TjrjBFlTtaI9ngf0hIwgAl=s64",
      "userId": "01167841530696023488"
     },
     "user_tz": -330
    },
    "id": "qPcIwT47NQX6",
    "outputId": "ef881a43-5a94-483e-9ae4-43847881b460"
   },
   "outputs": [],
   "source": [
    "#first 5 instances using \"head()\" function\n",
    "data.head()"
   ]
  },
  {
   "cell_type": "code",
   "execution_count": null,
   "metadata": {
    "colab": {
     "base_uri": "https://localhost:8080/"
    },
    "colab_type": "code",
    "executionInfo": {
     "elapsed": 2618,
     "status": "ok",
     "timestamp": 1584010478600,
     "user": {
      "displayName": "Sharoon Saxena",
      "photoUrl": "https://lh3.googleusercontent.com/a-/AOh14GjyKz9rNCPkHi6QK8TjrjBFlTtaI9ngf0hIwgAl=s64",
      "userId": "01167841530696023488"
     },
     "user_tz": -330
    },
    "id": "_G5CwMDl2B_8",
    "outputId": "80354ea3-bd55-45a7-a442-1afa21b8c7a8"
   },
   "outputs": [],
   "source": [
    "#last 5 instances using \"tail()\" function\n",
    "data.tail()"
   ]
  },
  {
   "cell_type": "code",
   "execution_count": 3,
   "metadata": {
    "colab": {
     "base_uri": "https://localhost:8080/"
    },
    "colab_type": "code",
    "executionInfo": {
     "elapsed": 2592,
     "status": "ok",
     "timestamp": 1584010478600,
     "user": {
      "displayName": "Sharoon Saxena",
      "photoUrl": "https://lh3.googleusercontent.com/a-/AOh14GjyKz9rNCPkHi6QK8TjrjBFlTtaI9ngf0hIwgAl=s64",
      "userId": "01167841530696023488"
     },
     "user_tz": -330
    },
    "id": "5Iy0lfDNNZ8U",
    "outputId": "376a9dbc-6682-46c7-876e-effa5d4f3f27"
   },
   "outputs": [
    {
     "data": {
      "text/plain": [
       "(28382, 21)"
      ]
     },
     "execution_count": 3,
     "metadata": {},
     "output_type": "execute_result"
    }
   ],
   "source": [
    "#finding out the shape of the data using \"shape\" variable: Output (rows, columns)\n",
    "data.shape"
   ]
  },
  {
   "cell_type": "code",
   "execution_count": 4,
   "metadata": {
    "colab": {
     "base_uri": "https://localhost:8080/"
    },
    "colab_type": "code",
    "executionInfo": {
     "elapsed": 2575,
     "status": "ok",
     "timestamp": 1584010478601,
     "user": {
      "displayName": "Sharoon Saxena",
      "photoUrl": "https://lh3.googleusercontent.com/a-/AOh14GjyKz9rNCPkHi6QK8TjrjBFlTtaI9ngf0hIwgAl=s64",
      "userId": "01167841530696023488"
     },
     "user_tz": -330
    },
    "id": "b75gSeumN50y",
    "outputId": "c9246116-43d9-4816-ef98-ed98b998443f"
   },
   "outputs": [
    {
     "data": {
      "text/plain": [
       "Index(['customer_id', 'vintage', 'age', 'gender', 'dependents', 'occupation',\n",
       "       'city', 'customer_nw_category', 'branch_code', 'current_balance',\n",
       "       'previous_month_end_balance', 'average_monthly_balance_prevQ',\n",
       "       'average_monthly_balance_prevQ2', 'current_month_credit',\n",
       "       'previous_month_credit', 'current_month_debit', 'previous_month_debit',\n",
       "       'current_month_balance', 'previous_month_balance', 'churn',\n",
       "       'last_transaction'],\n",
       "      dtype='object')"
      ]
     },
     "execution_count": 4,
     "metadata": {},
     "output_type": "execute_result"
    }
   ],
   "source": [
    "#Printing all the columns present in data\n",
    "data.columns"
   ]
  },
  {
   "cell_type": "markdown",
   "metadata": {
    "colab_type": "text",
    "id": "qfZv5qTw4rm_"
   },
   "source": [
    "## Variable Identification and Typecasting"
   ]
  },
  {
   "cell_type": "code",
   "execution_count": null,
   "metadata": {
    "colab": {
     "base_uri": "https://localhost:8080/"
    },
    "colab_type": "code",
    "executionInfo": {
     "elapsed": 2569,
     "status": "ok",
     "timestamp": 1584010478601,
     "user": {
      "displayName": "Sharoon Saxena",
      "photoUrl": "https://lh3.googleusercontent.com/a-/AOh14GjyKz9rNCPkHi6QK8TjrjBFlTtaI9ngf0hIwgAl=s64",
      "userId": "01167841530696023488"
     },
     "user_tz": -330
    },
    "id": "2_Us_uMgBnF_",
    "outputId": "edc6c1c1-73a3-463f-cc53-f8b506a0a098"
   },
   "outputs": [],
   "source": [
    "# A closer look at the data types present in the data\n",
    "data.dtypes"
   ]
  },
  {
   "cell_type": "markdown",
   "metadata": {
    "colab_type": "text",
    "id": "yAh9MfrhFlBE"
   },
   "source": [
    "There are a lot of variables visible at one, so let's narrow this down by looking **at one datatype at once**. We will start with int\n"
   ]
  },
  {
   "cell_type": "markdown",
   "metadata": {
    "colab_type": "text",
    "id": "LLXc4D7n9GIP"
   },
   "source": [
    "### Integer Data Type"
   ]
  },
  {
   "cell_type": "code",
   "execution_count": null,
   "metadata": {
    "colab": {
     "base_uri": "https://localhost:8080/"
    },
    "colab_type": "code",
    "executionInfo": {
     "elapsed": 2558,
     "status": "ok",
     "timestamp": 1584010478601,
     "user": {
      "displayName": "Sharoon Saxena",
      "photoUrl": "https://lh3.googleusercontent.com/a-/AOh14GjyKz9rNCPkHi6QK8TjrjBFlTtaI9ngf0hIwgAl=s64",
      "userId": "01167841530696023488"
     },
     "user_tz": -330
    },
    "id": "79o3VLDo-UcA",
    "outputId": "02ae58ae-c3db-4fb9-ada4-5ea687b53807"
   },
   "outputs": [],
   "source": [
    "# Identifying variables with integer datatype\n",
    "data.dtypes[data.dtypes == 'int64']"
   ]
  },
  {
   "cell_type": "markdown",
   "metadata": {
    "colab_type": "text",
    "id": "Yix8gagv-gwr"
   },
   "source": [
    "Summary:\n",
    "\n",
    "*    **Customer id** are a unique number assigned to customers. It is are **Okay as Integer**.\n",
    "\n",
    "*    **branch code** again represents different branches, therefore it should be **convereted to category**.\n",
    "\n",
    "*    **Age** and **Vintage** are also numbers and hence we are okay with them as integers.\n",
    "\n",
    "*    **customer_networth_category** is supposed to be an ordinal category, **should be converted to category**.\n",
    "\n",
    "*    **churn** : 1 represents the churn and 0 represents not churn. However, there is no comparison between these two categories. This **needs to be converted to category datatype**.\n"
   ]
  },
  {
   "cell_type": "code",
   "execution_count": 5,
   "metadata": {
    "colab": {
     "base_uri": "https://localhost:8080/"
    },
    "colab_type": "code",
    "executionInfo": {
     "elapsed": 2536,
     "status": "ok",
     "timestamp": 1584010478602,
     "user": {
      "displayName": "Sharoon Saxena",
      "photoUrl": "https://lh3.googleusercontent.com/a-/AOh14GjyKz9rNCPkHi6QK8TjrjBFlTtaI9ngf0hIwgAl=s64",
      "userId": "01167841530696023488"
     },
     "user_tz": -330
    },
    "id": "zjim6-_NDUOe",
    "outputId": "89dda91f-c2d8-4368-d637-d6e1648e274f"
   },
   "outputs": [
    {
     "data": {
      "text/plain": [
       "customer_id    int64\n",
       "vintage        int64\n",
       "age            int64\n",
       "dtype: object"
      ]
     },
     "execution_count": 5,
     "metadata": {},
     "output_type": "execute_result"
    }
   ],
   "source": [
    "# converting churn to category\n",
    "data['churn'] = data['churn'].astype('category')\n",
    "data['branch_code'] = data['branch_code'].astype('category')\n",
    "data['customer_nw_category'] = data['customer_nw_category'].astype('category')\n",
    "data.dtypes[data.dtypes == 'int64']"
   ]
  },
  {
   "cell_type": "markdown",
   "metadata": {
    "colab_type": "text",
    "id": "LRSHTCVY9MSl"
   },
   "source": [
    "### Float Data Type"
   ]
  },
  {
   "cell_type": "code",
   "execution_count": null,
   "metadata": {
    "colab": {
     "base_uri": "https://localhost:8080/"
    },
    "colab_type": "code",
    "executionInfo": {
     "elapsed": 2531,
     "status": "ok",
     "timestamp": 1584010478602,
     "user": {
      "displayName": "Sharoon Saxena",
      "photoUrl": "https://lh3.googleusercontent.com/a-/AOh14GjyKz9rNCPkHi6QK8TjrjBFlTtaI9ngf0hIwgAl=s64",
      "userId": "01167841530696023488"
     },
     "user_tz": -330
    },
    "id": "W4teLfjkzWbg",
    "outputId": "1e54beba-4390-454e-851d-739d93761050"
   },
   "outputs": [],
   "source": [
    "# Identifying variables with float datatype\n",
    "data.dtypes[data.dtypes == 'float64']"
   ]
  },
  {
   "cell_type": "markdown",
   "metadata": {
    "colab_type": "text",
    "id": "Z-97-KADzlCu"
   },
   "source": [
    "Summary:\n",
    "\n",
    "*    **dependents** is expected to be a whole number. **Should be changed to integer type**\n",
    "\n",
    "*    **city** variable is also a unique code of a city represented by some interger number. **Should be converted to Category type**\n",
    "\n",
    "*    Rest of the variables like **credit, balance and debit** are best represented by the float variables."
   ]
  },
  {
   "cell_type": "code",
   "execution_count": 6,
   "metadata": {
    "colab": {
     "base_uri": "https://localhost:8080/"
    },
    "colab_type": "code",
    "executionInfo": {
     "elapsed": 2528,
     "status": "ok",
     "timestamp": 1584010478603,
     "user": {
      "displayName": "Sharoon Saxena",
      "photoUrl": "https://lh3.googleusercontent.com/a-/AOh14GjyKz9rNCPkHi6QK8TjrjBFlTtaI9ngf0hIwgAl=s64",
      "userId": "01167841530696023488"
     },
     "user_tz": -330
    },
    "id": "ElAZeyTjWIh2",
    "outputId": "e46447e2-c37f-4e97-f2fc-fa27b7fe265c"
   },
   "outputs": [
    {
     "data": {
      "text/plain": [
       "dependents       Int64\n",
       "city          category\n",
       "dtype: object"
      ]
     },
     "execution_count": 6,
     "metadata": {},
     "output_type": "execute_result"
    }
   ],
   "source": [
    "# converting \"dependents\" and \"city\" to their respective types\n",
    "data['dependents'] = data['dependents'].astype('Int64')\n",
    "data['city'] = data['city'].astype('category')\n",
    "\n",
    "# checking\n",
    "data[['dependents','city']].dtypes"
   ]
  },
  {
   "cell_type": "markdown",
   "metadata": {
    "colab_type": "text",
    "id": "CkGScFSc_8Rl"
   },
   "source": [
    "### Object Data Type"
   ]
  },
  {
   "cell_type": "code",
   "execution_count": null,
   "metadata": {
    "colab": {
     "base_uri": "https://localhost:8080/"
    },
    "colab_type": "code",
    "executionInfo": {
     "elapsed": 2523,
     "status": "ok",
     "timestamp": 1584010478603,
     "user": {
      "displayName": "Sharoon Saxena",
      "photoUrl": "https://lh3.googleusercontent.com/a-/AOh14GjyKz9rNCPkHi6QK8TjrjBFlTtaI9ngf0hIwgAl=s64",
      "userId": "01167841530696023488"
     },
     "user_tz": -330
    },
    "id": "_ou3CLuI9DwS",
    "outputId": "69cd9938-6501-40b2-8a07-afd3dd2ee358"
   },
   "outputs": [],
   "source": [
    "data.dtypes"
   ]
  },
  {
   "cell_type": "markdown",
   "metadata": {
    "colab_type": "text",
    "id": "fzLUCLSU_Hmk"
   },
   "source": [
    "*    **variables like 'gender', 'occupation' and 'last_transaction' are of type object**. This means that **Pandas was not able to recognise the datatype** of these three variables."
   ]
  },
  {
   "cell_type": "code",
   "execution_count": null,
   "metadata": {
    "colab": {
     "base_uri": "https://localhost:8080/"
    },
    "colab_type": "code",
    "executionInfo": {
     "elapsed": 2519,
     "status": "ok",
     "timestamp": 1584010478603,
     "user": {
      "displayName": "Sharoon Saxena",
      "photoUrl": "https://lh3.googleusercontent.com/a-/AOh14GjyKz9rNCPkHi6QK8TjrjBFlTtaI9ngf0hIwgAl=s64",
      "userId": "01167841530696023488"
     },
     "user_tz": -330
    },
    "id": "fjOBy8qRaYfl",
    "outputId": "90cc957d-9b98-434f-c2ce-8a5b7b68871a"
   },
   "outputs": [],
   "source": [
    "# Manually checking object types\n",
    "data[['gender','occupation','last_transaction']].head(7)"
   ]
  },
  {
   "cell_type": "markdown",
   "metadata": {
    "colab_type": "text",
    "id": "8KOeDE6Bdlo4"
   },
   "source": [
    "*    **gender** and **occupation** variables **belong to categorical data types**.\n",
    "*    **last_transaction** should be a  **datetime variable**."
   ]
  },
  {
   "cell_type": "code",
   "execution_count": 7,
   "metadata": {
    "colab": {
     "base_uri": "https://localhost:8080/"
    },
    "colab_type": "code",
    "executionInfo": {
     "elapsed": 2515,
     "status": "ok",
     "timestamp": 1584010478604,
     "user": {
      "displayName": "Sharoon Saxena",
      "photoUrl": "https://lh3.googleusercontent.com/a-/AOh14GjyKz9rNCPkHi6QK8TjrjBFlTtaI9ngf0hIwgAl=s64",
      "userId": "01167841530696023488"
     },
     "user_tz": -330
    },
    "id": "WweHyTD1B-Hi",
    "outputId": "2c8ea28a-88a0-4e84-edf4-2b12600f114e"
   },
   "outputs": [
    {
     "data": {
      "text/plain": [
       "gender        category\n",
       "occupation    category\n",
       "dtype: object"
      ]
     },
     "execution_count": 7,
     "metadata": {},
     "output_type": "execute_result"
    }
   ],
   "source": [
    "# typecasting \"gender\" and \"occupation\" to category type\n",
    "data['gender'] = data['gender'].astype('category')\n",
    "data['occupation'] = data['occupation'].astype('category')\n",
    "\n",
    "# checking\n",
    "data[['gender','occupation']].dtypes"
   ]
  },
  {
   "cell_type": "markdown",
   "metadata": {
    "colab_type": "text",
    "id": "mL6utzZVCXzZ"
   },
   "source": [
    "### datetime Data Type"
   ]
  },
  {
   "cell_type": "code",
   "execution_count": 8,
   "metadata": {
    "colab": {},
    "colab_type": "code",
    "id": "rUW8X9y0cls5"
   },
   "outputs": [],
   "source": [
    "# creating an instance(date) of DatetimeIndex class using \"last_transaction\"\n",
    "date = pd.DatetimeIndex(data['last_transaction'])"
   ]
  },
  {
   "cell_type": "code",
   "execution_count": 9,
   "metadata": {
    "colab": {},
    "colab_type": "code",
    "id": "BiDzZxipexc8"
   },
   "outputs": [
    {
     "name": "stderr",
     "output_type": "stream",
     "text": [
      "E:\\Anaconda3\\envs\\ml_3.6\\lib\\site-packages\\ipykernel_launcher.py:7: FutureWarning: weekofyear and week have been deprecated, please use DatetimeIndex.isocalendar().week instead, which returns a Series.  To exactly reproduce the behavior of week and weekofyear and return an Index, you may call pd.Int64Index(idx.isocalendar().week)\n",
      "  import sys\n"
     ]
    }
   ],
   "source": [
    "# extracting new columns from \"last_transaction\"\n",
    "\n",
    "# last day of year when transaction was done\n",
    "data['doy_ls_tran'] = date.dayofyear\n",
    "\n",
    "# week of year when last transaction was done\n",
    "data['woy_ls_tran'] = date.weekofyear\n",
    "\n",
    "# month of year when last transaction was done\n",
    "data['moy_ls_tran'] = date.month\n",
    "\n",
    "# day of week when last transaction was done\n",
    "data['dow_ls_tran'] = date.dayofweek"
   ]
  },
  {
   "cell_type": "code",
   "execution_count": 10,
   "metadata": {
    "colab": {
     "base_uri": "https://localhost:8080/"
    },
    "colab_type": "code",
    "executionInfo": {
     "elapsed": 2489,
     "status": "ok",
     "timestamp": 1584010478605,
     "user": {
      "displayName": "Sharoon Saxena",
      "photoUrl": "https://lh3.googleusercontent.com/a-/AOh14GjyKz9rNCPkHi6QK8TjrjBFlTtaI9ngf0hIwgAl=s64",
      "userId": "01167841530696023488"
     },
     "user_tz": -330
    },
    "id": "HX959YsKk0ie",
    "outputId": "949e75e4-93f2-410b-e654-644c203740f2"
   },
   "outputs": [
    {
     "data": {
      "text/html": [
       "<div>\n",
       "<style scoped>\n",
       "    .dataframe tbody tr th:only-of-type {\n",
       "        vertical-align: middle;\n",
       "    }\n",
       "\n",
       "    .dataframe tbody tr th {\n",
       "        vertical-align: top;\n",
       "    }\n",
       "\n",
       "    .dataframe thead th {\n",
       "        text-align: right;\n",
       "    }\n",
       "</style>\n",
       "<table border=\"1\" class=\"dataframe\">\n",
       "  <thead>\n",
       "    <tr style=\"text-align: right;\">\n",
       "      <th></th>\n",
       "      <th>last_transaction</th>\n",
       "      <th>doy_ls_tran</th>\n",
       "      <th>woy_ls_tran</th>\n",
       "      <th>moy_ls_tran</th>\n",
       "      <th>dow_ls_tran</th>\n",
       "    </tr>\n",
       "  </thead>\n",
       "  <tbody>\n",
       "    <tr>\n",
       "      <th>0</th>\n",
       "      <td>2019-05-21</td>\n",
       "      <td>141.0</td>\n",
       "      <td>21.0</td>\n",
       "      <td>5.0</td>\n",
       "      <td>1.0</td>\n",
       "    </tr>\n",
       "    <tr>\n",
       "      <th>1</th>\n",
       "      <td>2019-11-01</td>\n",
       "      <td>305.0</td>\n",
       "      <td>44.0</td>\n",
       "      <td>11.0</td>\n",
       "      <td>4.0</td>\n",
       "    </tr>\n",
       "    <tr>\n",
       "      <th>2</th>\n",
       "      <td>NaT</td>\n",
       "      <td>NaN</td>\n",
       "      <td>NaN</td>\n",
       "      <td>NaN</td>\n",
       "      <td>NaN</td>\n",
       "    </tr>\n",
       "    <tr>\n",
       "      <th>3</th>\n",
       "      <td>2019-08-06</td>\n",
       "      <td>218.0</td>\n",
       "      <td>32.0</td>\n",
       "      <td>8.0</td>\n",
       "      <td>1.0</td>\n",
       "    </tr>\n",
       "    <tr>\n",
       "      <th>4</th>\n",
       "      <td>2019-11-03</td>\n",
       "      <td>307.0</td>\n",
       "      <td>44.0</td>\n",
       "      <td>11.0</td>\n",
       "      <td>6.0</td>\n",
       "    </tr>\n",
       "  </tbody>\n",
       "</table>\n",
       "</div>"
      ],
      "text/plain": [
       "  last_transaction  doy_ls_tran  woy_ls_tran  moy_ls_tran  dow_ls_tran\n",
       "0       2019-05-21        141.0         21.0          5.0          1.0\n",
       "1       2019-11-01        305.0         44.0         11.0          4.0\n",
       "2              NaT          NaN          NaN          NaN          NaN\n",
       "3       2019-08-06        218.0         32.0          8.0          1.0\n",
       "4       2019-11-03        307.0         44.0         11.0          6.0"
      ]
     },
     "execution_count": 10,
     "metadata": {},
     "output_type": "execute_result"
    }
   ],
   "source": [
    "# checking new extracted columns using datetime\n",
    "data[['last_transaction','doy_ls_tran','woy_ls_tran','moy_ls_tran','dow_ls_tran']].head()"
   ]
  },
  {
   "cell_type": "markdown",
   "metadata": {
    "colab_type": "text",
    "id": "ey6xOF4gqHu2"
   },
   "source": [
    "The first column is the complete date of the last transaction which was done by the any given customer.\n",
    "\n",
    "The next columns represent the day of year, week of year, month of year, day of week when the last transaction was done.\n",
    "\n",
    "**Breaking down the date variable** into these granular information will **help us in understand when the last transaction was done from different perspectives**. Now that we have extracted the essentials from the last_transaction variables, we will drop it from the dataset.\n",
    "\n"
   ]
  },
  {
   "cell_type": "code",
   "execution_count": null,
   "metadata": {
    "colab": {
     "base_uri": "https://localhost:8080/"
    },
    "colab_type": "code",
    "executionInfo": {
     "elapsed": 2464,
     "status": "ok",
     "timestamp": 1584010478605,
     "user": {
      "displayName": "Sharoon Saxena",
      "photoUrl": "https://lh3.googleusercontent.com/a-/AOh14GjyKz9rNCPkHi6QK8TjrjBFlTtaI9ngf0hIwgAl=s64",
      "userId": "01167841530696023488"
     },
     "user_tz": -330
    },
    "id": "KVGFEI5aynYs",
    "outputId": "7ccce480-7c8d-4662-9f6e-60fc29402d55"
   },
   "outputs": [],
   "source": [
    "data = data.drop(columns = ['last_transaction'])\n",
    "data.dtypes"
   ]
  },
  {
   "cell_type": "markdown",
   "metadata": {
    "colab_type": "text",
    "id": "6PZEQUlXii1G"
   },
   "source": [
    "## Univariate Analysis: Numerical Variables"
   ]
  },
  {
   "cell_type": "code",
   "execution_count": 11,
   "metadata": {
    "colab": {
     "base_uri": "https://localhost:8080/",
     "height": 340
    },
    "colab_type": "code",
    "executionInfo": {
     "elapsed": 2455,
     "status": "ok",
     "timestamp": 1584010478605,
     "user": {
      "displayName": "Sharoon Saxena",
      "photoUrl": "https://lh3.googleusercontent.com/a-/AOh14GjyKz9rNCPkHi6QK8TjrjBFlTtaI9ngf0hIwgAl=s64",
      "userId": "01167841530696023488"
     },
     "user_tz": -330
    },
    "id": "1O8cRBfvipvQ",
    "outputId": "33081b35-7d4b-485f-98e9-1833c64542e3"
   },
   "outputs": [
    {
     "data": {
      "text/plain": [
       "customer_id                         int64\n",
       "vintage                             int64\n",
       "age                                 int64\n",
       "dependents                          Int64\n",
       "current_balance                   float64\n",
       "previous_month_end_balance        float64\n",
       "average_monthly_balance_prevQ     float64\n",
       "average_monthly_balance_prevQ2    float64\n",
       "current_month_credit              float64\n",
       "previous_month_credit             float64\n",
       "current_month_debit               float64\n",
       "previous_month_debit              float64\n",
       "current_month_balance             float64\n",
       "previous_month_balance            float64\n",
       "doy_ls_tran                       float64\n",
       "woy_ls_tran                       float64\n",
       "moy_ls_tran                       float64\n",
       "dow_ls_tran                       float64\n",
       "dtype: object"
      ]
     },
     "execution_count": 11,
     "metadata": {},
     "output_type": "execute_result"
    }
   ],
   "source": [
    "# Numerical datatypes\n",
    "data.select_dtypes(include=['int64','float64','Int64']).dtypes"
   ]
  },
  {
   "cell_type": "code",
   "execution_count": 12,
   "metadata": {
    "colab": {},
    "colab_type": "code",
    "id": "CHPCzH5ujHGZ"
   },
   "outputs": [],
   "source": [
    "# seggregating variables into groups\n",
    "customer_details = ['customer_id','age','vintage']\n",
    "current_month = ['current_balance','current_month_credit','current_month_debit','current_month_balance']\n",
    "previous_month = ['previous_month_end_balance','previous_month_credit','previous_month_debit','previous_month_balance']\n",
    "previous_quarters = ['average_monthly_balance_prevQ','average_monthly_balance_prevQ2']\n",
    "transaction_date = ['doy_ls_tran','woy_ls_tran','moy_ls_tran','dow_ls_tran']"
   ]
  },
  {
   "cell_type": "code",
   "execution_count": 16,
   "metadata": {
    "colab": {},
    "colab_type": "code",
    "id": "nv_U-gn5jLhf"
   },
   "outputs": [],
   "source": [
    "# custom function for easy and efficient analysis of numerical univariate\n",
    "\n",
    "def UVA_numeric(data, var_group):\n",
    "\n",
    "  #Univariate_Analysis_numeric\n",
    "  #takes a group of variables (INTEGER and FLOAT) and plot/print all the descriptives and properties along with KDE.\n",
    "\n",
    "  #Runs a loop: calculate all the descriptives of i(th) variable and plot/print it\n",
    "  #'''\n",
    "\n",
    "    size = len(var_group)\n",
    "    plt.figure(figsize = (7*size,3), dpi = 100)\n",
    "  \n",
    "  #looping for each variable\n",
    "    for j,i in enumerate(var_group):\n",
    "    \n",
    "    # calculating descriptives of variable\n",
    "        mini = data[i].min()\n",
    "        maxi = data[i].max()\n",
    "        ran = data[i].max()-data[i].min()\n",
    "        mean = data[i].mean()\n",
    "        median = data[i].median()\n",
    "        st_dev = data[i].std()\n",
    "        skew = data[i].skew()\n",
    "        kurt = data[i].kurtosis()\n",
    "    # calculating points of standard deviation\n",
    "        points = mean-st_dev, mean+st_dev\n",
    "\n",
    "    #Plotting the variable with every information\n",
    "        plt.subplot(1,size,j+1)\n",
    "        sns.kdeplot(data[i], shade=True)\n",
    "        sns.lineplot(points, [0,0], color = 'black', label = \"std_dev\")\n",
    "        sns.scatterplot([mini,maxi], [0,0], color = 'orange', label = \"min/max\")\n",
    "        sns.scatterplot([mean], [0], color = 'red', label = \"mean\")\n",
    "        sns.scatterplot([median], [0], color = 'blue', label = \"median\")\n",
    "        plt.xlabel('{}'.format(i), fontsize = 20)\n",
    "        plt.ylabel('density')\n",
    "        plt.title('std_dev = {}; kurtosis = {};\\nskew = {}; range = {}\\nmean = {}; median = {}'.format((round(points[0],2),round(points[1],2)),\n",
    "                                                                                                   round(kurt,2),\n",
    "                                                                                                   round(skew,2),\n",
    "                                                                                                   (round(mini,2),round(maxi,2),round(ran,2)),\n",
    "                                                                                                   round(mean,2),\n",
    "                                                                                                   round(median,2)))"
   ]
  },
  {
   "cell_type": "markdown",
   "metadata": {
    "colab_type": "text",
    "id": "37Pk32OwisyT"
   },
   "source": [
    "### customer_information"
   ]
  },
  {
   "cell_type": "code",
   "execution_count": 17,
   "metadata": {
    "colab": {
     "base_uri": "https://localhost:8080/",
     "height": 405
    },
    "colab_type": "code",
    "executionInfo": {
     "elapsed": 4710,
     "status": "ok",
     "timestamp": 1584010480883,
     "user": {
      "displayName": "Sharoon Saxena",
      "photoUrl": "https://lh3.googleusercontent.com/a-/AOh14GjyKz9rNCPkHi6QK8TjrjBFlTtaI9ngf0hIwgAl=s64",
      "userId": "01167841530696023488"
     },
     "user_tz": -330
    },
    "id": "1YFj4I-wprgH",
    "outputId": "d56cbbea-7e6a-401a-99c2-ce59a7440247"
   },
   "outputs": [
    {
     "name": "stdout",
     "output_type": "stream",
     "text": [
      "mini = 1\n",
      "maxi = 30301\n"
     ]
    },
    {
     "name": "stderr",
     "output_type": "stream",
     "text": [
      "E:\\Anaconda3\\envs\\ml_3.6\\lib\\site-packages\\seaborn\\_decorators.py:43: FutureWarning: Pass the following variables as keyword args: x, y. From version 0.12, the only valid positional argument will be `data`, and passing other arguments without an explicit keyword will result in an error or misinterpretation.\n",
      "  FutureWarning\n",
      "E:\\Anaconda3\\envs\\ml_3.6\\lib\\site-packages\\seaborn\\_decorators.py:43: FutureWarning: Pass the following variables as keyword args: x, y. From version 0.12, the only valid positional argument will be `data`, and passing other arguments without an explicit keyword will result in an error or misinterpretation.\n",
      "  FutureWarning\n",
      "E:\\Anaconda3\\envs\\ml_3.6\\lib\\site-packages\\seaborn\\_decorators.py:43: FutureWarning: Pass the following variables as keyword args: x, y. From version 0.12, the only valid positional argument will be `data`, and passing other arguments without an explicit keyword will result in an error or misinterpretation.\n",
      "  FutureWarning\n",
      "E:\\Anaconda3\\envs\\ml_3.6\\lib\\site-packages\\seaborn\\_decorators.py:43: FutureWarning: Pass the following variables as keyword args: x, y. From version 0.12, the only valid positional argument will be `data`, and passing other arguments without an explicit keyword will result in an error or misinterpretation.\n",
      "  FutureWarning\n"
     ]
    },
    {
     "name": "stdout",
     "output_type": "stream",
     "text": [
      "mini = 1\n",
      "maxi = 90\n"
     ]
    },
    {
     "name": "stderr",
     "output_type": "stream",
     "text": [
      "E:\\Anaconda3\\envs\\ml_3.6\\lib\\site-packages\\seaborn\\_decorators.py:43: FutureWarning: Pass the following variables as keyword args: x, y. From version 0.12, the only valid positional argument will be `data`, and passing other arguments without an explicit keyword will result in an error or misinterpretation.\n",
      "  FutureWarning\n",
      "E:\\Anaconda3\\envs\\ml_3.6\\lib\\site-packages\\seaborn\\_decorators.py:43: FutureWarning: Pass the following variables as keyword args: x, y. From version 0.12, the only valid positional argument will be `data`, and passing other arguments without an explicit keyword will result in an error or misinterpretation.\n",
      "  FutureWarning\n",
      "E:\\Anaconda3\\envs\\ml_3.6\\lib\\site-packages\\seaborn\\_decorators.py:43: FutureWarning: Pass the following variables as keyword args: x, y. From version 0.12, the only valid positional argument will be `data`, and passing other arguments without an explicit keyword will result in an error or misinterpretation.\n",
      "  FutureWarning\n",
      "E:\\Anaconda3\\envs\\ml_3.6\\lib\\site-packages\\seaborn\\_decorators.py:43: FutureWarning: Pass the following variables as keyword args: x, y. From version 0.12, the only valid positional argument will be `data`, and passing other arguments without an explicit keyword will result in an error or misinterpretation.\n",
      "  FutureWarning\n"
     ]
    },
    {
     "name": "stdout",
     "output_type": "stream",
     "text": [
      "mini = 73\n",
      "maxi = 2476\n"
     ]
    },
    {
     "name": "stderr",
     "output_type": "stream",
     "text": [
      "E:\\Anaconda3\\envs\\ml_3.6\\lib\\site-packages\\seaborn\\_decorators.py:43: FutureWarning: Pass the following variables as keyword args: x, y. From version 0.12, the only valid positional argument will be `data`, and passing other arguments without an explicit keyword will result in an error or misinterpretation.\n",
      "  FutureWarning\n",
      "E:\\Anaconda3\\envs\\ml_3.6\\lib\\site-packages\\seaborn\\_decorators.py:43: FutureWarning: Pass the following variables as keyword args: x, y. From version 0.12, the only valid positional argument will be `data`, and passing other arguments without an explicit keyword will result in an error or misinterpretation.\n",
      "  FutureWarning\n",
      "E:\\Anaconda3\\envs\\ml_3.6\\lib\\site-packages\\seaborn\\_decorators.py:43: FutureWarning: Pass the following variables as keyword args: x, y. From version 0.12, the only valid positional argument will be `data`, and passing other arguments without an explicit keyword will result in an error or misinterpretation.\n",
      "  FutureWarning\n",
      "E:\\Anaconda3\\envs\\ml_3.6\\lib\\site-packages\\seaborn\\_decorators.py:43: FutureWarning: Pass the following variables as keyword args: x, y. From version 0.12, the only valid positional argument will be `data`, and passing other arguments without an explicit keyword will result in an error or misinterpretation.\n",
      "  FutureWarning\n"
     ]
    },
    {
     "data": {
      "image/png": "[encoded data removed]",
      "text/plain": [
       "<Figure size 2100x300 with 3 Axes>"
      ]
     },
     "metadata": {
      "needs_background": "light"
     },
     "output_type": "display_data"
    }
   ],
   "source": [
    "UVA_numeric(data,customer_details)"
   ]
  },
  {
   "cell_type": "markdown",
   "metadata": {
    "colab_type": "text",
    "id": "xD-3il2nJt10"
   },
   "source": [
    "**Summary of Customer_Information:**\n",
    "*    **customer_id**:\n",
    "     *    variable is **unique for every customer, Hence uniform** distribution.\n",
    "     * This variable **does not contribute any information**\n",
    "     * Can be eliminated from data\n",
    "\n",
    "*    **age**:\n",
    "    *    Median Age = 46\n",
    "    *    **Most customers age between 30 to 66**\n",
    "    *    skewness +0.33 : customer age is **negligibly biased towards younger age**\n",
    "    *    **kurtosis = -0.17**; very less likely to have extreme/outlier values.\n",
    "*    **vintage:**\n",
    "    *    Most customers joined between 2100 and 2650 days from the day of data extraction.\n",
    "    *    **skewness** -1.42 : this is left skewed, **vintage variable is significantly biased towards longer association of customers.**\n",
    "    *    **Kurtosis = 2.93**: Extreme values and Outliers are very likely to be present in vintage.\n",
    "\n",
    "**Things to Investigate Further down the road:**\n",
    "*    The batch of **high number of very Old Age customers** in age variable."
   ]
  },
  {
   "cell_type": "markdown",
   "metadata": {
    "colab_type": "text",
    "id": "TiC2VomvlWS5"
   },
   "source": [
    "### current_month"
   ]
  },
  {
   "cell_type": "code",
   "execution_count": null,
   "metadata": {
    "colab": {
     "base_uri": "https://localhost:8080/"
    },
    "colab_type": "code",
    "executionInfo": {
     "elapsed": 5910,
     "status": "ok",
     "timestamp": 1584010482092,
     "user": {
      "displayName": "Sharoon Saxena",
      "photoUrl": "https://lh3.googleusercontent.com/a-/AOh14GjyKz9rNCPkHi6QK8TjrjBFlTtaI9ngf0hIwgAl=s64",
      "userId": "01167841530696023488"
     },
     "user_tz": -330
    },
    "id": "blZU92hHk81s",
    "outputId": "c90f7a67-e866-4a63-9d32-5b39060b859d"
   },
   "outputs": [],
   "source": [
    "UVA_numeric(data,current_month)"
   ]
  },
  {
   "cell_type": "markdown",
   "metadata": {
    "colab_type": "text",
    "id": "5J8ixOBgnE1O"
   },
   "source": [
    "**Summary**\n",
    "*    Considering the kurtosis and skewness value  for all 4 of these plots. Outliers/Extreme values are obvious."
   ]
  },
  {
   "cell_type": "markdown",
   "metadata": {
    "colab_type": "text",
    "id": "l9TpJ38koJbh"
   },
   "source": [
    "\n",
    "**Need to Remove Outliers to visulaise these plots**"
   ]
  },
  {
   "cell_type": "code",
   "execution_count": null,
   "metadata": {
    "colab": {
     "base_uri": "https://localhost:8080/"
    },
    "colab_type": "code",
    "executionInfo": {
     "elapsed": 5885,
     "status": "ok",
     "timestamp": 1584010482093,
     "user": {
      "displayName": "Sharoon Saxena",
      "photoUrl": "https://lh3.googleusercontent.com/a-/AOh14GjyKz9rNCPkHi6QK8TjrjBFlTtaI9ngf0hIwgAl=s64",
      "userId": "01167841530696023488"
     },
     "user_tz": -330
    },
    "id": "Tvlh4yl1l5Tr",
    "outputId": "dcde1916-7467-486b-f00a-5790e5a3a082"
   },
   "outputs": [],
   "source": [
    "# standard deviation factor\n",
    "factor = 3\n",
    "\n",
    "# copying current_month\n",
    "cm_data = data[current_month]\n",
    "\n",
    "# filtering using standard deviation (not considering obseravtions > 3* standard deviation)\n",
    "cm_data = cm_data[cm_data['current_balance'] < factor*cm_data['current_balance'].std()]\n",
    "cm_data = cm_data[cm_data['current_month_credit'] < factor*cm_data['current_month_credit'].std()]\n",
    "cm_data = cm_data[cm_data['current_month_debit'] < factor*cm_data['current_month_debit'].std()]\n",
    "cm_data = cm_data[cm_data['current_month_balance'] < factor*cm_data['current_month_balance'].std()]\n",
    "\n",
    "# checking how many points removed\n",
    "len(data), len(cm_data)"
   ]
  },
  {
   "cell_type": "code",
   "execution_count": null,
   "metadata": {
    "colab": {
     "base_uri": "https://localhost:8080/"
    },
    "colab_type": "code",
    "executionInfo": {
     "elapsed": 7128,
     "status": "ok",
     "timestamp": 1584010483344,
     "user": {
      "displayName": "Sharoon Saxena",
      "photoUrl": "https://lh3.googleusercontent.com/a-/AOh14GjyKz9rNCPkHi6QK8TjrjBFlTtaI9ngf0hIwgAl=s64",
      "userId": "01167841530696023488"
     },
     "user_tz": -330
    },
    "id": "n7eIx4invp0g",
    "outputId": "77328e3e-216d-487f-a6d9-14410d8793f9"
   },
   "outputs": [],
   "source": [
    "UVA_numeric(cm_data,current_month)"
   ]
  },
  {
   "cell_type": "markdown",
   "metadata": {
    "colab_type": "text",
    "id": "c5T-Ldo0mLuJ"
   },
   "source": [
    "**Summary of current_month**\n",
    "*    After Removing extreme/outliers, plots are still very skewed.\n",
    "\n",
    "**Things to investigate further down**\n",
    "1.    **Is there thete any common trait/relation between the customers who are performing high transaction credit/debits?**\n",
    "2.    **Customers who are performinng high amount of transactions, are they doinng it every month?**"
   ]
  },
  {
   "cell_type": "markdown",
   "metadata": {
    "colab_type": "text",
    "id": "56ygh55Zok6v"
   },
   "source": [
    "### previous_month"
   ]
  },
  {
   "cell_type": "code",
   "execution_count": null,
   "metadata": {
    "colab": {
     "base_uri": "https://localhost:8080/"
    },
    "colab_type": "code",
    "executionInfo": {
     "elapsed": 9680,
     "status": "ok",
     "timestamp": 1584010485937,
     "user": {
      "displayName": "Sharoon Saxena",
      "photoUrl": "https://lh3.googleusercontent.com/a-/AOh14GjyKz9rNCPkHi6QK8TjrjBFlTtaI9ngf0hIwgAl=s64",
      "userId": "01167841530696023488"
     },
     "user_tz": -330
    },
    "id": "TjXX4cApwmc4",
    "outputId": "ff20232e-2c61-49c0-924b-cf7195b5220b"
   },
   "outputs": [],
   "source": [
    "UVA_numeric(data,previous_month)"
   ]
  },
  {
   "cell_type": "markdown",
   "metadata": {
    "colab_type": "text",
    "id": "sNBUxvviqVGj"
   },
   "source": [
    "**Summary of previous_month**\n",
    "*    This looks very similar to current_month. Most of the customers perform low amount transactions."
   ]
  },
  {
   "cell_type": "markdown",
   "metadata": {
    "colab_type": "text",
    "id": "jFQ4BEyKrLkR"
   },
   "source": [
    "### previous_quarters"
   ]
  },
  {
   "cell_type": "code",
   "execution_count": null,
   "metadata": {
    "colab": {
     "base_uri": "https://localhost:8080/"
    },
    "colab_type": "code",
    "executionInfo": {
     "elapsed": 9642,
     "status": "ok",
     "timestamp": 1584010485937,
     "user": {
      "displayName": "Sharoon Saxena",
      "photoUrl": "https://lh3.googleusercontent.com/a-/AOh14GjyKz9rNCPkHi6QK8TjrjBFlTtaI9ngf0hIwgAl=s64",
      "userId": "01167841530696023488"
     },
     "user_tz": -330
    },
    "id": "0sUZY9X7owHI",
    "outputId": "35d55013-add1-4c92-c19f-aac56a7b25b4"
   },
   "outputs": [],
   "source": [
    "UVA_numeric(data,previous_quarters)"
   ]
  },
  {
   "cell_type": "markdown",
   "metadata": {
    "colab_type": "text",
    "id": "KTazVPaBwn3f"
   },
   "source": [
    "**Summary**\n",
    "The general trend still follows, it is crutial that we find the out if there is any common trait between the customers doing high high amount of transactions."
   ]
  },
  {
   "cell_type": "markdown",
   "metadata": {
    "colab_type": "text",
    "id": "kTqwU7fQ0jkI"
   },
   "source": [
    "### transaction_date"
   ]
  },
  {
   "cell_type": "code",
   "execution_count": null,
   "metadata": {
    "colab": {
     "base_uri": "https://localhost:8080/",
     "height": 405
    },
    "colab_type": "code",
    "executionInfo": {
     "elapsed": 11138,
     "status": "ok",
     "timestamp": 1584010487458,
     "user": {
      "displayName": "Sharoon Saxena",
      "photoUrl": "https://lh3.googleusercontent.com/a-/AOh14GjyKz9rNCPkHi6QK8TjrjBFlTtaI9ngf0hIwgAl=s64",
      "userId": "01167841530696023488"
     },
     "user_tz": -330
    },
    "id": "Lt-oFFQCrVZ0",
    "outputId": "6a50f75d-179f-4ef2-8e28-99281af6e0de"
   },
   "outputs": [],
   "source": [
    "UVA_numeric(data,transaction_date)"
   ]
  },
  {
   "cell_type": "markdown",
   "metadata": {
    "colab_type": "text",
    "id": "TJyehftG4qDk"
   },
   "source": [
    "**Summary**\n",
    "*    **Day_of_Year**:\n",
    "    *    most of the last transactions were made in the last 60 days of the extraction of data.\n",
    "    *    There are transactions which were made also an year ago.\n",
    "\n",
    "*   **Week_of_year and Month_of_year**: these variable validate the findings from the **day_of_year**.\n",
    "*    **Day_of_Week**: Tuesdays are often the favoured day relative to others.\n",
    "\n",
    "**Things to investigate further Down**\n",
    "*    **Customers whose last transaction was 6 months ago, did all of them churn?**"
   ]
  },
  {
   "cell_type": "markdown",
   "metadata": {
    "colab_type": "text",
    "id": "tleDyj9P_j_i"
   },
   "source": [
    "## Univariate Analysis : Categorical Varibales"
   ]
  },
  {
   "cell_type": "code",
   "execution_count": null,
   "metadata": {
    "colab": {
     "base_uri": "https://localhost:8080/",
     "height": 136
    },
    "colab_type": "code",
    "executionInfo": {
     "elapsed": 11126,
     "status": "ok",
     "timestamp": 1584010487459,
     "user": {
      "displayName": "Sharoon Saxena",
      "photoUrl": "https://lh3.googleusercontent.com/a-/AOh14GjyKz9rNCPkHi6QK8TjrjBFlTtaI9ngf0hIwgAl=s64",
      "userId": "01167841530696023488"
     },
     "user_tz": -330
    },
    "id": "SLWcwsoa0tlN",
    "outputId": "9c4dc0d3-eb44-4232-a8b8-40c189ad062e"
   },
   "outputs": [],
   "source": [
    "data.select_dtypes(exclude=['int64','float64','Int64']).dtypes"
   ]
  },
  {
   "cell_type": "markdown",
   "metadata": {
    "colab_type": "text",
    "id": "o8ebDof6Vlnq"
   },
   "source": [
    "**Grouping Varibales**\n",
    "\n",
    "* **customer_info**: gender, occupation, customer_nw_category\n",
    "* **account_info**: city, branch_code\n",
    "* **churn**"
   ]
  },
  {
   "cell_type": "code",
   "execution_count": null,
   "metadata": {
    "colab": {},
    "colab_type": "code",
    "id": "5i9kY6dVEITb"
   },
   "outputs": [],
   "source": [
    "# Custom function for easy visualisation of Categorical Variables\n",
    "def UVA_category(data, var_group):\n",
    "\n",
    "  '''\n",
    "  Univariate_Analysis_categorical\n",
    "  takes a group of variables (category) and plot/print all the value_counts and barplot.\n",
    "  '''\n",
    "  # setting figure_size\n",
    "  size = len(var_group)\n",
    "  plt.figure(figsize = (7*size,5), dpi = 100)\n",
    "\n",
    "  # for every variable\n",
    "  for j,i in enumerate(var_group):\n",
    "    norm_count = data[i].value_counts(normalize = True)\n",
    "    n_uni = data[i].nunique()\n",
    "\n",
    "  #Plotting the variable with every information\n",
    "    plt.subplot(1,size,j+1)\n",
    "    sns.barplot(norm_count, norm_count.index , order = norm_count.index)\n",
    "    plt.xlabel('fraction/percent', fontsize = 20)\n",
    "    plt.ylabel('{}'.format(i), fontsize = 20)\n",
    "    plt.title('n_uniques = {} \\n value counts \\n {};'.format(n_uni,norm_count))"
   ]
  },
  {
   "cell_type": "markdown",
   "metadata": {
    "colab_type": "text",
    "id": "JowqxBPrUHOS"
   },
   "source": [
    "### customer_info"
   ]
  },
  {
   "cell_type": "code",
   "execution_count": null,
   "metadata": {
    "colab": {
     "base_uri": "https://localhost:8080/",
     "height": 660
    },
    "colab_type": "code",
    "executionInfo": {
     "elapsed": 12188,
     "status": "ok",
     "timestamp": 1584010488567,
     "user": {
      "displayName": "Sharoon Saxena",
      "photoUrl": "https://lh3.googleusercontent.com/a-/AOh14GjyKz9rNCPkHi6QK8TjrjBFlTtaI9ngf0hIwgAl=s64",
      "userId": "01167841530696023488"
     },
     "user_tz": -330
    },
    "id": "JXFaU9g0IY_I",
    "outputId": "336aebf2-ee8d-428e-bee1-0a5fa05435c5"
   },
   "outputs": [],
   "source": [
    "UVA_category(data, ['occupation', 'gender', 'customer_nw_category'])"
   ]
  },
  {
   "cell_type": "markdown",
   "metadata": {
    "colab_type": "text",
    "id": "ato5X6wuY8vO"
   },
   "source": [
    "**Summary**\n",
    "* Occupation\n",
    "  * Majority of people are self_employed.\n",
    "  * There are extremely few Company Accounts. Might explain Outlier/Extreme values in credit/debit.\n",
    "\n",
    "* Gender:\n",
    "  *  Males accounts are 1.5 times more than Female Accounts.\n",
    "\n",
    "* customer_nw_category:\n",
    "  *  Half of all the accounts belong to the 3rd net worth category.\n",
    "  *  Less than 15% belong to the highest net worth category.\n",
    "\n",
    "**Things to investigate further down:**\n",
    "* Possibility: Company accounts are the reason behind the outlier transactions.\n",
    "* Possibility: customers belonging to the highest net worth category may explain the skewness of the transactions."
   ]
  },
  {
   "cell_type": "markdown",
   "metadata": {
    "colab_type": "text",
    "id": "nnAMoLCkcD-b"
   },
   "source": [
    "### account_info"
   ]
  },
  {
   "cell_type": "code",
   "execution_count": null,
   "metadata": {
    "colab": {
     "base_uri": "https://localhost:8080/",
     "height": 764
    },
    "colab_type": "code",
    "executionInfo": {
     "elapsed": 83841,
     "status": "ok",
     "timestamp": 1584010560242,
     "user": {
      "displayName": "Sharoon Saxena",
      "photoUrl": "https://lh3.googleusercontent.com/a-/AOh14GjyKz9rNCPkHi6QK8TjrjBFlTtaI9ngf0hIwgAl=s64",
      "userId": "01167841530696023488"
     },
     "user_tz": -330
    },
    "id": "MTey5QEbY7lM",
    "outputId": "cf518b2a-4aca-4297-fe59-e48c6de971b9"
   },
   "outputs": [],
   "source": [
    "UVA_category(data, ['city', 'branch_code'])"
   ]
  },
  {
   "cell_type": "code",
   "execution_count": null,
   "metadata": {
    "colab": {
     "base_uri": "https://localhost:8080/",
     "height": 572
    },
    "colab_type": "code",
    "executionInfo": {
     "elapsed": 105845,
     "status": "ok",
     "timestamp": 1584010582258,
     "user": {
      "displayName": "Sharoon Saxena",
      "photoUrl": "https://lh3.googleusercontent.com/a-/AOh14GjyKz9rNCPkHi6QK8TjrjBFlTtaI9ngf0hIwgAl=s64",
      "userId": "01167841530696023488"
     },
     "user_tz": -330
    },
    "id": "ZTs4Ess5UE6t",
    "outputId": "ae3c43a2-b874-4828-a4f3-17d3d775eb00"
   },
   "outputs": [],
   "source": [
    "#Plotting \"city\"\n",
    "plt.figure(figsize = (5,5), dpi = 120)\n",
    "city_count = data['city'].value_counts(normalize=True)\n",
    "sns.barplot(city_count.index, city_count , order = city_count.index)\n",
    "plt.xlabel('City')\n",
    "plt.ylabel('fraction/percent')\n",
    "plt.ylim(0,0.02)"
   ]
  },
  {
   "cell_type": "code",
   "execution_count": null,
   "metadata": {
    "colab": {
     "base_uri": "https://localhost:8080/",
     "height": 565
    },
    "colab_type": "code",
    "executionInfo": {
     "elapsed": 159352,
     "status": "ok",
     "timestamp": 1584010635778,
     "user": {
      "displayName": "Sharoon Saxena",
      "photoUrl": "https://lh3.googleusercontent.com/a-/AOh14GjyKz9rNCPkHi6QK8TjrjBFlTtaI9ngf0hIwgAl=s64",
      "userId": "01167841530696023488"
     },
     "user_tz": -330
    },
    "id": "hhNQ_I8keQ7W",
    "outputId": "3555aa7f-f6b3-4642-9014-4595436a8eb5"
   },
   "outputs": [],
   "source": [
    "#Plotting \"branch_code\"\n",
    "plt.figure(figsize = (5,5), dpi = 120)\n",
    "branch_count = data['branch_code'].value_counts()\n",
    "sns.barplot(branch_count.index, branch_count , order = branch_count.index)\n",
    "plt.xlabel('branch_code')\n",
    "plt.ylabel('fraction/percent')\n",
    "#plt.ylim(0,0.02)"
   ]
  },
  {
   "cell_type": "markdown",
   "metadata": {
    "colab_type": "text",
    "id": "A12aCbGWqM3l"
   },
   "source": [
    "**Summary:**\n",
    "for both variable \"city\" and \"branch_code\", there are too many categories. There is clear relation that some branches and cities are more popular with customers and and this trend decreases rapidly.\n",
    "\n",
    "**Things to investigate further Down**\n",
    "* Popular cities and branch code might be able to explain the skewness and outliers of credit/debit variables.\n",
    "* Possibility that cities and branch code with very few accounts may lead to churning."
   ]
  },
  {
   "cell_type": "markdown",
   "metadata": {
    "colab_type": "text",
    "id": "Fjn2DFHQ1DUA"
   },
   "source": [
    "### churn"
   ]
  },
  {
   "cell_type": "code",
   "execution_count": null,
   "metadata": {
    "colab": {
     "base_uri": "https://localhost:8080/",
     "height": 577
    },
    "colab_type": "code",
    "executionInfo": {
     "elapsed": 159338,
     "status": "ok",
     "timestamp": 1584010635779,
     "user": {
      "displayName": "Sharoon Saxena",
      "photoUrl": "https://lh3.googleusercontent.com/a-/AOh14GjyKz9rNCPkHi6QK8TjrjBFlTtaI9ngf0hIwgAl=s64",
      "userId": "01167841530696023488"
     },
     "user_tz": -330
    },
    "id": "_3hiwoojj5tR",
    "outputId": "219dfbec-e2dc-4021-8f2e-abecc2b1cd23"
   },
   "outputs": [],
   "source": [
    "UVA_category(data, ['churn'])"
   ]
  },
  {
   "cell_type": "markdown",
   "metadata": {
    "colab_type": "text",
    "id": "l8SyVYHe3R2-"
   },
   "source": [
    "**Summary**\n",
    "* Number of people who churned are 1/4 times of the people who did not churn in the given data."
   ]
  },
  {
   "cell_type": "markdown",
   "metadata": {
    "colab_type": "text",
    "id": "2AyX9rNl-NIZ"
   },
   "source": [
    "## Univariate: Missing Values"
   ]
  },
  {
   "cell_type": "code",
   "execution_count": null,
   "metadata": {
    "colab": {
     "base_uri": "https://localhost:8080/",
     "height": 442
    },
    "colab_type": "code",
    "executionInfo": {
     "elapsed": 159328,
     "status": "ok",
     "timestamp": 1584010635780,
     "user": {
      "displayName": "Sharoon Saxena",
      "photoUrl": "https://lh3.googleusercontent.com/a-/AOh14GjyKz9rNCPkHi6QK8TjrjBFlTtaI9ngf0hIwgAl=s64",
      "userId": "01167841530696023488"
     },
     "user_tz": -330
    },
    "id": "4Hbg29tD4c8G",
    "outputId": "e6f0842e-427b-4d2a-b221-2f4c4602bd12"
   },
   "outputs": [],
   "source": [
    "# finding number of missing values in every variable\n",
    "data.isnull().sum()"
   ]
  },
  {
   "cell_type": "markdown",
   "metadata": {
    "colab_type": "text",
    "id": "WwY5XbTlevUg"
   },
   "source": [
    "**Things to investigate further down:**\n",
    "*    Gender: Do the customers with missing gender values have some common behaviour in-\n",
    "  * churn: do missing values have any relation with churn?\n",
    "\n",
    "* Dependents:\n",
    " * Missing values might be similar to zero dependents\n",
    " * churn: do missing values have any relation with churn?\n",
    "\n",
    "* Occupation:\n",
    " * Do missing values have similar behaviour to any other occupation\n",
    " * do they have some relation with churn?\n",
    "\n",
    "* city:\n",
    "  * the respective cities can be found using branch_code\n",
    "\n",
    "* last_transaction:\n",
    "  * checking their previous month and current month and previous_quarter activity might give insight on their last transaction.\n",
    "\n",
    "* For almost all the above:\n",
    "\n",
    "  * vintage: might be recording errors from same period of joining\n",
    "  * branch_code: might be recording error from certain branch\n"
   ]
  },
  {
   "cell_type": "markdown",
   "metadata": {
    "colab_type": "text",
    "id": "Z7XSk_6M8-Sn"
   },
   "source": [
    "## Univariate Analysis: Outliers"
   ]
  },
  {
   "cell_type": "markdown",
   "metadata": {
    "colab_type": "text",
    "id": "r54EVLqQ-kbZ"
   },
   "source": [
    "**We suspected outliers in current_month and previous_month variable groups. We will verify that using bo plots**"
   ]
  },
  {
   "cell_type": "code",
   "execution_count": 19,
   "metadata": {
    "colab": {},
    "colab_type": "code",
    "id": "cBncECG3dVC2"
   },
   "outputs": [],
   "source": [
    "# custom function for easy outlier analysis\n",
    "\n",
    "def UVA_outlier(data, var_group, include_outlier = True):\n",
    "  '''\n",
    "  Univariate_Analysis_outlier:\n",
    "  takes a group of variables (INTEGER and FLOAT) and plot/print boplot and descriptives\\n\n",
    "  Runs a loop: calculate all the descriptives of i(th) variable and plot/print it \\n\\n\n",
    "\n",
    "  data : dataframe from which to plot from\\n\n",
    "  var_group : {list} type Group of Continuous variables\\n\n",
    "  include_outlier : {bool} whether to include outliers or not, default = True\\n\n",
    "  '''\n",
    "\n",
    "  size = len(var_group)\n",
    "  plt.figure(figsize = (7*size,4), dpi = 100)\n",
    "  \n",
    "  #looping for each variable\n",
    "  for j,i in enumerate(var_group):\n",
    "    \n",
    "    # calculating descriptives of variable\n",
    "    quant25 = data[i].quantile(0.25)\n",
    "    quant75 = data[i].quantile(0.75)\n",
    "    IQR = quant75 - quant25\n",
    "    med = data[i].median()\n",
    "    whis_low = med-(1.5*IQR)\n",
    "    whis_high = med+(1.5*IQR)\n",
    "\n",
    "    # Calculating Number of Outliers\n",
    "    outlier_high = len(data[i][data[i]>whis_high])\n",
    "    outlier_low = len(data[i][data[i]<whis_low])\n",
    "\n",
    "    if include_outlier == True:\n",
    "      print(include_outlier)\n",
    "      #Plotting the variable with every information\n",
    "      plt.subplot(1,size,j+1)\n",
    "      sns.boxplot(data[i], orient=\"v\")\n",
    "      plt.ylabel('{}'.format(i))\n",
    "      plt.title('With Outliers\\nIQR = {}; Median = {} \\n 2nd,3rd  quartile = {};\\n Outlier (low/high) = {} \\n'.format(\n",
    "                                                                                                   round(IQR,2),\n",
    "                                                                                                   round(med,2),\n",
    "                                                                                                   (round(quant25,2),round(quant75,2)),\n",
    "                                                                                                   (outlier_low,outlier_high)\n",
    "                                                                                                   ))\n",
    "      \n",
    "    else:\n",
    "      # replacing outliers with max/min whisker\n",
    "      data2 = data[var_group][:]\n",
    "      data2[i][data2[i]>whis_high] = whis_high+1\n",
    "      data2[i][data2[i]<whis_low] = whis_low-1\n",
    "      \n",
    "      # plotting without outliers\n",
    "      plt.subplot(1,size,j+1)\n",
    "      sns.boxplot(data2[i], orient=\"v\")\n",
    "      plt.ylabel('{}'.format(i))\n",
    "      plt.title('Without Outliers\\nIQR = {}; Median = {} \\n 2nd,3rd  quartile = {};\\n Outlier (low/high) = {} \\n'.format(\n",
    "                                                                                                   round(IQR,2),\n",
    "                                                                                                   round(med,2),\n",
    "                                                                                                   (round(quant25,2),round(quant75,2)),\n",
    "                                                                                                   (outlier_low,outlier_high)\n",
    "                                                                                                   ))"
   ]
  },
  {
   "cell_type": "markdown",
   "metadata": {
    "colab_type": "text",
    "id": "2slzVeVHPScG"
   },
   "source": [
    "### current_month and previous_month"
   ]
  },
  {
   "cell_type": "code",
   "execution_count": 20,
   "metadata": {
    "colab": {
     "base_uri": "https://localhost:8080/",
     "height": 537
    },
    "colab_type": "code",
    "executionInfo": {
     "elapsed": 160392,
     "status": "ok",
     "timestamp": 1584010636863,
     "user": {
      "displayName": "Sharoon Saxena",
      "photoUrl": "https://lh3.googleusercontent.com/a-/AOh14GjyKz9rNCPkHi6QK8TjrjBFlTtaI9ngf0hIwgAl=s64",
      "userId": "01167841530696023488"
     },
     "user_tz": -330
    },
    "id": "jhhypvHgIo9q",
    "outputId": "cd52411a-073e-40d2-c417-5eeb0c446ab1"
   },
   "outputs": [
    {
     "name": "stdout",
     "output_type": "stream",
     "text": [
      "True\n",
      "True\n",
      "True\n"
     ]
    },
    {
     "name": "stderr",
     "output_type": "stream",
     "text": [
      "E:\\Anaconda3\\envs\\ml_3.6\\lib\\site-packages\\seaborn\\_decorators.py:43: FutureWarning: Pass the following variable as a keyword arg: x. From version 0.12, the only valid positional argument will be `data`, and passing other arguments without an explicit keyword will result in an error or misinterpretation.\n",
      "  FutureWarning\n",
      "E:\\Anaconda3\\envs\\ml_3.6\\lib\\site-packages\\seaborn\\_core.py:1319: UserWarning: Vertical orientation ignored with only `x` specified.\n",
      "  warnings.warn(single_var_warning.format(\"Vertical\", \"x\"))\n",
      "E:\\Anaconda3\\envs\\ml_3.6\\lib\\site-packages\\seaborn\\_decorators.py:43: FutureWarning: Pass the following variable as a keyword arg: x. From version 0.12, the only valid positional argument will be `data`, and passing other arguments without an explicit keyword will result in an error or misinterpretation.\n",
      "  FutureWarning\n",
      "E:\\Anaconda3\\envs\\ml_3.6\\lib\\site-packages\\seaborn\\_core.py:1319: UserWarning: Vertical orientation ignored with only `x` specified.\n",
      "  warnings.warn(single_var_warning.format(\"Vertical\", \"x\"))\n",
      "E:\\Anaconda3\\envs\\ml_3.6\\lib\\site-packages\\seaborn\\_decorators.py:43: FutureWarning: Pass the following variable as a keyword arg: x. From version 0.12, the only valid positional argument will be `data`, and passing other arguments without an explicit keyword will result in an error or misinterpretation.\n",
      "  FutureWarning\n",
      "E:\\Anaconda3\\envs\\ml_3.6\\lib\\site-packages\\seaborn\\_core.py:1319: UserWarning: Vertical orientation ignored with only `x` specified.\n",
      "  warnings.warn(single_var_warning.format(\"Vertical\", \"x\"))\n",
      "E:\\Anaconda3\\envs\\ml_3.6\\lib\\site-packages\\seaborn\\_decorators.py:43: FutureWarning: Pass the following variable as a keyword arg: x. From version 0.12, the only valid positional argument will be `data`, and passing other arguments without an explicit keyword will result in an error or misinterpretation.\n",
      "  FutureWarning\n",
      "E:\\Anaconda3\\envs\\ml_3.6\\lib\\site-packages\\seaborn\\_core.py:1319: UserWarning: Vertical orientation ignored with only `x` specified.\n",
      "  warnings.warn(single_var_warning.format(\"Vertical\", \"x\"))\n"
     ]
    },
    {
     "name": "stdout",
     "output_type": "stream",
     "text": [
      "True\n"
     ]
    },
    {
     "data": {
      "image/png": "[encoded data removed]",
      "text/plain": [
       "<Figure size 2800x400 with 4 Axes>"
      ]
     },
     "metadata": {
      "needs_background": "light"
     },
     "output_type": "display_data"
    }
   ],
   "source": [
    "UVA_outlier(data, current_month,)"
   ]
  },
  {
   "cell_type": "code",
   "execution_count": 21,
   "metadata": {
    "colab": {
     "base_uri": "https://localhost:8080/",
     "height": 471
    },
    "colab_type": "code",
    "executionInfo": {
     "elapsed": 161725,
     "status": "ok",
     "timestamp": 1584010638210,
     "user": {
      "displayName": "Sharoon Saxena",
      "photoUrl": "https://lh3.googleusercontent.com/a-/AOh14GjyKz9rNCPkHi6QK8TjrjBFlTtaI9ngf0hIwgAl=s64",
      "userId": "01167841530696023488"
     },
     "user_tz": -330
    },
    "id": "6aeCX9t2MR55",
    "outputId": "7dbea5df-0f9f-405b-e2bc-e1372f2d2dfd"
   },
   "outputs": [
    {
     "name": "stderr",
     "output_type": "stream",
     "text": [
      "E:\\Anaconda3\\envs\\ml_3.6\\lib\\site-packages\\seaborn\\_decorators.py:43: FutureWarning: Pass the following variable as a keyword arg: x. From version 0.12, the only valid positional argument will be `data`, and passing other arguments without an explicit keyword will result in an error or misinterpretation.\n",
      "  FutureWarning\n",
      "E:\\Anaconda3\\envs\\ml_3.6\\lib\\site-packages\\seaborn\\_core.py:1319: UserWarning: Vertical orientation ignored with only `x` specified.\n",
      "  warnings.warn(single_var_warning.format(\"Vertical\", \"x\"))\n",
      "E:\\Anaconda3\\envs\\ml_3.6\\lib\\site-packages\\seaborn\\_decorators.py:43: FutureWarning: Pass the following variable as a keyword arg: x. From version 0.12, the only valid positional argument will be `data`, and passing other arguments without an explicit keyword will result in an error or misinterpretation.\n",
      "  FutureWarning\n",
      "E:\\Anaconda3\\envs\\ml_3.6\\lib\\site-packages\\seaborn\\_core.py:1319: UserWarning: Vertical orientation ignored with only `x` specified.\n",
      "  warnings.warn(single_var_warning.format(\"Vertical\", \"x\"))\n",
      "E:\\Anaconda3\\envs\\ml_3.6\\lib\\site-packages\\seaborn\\_decorators.py:43: FutureWarning: Pass the following variable as a keyword arg: x. From version 0.12, the only valid positional argument will be `data`, and passing other arguments without an explicit keyword will result in an error or misinterpretation.\n",
      "  FutureWarning\n",
      "E:\\Anaconda3\\envs\\ml_3.6\\lib\\site-packages\\seaborn\\_core.py:1319: UserWarning: Vertical orientation ignored with only `x` specified.\n",
      "  warnings.warn(single_var_warning.format(\"Vertical\", \"x\"))\n",
      "E:\\Anaconda3\\envs\\ml_3.6\\lib\\site-packages\\seaborn\\_decorators.py:43: FutureWarning: Pass the following variable as a keyword arg: x. From version 0.12, the only valid positional argument will be `data`, and passing other arguments without an explicit keyword will result in an error or misinterpretation.\n",
      "  FutureWarning\n",
      "E:\\Anaconda3\\envs\\ml_3.6\\lib\\site-packages\\seaborn\\_core.py:1319: UserWarning: Vertical orientation ignored with only `x` specified.\n",
      "  warnings.warn(single_var_warning.format(\"Vertical\", \"x\"))\n"
     ]
    },
    {
     "data": {
      "image/png": "[encoded data removed]",
      "text/plain": [
       "<Figure size 2800x400 with 4 Axes>"
      ]
     },
     "metadata": {
      "needs_background": "light"
     },
     "output_type": "display_data"
    }
   ],
   "source": [
    "UVA_outlier(data, current_month, include_outlier=False)"
   ]
  },
  {
   "cell_type": "code",
   "execution_count": 22,
   "metadata": {
    "colab": {
     "base_uri": "https://localhost:8080/",
     "height": 537
    },
    "colab_type": "code",
    "executionInfo": {
     "elapsed": 161710,
     "status": "ok",
     "timestamp": 1584010638211,
     "user": {
      "displayName": "Sharoon Saxena",
      "photoUrl": "https://lh3.googleusercontent.com/a-/AOh14GjyKz9rNCPkHi6QK8TjrjBFlTtaI9ngf0hIwgAl=s64",
      "userId": "01167841530696023488"
     },
     "user_tz": -330
    },
    "id": "0FXEcoBlJLlm",
    "outputId": "b2dcb2ee-ed9a-4916-f48d-76a2698f11da"
   },
   "outputs": [
    {
     "name": "stdout",
     "output_type": "stream",
     "text": [
      "True\n",
      "True\n",
      "True\n",
      "True\n"
     ]
    },
    {
     "name": "stderr",
     "output_type": "stream",
     "text": [
      "E:\\Anaconda3\\envs\\ml_3.6\\lib\\site-packages\\seaborn\\_decorators.py:43: FutureWarning: Pass the following variable as a keyword arg: x. From version 0.12, the only valid positional argument will be `data`, and passing other arguments without an explicit keyword will result in an error or misinterpretation.\n",
      "  FutureWarning\n",
      "E:\\Anaconda3\\envs\\ml_3.6\\lib\\site-packages\\seaborn\\_core.py:1319: UserWarning: Vertical orientation ignored with only `x` specified.\n",
      "  warnings.warn(single_var_warning.format(\"Vertical\", \"x\"))\n",
      "E:\\Anaconda3\\envs\\ml_3.6\\lib\\site-packages\\seaborn\\_decorators.py:43: FutureWarning: Pass the following variable as a keyword arg: x. From version 0.12, the only valid positional argument will be `data`, and passing other arguments without an explicit keyword will result in an error or misinterpretation.\n",
      "  FutureWarning\n",
      "E:\\Anaconda3\\envs\\ml_3.6\\lib\\site-packages\\seaborn\\_core.py:1319: UserWarning: Vertical orientation ignored with only `x` specified.\n",
      "  warnings.warn(single_var_warning.format(\"Vertical\", \"x\"))\n",
      "E:\\Anaconda3\\envs\\ml_3.6\\lib\\site-packages\\seaborn\\_decorators.py:43: FutureWarning: Pass the following variable as a keyword arg: x. From version 0.12, the only valid positional argument will be `data`, and passing other arguments without an explicit keyword will result in an error or misinterpretation.\n",
      "  FutureWarning\n",
      "E:\\Anaconda3\\envs\\ml_3.6\\lib\\site-packages\\seaborn\\_core.py:1319: UserWarning: Vertical orientation ignored with only `x` specified.\n",
      "  warnings.warn(single_var_warning.format(\"Vertical\", \"x\"))\n",
      "E:\\Anaconda3\\envs\\ml_3.6\\lib\\site-packages\\seaborn\\_decorators.py:43: FutureWarning: Pass the following variable as a keyword arg: x. From version 0.12, the only valid positional argument will be `data`, and passing other arguments without an explicit keyword will result in an error or misinterpretation.\n",
      "  FutureWarning\n",
      "E:\\Anaconda3\\envs\\ml_3.6\\lib\\site-packages\\seaborn\\_core.py:1319: UserWarning: Vertical orientation ignored with only `x` specified.\n",
      "  warnings.warn(single_var_warning.format(\"Vertical\", \"x\"))\n"
     ]
    },
    {
     "data": {
      "image/png": "[encoded data removed]",
      "text/plain": [
       "<Figure size 2800x400 with 4 Axes>"
      ]
     },
     "metadata": {
      "needs_background": "light"
     },
     "output_type": "display_data"
    }
   ],
   "source": [
    "UVA_outlier(data, previous_month)"
   ]
  },
  {
   "cell_type": "code",
   "execution_count": 23,
   "metadata": {
    "colab": {
     "base_uri": "https://localhost:8080/",
     "height": 471
    },
    "colab_type": "code",
    "executionInfo": {
     "elapsed": 2603,
     "status": "ok",
     "timestamp": 1584010672570,
     "user": {
      "displayName": "Sharoon Saxena",
      "photoUrl": "https://lh3.googleusercontent.com/a-/AOh14GjyKz9rNCPkHi6QK8TjrjBFlTtaI9ngf0hIwgAl=s64",
      "userId": "01167841530696023488"
     },
     "user_tz": -330
    },
    "id": "uILo1wPFUzFw",
    "outputId": "056f4050-a4e5-48e5-807b-60020fd36762"
   },
   "outputs": [
    {
     "name": "stderr",
     "output_type": "stream",
     "text": [
      "E:\\Anaconda3\\envs\\ml_3.6\\lib\\site-packages\\seaborn\\_decorators.py:43: FutureWarning: Pass the following variable as a keyword arg: x. From version 0.12, the only valid positional argument will be `data`, and passing other arguments without an explicit keyword will result in an error or misinterpretation.\n",
      "  FutureWarning\n",
      "E:\\Anaconda3\\envs\\ml_3.6\\lib\\site-packages\\seaborn\\_core.py:1319: UserWarning: Vertical orientation ignored with only `x` specified.\n",
      "  warnings.warn(single_var_warning.format(\"Vertical\", \"x\"))\n",
      "E:\\Anaconda3\\envs\\ml_3.6\\lib\\site-packages\\seaborn\\_decorators.py:43: FutureWarning: Pass the following variable as a keyword arg: x. From version 0.12, the only valid positional argument will be `data`, and passing other arguments without an explicit keyword will result in an error or misinterpretation.\n",
      "  FutureWarning\n",
      "E:\\Anaconda3\\envs\\ml_3.6\\lib\\site-packages\\seaborn\\_core.py:1319: UserWarning: Vertical orientation ignored with only `x` specified.\n",
      "  warnings.warn(single_var_warning.format(\"Vertical\", \"x\"))\n",
      "E:\\Anaconda3\\envs\\ml_3.6\\lib\\site-packages\\seaborn\\_decorators.py:43: FutureWarning: Pass the following variable as a keyword arg: x. From version 0.12, the only valid positional argument will be `data`, and passing other arguments without an explicit keyword will result in an error or misinterpretation.\n",
      "  FutureWarning\n",
      "E:\\Anaconda3\\envs\\ml_3.6\\lib\\site-packages\\seaborn\\_core.py:1319: UserWarning: Vertical orientation ignored with only `x` specified.\n",
      "  warnings.warn(single_var_warning.format(\"Vertical\", \"x\"))\n",
      "E:\\Anaconda3\\envs\\ml_3.6\\lib\\site-packages\\seaborn\\_decorators.py:43: FutureWarning: Pass the following variable as a keyword arg: x. From version 0.12, the only valid positional argument will be `data`, and passing other arguments without an explicit keyword will result in an error or misinterpretation.\n",
      "  FutureWarning\n",
      "E:\\Anaconda3\\envs\\ml_3.6\\lib\\site-packages\\seaborn\\_core.py:1319: UserWarning: Vertical orientation ignored with only `x` specified.\n",
      "  warnings.warn(single_var_warning.format(\"Vertical\", \"x\"))\n"
     ]
    },
    {
     "data": {
      "image/png": "[encoded data removed]",
      "text/plain": [
       "<Figure size 2800x400 with 4 Axes>"
      ]
     },
     "metadata": {
      "needs_background": "light"
     },
     "output_type": "display_data"
    }
   ],
   "source": [
    "UVA_outlier(data, previous_month, include_outlier=False)"
   ]
  },
  {
   "cell_type": "markdown",
   "metadata": {
    "colab_type": "text",
    "id": "-JnOX4DxKn3Y"
   },
   "source": [
    "**Summary:**\n",
    "* If we look at corresponding plots in the outputs above, there seems to be a strong relation between the corresponding plots of previous_month and current_month variables.\n",
    "\n",
    "* Outliers are significant in number and very similar in number between corresponding plots. Which indicates some inherent undiscovered behviour of Outliers."
   ]
  },
  {
   "cell_type": "markdown",
   "metadata": {
    "colab_type": "text",
    "id": "jqmFms6yPY7M"
   },
   "source": [
    "### previous quarters"
   ]
  },
  {
   "cell_type": "code",
   "execution_count": 18,
   "metadata": {
    "colab": {
     "base_uri": "https://localhost:8080/",
     "height": 164
    },
    "colab_type": "code",
    "executionInfo": {
     "elapsed": 1100,
     "status": "error",
     "timestamp": 1584098339625,
     "user": {
      "displayName": "Sharoon Saxena",
      "photoUrl": "https://lh3.googleusercontent.com/a-/AOh14GjyKz9rNCPkHi6QK8TjrjBFlTtaI9ngf0hIwgAl=s64",
      "userId": "01167841530696023488"
     },
     "user_tz": -330
    },
    "id": "g6dxdT-2PbbU",
    "outputId": "4ddae78e-f9f5-4944-cd6d-ad49801c73d5"
   },
   "outputs": [
    {
     "ename": "NameError",
     "evalue": "name 'UVA_outlier' is not defined",
     "output_type": "error",
     "traceback": [
      "\u001b[1;31m---------------------------------------------------------------------------\u001b[0m",
      "\u001b[1;31mNameError\u001b[0m                                 Traceback (most recent call last)",
      "\u001b[1;32m<ipython-input-18-3adcf8f54a4f>\u001b[0m in \u001b[0;36m<module>\u001b[1;34m\u001b[0m\n\u001b[1;32m----> 1\u001b[1;33m \u001b[0mUVA_outlier\u001b[0m\u001b[1;33m(\u001b[0m\u001b[0mdata\u001b[0m\u001b[1;33m,\u001b[0m\u001b[0mprevious_quarters\u001b[0m\u001b[1;33m)\u001b[0m\u001b[1;33m\u001b[0m\u001b[1;33m\u001b[0m\u001b[0m\n\u001b[0m",
      "\u001b[1;31mNameError\u001b[0m: name 'UVA_outlier' is not defined"
     ]
    }
   ],
   "source": [
    "UVA_outlier(data,previous_quarters)"
   ]
  },
  {
   "cell_type": "code",
   "execution_count": null,
   "metadata": {
    "colab": {
     "base_uri": "https://localhost:8080/",
     "height": 449
    },
    "colab_type": "code",
    "executionInfo": {
     "elapsed": 1540,
     "status": "ok",
     "timestamp": 1584011027830,
     "user": {
      "displayName": "Sharoon Saxena",
      "photoUrl": "https://lh3.googleusercontent.com/a-/AOh14GjyKz9rNCPkHi6QK8TjrjBFlTtaI9ngf0hIwgAl=s64",
      "userId": "01167841530696023488"
     },
     "user_tz": -330
    },
    "id": "iWJ83i7yUiWO",
    "outputId": "3962a764-1d9a-487f-c04a-32ba5fd48c5e"
   },
   "outputs": [],
   "source": [
    "UVA_outlier(data,previous_quarters, include_outlier = False)"
   ]
  },
  {
   "cell_type": "markdown",
   "metadata": {
    "colab_type": "text",
    "id": "ORqbv5eoQ8lK"
   },
   "source": [
    "Summary:\n",
    "* Outliers in previous two quarters are very similar but significantly large in number."
   ]
  },
  {
   "cell_type": "markdown",
   "metadata": {
    "colab_type": "text",
    "id": "sqvHG14NGrcN"
   },
   "source": [
    "## Investigation directions from Univariate Analysis\n",
    "1. customer_id variable can be dropped.\n",
    "2.  Is there there any common trait/relation between the customers who are performing high transaction credit/debits?\n",
    "   * customer_nw_category might explain that.\n",
    "   * Occupation = Company might explain them\n",
    "   * popular cities might explain this\n",
    "4.  Customers whose last transaction was 6 months ago, did all of them churn? \n",
    "5. Possibility that cities and branch code with very few accounts may lead to churning.\n"
   ]
  },
  {
   "cell_type": "markdown",
   "metadata": {
    "colab_type": "text",
    "id": "0pLmF5hCfCnV"
   },
   "source": [
    "## Bivariate Analysis"
   ]
  },
  {
   "cell_type": "code",
   "execution_count": null,
   "metadata": {
    "colab": {},
    "colab_type": "code",
    "id": "AJbIktpne9MH"
   },
   "outputs": [],
   "source": []
  }
 ],
 "metadata": {
  "colab": {
   "collapsed_sections": [
    "1FzYccB24irQ",
    "qfZv5qTw4rm_",
    "TiC2VomvlWS5",
    "56ygh55Zok6v",
    "jFQ4BEyKrLkR"
   ],
   "name": "Outlier Identification And Summary of Univariate Analysis!",
   "provenance": []
  },
  "kernelspec": {
   "display_name": "Python 3",
   "language": "python",
   "name": "python3"
  },
  "language_info": {
   "codemirror_mode": {
    "name": "ipython",
    "version": 3
   },
   "file_extension": ".py",
   "mimetype": "text/x-python",
   "name": "python",
   "nbconvert_exporter": "python",
   "pygments_lexer": "ipython3",
   "version": "3.6.12"
  }
 },
 "nbformat": 4,
 "nbformat_minor": 1
}
