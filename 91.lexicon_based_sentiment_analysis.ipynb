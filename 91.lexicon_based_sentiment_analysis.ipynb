{
 "cells": [
  {
   "cell_type": "markdown",
   "metadata": {},
   "source": [
    "# Rule based Sentiment Analysis\n",
    "using TextBlob, VADER, SentiWordNet"
   ]
  },
  {
   "cell_type": "markdown",
   "metadata": {},
   "source": [
    "### Data preprocessing steps\n",
    "1. Cleaning the text\n",
    "2. Tokenization\n",
    "3. Enrichment - POS tagging\n",
    "4. Stopwords removal\n",
    "5. Obtaining the stem words"
   ]
  },
  {
   "cell_type": "markdown",
   "metadata": {},
   "source": [
    "Importing dataset"
   ]
  },
  {
   "cell_type": "code",
   "execution_count": 1,
   "metadata": {},
   "outputs": [
    {
     "data": {
      "text/html": [
       "<div>\n",
       "<style scoped>\n",
       "    .dataframe tbody tr th:only-of-type {\n",
       "        vertical-align: middle;\n",
       "    }\n",
       "\n",
       "    .dataframe tbody tr th {\n",
       "        vertical-align: top;\n",
       "    }\n",
       "\n",
       "    .dataframe thead th {\n",
       "        text-align: right;\n",
       "    }\n",
       "</style>\n",
       "<table border=\"1\" class=\"dataframe\">\n",
       "  <thead>\n",
       "    <tr style=\"text-align: right;\">\n",
       "      <th></th>\n",
       "      <th>Unnamed: 0</th>\n",
       "      <th>review</th>\n",
       "    </tr>\n",
       "  </thead>\n",
       "  <tbody>\n",
       "    <tr>\n",
       "      <th>0</th>\n",
       "      <td>1</td>\n",
       "      <td>Omg they have the best gluten free pizza ever!...</td>\n",
       "    </tr>\n",
       "    <tr>\n",
       "      <th>1</th>\n",
       "      <td>2</td>\n",
       "      <td>Just another good experience with the Domino's...</td>\n",
       "    </tr>\n",
       "    <tr>\n",
       "      <th>2</th>\n",
       "      <td>3</td>\n",
       "      <td>Review for Dominos del Amo bl, Lakewood CA. Ve...</td>\n",
       "    </tr>\n",
       "    <tr>\n",
       "      <th>3</th>\n",
       "      <td>4</td>\n",
       "      <td>I called because my food was cold and not done...</td>\n",
       "    </tr>\n",
       "    <tr>\n",
       "      <th>4</th>\n",
       "      <td>5</td>\n",
       "      <td>OMG, hands down the best pizza I've had from D...</td>\n",
       "    </tr>\n",
       "  </tbody>\n",
       "</table>\n",
       "</div>"
      ],
      "text/plain": [
       "   Unnamed: 0                                             review\n",
       "0           1  Omg they have the best gluten free pizza ever!...\n",
       "1           2  Just another good experience with the Domino's...\n",
       "2           3  Review for Dominos del Amo bl, Lakewood CA. Ve...\n",
       "3           4  I called because my food was cold and not done...\n",
       "4           5  OMG, hands down the best pizza I've had from D..."
      ]
     },
     "execution_count": 1,
     "metadata": {},
     "output_type": "execute_result"
    }
   ],
   "source": [
    "import pandas as pd\n",
    "\n",
    "# Creating a pandas dataframe from reviews.txt file\n",
    "data = pd.read_csv('datasets\\\\webreviews.txt', sep='\\t')\n",
    "data.head()"
   ]
  },
  {
   "cell_type": "markdown",
   "metadata": {},
   "source": [
    "Dropping unwanted columns"
   ]
  },
  {
   "cell_type": "code",
   "execution_count": 2,
   "metadata": {},
   "outputs": [
    {
     "data": {
      "text/html": [
       "<div>\n",
       "<style scoped>\n",
       "    .dataframe tbody tr th:only-of-type {\n",
       "        vertical-align: middle;\n",
       "    }\n",
       "\n",
       "    .dataframe tbody tr th {\n",
       "        vertical-align: top;\n",
       "    }\n",
       "\n",
       "    .dataframe thead th {\n",
       "        text-align: right;\n",
       "    }\n",
       "</style>\n",
       "<table border=\"1\" class=\"dataframe\">\n",
       "  <thead>\n",
       "    <tr style=\"text-align: right;\">\n",
       "      <th></th>\n",
       "      <th>review</th>\n",
       "    </tr>\n",
       "  </thead>\n",
       "  <tbody>\n",
       "    <tr>\n",
       "      <th>0</th>\n",
       "      <td>Omg they have the best gluten free pizza ever!...</td>\n",
       "    </tr>\n",
       "    <tr>\n",
       "      <th>1</th>\n",
       "      <td>Just another good experience with the Domino's...</td>\n",
       "    </tr>\n",
       "    <tr>\n",
       "      <th>2</th>\n",
       "      <td>Review for Dominos del Amo bl, Lakewood CA. Ve...</td>\n",
       "    </tr>\n",
       "    <tr>\n",
       "      <th>3</th>\n",
       "      <td>I called because my food was cold and not done...</td>\n",
       "    </tr>\n",
       "    <tr>\n",
       "      <th>4</th>\n",
       "      <td>OMG, hands down the best pizza I've had from D...</td>\n",
       "    </tr>\n",
       "  </tbody>\n",
       "</table>\n",
       "</div>"
      ],
      "text/plain": [
       "                                              review\n",
       "0  Omg they have the best gluten free pizza ever!...\n",
       "1  Just another good experience with the Domino's...\n",
       "2  Review for Dominos del Amo bl, Lakewood CA. Ve...\n",
       "3  I called because my food was cold and not done...\n",
       "4  OMG, hands down the best pizza I've had from D..."
      ]
     },
     "execution_count": 2,
     "metadata": {},
     "output_type": "execute_result"
    }
   ],
   "source": [
    "# Dropping Unnamed: 0 column\n",
    "mydata = data.drop('Unnamed: 0', axis=1)\n",
    "mydata.head()\n",
    "\n",
    "# mydata = pd.DataFrame(data.review)"
   ]
  },
  {
   "cell_type": "markdown",
   "metadata": {},
   "source": [
    "### Step 1: Cleaning the text"
   ]
  },
  {
   "cell_type": "code",
   "execution_count": 3,
   "metadata": {},
   "outputs": [
    {
     "data": {
      "text/html": [
       "<div>\n",
       "<style scoped>\n",
       "    .dataframe tbody tr th:only-of-type {\n",
       "        vertical-align: middle;\n",
       "    }\n",
       "\n",
       "    .dataframe tbody tr th {\n",
       "        vertical-align: top;\n",
       "    }\n",
       "\n",
       "    .dataframe thead th {\n",
       "        text-align: right;\n",
       "    }\n",
       "</style>\n",
       "<table border=\"1\" class=\"dataframe\">\n",
       "  <thead>\n",
       "    <tr style=\"text-align: right;\">\n",
       "      <th></th>\n",
       "      <th>review</th>\n",
       "      <th>Cleaned Reviews</th>\n",
       "    </tr>\n",
       "  </thead>\n",
       "  <tbody>\n",
       "    <tr>\n",
       "      <th>0</th>\n",
       "      <td>Omg they have the best gluten free pizza ever!...</td>\n",
       "      <td>Omg they have the best gluten free pizza ever ...</td>\n",
       "    </tr>\n",
       "    <tr>\n",
       "      <th>1</th>\n",
       "      <td>Just another good experience with the Domino's...</td>\n",
       "      <td>Just another good experience with the Domino s...</td>\n",
       "    </tr>\n",
       "    <tr>\n",
       "      <th>2</th>\n",
       "      <td>Review for Dominos del Amo bl, Lakewood CA. Ve...</td>\n",
       "      <td>Review for Dominos del Amo bl Lakewood CA Very...</td>\n",
       "    </tr>\n",
       "    <tr>\n",
       "      <th>3</th>\n",
       "      <td>I called because my food was cold and not done...</td>\n",
       "      <td>I called because my food was cold and not done...</td>\n",
       "    </tr>\n",
       "    <tr>\n",
       "      <th>4</th>\n",
       "      <td>OMG, hands down the best pizza I've had from D...</td>\n",
       "      <td>OMG hands down the best pizza I ve had from Do...</td>\n",
       "    </tr>\n",
       "  </tbody>\n",
       "</table>\n",
       "</div>"
      ],
      "text/plain": [
       "                                              review  \\\n",
       "0  Omg they have the best gluten free pizza ever!...   \n",
       "1  Just another good experience with the Domino's...   \n",
       "2  Review for Dominos del Amo bl, Lakewood CA. Ve...   \n",
       "3  I called because my food was cold and not done...   \n",
       "4  OMG, hands down the best pizza I've had from D...   \n",
       "\n",
       "                                     Cleaned Reviews  \n",
       "0  Omg they have the best gluten free pizza ever ...  \n",
       "1  Just another good experience with the Domino s...  \n",
       "2  Review for Dominos del Amo bl Lakewood CA Very...  \n",
       "3  I called because my food was cold and not done...  \n",
       "4  OMG hands down the best pizza I ve had from Do...  "
      ]
     },
     "execution_count": 3,
     "metadata": {},
     "output_type": "execute_result"
    }
   ],
   "source": [
    "import re\n",
    "\n",
    "# Define a function to clean the text\n",
    "def clean(text):\n",
    "    # Removes all special characters and numericals leaving the alphabets\n",
    "    text = re.sub('[^A-Za-z]+', ' ', text) \n",
    "    return text\n",
    "\n",
    "# Cleaning the text in the review column\n",
    "mydata['Cleaned Reviews'] = mydata['review'].apply(clean)\n",
    "mydata.head()"
   ]
  },
  {
   "cell_type": "markdown",
   "metadata": {},
   "source": [
    "### Steps 2-4: Tokenization, POS tagging, stopwords removal"
   ]
  },
  {
   "cell_type": "code",
   "execution_count": 4,
   "metadata": {},
   "outputs": [
    {
     "name": "stderr",
     "output_type": "stream",
     "text": [
      "[nltk_data] Downloading package punkt to\n",
      "[nltk_data]     C:\\Users\\rajkumar.mo\\AppData\\Roaming\\nltk_data...\n",
      "[nltk_data]   Package punkt is already up-to-date!\n",
      "[nltk_data] Downloading package stopwords to\n",
      "[nltk_data]     C:\\Users\\rajkumar.mo\\AppData\\Roaming\\nltk_data...\n",
      "[nltk_data]   Package stopwords is already up-to-date!\n",
      "[nltk_data] Downloading package wordnet to\n",
      "[nltk_data]     C:\\Users\\rajkumar.mo\\AppData\\Roaming\\nltk_data...\n",
      "[nltk_data]   Package wordnet is already up-to-date!\n"
     ]
    },
    {
     "data": {
      "text/html": [
       "<div>\n",
       "<style scoped>\n",
       "    .dataframe tbody tr th:only-of-type {\n",
       "        vertical-align: middle;\n",
       "    }\n",
       "\n",
       "    .dataframe tbody tr th {\n",
       "        vertical-align: top;\n",
       "    }\n",
       "\n",
       "    .dataframe thead th {\n",
       "        text-align: right;\n",
       "    }\n",
       "</style>\n",
       "<table border=\"1\" class=\"dataframe\">\n",
       "  <thead>\n",
       "    <tr style=\"text-align: right;\">\n",
       "      <th></th>\n",
       "      <th>review</th>\n",
       "      <th>Cleaned Reviews</th>\n",
       "      <th>POS tagged</th>\n",
       "    </tr>\n",
       "  </thead>\n",
       "  <tbody>\n",
       "    <tr>\n",
       "      <th>0</th>\n",
       "      <td>Omg they have the best gluten free pizza ever!...</td>\n",
       "      <td>Omg they have the best gluten free pizza ever ...</td>\n",
       "      <td>[(Omg, None), (best, a), (gluten, a), (free, a...</td>\n",
       "    </tr>\n",
       "    <tr>\n",
       "      <th>1</th>\n",
       "      <td>Just another good experience with the Domino's...</td>\n",
       "      <td>Just another good experience with the Domino s...</td>\n",
       "      <td>[(another, None), (good, a), (experience, n), ...</td>\n",
       "    </tr>\n",
       "    <tr>\n",
       "      <th>2</th>\n",
       "      <td>Review for Dominos del Amo bl, Lakewood CA. Ve...</td>\n",
       "      <td>Review for Dominos del Amo bl Lakewood CA Very...</td>\n",
       "      <td>[(Review, n), (Dominos, n), (del, None), (Amo,...</td>\n",
       "    </tr>\n",
       "    <tr>\n",
       "      <th>3</th>\n",
       "      <td>I called because my food was cold and not done...</td>\n",
       "      <td>I called because my food was cold and not done...</td>\n",
       "      <td>[(called, v), (food, n), (cold, a), (done, v),...</td>\n",
       "    </tr>\n",
       "    <tr>\n",
       "      <th>4</th>\n",
       "      <td>OMG, hands down the best pizza I've had from D...</td>\n",
       "      <td>OMG hands down the best pizza I ve had from Do...</td>\n",
       "      <td>[(OMG, n), (hands, v), (best, a), (pizza, n), ...</td>\n",
       "    </tr>\n",
       "  </tbody>\n",
       "</table>\n",
       "</div>"
      ],
      "text/plain": [
       "                                              review  \\\n",
       "0  Omg they have the best gluten free pizza ever!...   \n",
       "1  Just another good experience with the Domino's...   \n",
       "2  Review for Dominos del Amo bl, Lakewood CA. Ve...   \n",
       "3  I called because my food was cold and not done...   \n",
       "4  OMG, hands down the best pizza I've had from D...   \n",
       "\n",
       "                                     Cleaned Reviews  \\\n",
       "0  Omg they have the best gluten free pizza ever ...   \n",
       "1  Just another good experience with the Domino s...   \n",
       "2  Review for Dominos del Amo bl Lakewood CA Very...   \n",
       "3  I called because my food was cold and not done...   \n",
       "4  OMG hands down the best pizza I ve had from Do...   \n",
       "\n",
       "                                          POS tagged  \n",
       "0  [(Omg, None), (best, a), (gluten, a), (free, a...  \n",
       "1  [(another, None), (good, a), (experience, n), ...  \n",
       "2  [(Review, n), (Dominos, n), (del, None), (Amo,...  \n",
       "3  [(called, v), (food, n), (cold, a), (done, v),...  \n",
       "4  [(OMG, n), (hands, v), (best, a), (pizza, n), ...  "
      ]
     },
     "execution_count": 4,
     "metadata": {},
     "output_type": "execute_result"
    }
   ],
   "source": [
    "import nltk\n",
    "nltk.download('punkt')\n",
    "from nltk.tokenize import word_tokenize\n",
    "from nltk import pos_tag\n",
    "nltk.download('stopwords')\n",
    "from nltk.corpus import stopwords\n",
    "nltk.download('wordnet')\n",
    "from nltk.corpus import wordnet\n",
    "\n",
    "# POS tagger dictionary\n",
    "pos_dict = {'J':wordnet.ADJ, 'V':wordnet.VERB, 'N':wordnet.NOUN, 'R':wordnet.ADV}\n",
    "\n",
    "def token_stop_pos(text):\n",
    "    tags = pos_tag(word_tokenize(text))\n",
    "    newlist = []\n",
    "    for word, tag in tags:\n",
    "        if word.lower() not in set(stopwords.words('english')):\n",
    "            newlist.append(tuple([word, pos_dict.get(tag[0])]))\n",
    "    return newlist\n",
    "\n",
    "mydata['POS tagged'] = mydata['Cleaned Reviews'].apply(token_stop_pos)\n",
    "mydata.head()\n",
    "# mydata['POS tagged'][0]"
   ]
  },
  {
   "cell_type": "markdown",
   "metadata": {},
   "source": [
    "### Step 5: Obtaining the stem words\n",
    "\n",
    "#### Lemmatization"
   ]
  },
  {
   "cell_type": "code",
   "execution_count": 5,
   "metadata": {
    "scrolled": true
   },
   "outputs": [
    {
     "data": {
      "text/html": [
       "<div>\n",
       "<style scoped>\n",
       "    .dataframe tbody tr th:only-of-type {\n",
       "        vertical-align: middle;\n",
       "    }\n",
       "\n",
       "    .dataframe tbody tr th {\n",
       "        vertical-align: top;\n",
       "    }\n",
       "\n",
       "    .dataframe thead th {\n",
       "        text-align: right;\n",
       "    }\n",
       "</style>\n",
       "<table border=\"1\" class=\"dataframe\">\n",
       "  <thead>\n",
       "    <tr style=\"text-align: right;\">\n",
       "      <th></th>\n",
       "      <th>review</th>\n",
       "      <th>Cleaned Reviews</th>\n",
       "      <th>POS tagged</th>\n",
       "      <th>Lemma</th>\n",
       "    </tr>\n",
       "  </thead>\n",
       "  <tbody>\n",
       "    <tr>\n",
       "      <th>0</th>\n",
       "      <td>Omg they have the best gluten free pizza ever!...</td>\n",
       "      <td>Omg they have the best gluten free pizza ever ...</td>\n",
       "      <td>[(Omg, None), (best, a), (gluten, a), (free, a...</td>\n",
       "      <td>Omg best gluten free pizza ever love us glut...</td>\n",
       "    </tr>\n",
       "    <tr>\n",
       "      <th>1</th>\n",
       "      <td>Just another good experience with the Domino's...</td>\n",
       "      <td>Just another good experience with the Domino s...</td>\n",
       "      <td>[(another, None), (good, a), (experience, n), ...</td>\n",
       "      <td>another good experience Domino Pizza store K...</td>\n",
       "    </tr>\n",
       "    <tr>\n",
       "      <th>2</th>\n",
       "      <td>Review for Dominos del Amo bl, Lakewood CA. Ve...</td>\n",
       "      <td>Review for Dominos del Amo bl Lakewood CA Very...</td>\n",
       "      <td>[(Review, n), (Dominos, n), (del, None), (Amo,...</td>\n",
       "      <td>Review Dominos del Amo bl Lakewood CA highly...</td>\n",
       "    </tr>\n",
       "    <tr>\n",
       "      <th>3</th>\n",
       "      <td>I called because my food was cold and not done...</td>\n",
       "      <td>I called because my food was cold and not done...</td>\n",
       "      <td>[(called, v), (food, n), (cold, a), (done, v),...</td>\n",
       "      <td>call food cold do right miss item call answe...</td>\n",
       "    </tr>\n",
       "    <tr>\n",
       "      <th>4</th>\n",
       "      <td>OMG, hands down the best pizza I've had from D...</td>\n",
       "      <td>OMG hands down the best pizza I ve had from Do...</td>\n",
       "      <td>[(OMG, n), (hands, v), (best, a), (pizza, n), ...</td>\n",
       "      <td>OMG hand best pizza Domino pizza Southaven M...</td>\n",
       "    </tr>\n",
       "  </tbody>\n",
       "</table>\n",
       "</div>"
      ],
      "text/plain": [
       "                                              review  \\\n",
       "0  Omg they have the best gluten free pizza ever!...   \n",
       "1  Just another good experience with the Domino's...   \n",
       "2  Review for Dominos del Amo bl, Lakewood CA. Ve...   \n",
       "3  I called because my food was cold and not done...   \n",
       "4  OMG, hands down the best pizza I've had from D...   \n",
       "\n",
       "                                     Cleaned Reviews  \\\n",
       "0  Omg they have the best gluten free pizza ever ...   \n",
       "1  Just another good experience with the Domino s...   \n",
       "2  Review for Dominos del Amo bl Lakewood CA Very...   \n",
       "3  I called because my food was cold and not done...   \n",
       "4  OMG hands down the best pizza I ve had from Do...   \n",
       "\n",
       "                                          POS tagged  \\\n",
       "0  [(Omg, None), (best, a), (gluten, a), (free, a...   \n",
       "1  [(another, None), (good, a), (experience, n), ...   \n",
       "2  [(Review, n), (Dominos, n), (del, None), (Amo,...   \n",
       "3  [(called, v), (food, n), (cold, a), (done, v),...   \n",
       "4  [(OMG, n), (hands, v), (best, a), (pizza, n), ...   \n",
       "\n",
       "                                               Lemma  \n",
       "0    Omg best gluten free pizza ever love us glut...  \n",
       "1    another good experience Domino Pizza store K...  \n",
       "2    Review Dominos del Amo bl Lakewood CA highly...  \n",
       "3    call food cold do right miss item call answe...  \n",
       "4    OMG hand best pizza Domino pizza Southaven M...  "
      ]
     },
     "execution_count": 5,
     "metadata": {},
     "output_type": "execute_result"
    }
   ],
   "source": [
    "from nltk.stem import WordNetLemmatizer\n",
    "wordnet_lemmatizer = WordNetLemmatizer()\n",
    "\n",
    "def lemmatize(pos_data):\n",
    "    lemma_rew = \" \"\n",
    "    for word, pos in pos_data:\n",
    "        if not pos: \n",
    "            lemma = word\n",
    "            lemma_rew = lemma_rew + \" \" + lemma\n",
    "        else:  \n",
    "            lemma = wordnet_lemmatizer.lemmatize(word, pos=pos)\n",
    "            lemma_rew = lemma_rew + \" \" + lemma\n",
    "    return lemma_rew\n",
    "    \n",
    "mydata['Lemma'] = mydata['POS tagged'].apply(lemmatize)\n",
    "mydata.head()\n",
    "# print(mydata['review'][239] + \"\\n\" + mydata['Lemma'][239])"
   ]
  },
  {
   "cell_type": "code",
   "execution_count": 6,
   "metadata": {},
   "outputs": [
    {
     "data": {
      "text/html": [
       "<div>\n",
       "<style scoped>\n",
       "    .dataframe tbody tr th:only-of-type {\n",
       "        vertical-align: middle;\n",
       "    }\n",
       "\n",
       "    .dataframe tbody tr th {\n",
       "        vertical-align: top;\n",
       "    }\n",
       "\n",
       "    .dataframe thead th {\n",
       "        text-align: right;\n",
       "    }\n",
       "</style>\n",
       "<table border=\"1\" class=\"dataframe\">\n",
       "  <thead>\n",
       "    <tr style=\"text-align: right;\">\n",
       "      <th></th>\n",
       "      <th>review</th>\n",
       "      <th>Lemma</th>\n",
       "    </tr>\n",
       "  </thead>\n",
       "  <tbody>\n",
       "    <tr>\n",
       "      <th>0</th>\n",
       "      <td>Omg they have the best gluten free pizza ever!...</td>\n",
       "      <td>Omg best gluten free pizza ever love us glut...</td>\n",
       "    </tr>\n",
       "    <tr>\n",
       "      <th>1</th>\n",
       "      <td>Just another good experience with the Domino's...</td>\n",
       "      <td>another good experience Domino Pizza store K...</td>\n",
       "    </tr>\n",
       "    <tr>\n",
       "      <th>2</th>\n",
       "      <td>Review for Dominos del Amo bl, Lakewood CA. Ve...</td>\n",
       "      <td>Review Dominos del Amo bl Lakewood CA highly...</td>\n",
       "    </tr>\n",
       "    <tr>\n",
       "      <th>3</th>\n",
       "      <td>I called because my food was cold and not done...</td>\n",
       "      <td>call food cold do right miss item call answe...</td>\n",
       "    </tr>\n",
       "    <tr>\n",
       "      <th>4</th>\n",
       "      <td>OMG, hands down the best pizza I've had from D...</td>\n",
       "      <td>OMG hand best pizza Domino pizza Southaven M...</td>\n",
       "    </tr>\n",
       "    <tr>\n",
       "      <th>...</th>\n",
       "      <td>...</td>\n",
       "      <td>...</td>\n",
       "    </tr>\n",
       "    <tr>\n",
       "      <th>125</th>\n",
       "      <td>S. P road Gaya Domino's denied to provide ever...</td>\n",
       "      <td>P road Gaya Domino deny provide every day va...</td>\n",
       "    </tr>\n",
       "    <tr>\n",
       "      <th>126</th>\n",
       "      <td>I ordered a 12inch pizza and a pasta bowl. I f...</td>\n",
       "      <td>order inch pizza pasta bowl find long black ...</td>\n",
       "    </tr>\n",
       "    <tr>\n",
       "      <th>127</th>\n",
       "      <td>I place the order at Domino's at 1801 Valley V...</td>\n",
       "      <td>place order Domino Valley View Drive p Satur...</td>\n",
       "    </tr>\n",
       "    <tr>\n",
       "      <th>128</th>\n",
       "      <td>After an hour passed and refused cold uncooked...</td>\n",
       "      <td>hour pass refuse cold uncooked way pizza man...</td>\n",
       "    </tr>\n",
       "    <tr>\n",
       "      <th>129</th>\n",
       "      <td>This Domino's has the best pizza delivery and ...</td>\n",
       "      <td>Domino best pizza delivery customer service ...</td>\n",
       "    </tr>\n",
       "  </tbody>\n",
       "</table>\n",
       "<p>130 rows × 2 columns</p>\n",
       "</div>"
      ],
      "text/plain": [
       "                                                review  \\\n",
       "0    Omg they have the best gluten free pizza ever!...   \n",
       "1    Just another good experience with the Domino's...   \n",
       "2    Review for Dominos del Amo bl, Lakewood CA. Ve...   \n",
       "3    I called because my food was cold and not done...   \n",
       "4    OMG, hands down the best pizza I've had from D...   \n",
       "..                                                 ...   \n",
       "125  S. P road Gaya Domino's denied to provide ever...   \n",
       "126  I ordered a 12inch pizza and a pasta bowl. I f...   \n",
       "127  I place the order at Domino's at 1801 Valley V...   \n",
       "128  After an hour passed and refused cold uncooked...   \n",
       "129  This Domino's has the best pizza delivery and ...   \n",
       "\n",
       "                                                 Lemma  \n",
       "0      Omg best gluten free pizza ever love us glut...  \n",
       "1      another good experience Domino Pizza store K...  \n",
       "2      Review Dominos del Amo bl Lakewood CA highly...  \n",
       "3      call food cold do right miss item call answe...  \n",
       "4      OMG hand best pizza Domino pizza Southaven M...  \n",
       "..                                                 ...  \n",
       "125    P road Gaya Domino deny provide every day va...  \n",
       "126    order inch pizza pasta bowl find long black ...  \n",
       "127    place order Domino Valley View Drive p Satur...  \n",
       "128    hour pass refuse cold uncooked way pizza man...  \n",
       "129    Domino best pizza delivery customer service ...  \n",
       "\n",
       "[130 rows x 2 columns]"
      ]
     },
     "execution_count": 6,
     "metadata": {},
     "output_type": "execute_result"
    }
   ],
   "source": [
    "mydata[['review', 'Lemma']]"
   ]
  },
  {
   "cell_type": "markdown",
   "metadata": {},
   "source": [
    "# Sentiment analysis using TextBlob"
   ]
  },
  {
   "cell_type": "code",
   "execution_count": 7,
   "metadata": {},
   "outputs": [],
   "source": [
    "from textblob import TextBlob\n",
    "\n",
    "# function to calculate subjectivity \n",
    "def getSubjectivity(review):\n",
    "    return TextBlob(review).sentiment.subjectivity\n",
    "\n",
    "# function to calculate polarity\n",
    "def getPolarity(review):\n",
    "    return TextBlob(review).sentiment.polarity\n",
    "\n",
    "# function to analyze the reviews\n",
    "def analysis(score):\n",
    "    if score < 0:\n",
    "        return 'Negative'\n",
    "    elif score == 0:\n",
    "        return 'Neutral'\n",
    "    else:\n",
    "        return 'Positive'"
   ]
  },
  {
   "cell_type": "code",
   "execution_count": 8,
   "metadata": {},
   "outputs": [],
   "source": [
    "fin_data = pd.DataFrame(mydata[['review', 'Lemma']])"
   ]
  },
  {
   "cell_type": "code",
   "execution_count": 9,
   "metadata": {
    "scrolled": true
   },
   "outputs": [
    {
     "data": {
      "text/html": [
       "<div>\n",
       "<style scoped>\n",
       "    .dataframe tbody tr th:only-of-type {\n",
       "        vertical-align: middle;\n",
       "    }\n",
       "\n",
       "    .dataframe tbody tr th {\n",
       "        vertical-align: top;\n",
       "    }\n",
       "\n",
       "    .dataframe thead th {\n",
       "        text-align: right;\n",
       "    }\n",
       "</style>\n",
       "<table border=\"1\" class=\"dataframe\">\n",
       "  <thead>\n",
       "    <tr style=\"text-align: right;\">\n",
       "      <th></th>\n",
       "      <th>review</th>\n",
       "      <th>Lemma</th>\n",
       "      <th>Polarity</th>\n",
       "      <th>Analysis</th>\n",
       "    </tr>\n",
       "  </thead>\n",
       "  <tbody>\n",
       "    <tr>\n",
       "      <th>0</th>\n",
       "      <td>Omg they have the best gluten free pizza ever!...</td>\n",
       "      <td>Omg best gluten free pizza ever love us glut...</td>\n",
       "      <td>0.470455</td>\n",
       "      <td>Positive</td>\n",
       "    </tr>\n",
       "    <tr>\n",
       "      <th>1</th>\n",
       "      <td>Just another good experience with the Domino's...</td>\n",
       "      <td>another good experience Domino Pizza store K...</td>\n",
       "      <td>0.233333</td>\n",
       "      <td>Positive</td>\n",
       "    </tr>\n",
       "    <tr>\n",
       "      <th>2</th>\n",
       "      <td>Review for Dominos del Amo bl, Lakewood CA. Ve...</td>\n",
       "      <td>Review Dominos del Amo bl Lakewood CA highly...</td>\n",
       "      <td>0.373500</td>\n",
       "      <td>Positive</td>\n",
       "    </tr>\n",
       "    <tr>\n",
       "      <th>3</th>\n",
       "      <td>I called because my food was cold and not done...</td>\n",
       "      <td>call food cold do right miss item call answe...</td>\n",
       "      <td>0.217143</td>\n",
       "      <td>Positive</td>\n",
       "    </tr>\n",
       "    <tr>\n",
       "      <th>4</th>\n",
       "      <td>OMG, hands down the best pizza I've had from D...</td>\n",
       "      <td>OMG hand best pizza Domino pizza Southaven M...</td>\n",
       "      <td>0.538889</td>\n",
       "      <td>Positive</td>\n",
       "    </tr>\n",
       "  </tbody>\n",
       "</table>\n",
       "</div>"
      ],
      "text/plain": [
       "                                              review  \\\n",
       "0  Omg they have the best gluten free pizza ever!...   \n",
       "1  Just another good experience with the Domino's...   \n",
       "2  Review for Dominos del Amo bl, Lakewood CA. Ve...   \n",
       "3  I called because my food was cold and not done...   \n",
       "4  OMG, hands down the best pizza I've had from D...   \n",
       "\n",
       "                                               Lemma  Polarity  Analysis  \n",
       "0    Omg best gluten free pizza ever love us glut...  0.470455  Positive  \n",
       "1    another good experience Domino Pizza store K...  0.233333  Positive  \n",
       "2    Review Dominos del Amo bl Lakewood CA highly...  0.373500  Positive  \n",
       "3    call food cold do right miss item call answe...  0.217143  Positive  \n",
       "4    OMG hand best pizza Domino pizza Southaven M...  0.538889  Positive  "
      ]
     },
     "execution_count": 9,
     "metadata": {},
     "output_type": "execute_result"
    }
   ],
   "source": [
    "# fin_data['Subjectivity'] = fin_data['Lemma'].apply(getSubjectivity) \n",
    "fin_data['Polarity'] = fin_data['Lemma'].apply(getPolarity) \n",
    "fin_data['Analysis'] = fin_data['Polarity'].apply(analysis)\n",
    "fin_data.head()"
   ]
  },
  {
   "cell_type": "code",
   "execution_count": 10,
   "metadata": {},
   "outputs": [
    {
     "data": {
      "text/plain": [
       "Positive    67\n",
       "Negative    56\n",
       "Neutral      7\n",
       "Name: Analysis, dtype: int64"
      ]
     },
     "execution_count": 10,
     "metadata": {},
     "output_type": "execute_result"
    }
   ],
   "source": [
    "tb_counts = fin_data.Analysis.value_counts()\n",
    "tb_counts"
   ]
  },
  {
   "cell_type": "code",
   "execution_count": 11,
   "metadata": {},
   "outputs": [
    {
     "data": {
      "text/plain": [
       "([<matplotlib.patches.Wedge at 0x214823cabe0>,\n",
       "  <matplotlib.patches.Wedge at 0x214823de320>,\n",
       "  <matplotlib.patches.Wedge at 0x214823dea20>],\n",
       " [Text(-0.05314471431285273, 1.0987154496686597, 'Positive'),\n",
       "  Text(-0.1325903404163538, -1.0919797624627827, 'Negative'),\n",
       "  Text(1.3307302142093458, -0.22728197682691248, 'Neutral')],\n",
       " [Text(-0.02898802598882876, 0.5992993361829053, '51.5%'),\n",
       "  Text(-0.0723220038634657, -0.5956253249796997, '43.1%'),\n",
       "  Text(0.837867171909588, -0.14310346689101897, '5.4%')])"
      ]
     },
     "execution_count": 11,
     "metadata": {},
     "output_type": "execute_result"
    },
    {
     "data": {
      "image/png": "[encoded data removed]",
      "text/plain": [
       "<Figure size 720x504 with 1 Axes>"
      ]
     },
     "metadata": {},
     "output_type": "display_data"
    }
   ],
   "source": [
    "import matplotlib.pyplot as plt\n",
    "%matplotlib inline\n",
    "\n",
    "tb_count= fin_data.Analysis.value_counts()\n",
    "plt.figure(figsize=(10, 7))\n",
    "plt.pie(tb_counts.values, labels = tb_counts.index, explode = (0, 0, 0.25), autopct='%1.1f%%', shadow=False)\n",
    "# plt.legend()"
   ]
  },
  {
   "cell_type": "markdown",
   "metadata": {},
   "source": [
    "# Sentiment analysis using VADER"
   ]
  },
  {
   "cell_type": "code",
   "execution_count": 12,
   "metadata": {},
   "outputs": [],
   "source": [
    "from vaderSentiment.vaderSentiment import SentimentIntensityAnalyzer\n",
    "analyzer = SentimentIntensityAnalyzer()\n",
    "\n",
    "# function to calculate vader sentiment  \n",
    "def vadersentimentanalysis(review):\n",
    "    vs = analyzer.polarity_scores(review)\n",
    "    return vs['compound']\n",
    "\n",
    "fin_data['Vader Sentiment'] = fin_data['Lemma'].apply(vadersentimentanalysis)"
   ]
  },
  {
   "cell_type": "code",
   "execution_count": 13,
   "metadata": {},
   "outputs": [
    {
     "data": {
      "text/html": [
       "<div>\n",
       "<style scoped>\n",
       "    .dataframe tbody tr th:only-of-type {\n",
       "        vertical-align: middle;\n",
       "    }\n",
       "\n",
       "    .dataframe tbody tr th {\n",
       "        vertical-align: top;\n",
       "    }\n",
       "\n",
       "    .dataframe thead th {\n",
       "        text-align: right;\n",
       "    }\n",
       "</style>\n",
       "<table border=\"1\" class=\"dataframe\">\n",
       "  <thead>\n",
       "    <tr style=\"text-align: right;\">\n",
       "      <th></th>\n",
       "      <th>review</th>\n",
       "      <th>Lemma</th>\n",
       "      <th>Polarity</th>\n",
       "      <th>Analysis</th>\n",
       "      <th>Vader Sentiment</th>\n",
       "      <th>Vader Analysis</th>\n",
       "    </tr>\n",
       "  </thead>\n",
       "  <tbody>\n",
       "    <tr>\n",
       "      <th>0</th>\n",
       "      <td>Omg they have the best gluten free pizza ever!...</td>\n",
       "      <td>Omg best gluten free pizza ever love us glut...</td>\n",
       "      <td>0.470455</td>\n",
       "      <td>Positive</td>\n",
       "      <td>0.9872</td>\n",
       "      <td>Positive</td>\n",
       "    </tr>\n",
       "    <tr>\n",
       "      <th>1</th>\n",
       "      <td>Just another good experience with the Domino's...</td>\n",
       "      <td>another good experience Domino Pizza store K...</td>\n",
       "      <td>0.233333</td>\n",
       "      <td>Positive</td>\n",
       "      <td>0.9371</td>\n",
       "      <td>Positive</td>\n",
       "    </tr>\n",
       "    <tr>\n",
       "      <th>2</th>\n",
       "      <td>Review for Dominos del Amo bl, Lakewood CA. Ve...</td>\n",
       "      <td>Review Dominos del Amo bl Lakewood CA highly...</td>\n",
       "      <td>0.373500</td>\n",
       "      <td>Positive</td>\n",
       "      <td>0.9897</td>\n",
       "      <td>Positive</td>\n",
       "    </tr>\n",
       "    <tr>\n",
       "      <th>3</th>\n",
       "      <td>I called because my food was cold and not done...</td>\n",
       "      <td>call food cold do right miss item call answe...</td>\n",
       "      <td>0.217143</td>\n",
       "      <td>Positive</td>\n",
       "      <td>0.7579</td>\n",
       "      <td>Positive</td>\n",
       "    </tr>\n",
       "    <tr>\n",
       "      <th>4</th>\n",
       "      <td>OMG, hands down the best pizza I've had from D...</td>\n",
       "      <td>OMG hand best pizza Domino pizza Southaven M...</td>\n",
       "      <td>0.538889</td>\n",
       "      <td>Positive</td>\n",
       "      <td>0.9312</td>\n",
       "      <td>Positive</td>\n",
       "    </tr>\n",
       "  </tbody>\n",
       "</table>\n",
       "</div>"
      ],
      "text/plain": [
       "                                              review  \\\n",
       "0  Omg they have the best gluten free pizza ever!...   \n",
       "1  Just another good experience with the Domino's...   \n",
       "2  Review for Dominos del Amo bl, Lakewood CA. Ve...   \n",
       "3  I called because my food was cold and not done...   \n",
       "4  OMG, hands down the best pizza I've had from D...   \n",
       "\n",
       "                                               Lemma  Polarity  Analysis  \\\n",
       "0    Omg best gluten free pizza ever love us glut...  0.470455  Positive   \n",
       "1    another good experience Domino Pizza store K...  0.233333  Positive   \n",
       "2    Review Dominos del Amo bl Lakewood CA highly...  0.373500  Positive   \n",
       "3    call food cold do right miss item call answe...  0.217143  Positive   \n",
       "4    OMG hand best pizza Domino pizza Southaven M...  0.538889  Positive   \n",
       "\n",
       "   Vader Sentiment Vader Analysis  \n",
       "0           0.9872       Positive  \n",
       "1           0.9371       Positive  \n",
       "2           0.9897       Positive  \n",
       "3           0.7579       Positive  \n",
       "4           0.9312       Positive  "
      ]
     },
     "execution_count": 13,
     "metadata": {},
     "output_type": "execute_result"
    }
   ],
   "source": [
    "# function to analyse \n",
    "def vader_analysis(compound):\n",
    "    if compound >= 0.5:\n",
    "        return 'Positive'\n",
    "    elif compound <= -0.5 :\n",
    "        return 'Negative'\n",
    "    else:\n",
    "        return 'Neutral'\n",
    "    \n",
    "fin_data['Vader Analysis'] = fin_data['Vader Sentiment'].apply(vader_analysis)\n",
    "fin_data.head()"
   ]
  },
  {
   "cell_type": "code",
   "execution_count": 14,
   "metadata": {},
   "outputs": [
    {
     "data": {
      "text/plain": [
       "Neutral     58\n",
       "Positive    47\n",
       "Negative    25\n",
       "Name: Vader Analysis, dtype: int64"
      ]
     },
     "execution_count": 14,
     "metadata": {},
     "output_type": "execute_result"
    }
   ],
   "source": [
    "vader_counts = fin_data['Vader Analysis'].value_counts()\n",
    "vader_counts"
   ]
  },
  {
   "cell_type": "code",
   "execution_count": 15,
   "metadata": {},
   "outputs": [
    {
     "data": {
      "text/plain": [
       "([<matplotlib.patches.Wedge at 0x21482449fd0>,\n",
       "  <matplotlib.patches.Wedge at 0x21482455710>,\n",
       "  <matplotlib.patches.Wedge at 0x21482455e10>],\n",
       " [Text(0.20202843768969508, 1.1828712991550099, 'Neutral'),\n",
       "  Text(-0.7683624654911808, -0.787158892234798, 'Positive'),\n",
       "  Text(0.9052823042371465, -0.6248711464254711, 'Negative')],\n",
       " [Text(0.11784992198565546, 0.6900082578404224, '44.6%'),\n",
       "  Text(-0.41910679935882583, -0.4293593957644352, '36.2%'),\n",
       "  Text(0.49379034776571623, -0.34083880714116604, '19.2%')])"
      ]
     },
     "execution_count": 15,
     "metadata": {},
     "output_type": "execute_result"
    },
    {
     "data": {
      "image/png": "[encoded data removed]",
      "text/plain": [
       "<Figure size 720x504 with 1 Axes>"
      ]
     },
     "metadata": {},
     "output_type": "display_data"
    }
   ],
   "source": [
    "vader_counts= fin_data['Vader Analysis'].value_counts()\n",
    "plt.figure(figsize=(10, 7))\n",
    "plt.pie(vader_counts.values, labels = vader_counts.index, explode = (0.1, 0, 0), autopct='%1.1f%%', shadow=False)\n",
    "# plt.legend()"
   ]
  },
  {
   "cell_type": "markdown",
   "metadata": {},
   "source": [
    "# Sentiment Analysis using SentiWordNet"
   ]
  },
  {
   "cell_type": "code",
   "execution_count": 16,
   "metadata": {},
   "outputs": [
    {
     "name": "stderr",
     "output_type": "stream",
     "text": [
      "[nltk_data] Downloading package sentiwordnet to\n",
      "[nltk_data]     C:\\Users\\rajkumar.mo\\AppData\\Roaming\\nltk_data...\n",
      "[nltk_data]   Package sentiwordnet is already up-to-date!\n"
     ]
    },
    {
     "data": {
      "text/html": [
       "<div>\n",
       "<style scoped>\n",
       "    .dataframe tbody tr th:only-of-type {\n",
       "        vertical-align: middle;\n",
       "    }\n",
       "\n",
       "    .dataframe tbody tr th {\n",
       "        vertical-align: top;\n",
       "    }\n",
       "\n",
       "    .dataframe thead th {\n",
       "        text-align: right;\n",
       "    }\n",
       "</style>\n",
       "<table border=\"1\" class=\"dataframe\">\n",
       "  <thead>\n",
       "    <tr style=\"text-align: right;\">\n",
       "      <th></th>\n",
       "      <th>review</th>\n",
       "      <th>Lemma</th>\n",
       "      <th>Polarity</th>\n",
       "      <th>Analysis</th>\n",
       "      <th>Vader Sentiment</th>\n",
       "      <th>Vader Analysis</th>\n",
       "      <th>SWN analysis</th>\n",
       "    </tr>\n",
       "  </thead>\n",
       "  <tbody>\n",
       "    <tr>\n",
       "      <th>0</th>\n",
       "      <td>Omg they have the best gluten free pizza ever!...</td>\n",
       "      <td>Omg best gluten free pizza ever love us glut...</td>\n",
       "      <td>0.470455</td>\n",
       "      <td>Positive</td>\n",
       "      <td>0.9872</td>\n",
       "      <td>Positive</td>\n",
       "      <td>Positive</td>\n",
       "    </tr>\n",
       "    <tr>\n",
       "      <th>1</th>\n",
       "      <td>Just another good experience with the Domino's...</td>\n",
       "      <td>another good experience Domino Pizza store K...</td>\n",
       "      <td>0.233333</td>\n",
       "      <td>Positive</td>\n",
       "      <td>0.9371</td>\n",
       "      <td>Positive</td>\n",
       "      <td>Positive</td>\n",
       "    </tr>\n",
       "    <tr>\n",
       "      <th>2</th>\n",
       "      <td>Review for Dominos del Amo bl, Lakewood CA. Ve...</td>\n",
       "      <td>Review Dominos del Amo bl Lakewood CA highly...</td>\n",
       "      <td>0.373500</td>\n",
       "      <td>Positive</td>\n",
       "      <td>0.9897</td>\n",
       "      <td>Positive</td>\n",
       "      <td>Positive</td>\n",
       "    </tr>\n",
       "    <tr>\n",
       "      <th>3</th>\n",
       "      <td>I called because my food was cold and not done...</td>\n",
       "      <td>call food cold do right miss item call answe...</td>\n",
       "      <td>0.217143</td>\n",
       "      <td>Positive</td>\n",
       "      <td>0.7579</td>\n",
       "      <td>Positive</td>\n",
       "      <td>Positive</td>\n",
       "    </tr>\n",
       "    <tr>\n",
       "      <th>4</th>\n",
       "      <td>OMG, hands down the best pizza I've had from D...</td>\n",
       "      <td>OMG hand best pizza Domino pizza Southaven M...</td>\n",
       "      <td>0.538889</td>\n",
       "      <td>Positive</td>\n",
       "      <td>0.9312</td>\n",
       "      <td>Positive</td>\n",
       "      <td>Positive</td>\n",
       "    </tr>\n",
       "  </tbody>\n",
       "</table>\n",
       "</div>"
      ],
      "text/plain": [
       "                                              review  \\\n",
       "0  Omg they have the best gluten free pizza ever!...   \n",
       "1  Just another good experience with the Domino's...   \n",
       "2  Review for Dominos del Amo bl, Lakewood CA. Ve...   \n",
       "3  I called because my food was cold and not done...   \n",
       "4  OMG, hands down the best pizza I've had from D...   \n",
       "\n",
       "                                               Lemma  Polarity  Analysis  \\\n",
       "0    Omg best gluten free pizza ever love us glut...  0.470455  Positive   \n",
       "1    another good experience Domino Pizza store K...  0.233333  Positive   \n",
       "2    Review Dominos del Amo bl Lakewood CA highly...  0.373500  Positive   \n",
       "3    call food cold do right miss item call answe...  0.217143  Positive   \n",
       "4    OMG hand best pizza Domino pizza Southaven M...  0.538889  Positive   \n",
       "\n",
       "   Vader Sentiment Vader Analysis SWN analysis  \n",
       "0           0.9872       Positive     Positive  \n",
       "1           0.9371       Positive     Positive  \n",
       "2           0.9897       Positive     Positive  \n",
       "3           0.7579       Positive     Positive  \n",
       "4           0.9312       Positive     Positive  "
      ]
     },
     "execution_count": 16,
     "metadata": {},
     "output_type": "execute_result"
    }
   ],
   "source": [
    "nltk.download('sentiwordnet')\n",
    "from nltk.corpus import sentiwordnet as swn\n",
    "\n",
    "def sentiwordnetanalysis(pos_data):\n",
    "    sentiment = 0\n",
    "    tokens_count = 0\n",
    "    for word, pos in pos_data:\n",
    "        if not pos:\n",
    "            continue\n",
    "        lemma = wordnet_lemmatizer.lemmatize(word, pos=pos)\n",
    "        if not lemma:\n",
    "            continue\n",
    "        \n",
    "        synsets = wordnet.synsets(lemma, pos=pos)\n",
    "        if not synsets:\n",
    "            continue\n",
    "\n",
    "        # Take the first sense, the most common\n",
    "        synset = synsets[0]\n",
    "        swn_synset = swn.senti_synset(synset.name())\n",
    "        sentiment += swn_synset.pos_score() - swn_synset.neg_score()\n",
    "        tokens_count += 1\n",
    "        # print(swn_synset.pos_score(),swn_synset.neg_score(),swn_synset.obj_score())\n",
    "    if not tokens_count:\n",
    "        return 0\n",
    "    if sentiment>0:\n",
    "        return \"Positive\"\n",
    "    if sentiment==0:\n",
    "        return \"Neutral\"\n",
    "    else:\n",
    "        return \"Negative\"\n",
    "\n",
    "fin_data['SWN analysis'] = mydata['POS tagged'].apply(sentiwordnetanalysis)\n",
    "fin_data.head()"
   ]
  },
  {
   "cell_type": "code",
   "execution_count": 17,
   "metadata": {},
   "outputs": [
    {
     "data": {
      "text/plain": [
       "Negative    70\n",
       "Positive    54\n",
       "Neutral      6\n",
       "Name: SWN analysis, dtype: int64"
      ]
     },
     "execution_count": 17,
     "metadata": {},
     "output_type": "execute_result"
    }
   ],
   "source": [
    "swn_counts= fin_data['SWN analysis'].value_counts()\n",
    "swn_counts"
   ]
  },
  {
   "cell_type": "code",
   "execution_count": 18,
   "metadata": {},
   "outputs": [
    {
     "data": {
      "text/plain": [
       "([<matplotlib.patches.Wedge at 0x21486929b00>,\n",
       "  <matplotlib.patches.Wedge at 0x21486938240>,\n",
       "  <matplotlib.patches.Wedge at 0x21486938940>],\n",
       " [Text(-0.14464411925986564, 1.191250636416845, 'Negative'),\n",
       "  Text(-0.026579912257032004, -1.0996788205037, 'Positive'),\n",
       "  Text(1.0884570723915454, -0.1589377285631899, 'Neutral')],\n",
       " [Text(-0.08437573623492162, 0.6948962045764928, '53.8%'),\n",
       "  Text(-0.01449813395838109, -0.5998248111838362, '41.5%'),\n",
       "  Text(0.5937038576681156, -0.08669330648901266, '4.6%')])"
      ]
     },
     "execution_count": 18,
     "metadata": {},
     "output_type": "execute_result"
    },
    {
     "data": {
      "image/png": "[encoded data removed]",
      "text/plain": [
       "<Figure size 720x504 with 1 Axes>"
      ]
     },
     "metadata": {},
     "output_type": "display_data"
    }
   ],
   "source": [
    "swn_counts= fin_data['SWN analysis'].value_counts()\n",
    "plt.figure(figsize=(10, 7))\n",
    "plt.pie(swn_counts.values, labels = swn_counts.index, explode = (0.1, 0, 0), autopct='%1.1f%%', shadow=False)\n",
    "# plt.legend()"
   ]
  },
  {
   "cell_type": "markdown",
   "metadata": {},
   "source": [
    "# Visual representation of TextBlob, VADER, SentiWordNet results"
   ]
  },
  {
   "cell_type": "code",
   "execution_count": 19,
   "metadata": {},
   "outputs": [
    {
     "data": {
      "text/plain": [
       "([<matplotlib.patches.Wedge at 0x21486a11da0>,\n",
       "  <matplotlib.patches.Wedge at 0x21486a20518>,\n",
       "  <matplotlib.patches.Wedge at 0x21486a20c18>],\n",
       " [Text(-0.13259044265487685, 1.0919797500487745, 'Negative'),\n",
       "  Text(-0.026579912257032004, -1.0996788205037, 'Positive'),\n",
       "  Text(1.3358336797532604, -0.1950599396002785, 'Neutral')],\n",
       " [Text(-0.07232205962993281, 0.5956253182084223, '53.8%'),\n",
       "  Text(-0.01449813395838109, -0.5998248111838362, '41.5%'),\n",
       "  Text(0.8410804650298305, -0.12281551752610127, '4.6%')])"
      ]
     },
     "execution_count": 19,
     "metadata": {},
     "output_type": "execute_result"
    },
    {
     "data": {
      "image/png": "[encoded data removed]",
      "text/plain": [
       "<Figure size 1080x504 with 3 Axes>"
      ]
     },
     "metadata": {},
     "output_type": "display_data"
    }
   ],
   "source": [
    "import matplotlib.pyplot as plt\n",
    "%matplotlib inline\n",
    "\n",
    "plt.figure(figsize=(15,7))\n",
    "plt.subplot(1,3,1)\n",
    "plt.title(\"TextBlob results\")\n",
    "plt.pie(tb_counts.values, labels = tb_counts.index, explode = (0, 0, 0.25), autopct='%1.1f%%', shadow=False)\n",
    "plt.subplot(1,3,2)\n",
    "plt.title(\"VADER results\")\n",
    "plt.pie(vader_counts.values, labels = vader_counts.index, explode = (0, 0, 0.25), autopct='%1.1f%%', shadow=False)\n",
    "plt.subplot(1,3,3)\n",
    "plt.title(\"SentiWordNet results\")\n",
    "plt.pie(swn_counts.values, labels = swn_counts.index, explode = (0, 0, 0.25), autopct='%1.1f%%', shadow=False)"
   ]
  },
  {
   "cell_type": "code",
   "execution_count": null,
   "metadata": {},
   "outputs": [],
   "source": []
  }
 ],
 "metadata": {
  "kernelspec": {
   "display_name": "Python 3",
   "language": "python",
   "name": "python3"
  },
  "language_info": {
   "codemirror_mode": {
    "name": "ipython",
    "version": 3
   },
   "file_extension": ".py",
   "mimetype": "text/x-python",
   "name": "python",
   "nbconvert_exporter": "python",
   "pygments_lexer": "ipython3",
   "version": "3.6.12"
  }
 },
 "nbformat": 4,
 "nbformat_minor": 4
}
