{
 "cells": [
  {
   "cell_type": "code",
   "execution_count": 1,
   "metadata": {},
   "outputs": [],
   "source": [
    "# import required libraries\n",
    "import pandas as pd\n",
    "import numpy as np\n",
    "import matplotlib.pyplot as plt\n",
    "%matplotlib inline\n",
    "from sklearn.preprocessing import StandardScaler\n",
    "from sklearn.model_selection import train_test_split\n",
    "from sklearn.ensemble import RandomForestClassifier\n",
    "from sklearn.metrics import accuracy_score\n",
    "from sklearn.decomposition import PCA"
   ]
  },
  {
   "cell_type": "code",
   "execution_count": 2,
   "metadata": {},
   "outputs": [],
   "source": [
    "# fetch data\n",
    "from sklearn.datasets import fetch_openml\n",
    "df, target = fetch_openml('mnist_784', version=1, return_X_y=True)"
   ]
  },
  {
   "cell_type": "code",
   "execution_count": 3,
   "metadata": {},
   "outputs": [
    {
     "data": {
      "text/plain": [
       "(70000, 784)"
      ]
     },
     "execution_count": 3,
     "metadata": {},
     "output_type": "execute_result"
    }
   ],
   "source": [
    "# check shape of data\n",
    "df.shape"
   ]
  },
  {
   "cell_type": "code",
   "execution_count": 5,
   "metadata": {},
   "outputs": [
    {
     "data": {
      "image/png": "[encoded data removed]",
      "text/plain": [
       "<Figure size 432x288 with 1 Axes>"
      ]
     },
     "metadata": {
      "needs_background": "light"
     },
     "output_type": "display_data"
    }
   ],
   "source": [
    "# Display the first image\n",
    "digit = df[0]\n",
    "digit_image = digit.reshape(28, 28)\n",
    "plt.imshow(digit_image, cmap=plt.cm.gray_r, interpolation=\"nearest\")\n",
    "plt.axis('off')\n",
    "plt.show()"
   ]
  },
  {
   "cell_type": "code",
   "execution_count": 6,
   "metadata": {},
   "outputs": [],
   "source": [
    "# Standardise the data\n",
    "scaler = StandardScaler()\n",
    "df_scale = scaler.fit_transform(df)"
   ]
  },
  {
   "cell_type": "code",
   "execution_count": 9,
   "metadata": {},
   "outputs": [
    {
     "data": {
      "text/plain": [
       "array([[0., 0., 0., ..., 0., 0., 0.],\n",
       "       [0., 0., 0., ..., 0., 0., 0.],\n",
       "       [0., 0., 0., ..., 0., 0., 0.],\n",
       "       ...,\n",
       "       [0., 0., 0., ..., 0., 0., 0.],\n",
       "       [0., 0., 0., ..., 0., 0., 0.],\n",
       "       [0., 0., 0., ..., 0., 0., 0.]])"
      ]
     },
     "execution_count": 9,
     "metadata": {},
     "output_type": "execute_result"
    }
   ],
   "source": [
    "df_scale"
   ]
  },
  {
   "cell_type": "code",
   "execution_count": 10,
   "metadata": {},
   "outputs": [
    {
     "data": {
      "image/png": "[encoded data removed]",
      "text/plain": [
       "<Figure size 432x288 with 1 Axes>"
      ]
     },
     "metadata": {
      "needs_background": "light"
     },
     "output_type": "display_data"
    }
   ],
   "source": [
    "# Display the first image after standardisation\n",
    "digit_scale = df_scale[0]\n",
    "digit_scale_image = digit_scale.reshape(28, 28)\n",
    "plt.imshow(digit_scale_image, cmap=plt.cm.gray_r, interpolation=\"nearest\")\n",
    "plt.axis('off')\n",
    "plt.show()"
   ]
  },
  {
   "cell_type": "code",
   "execution_count": 11,
   "metadata": {},
   "outputs": [],
   "source": [
    "# creating the training and validation set\n",
    "X_train, X_valid, y_train, y_valid = train_test_split(df_scale, target, random_state = 10, test_size = 0.25)"
   ]
  },
  {
   "cell_type": "code",
   "execution_count": 12,
   "metadata": {},
   "outputs": [],
   "source": [
    "# creating the random forest classification model\n",
    "model = RandomForestClassifier(random_state=1, max_depth=3, n_estimators=100)"
   ]
  },
  {
   "cell_type": "markdown",
   "metadata": {},
   "source": [
    "# Classification without PCA"
   ]
  },
  {
   "cell_type": "code",
   "execution_count": 13,
   "metadata": {},
   "outputs": [
    {
     "data": {
      "text/plain": [
       "RandomForestClassifier(max_depth=3, random_state=1)"
      ]
     },
     "execution_count": 13,
     "metadata": {},
     "output_type": "execute_result"
    }
   ],
   "source": [
    "# fit the classifier\n",
    "model.fit(X_train, y_train)"
   ]
  },
  {
   "cell_type": "code",
   "execution_count": 14,
   "metadata": {},
   "outputs": [],
   "source": [
    "# predicting for the original validation set\n",
    "pred_1 = model.predict(X_valid)"
   ]
  },
  {
   "cell_type": "code",
   "execution_count": 15,
   "metadata": {},
   "outputs": [
    {
     "data": {
      "text/plain": [
       "0.7542095238095238"
      ]
     },
     "execution_count": 15,
     "metadata": {},
     "output_type": "execute_result"
    }
   ],
   "source": [
    "# checking the training performance - Accuracy Score\n",
    "accuracy_score(model.predict(X_train), y_train)"
   ]
  },
  {
   "cell_type": "code",
   "execution_count": 17,
   "metadata": {
    "scrolled": true
   },
   "outputs": [
    {
     "data": {
      "text/plain": [
       "0.7529142857142858"
      ]
     },
     "execution_count": 17,
     "metadata": {},
     "output_type": "execute_result"
    }
   ],
   "source": [
    "# checking the validation performance - Accuracy Score\n",
    "accuracy_score(pred_1, y_valid)"
   ]
  },
  {
   "cell_type": "markdown",
   "metadata": {},
   "source": [
    "# Classification after PCA"
   ]
  },
  {
   "cell_type": "code",
   "execution_count": 29,
   "metadata": {},
   "outputs": [],
   "source": [
    "#Fitting the PCA algorithm on our data to find the appropriate number of principal components to keep\n",
    "pca = PCA().fit(X_train)"
   ]
  },
  {
   "cell_type": "code",
   "execution_count": 30,
   "metadata": {},
   "outputs": [
    {
     "data": {
      "image/png": "[encoded data removed]",
      "text/plain": [
       "<Figure size 432x288 with 1 Axes>"
      ]
     },
     "metadata": {
      "needs_background": "light"
     },
     "output_type": "display_data"
    }
   ],
   "source": [
    "#Plotting the Cumulative Summation of the Explained Variance\n",
    "plt.figure()\n",
    "plt.plot(np.cumsum(pca.explained_variance_ratio_) * 100)\n",
    "plt.xlabel('Number of Components')\n",
    "plt.ylabel('Variance (%)')\n",
    "plt.title('MNIST - Explained Variance')\n",
    "\n",
    "# We want to preserve 95% of the variance so plot a horizontal line at 95% variance\n",
    "plt.axhline(y=95, color='r', linestyle='--')\n",
    "plt.show()"
   ]
  },
  {
   "cell_type": "code",
   "execution_count": 31,
   "metadata": {},
   "outputs": [],
   "source": [
    "# transforming the original train and validation set to 350 components\n",
    "\n",
    "# fit on the training data\n",
    "pca = PCA(350).fit(X_train)\n",
    "\n",
    "# transform both training and validation data\n",
    "X_train_transformed = pca.transform(X_train)\n",
    "X_valid_transformed = pca.transform(X_valid)"
   ]
  },
  {
   "cell_type": "code",
   "execution_count": 32,
   "metadata": {},
   "outputs": [
    {
     "data": {
      "text/plain": [
       "(52500, 350)"
      ]
     },
     "execution_count": 32,
     "metadata": {},
     "output_type": "execute_result"
    }
   ],
   "source": [
    "# checking shape of data after PCA\n",
    "X_train_transformed.shape"
   ]
  },
  {
   "cell_type": "code",
   "execution_count": 33,
   "metadata": {},
   "outputs": [
    {
     "data": {
      "text/plain": [
       "RandomForestClassifier(max_depth=5, random_state=1)"
      ]
     },
     "execution_count": 33,
     "metadata": {},
     "output_type": "execute_result"
    }
   ],
   "source": [
    "# fitting the same random forest model on transformed data\n",
    "model.fit(X_train_transformed,y_train)"
   ]
  },
  {
   "cell_type": "code",
   "execution_count": 34,
   "metadata": {},
   "outputs": [],
   "source": [
    "# predicting for the transformed validation set\n",
    "pred_2 = model.predict(X_valid_transformed)"
   ]
  },
  {
   "cell_type": "code",
   "execution_count": 35,
   "metadata": {},
   "outputs": [
    {
     "data": {
      "text/plain": [
       "0.8478095238095238"
      ]
     },
     "execution_count": 35,
     "metadata": {},
     "output_type": "execute_result"
    }
   ],
   "source": [
    "# checking the training performance after transformation- Accuracy Score\n",
    "accuracy_score(model.predict(X_train_transformed), y_train)"
   ]
  },
  {
   "cell_type": "code",
   "execution_count": 36,
   "metadata": {},
   "outputs": [
    {
     "data": {
      "text/plain": [
       "0.8365142857142858"
      ]
     },
     "execution_count": 36,
     "metadata": {},
     "output_type": "execute_result"
    }
   ],
   "source": [
    "# checking the validation performance after transformation- Accuracy Score\n",
    "accuracy_score(pred_2, y_valid)"
   ]
  },
  {
   "cell_type": "code",
   "execution_count": 37,
   "metadata": {},
   "outputs": [
    {
     "name": "stdout",
     "output_type": "stream",
     "text": [
      "[0.05566924 0.03980005 0.03692838 0.02865828 0.02487328 0.02171511\n",
      " 0.01891026 0.01728921 0.01515604 0.01390923 0.0132641  0.01195652\n",
      " 0.011109   0.01079773 0.01022793 0.00991505 0.00921576 0.00916937\n",
      " 0.00888715 0.00861281 0.00813882 0.00790933 0.00754866 0.0072982\n",
      " 0.00713089 0.00694168 0.00685983 0.00654314 0.00623994 0.00612997\n",
      " 0.00605233 0.0059515  0.00570219 0.00562246 0.00556784 0.00546889\n",
      " 0.00541637 0.00527425 0.00516009 0.00506497 0.00502749 0.0049574\n",
      " 0.00475016 0.00463493 0.00458165 0.00453626 0.00451502 0.0044156\n",
      " 0.00438445 0.00430374 0.0042016  0.00416327 0.00412811 0.00401507\n",
      " 0.00389521 0.00387867 0.00384125 0.00379691 0.00379347 0.00378477\n",
      " 0.00370082 0.00368183 0.00366781 0.00364589 0.00361258 0.00360759\n",
      " 0.00352493 0.00348836 0.00347111 0.00340178 0.0033765  0.00336522\n",
      " 0.00326429 0.00324925 0.00324029 0.0031445  0.00314155 0.00311708\n",
      " 0.00307258 0.00305233 0.00300312 0.00296374 0.00295146 0.00288921\n",
      " 0.00287148 0.00282702 0.00281481 0.00279576 0.00275382 0.00272971\n",
      " 0.00271878 0.00267167 0.00264912 0.00263185 0.00260361 0.00256953\n",
      " 0.00253899 0.00250862 0.00250481 0.00247079 0.00244619 0.00243273\n",
      " 0.00239923 0.0023817  0.00236031 0.00234068 0.00229808 0.00228419\n",
      " 0.00225734 0.00223811 0.00223085 0.00217576 0.0021724  0.00215415\n",
      " 0.00215081 0.00213452 0.00211228 0.0020736  0.00204719 0.00203997\n",
      " 0.00203308 0.00200912 0.00198797 0.00195904 0.00194362 0.00193578\n",
      " 0.00191198 0.00190572 0.00189152 0.00188364 0.00186925 0.00185879\n",
      " 0.00185059 0.00183727 0.00183621 0.00183123 0.00182439 0.00181305\n",
      " 0.00178742 0.00176926 0.00175155 0.00173887 0.00171974 0.0017068\n",
      " 0.00170631 0.00168915 0.00167513 0.00165836 0.00163719 0.00162277\n",
      " 0.0016202  0.00161026 0.00160167 0.00156798 0.00155631 0.00154198\n",
      " 0.00153366 0.001525   0.00151272 0.00150087 0.00149106 0.00147662\n",
      " 0.00145999 0.00143516 0.00142842 0.00141139 0.00140379 0.00138131\n",
      " 0.00136663 0.00136052 0.00135406 0.00133553 0.00132863 0.00131536\n",
      " 0.00130014 0.00127787 0.00126179 0.00125638 0.00125417 0.00123617\n",
      " 0.00122498 0.0012118  0.0011887  0.00118629 0.00118428 0.00116602\n",
      " 0.00115936 0.00115322 0.0011424  0.00111721 0.00111461 0.00110506\n",
      " 0.00109186 0.00106774 0.00105664 0.00104951 0.00103564 0.00102223\n",
      " 0.00102142 0.00101753 0.0010058  0.00099854 0.00098979 0.0009823\n",
      " 0.00097636 0.00097006 0.00096207 0.00095603 0.0009384  0.00093393\n",
      " 0.00092985 0.00091495 0.00090886 0.00090752 0.00089301 0.00088769\n",
      " 0.00088078 0.00087361 0.00086418 0.00085616 0.00085113 0.00084718\n",
      " 0.00083271 0.00082287 0.00082103 0.00081105 0.00080135 0.00079798\n",
      " 0.00079214 0.00078167 0.00077535 0.00077227 0.0007571  0.00075149\n",
      " 0.00074515 0.00073667 0.00072669 0.00072381 0.00071052 0.00070642\n",
      " 0.00070247 0.00069587 0.00069093 0.00068642 0.00067969 0.00067396\n",
      " 0.00066639 0.00066498 0.000658   0.00064235 0.00063907 0.00063892\n",
      " 0.00063343 0.00063035 0.00062069 0.00061631 0.00061012 0.00060104\n",
      " 0.00059691 0.00058971 0.00058753 0.00058489 0.00058113 0.00056622\n",
      " 0.00056273 0.00055991 0.00055585 0.00055222 0.00054562 0.00054026\n",
      " 0.00053655 0.00053323 0.00053111 0.00052755 0.00052345 0.00051936\n",
      " 0.00051533 0.00051431 0.00050941 0.00050199 0.00049969 0.00049685\n",
      " 0.00049448 0.00049116 0.00048422 0.00048062 0.00047852 0.00047026\n",
      " 0.00046977 0.00046688 0.00045658 0.00045452 0.00044848 0.00044331\n",
      " 0.00043902 0.00043186 0.00043012 0.00042722 0.00042542 0.00042411\n",
      " 0.00041869 0.0004147  0.00041003 0.00040708 0.00040608 0.00040347\n",
      " 0.00039796 0.00039543 0.0003911  0.0003878  0.00038285 0.0003796\n",
      " 0.00037606 0.00037447 0.00037158 0.00037112 0.00036395 0.00036031\n",
      " 0.00035718 0.00035663 0.00035314 0.0003518  0.00034415 0.00034164\n",
      " 0.00034022 0.00033847 0.00033517 0.00033173 0.00033066 0.0003249\n",
      " 0.00032186 0.00031992 0.00031176 0.00031093 0.00030714 0.00030549\n",
      " 0.00030492 0.00030333 0.00029898 0.00029373 0.00029327 0.00029182\n",
      " 0.00028712 0.00028431 0.00028231 0.00027831 0.00027715 0.00027247\n",
      " 0.00027141 0.000269  ]\n"
     ]
    }
   ],
   "source": [
    "print(pca.explained_variance_ratio_)"
   ]
  },
  {
   "cell_type": "code",
   "execution_count": 21,
   "metadata": {},
   "outputs": [],
   "source": [
    "# Trying with max_depth = 5 (increased from 3 to 5)\n",
    "\n",
    "# creating the random forest classification model\n",
    "model01 = RandomForestClassifier(random_state=1, max_depth=5, n_estimators=100)"
   ]
  },
  {
   "cell_type": "code",
   "execution_count": 22,
   "metadata": {},
   "outputs": [
    {
     "data": {
      "text/plain": [
       "RandomForestClassifier(max_depth=5, random_state=1)"
      ]
     },
     "execution_count": 22,
     "metadata": {},
     "output_type": "execute_result"
    }
   ],
   "source": [
    "# fit the classifier\n",
    "model01.fit(X_train, y_train)\n"
   ]
  },
  {
   "cell_type": "code",
   "execution_count": 23,
   "metadata": {},
   "outputs": [],
   "source": [
    "# predicting for the original validation set\n",
    "pred_1 = model01.predict(X_valid)"
   ]
  },
  {
   "cell_type": "code",
   "execution_count": 25,
   "metadata": {},
   "outputs": [
    {
     "data": {
      "text/plain": [
       "0.8611809523809524"
      ]
     },
     "execution_count": 25,
     "metadata": {},
     "output_type": "execute_result"
    }
   ],
   "source": [
    "# checking the training performance - Accuracy Score\n",
    "accuracy_score(model01.predict(X_train), y_train)"
   ]
  },
  {
   "cell_type": "code",
   "execution_count": 26,
   "metadata": {},
   "outputs": [
    {
     "data": {
      "text/plain": [
       "0.8586285714285714"
      ]
     },
     "execution_count": 26,
     "metadata": {},
     "output_type": "execute_result"
    }
   ],
   "source": [
    "# checking the validation performance - Accuracy Score\n",
    "accuracy_score(pred_1, y_valid)"
   ]
  },
  {
   "cell_type": "code",
   "execution_count": 27,
   "metadata": {},
   "outputs": [],
   "source": [
    "#Fitting the PCA algorithm on our data to find the appropriate number of principal components to keep\n",
    "pca = PCA().fit(X_train)"
   ]
  },
  {
   "cell_type": "code",
   "execution_count": 28,
   "metadata": {},
   "outputs": [
    {
     "data": {
      "image/png": "[encoded data removed]",
      "text/plain": [
       "<Figure size 432x288 with 1 Axes>"
      ]
     },
     "metadata": {
      "needs_background": "light"
     },
     "output_type": "display_data"
    }
   ],
   "source": [
    "#Plotting the Cumulative Summation of the Explained Variance\n",
    "plt.figure()\n",
    "plt.plot(np.cumsum(pca.explained_variance_ratio_) * 100)\n",
    "plt.xlabel('Number of Components')\n",
    "plt.ylabel('Variance (%)')\n",
    "plt.title('MNIST - Explained Variance')\n",
    "\n",
    "# We want to preserve 95% of the variance so plot a horizontal line at 95% variance\n",
    "plt.axhline(y=95, color='r', linestyle='--')\n",
    "plt.show()"
   ]
  },
  {
   "cell_type": "code",
   "execution_count": null,
   "metadata": {},
   "outputs": [],
   "source": []
  }
 ],
 "metadata": {
  "kernelspec": {
   "display_name": "Python 3",
   "language": "python",
   "name": "python3"
  },
  "language_info": {
   "codemirror_mode": {
    "name": "ipython",
    "version": 3
   },
   "file_extension": ".py",
   "mimetype": "text/x-python",
   "name": "python",
   "nbconvert_exporter": "python",
   "pygments_lexer": "ipython3",
   "version": "3.6.12"
  }
 },
 "nbformat": 4,
 "nbformat_minor": 2
}
