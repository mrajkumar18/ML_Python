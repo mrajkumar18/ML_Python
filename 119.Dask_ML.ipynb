{
 "cells": [
  {
   "cell_type": "markdown",
   "metadata": {},
   "source": [
    "## DASK"
   ]
  },
  {
   "cell_type": "code",
   "execution_count": 1,
   "metadata": {},
   "outputs": [],
   "source": [
    "import dask \n",
    "import dask.dataframe as dd\n",
    "import dask.array as da"
   ]
  },
  {
   "cell_type": "code",
   "execution_count": 2,
   "metadata": {},
   "outputs": [
    {
     "name": "stdout",
     "output_type": "stream",
     "text": [
      "Wall time: 495 ms\n"
     ]
    }
   ],
   "source": [
    "%time df = dd.read_csv('datasets\\\\BF_train.csv')"
   ]
  },
  {
   "cell_type": "code",
   "execution_count": 3,
   "metadata": {},
   "outputs": [
    {
     "data": {
      "text/html": [
       "<div>\n",
       "<style scoped>\n",
       "    .dataframe tbody tr th:only-of-type {\n",
       "        vertical-align: middle;\n",
       "    }\n",
       "\n",
       "    .dataframe tbody tr th {\n",
       "        vertical-align: top;\n",
       "    }\n",
       "\n",
       "    .dataframe thead th {\n",
       "        text-align: right;\n",
       "    }\n",
       "</style>\n",
       "<table border=\"1\" class=\"dataframe\">\n",
       "  <thead>\n",
       "    <tr style=\"text-align: right;\">\n",
       "      <th></th>\n",
       "      <th>User_ID</th>\n",
       "      <th>Product_ID</th>\n",
       "      <th>Gender</th>\n",
       "      <th>Age</th>\n",
       "      <th>Occupation</th>\n",
       "      <th>City_Category</th>\n",
       "      <th>Stay_In_Current_City_Years</th>\n",
       "      <th>Marital_Status</th>\n",
       "      <th>Product_Category_1</th>\n",
       "      <th>Product_Category_2</th>\n",
       "      <th>Product_Category_3</th>\n",
       "      <th>Purchase</th>\n",
       "    </tr>\n",
       "  </thead>\n",
       "  <tbody>\n",
       "    <tr>\n",
       "      <th>0</th>\n",
       "      <td>1000001</td>\n",
       "      <td>P00069042</td>\n",
       "      <td>F</td>\n",
       "      <td>0-17</td>\n",
       "      <td>10</td>\n",
       "      <td>A</td>\n",
       "      <td>2</td>\n",
       "      <td>0</td>\n",
       "      <td>3</td>\n",
       "      <td>NaN</td>\n",
       "      <td>NaN</td>\n",
       "      <td>8370</td>\n",
       "    </tr>\n",
       "    <tr>\n",
       "      <th>1</th>\n",
       "      <td>1000001</td>\n",
       "      <td>P00248942</td>\n",
       "      <td>F</td>\n",
       "      <td>0-17</td>\n",
       "      <td>10</td>\n",
       "      <td>A</td>\n",
       "      <td>2</td>\n",
       "      <td>0</td>\n",
       "      <td>1</td>\n",
       "      <td>6.0</td>\n",
       "      <td>14.0</td>\n",
       "      <td>15200</td>\n",
       "    </tr>\n",
       "    <tr>\n",
       "      <th>2</th>\n",
       "      <td>1000001</td>\n",
       "      <td>P00087842</td>\n",
       "      <td>F</td>\n",
       "      <td>0-17</td>\n",
       "      <td>10</td>\n",
       "      <td>A</td>\n",
       "      <td>2</td>\n",
       "      <td>0</td>\n",
       "      <td>12</td>\n",
       "      <td>NaN</td>\n",
       "      <td>NaN</td>\n",
       "      <td>1422</td>\n",
       "    </tr>\n",
       "    <tr>\n",
       "      <th>3</th>\n",
       "      <td>1000001</td>\n",
       "      <td>P00085442</td>\n",
       "      <td>F</td>\n",
       "      <td>0-17</td>\n",
       "      <td>10</td>\n",
       "      <td>A</td>\n",
       "      <td>2</td>\n",
       "      <td>0</td>\n",
       "      <td>12</td>\n",
       "      <td>14.0</td>\n",
       "      <td>NaN</td>\n",
       "      <td>1057</td>\n",
       "    </tr>\n",
       "    <tr>\n",
       "      <th>4</th>\n",
       "      <td>1000002</td>\n",
       "      <td>P00285442</td>\n",
       "      <td>M</td>\n",
       "      <td>55+</td>\n",
       "      <td>16</td>\n",
       "      <td>C</td>\n",
       "      <td>4+</td>\n",
       "      <td>0</td>\n",
       "      <td>8</td>\n",
       "      <td>NaN</td>\n",
       "      <td>NaN</td>\n",
       "      <td>7969</td>\n",
       "    </tr>\n",
       "  </tbody>\n",
       "</table>\n",
       "</div>"
      ],
      "text/plain": [
       "   User_ID Product_ID Gender   Age  Occupation City_Category  \\\n",
       "0  1000001  P00069042      F  0-17          10             A   \n",
       "1  1000001  P00248942      F  0-17          10             A   \n",
       "2  1000001  P00087842      F  0-17          10             A   \n",
       "3  1000001  P00085442      F  0-17          10             A   \n",
       "4  1000002  P00285442      M   55+          16             C   \n",
       "\n",
       "  Stay_In_Current_City_Years  Marital_Status  Product_Category_1  \\\n",
       "0                          2               0                   3   \n",
       "1                          2               0                   1   \n",
       "2                          2               0                  12   \n",
       "3                          2               0                  12   \n",
       "4                         4+               0                   8   \n",
       "\n",
       "   Product_Category_2  Product_Category_3  Purchase  \n",
       "0                 NaN                 NaN      8370  \n",
       "1                 6.0                14.0     15200  \n",
       "2                 NaN                 NaN      1422  \n",
       "3                14.0                 NaN      1057  \n",
       "4                 NaN                 NaN      7969  "
      ]
     },
     "execution_count": 3,
     "metadata": {},
     "output_type": "execute_result"
    }
   ],
   "source": [
    "df.head()"
   ]
  },
  {
   "cell_type": "markdown",
   "metadata": {},
   "source": [
    "## Data Exploration"
   ]
  },
  {
   "cell_type": "code",
   "execution_count": 4,
   "metadata": {
    "scrolled": true
   },
   "outputs": [
    {
     "data": {
      "text/plain": [
       "User_ID                       0.000000\n",
       "Product_ID                    0.000000\n",
       "Gender                        0.000000\n",
       "Age                           0.000000\n",
       "Occupation                    0.000000\n",
       "City_Category                 0.000000\n",
       "Stay_In_Current_City_Years    0.000000\n",
       "Marital_Status                0.000000\n",
       "Product_Category_1            0.000000\n",
       "Product_Category_2            0.315666\n",
       "Product_Category_3            0.696727\n",
       "Purchase                      0.000000\n",
       "dtype: float64"
      ]
     },
     "execution_count": 4,
     "metadata": {},
     "output_type": "execute_result"
    }
   ],
   "source": [
    "df.isnull().sum().compute()/(len(df))"
   ]
  },
  {
   "cell_type": "code",
   "execution_count": 5,
   "metadata": {},
   "outputs": [
    {
     "data": {
      "text/html": [
       "<div>\n",
       "<style scoped>\n",
       "    .dataframe tbody tr th:only-of-type {\n",
       "        vertical-align: middle;\n",
       "    }\n",
       "\n",
       "    .dataframe tbody tr th {\n",
       "        vertical-align: top;\n",
       "    }\n",
       "\n",
       "    .dataframe thead th {\n",
       "        text-align: right;\n",
       "    }\n",
       "</style>\n",
       "<table border=\"1\" class=\"dataframe\">\n",
       "  <thead>\n",
       "    <tr style=\"text-align: right;\">\n",
       "      <th></th>\n",
       "      <th>User_ID</th>\n",
       "      <th>Occupation</th>\n",
       "      <th>Marital_Status</th>\n",
       "      <th>Product_Category_1</th>\n",
       "      <th>Product_Category_2</th>\n",
       "      <th>Product_Category_3</th>\n",
       "      <th>Purchase</th>\n",
       "    </tr>\n",
       "  </thead>\n",
       "  <tbody>\n",
       "    <tr>\n",
       "      <th>count</th>\n",
       "      <td>5.500680e+05</td>\n",
       "      <td>550068.000000</td>\n",
       "      <td>550068.000000</td>\n",
       "      <td>550068.000000</td>\n",
       "      <td>376430.000000</td>\n",
       "      <td>166821.000000</td>\n",
       "      <td>550068.000000</td>\n",
       "    </tr>\n",
       "    <tr>\n",
       "      <th>mean</th>\n",
       "      <td>1.003029e+06</td>\n",
       "      <td>8.076707</td>\n",
       "      <td>0.409653</td>\n",
       "      <td>5.404270</td>\n",
       "      <td>9.842329</td>\n",
       "      <td>12.668243</td>\n",
       "      <td>9263.968713</td>\n",
       "    </tr>\n",
       "    <tr>\n",
       "      <th>std</th>\n",
       "      <td>1.727592e+03</td>\n",
       "      <td>6.522660</td>\n",
       "      <td>0.491770</td>\n",
       "      <td>3.936211</td>\n",
       "      <td>5.086590</td>\n",
       "      <td>4.125338</td>\n",
       "      <td>5023.065394</td>\n",
       "    </tr>\n",
       "    <tr>\n",
       "      <th>min</th>\n",
       "      <td>1.000001e+06</td>\n",
       "      <td>0.000000</td>\n",
       "      <td>0.000000</td>\n",
       "      <td>1.000000</td>\n",
       "      <td>2.000000</td>\n",
       "      <td>3.000000</td>\n",
       "      <td>12.000000</td>\n",
       "    </tr>\n",
       "    <tr>\n",
       "      <th>25%</th>\n",
       "      <td>1.001516e+06</td>\n",
       "      <td>2.000000</td>\n",
       "      <td>0.000000</td>\n",
       "      <td>1.000000</td>\n",
       "      <td>5.000000</td>\n",
       "      <td>9.000000</td>\n",
       "      <td>5823.000000</td>\n",
       "    </tr>\n",
       "    <tr>\n",
       "      <th>50%</th>\n",
       "      <td>1.003077e+06</td>\n",
       "      <td>7.000000</td>\n",
       "      <td>0.000000</td>\n",
       "      <td>5.000000</td>\n",
       "      <td>9.000000</td>\n",
       "      <td>14.000000</td>\n",
       "      <td>8047.000000</td>\n",
       "    </tr>\n",
       "    <tr>\n",
       "      <th>75%</th>\n",
       "      <td>1.004478e+06</td>\n",
       "      <td>14.000000</td>\n",
       "      <td>1.000000</td>\n",
       "      <td>8.000000</td>\n",
       "      <td>15.000000</td>\n",
       "      <td>16.000000</td>\n",
       "      <td>12054.000000</td>\n",
       "    </tr>\n",
       "    <tr>\n",
       "      <th>max</th>\n",
       "      <td>1.006040e+06</td>\n",
       "      <td>20.000000</td>\n",
       "      <td>1.000000</td>\n",
       "      <td>20.000000</td>\n",
       "      <td>18.000000</td>\n",
       "      <td>18.000000</td>\n",
       "      <td>23961.000000</td>\n",
       "    </tr>\n",
       "  </tbody>\n",
       "</table>\n",
       "</div>"
      ],
      "text/plain": [
       "            User_ID     Occupation  Marital_Status  Product_Category_1  \\\n",
       "count  5.500680e+05  550068.000000   550068.000000       550068.000000   \n",
       "mean   1.003029e+06       8.076707        0.409653            5.404270   \n",
       "std    1.727592e+03       6.522660        0.491770            3.936211   \n",
       "min    1.000001e+06       0.000000        0.000000            1.000000   \n",
       "25%    1.001516e+06       2.000000        0.000000            1.000000   \n",
       "50%    1.003077e+06       7.000000        0.000000            5.000000   \n",
       "75%    1.004478e+06      14.000000        1.000000            8.000000   \n",
       "max    1.006040e+06      20.000000        1.000000           20.000000   \n",
       "\n",
       "       Product_Category_2  Product_Category_3       Purchase  \n",
       "count       376430.000000       166821.000000  550068.000000  \n",
       "mean             9.842329           12.668243    9263.968713  \n",
       "std              5.086590            4.125338    5023.065394  \n",
       "min              2.000000            3.000000      12.000000  \n",
       "25%              5.000000            9.000000    5823.000000  \n",
       "50%              9.000000           14.000000    8047.000000  \n",
       "75%             15.000000           16.000000   12054.000000  \n",
       "max             18.000000           18.000000   23961.000000  "
      ]
     },
     "execution_count": 5,
     "metadata": {},
     "output_type": "execute_result"
    }
   ],
   "source": [
    "df.describe().compute()"
   ]
  },
  {
   "cell_type": "code",
   "execution_count": 6,
   "metadata": {},
   "outputs": [
    {
     "data": {
      "text/plain": [
       "User_ID                         int64\n",
       "Product_ID                     object\n",
       "Gender                         object\n",
       "Age                            object\n",
       "Occupation                      int64\n",
       "City_Category                  object\n",
       "Stay_In_Current_City_Years     object\n",
       "Marital_Status                  int64\n",
       "Product_Category_1              int64\n",
       "Product_Category_2            float64\n",
       "Product_Category_3            float64\n",
       "Purchase                        int64\n",
       "dtype: object"
      ]
     },
     "execution_count": 6,
     "metadata": {},
     "output_type": "execute_result"
    }
   ],
   "source": [
    "df.dtypes"
   ]
  },
  {
   "cell_type": "code",
   "execution_count": 7,
   "metadata": {},
   "outputs": [
    {
     "data": {
      "text/plain": [
       "(550068, 12)"
      ]
     },
     "execution_count": 7,
     "metadata": {},
     "output_type": "execute_result"
    }
   ],
   "source": [
    "len(df), len(df.columns)"
   ]
  },
  {
   "cell_type": "code",
   "execution_count": 8,
   "metadata": {},
   "outputs": [],
   "source": [
    "df = df.drop(['Product_ID'], axis=1)"
   ]
  },
  {
   "cell_type": "markdown",
   "metadata": {},
   "source": [
    "## Data Preprocessing"
   ]
  },
  {
   "cell_type": "code",
   "execution_count": 9,
   "metadata": {},
   "outputs": [],
   "source": [
    "df = dd.get_dummies(df.categorize()).compute()"
   ]
  },
  {
   "cell_type": "code",
   "execution_count": 10,
   "metadata": {
    "scrolled": true
   },
   "outputs": [
    {
     "data": {
      "text/html": [
       "<div>\n",
       "<style scoped>\n",
       "    .dataframe tbody tr th:only-of-type {\n",
       "        vertical-align: middle;\n",
       "    }\n",
       "\n",
       "    .dataframe tbody tr th {\n",
       "        vertical-align: top;\n",
       "    }\n",
       "\n",
       "    .dataframe thead th {\n",
       "        text-align: right;\n",
       "    }\n",
       "</style>\n",
       "<table border=\"1\" class=\"dataframe\">\n",
       "  <thead>\n",
       "    <tr style=\"text-align: right;\">\n",
       "      <th></th>\n",
       "      <th>User_ID</th>\n",
       "      <th>Occupation</th>\n",
       "      <th>Marital_Status</th>\n",
       "      <th>Product_Category_1</th>\n",
       "      <th>Product_Category_2</th>\n",
       "      <th>Product_Category_3</th>\n",
       "      <th>Purchase</th>\n",
       "      <th>Gender_F</th>\n",
       "      <th>Gender_M</th>\n",
       "      <th>Age_0-17</th>\n",
       "      <th>...</th>\n",
       "      <th>Age_36-45</th>\n",
       "      <th>Age_18-25</th>\n",
       "      <th>City_Category_A</th>\n",
       "      <th>City_Category_C</th>\n",
       "      <th>City_Category_B</th>\n",
       "      <th>Stay_In_Current_City_Years_2</th>\n",
       "      <th>Stay_In_Current_City_Years_4+</th>\n",
       "      <th>Stay_In_Current_City_Years_3</th>\n",
       "      <th>Stay_In_Current_City_Years_1</th>\n",
       "      <th>Stay_In_Current_City_Years_0</th>\n",
       "    </tr>\n",
       "  </thead>\n",
       "  <tbody>\n",
       "    <tr>\n",
       "      <th>0</th>\n",
       "      <td>1000001</td>\n",
       "      <td>10</td>\n",
       "      <td>0</td>\n",
       "      <td>3</td>\n",
       "      <td>NaN</td>\n",
       "      <td>NaN</td>\n",
       "      <td>8370</td>\n",
       "      <td>1</td>\n",
       "      <td>0</td>\n",
       "      <td>1</td>\n",
       "      <td>...</td>\n",
       "      <td>0</td>\n",
       "      <td>0</td>\n",
       "      <td>1</td>\n",
       "      <td>0</td>\n",
       "      <td>0</td>\n",
       "      <td>1</td>\n",
       "      <td>0</td>\n",
       "      <td>0</td>\n",
       "      <td>0</td>\n",
       "      <td>0</td>\n",
       "    </tr>\n",
       "    <tr>\n",
       "      <th>1</th>\n",
       "      <td>1000001</td>\n",
       "      <td>10</td>\n",
       "      <td>0</td>\n",
       "      <td>1</td>\n",
       "      <td>6.0</td>\n",
       "      <td>14.0</td>\n",
       "      <td>15200</td>\n",
       "      <td>1</td>\n",
       "      <td>0</td>\n",
       "      <td>1</td>\n",
       "      <td>...</td>\n",
       "      <td>0</td>\n",
       "      <td>0</td>\n",
       "      <td>1</td>\n",
       "      <td>0</td>\n",
       "      <td>0</td>\n",
       "      <td>1</td>\n",
       "      <td>0</td>\n",
       "      <td>0</td>\n",
       "      <td>0</td>\n",
       "      <td>0</td>\n",
       "    </tr>\n",
       "    <tr>\n",
       "      <th>2</th>\n",
       "      <td>1000001</td>\n",
       "      <td>10</td>\n",
       "      <td>0</td>\n",
       "      <td>12</td>\n",
       "      <td>NaN</td>\n",
       "      <td>NaN</td>\n",
       "      <td>1422</td>\n",
       "      <td>1</td>\n",
       "      <td>0</td>\n",
       "      <td>1</td>\n",
       "      <td>...</td>\n",
       "      <td>0</td>\n",
       "      <td>0</td>\n",
       "      <td>1</td>\n",
       "      <td>0</td>\n",
       "      <td>0</td>\n",
       "      <td>1</td>\n",
       "      <td>0</td>\n",
       "      <td>0</td>\n",
       "      <td>0</td>\n",
       "      <td>0</td>\n",
       "    </tr>\n",
       "    <tr>\n",
       "      <th>3</th>\n",
       "      <td>1000001</td>\n",
       "      <td>10</td>\n",
       "      <td>0</td>\n",
       "      <td>12</td>\n",
       "      <td>14.0</td>\n",
       "      <td>NaN</td>\n",
       "      <td>1057</td>\n",
       "      <td>1</td>\n",
       "      <td>0</td>\n",
       "      <td>1</td>\n",
       "      <td>...</td>\n",
       "      <td>0</td>\n",
       "      <td>0</td>\n",
       "      <td>1</td>\n",
       "      <td>0</td>\n",
       "      <td>0</td>\n",
       "      <td>1</td>\n",
       "      <td>0</td>\n",
       "      <td>0</td>\n",
       "      <td>0</td>\n",
       "      <td>0</td>\n",
       "    </tr>\n",
       "    <tr>\n",
       "      <th>4</th>\n",
       "      <td>1000002</td>\n",
       "      <td>16</td>\n",
       "      <td>0</td>\n",
       "      <td>8</td>\n",
       "      <td>NaN</td>\n",
       "      <td>NaN</td>\n",
       "      <td>7969</td>\n",
       "      <td>0</td>\n",
       "      <td>1</td>\n",
       "      <td>0</td>\n",
       "      <td>...</td>\n",
       "      <td>0</td>\n",
       "      <td>0</td>\n",
       "      <td>0</td>\n",
       "      <td>1</td>\n",
       "      <td>0</td>\n",
       "      <td>0</td>\n",
       "      <td>1</td>\n",
       "      <td>0</td>\n",
       "      <td>0</td>\n",
       "      <td>0</td>\n",
       "    </tr>\n",
       "  </tbody>\n",
       "</table>\n",
       "<p>5 rows × 24 columns</p>\n",
       "</div>"
      ],
      "text/plain": [
       "   User_ID  Occupation  Marital_Status  Product_Category_1  \\\n",
       "0  1000001          10               0                   3   \n",
       "1  1000001          10               0                   1   \n",
       "2  1000001          10               0                  12   \n",
       "3  1000001          10               0                  12   \n",
       "4  1000002          16               0                   8   \n",
       "\n",
       "   Product_Category_2  Product_Category_3  Purchase  Gender_F  Gender_M  \\\n",
       "0                 NaN                 NaN      8370         1         0   \n",
       "1                 6.0                14.0     15200         1         0   \n",
       "2                 NaN                 NaN      1422         1         0   \n",
       "3                14.0                 NaN      1057         1         0   \n",
       "4                 NaN                 NaN      7969         0         1   \n",
       "\n",
       "   Age_0-17  ...  Age_36-45  Age_18-25  City_Category_A  City_Category_C  \\\n",
       "0         1  ...          0          0                1                0   \n",
       "1         1  ...          0          0                1                0   \n",
       "2         1  ...          0          0                1                0   \n",
       "3         1  ...          0          0                1                0   \n",
       "4         0  ...          0          0                0                1   \n",
       "\n",
       "   City_Category_B  Stay_In_Current_City_Years_2  \\\n",
       "0                0                             1   \n",
       "1                0                             1   \n",
       "2                0                             1   \n",
       "3                0                             1   \n",
       "4                0                             0   \n",
       "\n",
       "   Stay_In_Current_City_Years_4+  Stay_In_Current_City_Years_3  \\\n",
       "0                              0                             0   \n",
       "1                              0                             0   \n",
       "2                              0                             0   \n",
       "3                              0                             0   \n",
       "4                              1                             0   \n",
       "\n",
       "   Stay_In_Current_City_Years_1  Stay_In_Current_City_Years_0  \n",
       "0                             0                             0  \n",
       "1                             0                             0  \n",
       "2                             0                             0  \n",
       "3                             0                             0  \n",
       "4                             0                             0  \n",
       "\n",
       "[5 rows x 24 columns]"
      ]
     },
     "execution_count": 10,
     "metadata": {},
     "output_type": "execute_result"
    }
   ],
   "source": [
    "df.head()"
   ]
  },
  {
   "cell_type": "code",
   "execution_count": 11,
   "metadata": {
    "scrolled": true
   },
   "outputs": [],
   "source": [
    "df = df.fillna(value=0)"
   ]
  },
  {
   "cell_type": "code",
   "execution_count": 12,
   "metadata": {},
   "outputs": [
    {
     "data": {
      "text/plain": [
       "User_ID                          0\n",
       "Occupation                       0\n",
       "Marital_Status                   0\n",
       "Product_Category_1               0\n",
       "Product_Category_2               0\n",
       "Product_Category_3               0\n",
       "Purchase                         0\n",
       "Gender_F                         0\n",
       "Gender_M                         0\n",
       "Age_0-17                         0\n",
       "Age_55+                          0\n",
       "Age_26-35                        0\n",
       "Age_46-50                        0\n",
       "Age_51-55                        0\n",
       "Age_36-45                        0\n",
       "Age_18-25                        0\n",
       "City_Category_A                  0\n",
       "City_Category_C                  0\n",
       "City_Category_B                  0\n",
       "Stay_In_Current_City_Years_2     0\n",
       "Stay_In_Current_City_Years_4+    0\n",
       "Stay_In_Current_City_Years_3     0\n",
       "Stay_In_Current_City_Years_1     0\n",
       "Stay_In_Current_City_Years_0     0\n",
       "dtype: int64"
      ]
     },
     "execution_count": 12,
     "metadata": {},
     "output_type": "execute_result"
    }
   ],
   "source": [
    "df.isnull().sum()"
   ]
  },
  {
   "cell_type": "code",
   "execution_count": 13,
   "metadata": {},
   "outputs": [],
   "source": [
    "x = df[['Occupation', 'Marital_Status', 'Product_Category_1','Gender_F','Product_Category_2', 'Product_Category_3',\n",
    "        'Gender_M', 'Age_0-17', 'Age_55+', 'Age_26-35', 'Age_46-50', 'Age_51-55', 'Age_36-45', 'Age_18-25', \n",
    "        'City_Category_A','City_Category_C', 'City_Category_B', 'Stay_In_Current_City_Years_2',\n",
    "        'Stay_In_Current_City_Years_4+', 'Stay_In_Current_City_Years_3','Stay_In_Current_City_Years_1', \n",
    "        'Stay_In_Current_City_Years_0']]\n",
    "y = df['Purchase']"
   ]
  },
  {
   "cell_type": "code",
   "execution_count": 17,
   "metadata": {},
   "outputs": [
    {
     "name": "stdout",
     "output_type": "stream",
     "text": [
      "Collecting dask_ml\n",
      "  Downloading dask_ml-2022.1.22-py3-none-any.whl (148 kB)\n",
      "Requirement already satisfied: distributed>=2.4.0 in e:\\anaconda3\\envs\\ml_3.6\\lib\\site-packages (from dask_ml) (2021.3.0)\n",
      "Collecting numba>=0.51.0\n",
      "  Downloading numba-0.53.1-cp36-cp36m-win_amd64.whl (2.3 MB)\n",
      "Collecting dask_ml\n",
      "  Downloading dask_ml-2021.11.30-py3-none-any.whl (148 kB)\n",
      "  Downloading dask_ml-2021.11.16-py3-none-any.whl (147 kB)\n",
      "  Downloading dask_ml-2021.10.17-py3-none-any.whl (146 kB)\n",
      "Requirement already satisfied: numpy>=1.17.3 in e:\\anaconda3\\envs\\ml_3.6\\lib\\site-packages (from dask_ml) (1.19.5)\n",
      "Collecting multipledispatch>=0.4.9\n",
      "  Downloading multipledispatch-0.6.0-py3-none-any.whl (11 kB)\n",
      "Collecting dask_ml\n",
      "  Downloading dask_ml-1.9.0-py3-none-any.whl (143 kB)\n",
      "Requirement already satisfied: scikit-learn>=0.23 in e:\\anaconda3\\envs\\ml_3.6\\lib\\site-packages (from dask_ml) (0.23.2)\n",
      "Requirement already satisfied: scipy in e:\\anaconda3\\envs\\ml_3.6\\lib\\site-packages (from dask_ml) (1.5.2)\n",
      "Collecting dask-glm>=0.2.0\n",
      "  Downloading dask_glm-0.2.0-py2.py3-none-any.whl (12 kB)\n",
      "Requirement already satisfied: pandas>=0.24.2 in e:\\anaconda3\\envs\\ml_3.6\\lib\\site-packages (from dask_ml) (1.1.5)\n",
      "Requirement already satisfied: packaging in e:\\anaconda3\\envs\\ml_3.6\\lib\\site-packages (from dask_ml) (20.9)\n",
      "Requirement already satisfied: dask[array,dataframe]>=2.4.0 in e:\\anaconda3\\envs\\ml_3.6\\lib\\site-packages (from dask_ml) (2021.3.0)\n",
      "Requirement already satisfied: cloudpickle>=0.2.2 in e:\\anaconda3\\envs\\ml_3.6\\lib\\site-packages (from dask-glm>=0.2.0->dask_ml) (1.6.0)\n",
      "Requirement already satisfied: pyyaml in e:\\anaconda3\\envs\\ml_3.6\\lib\\site-packages (from dask[array,dataframe]>=2.4.0->dask_ml) (5.4.1)\n",
      "Requirement already satisfied: toolz>=0.8.2 in e:\\anaconda3\\envs\\ml_3.6\\lib\\site-packages (from dask[array,dataframe]>=2.4.0->dask_ml) (0.11.2)\n",
      "Requirement already satisfied: fsspec>=0.6.0 in e:\\anaconda3\\envs\\ml_3.6\\lib\\site-packages (from dask[array,dataframe]>=2.4.0->dask_ml) (2021.6.0)\n",
      "Requirement already satisfied: partd>=0.3.10 in e:\\anaconda3\\envs\\ml_3.6\\lib\\site-packages (from dask[array,dataframe]>=2.4.0->dask_ml) (1.2.0)\n",
      "Requirement already satisfied: setuptools in e:\\anaconda3\\envs\\ml_3.6\\lib\\site-packages (from distributed>=2.4.0->dask_ml) (59.6.0)\n",
      "Requirement already satisfied: psutil>=5.0 in e:\\anaconda3\\envs\\ml_3.6\\lib\\site-packages (from distributed>=2.4.0->dask_ml) (5.8.0)\n",
      "Requirement already satisfied: tblib>=1.6.0 in e:\\anaconda3\\envs\\ml_3.6\\lib\\site-packages (from distributed>=2.4.0->dask_ml) (1.7.0)\n",
      "Requirement already satisfied: sortedcontainers!=2.0.0,!=2.0.1 in e:\\anaconda3\\envs\\ml_3.6\\lib\\site-packages (from distributed>=2.4.0->dask_ml) (2.3.0)\n",
      "Requirement already satisfied: zict>=0.1.3 in e:\\anaconda3\\envs\\ml_3.6\\lib\\site-packages (from distributed>=2.4.0->dask_ml) (2.0.0)\n",
      "Requirement already satisfied: tornado>=5 in e:\\anaconda3\\envs\\ml_3.6\\lib\\site-packages (from distributed>=2.4.0->dask_ml) (6.1)\n",
      "Requirement already satisfied: contextvars in e:\\anaconda3\\envs\\ml_3.6\\lib\\site-packages (from distributed>=2.4.0->dask_ml) (2.4)\n",
      "Requirement already satisfied: msgpack>=0.6.0 in e:\\anaconda3\\envs\\ml_3.6\\lib\\site-packages (from distributed>=2.4.0->dask_ml) (1.0.3)\n",
      "Requirement already satisfied: click>=6.6 in e:\\anaconda3\\envs\\ml_3.6\\lib\\site-packages (from distributed>=2.4.0->dask_ml) (7.1.2)\n",
      "Requirement already satisfied: six in e:\\anaconda3\\envs\\ml_3.6\\lib\\site-packages (from multipledispatch>=0.4.9->dask_ml) (1.15.0)\n",
      "Collecting llvmlite<0.37,>=0.36.0rc1\n",
      "  Downloading llvmlite-0.36.0-cp36-cp36m-win_amd64.whl (16.0 MB)\n",
      "Requirement already satisfied: python-dateutil>=2.7.3 in e:\\anaconda3\\envs\\ml_3.6\\lib\\site-packages (from pandas>=0.24.2->dask_ml) (2.8.1)\n",
      "Requirement already satisfied: pytz>=2017.2 in e:\\anaconda3\\envs\\ml_3.6\\lib\\site-packages (from pandas>=0.24.2->dask_ml) (2021.1)\n",
      "Requirement already satisfied: joblib>=0.11 in e:\\anaconda3\\envs\\ml_3.6\\lib\\site-packages (from scikit-learn>=0.23->dask_ml) (1.0.0)\n",
      "Requirement already satisfied: threadpoolctl>=2.0.0 in e:\\anaconda3\\envs\\ml_3.6\\lib\\site-packages (from scikit-learn>=0.23->dask_ml) (2.1.0)\n",
      "Requirement already satisfied: pyparsing>=2.0.2 in e:\\anaconda3\\envs\\ml_3.6\\lib\\site-packages (from packaging->dask_ml) (2.4.7)\n",
      "Requirement already satisfied: locket in e:\\anaconda3\\envs\\ml_3.6\\lib\\site-packages (from partd>=0.3.10->dask[array,dataframe]>=2.4.0->dask_ml) (0.2.1)\n",
      "Requirement already satisfied: heapdict in e:\\anaconda3\\envs\\ml_3.6\\lib\\site-packages (from zict>=0.1.3->distributed>=2.4.0->dask_ml) (1.0.1)\n",
      "Requirement already satisfied: immutables>=0.9 in e:\\anaconda3\\envs\\ml_3.6\\lib\\site-packages (from contextvars->distributed>=2.4.0->dask_ml) (0.16)\n",
      "Requirement already satisfied: typing-extensions>=3.7.4.3 in e:\\anaconda3\\envs\\ml_3.6\\lib\\site-packages (from immutables>=0.9->contextvars->distributed>=2.4.0->dask_ml) (3.7.4.3)\n",
      "Installing collected packages: multipledispatch, llvmlite, numba, dask-glm, dask-ml\n",
      "Successfully installed dask-glm-0.2.0 dask-ml-1.9.0 llvmlite-0.36.0 multipledispatch-0.6.0 numba-0.53.1\n"
     ]
    },
    {
     "name": "stderr",
     "output_type": "stream",
     "text": [
      "WARNING: Ignoring invalid distribution -ip (e:\\anaconda3\\envs\\ml_3.6\\lib\\site-packages)\n",
      "WARNING: Ignoring invalid distribution -illow (e:\\anaconda3\\envs\\ml_3.6\\lib\\site-packages)\n",
      "WARNING: Ignoring invalid distribution -ip (e:\\anaconda3\\envs\\ml_3.6\\lib\\site-packages)\n",
      "WARNING: Ignoring invalid distribution -illow (e:\\anaconda3\\envs\\ml_3.6\\lib\\site-packages)\n",
      "WARNING: Ignoring invalid distribution -ip (e:\\anaconda3\\envs\\ml_3.6\\lib\\site-packages)\n",
      "WARNING: Ignoring invalid distribution -illow (e:\\anaconda3\\envs\\ml_3.6\\lib\\site-packages)\n",
      "WARNING: Ignoring invalid distribution -ip (e:\\anaconda3\\envs\\ml_3.6\\lib\\site-packages)\n",
      "WARNING: Ignoring invalid distribution -illow (e:\\anaconda3\\envs\\ml_3.6\\lib\\site-packages)\n",
      "WARNING: Ignoring invalid distribution -ip (e:\\anaconda3\\envs\\ml_3.6\\lib\\site-packages)\n",
      "WARNING: Ignoring invalid distribution -illow (e:\\anaconda3\\envs\\ml_3.6\\lib\\site-packages)\n",
      "WARNING: Ignoring invalid distribution -ip (e:\\anaconda3\\envs\\ml_3.6\\lib\\site-packages)\n",
      "WARNING: Ignoring invalid distribution -illow (e:\\anaconda3\\envs\\ml_3.6\\lib\\site-packages)\n",
      "WARNING: Ignoring invalid distribution -ip (e:\\anaconda3\\envs\\ml_3.6\\lib\\site-packages)\n",
      "WARNING: Ignoring invalid distribution -illow (e:\\anaconda3\\envs\\ml_3.6\\lib\\site-packages)\n",
      "WARNING: Ignoring invalid distribution -ip (e:\\anaconda3\\envs\\ml_3.6\\lib\\site-packages)\n",
      "WARNING: Ignoring invalid distribution -illow (e:\\anaconda3\\envs\\ml_3.6\\lib\\site-packages)\n",
      "WARNING: Ignoring invalid distribution -ip (e:\\anaconda3\\envs\\ml_3.6\\lib\\site-packages)\n",
      "WARNING: Ignoring invalid distribution -illow (e:\\anaconda3\\envs\\ml_3.6\\lib\\site-packages)\n",
      "WARNING: Ignoring invalid distribution -ip (e:\\anaconda3\\envs\\ml_3.6\\lib\\site-packages)\n",
      "WARNING: Ignoring invalid distribution -illow (e:\\anaconda3\\envs\\ml_3.6\\lib\\site-packages)\n"
     ]
    }
   ],
   "source": [
    "!pip install dask_ml"
   ]
  },
  {
   "cell_type": "code",
   "execution_count": 18,
   "metadata": {},
   "outputs": [],
   "source": [
    "from dask_ml.model_selection import train_test_split"
   ]
  },
  {
   "cell_type": "code",
   "execution_count": 19,
   "metadata": {},
   "outputs": [],
   "source": [
    "X_train, X_test, y_train, y_test = train_test_split(x, y, random_state=1)"
   ]
  },
  {
   "cell_type": "code",
   "execution_count": 20,
   "metadata": {},
   "outputs": [
    {
     "data": {
      "text/plain": [
       "(495061, 55007, 495061, 55007)"
      ]
     },
     "execution_count": 20,
     "metadata": {},
     "output_type": "execute_result"
    }
   ],
   "source": [
    "len(X_train), len(X_test), len(y_train), len(y_test)"
   ]
  },
  {
   "cell_type": "markdown",
   "metadata": {},
   "source": [
    "### Dask LR"
   ]
  },
  {
   "cell_type": "code",
   "execution_count": 21,
   "metadata": {},
   "outputs": [],
   "source": [
    "training_x = X_train.values\n",
    "training_y = y_train.values"
   ]
  },
  {
   "cell_type": "code",
   "execution_count": 22,
   "metadata": {},
   "outputs": [],
   "source": [
    "testing_x = X_test.values\n",
    "testing_y = y_test.values"
   ]
  },
  {
   "cell_type": "code",
   "execution_count": 23,
   "metadata": {},
   "outputs": [],
   "source": [
    "import numpy as np\n",
    "from sklearn.metrics import mean_squared_error"
   ]
  },
  {
   "cell_type": "code",
   "execution_count": 24,
   "metadata": {},
   "outputs": [],
   "source": [
    "def rmse(preds, actuals):\n",
    "    error = mean_squared_error(actuals, preds)\n",
    "    rmse = np.sqrt(error)\n",
    "    print(rmse)"
   ]
  },
  {
   "cell_type": "code",
   "execution_count": 25,
   "metadata": {
    "scrolled": false
   },
   "outputs": [
    {
     "data": {
      "text/plain": [
       "LinearRegression(n_jobs=-1, random_state=1)"
      ]
     },
     "execution_count": 25,
     "metadata": {},
     "output_type": "execute_result"
    }
   ],
   "source": [
    "from dask_ml.linear_model import LinearRegression\n",
    "lr = LinearRegression(random_state=1, n_jobs=-1)\n",
    "lr.fit(training_x,training_y)"
   ]
  },
  {
   "cell_type": "code",
   "execution_count": 26,
   "metadata": {},
   "outputs": [
    {
     "name": "stdout",
     "output_type": "stream",
     "text": [
      "4624.266265525379\n"
     ]
    }
   ],
   "source": [
    "preds= lr.predict(training_x)\n",
    "rmse(preds, training_y)"
   ]
  },
  {
   "cell_type": "code",
   "execution_count": 27,
   "metadata": {},
   "outputs": [
    {
     "name": "stdout",
     "output_type": "stream",
     "text": [
      "4624.036261865467\n"
     ]
    }
   ],
   "source": [
    "preds_test= lr.predict(testing_x)\n",
    "rmse(preds_test, testing_y)"
   ]
  },
  {
   "cell_type": "code",
   "execution_count": null,
   "metadata": {
    "collapsed": true
   },
   "outputs": [],
   "source": []
  }
 ],
 "metadata": {
  "kernelspec": {
   "display_name": "Python 3",
   "language": "python",
   "name": "python3"
  },
  "language_info": {
   "codemirror_mode": {
    "name": "ipython",
    "version": 3
   },
   "file_extension": ".py",
   "mimetype": "text/x-python",
   "name": "python",
   "nbconvert_exporter": "python",
   "pygments_lexer": "ipython3",
   "version": "3.6.12"
  }
 },
 "nbformat": 4,
 "nbformat_minor": 2
}
