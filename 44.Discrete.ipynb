{
 "cells": [
  {
   "cell_type": "code",
   "execution_count": 1,
   "metadata": {
    "colab": {},
    "colab_type": "code",
    "id": "1ApFvomf9p2D"
   },
   "outputs": [],
   "source": [
    "#importing libraries\n",
    "import numpy as np\n",
    "import pandas as pd\n",
    "\n",
    "import matplotlib.pyplot as plt\n",
    "import seaborn as sns\n",
    "\n",
    "import warnings\n",
    "warnings.filterwarnings('ignore')"
   ]
  },
  {
   "cell_type": "code",
   "execution_count": 2,
   "metadata": {},
   "outputs": [
    {
     "name": "stdout",
     "output_type": "stream",
     "text": [
      "Package                       Version\n",
      "----------------------------- -------------------\n",
      "absl-py                       0.12.0\n",
      "alabaster                     0.7.12\n",
      "appdirs                       1.4.4\n",
      "argh                          0.26.2\n",
      "argon2-cffi                   20.1.0\n",
      "astroid                       2.4.2\n",
      "astunparse                    1.6.3\n",
      "async-generator               1.10\n",
      "atomicwrites                  1.4.0\n",
      "attrs                         20.3.0\n",
      "autopep8                      1.5.4\n",
      "Babel                         2.9.0\n",
      "backcall                      0.2.0\n",
      "bcrypt                        3.2.0\n",
      "black                         20.8b1\n",
      "bleach                        3.3.0\n",
      "brotlipy                      0.7.0\n",
      "cachetools                    4.2.1\n",
      "certifi                       2020.12.5\n",
      "cffi                          1.14.4\n",
      "chardet                       4.0.0\n",
      "click                         7.1.2\n",
      "cloudpickle                   1.6.0\n",
      "colorama                      0.4.4\n",
      "cryptography                  3.3.1\n",
      "cycler                        0.10.0\n",
      "dataclasses                   0.8\n",
      "decorator                     4.4.2\n",
      "defusedxml                    0.6.0\n",
      "diff-match-patch              20200713\n",
      "docutils                      0.16\n",
      "entrypoints                   0.3\n",
      "et-xmlfile                    1.1.0\n",
      "flake8                        3.8.4\n",
      "flatbuffers                   1.12\n",
      "fsspec                        2021.6.0\n",
      "future                        0.18.2\n",
      "gast                          0.3.3\n",
      "google-auth                   1.29.0\n",
      "google-auth-oauthlib          0.4.4\n",
      "google-pasta                  0.2.0\n",
      "grpcio                        1.32.0\n",
      "h5py                          2.10.0\n",
      "helpdev                       0.7.1\n",
      "idna                          2.10\n",
      "imagesize                     1.2.0\n",
      "importlib-metadata            3.4.0\n",
      "intervaltree                  3.1.0\n",
      "ipykernel                     5.4.2\n",
      "ipython                       7.16.1\n",
      "ipython-genutils              0.2.0\n",
      "ipywidgets                    7.6.3\n",
      "isort                         5.7.0\n",
      "jedi                          0.17.2\n",
      "Jinja2                        2.11.3\n",
      "joblib                        1.0.0\n",
      "jsonschema                    3.2.0\n",
      "jupyter                       1.0.0\n",
      "jupyter-client                6.1.11\n",
      "jupyter-console               6.2.0\n",
      "jupyter-core                  4.7.1\n",
      "jupyterlab-pygments           0.1.2\n",
      "jupyterlab-widgets            1.0.0\n",
      "Keras-Preprocessing           1.1.2\n",
      "keyring                       22.0.1\n",
      "kiwisolver                    1.3.1\n",
      "lazy-object-proxy             1.4.3\n",
      "Markdown                      3.3.4\n",
      "MarkupSafe                    1.1.1\n",
      "matplotlib                    3.3.4\n",
      "mccabe                        0.6.1\n",
      "mistune                       0.8.4\n",
      "mkl-fft                       1.2.0\n",
      "mkl-random                    1.1.1\n",
      "mkl-service                   2.3.0\n",
      "mypy-extensions               0.4.3\n",
      "nbclient                      0.5.1\n",
      "nbconvert                     6.0.7\n",
      "nbformat                      5.1.2\n",
      "nest-asyncio                  1.4.3\n",
      "notebook                      6.1.6\n",
      "numpy                         1.19.5\n",
      "numpydoc                      1.1.0\n",
      "oauthlib                      3.1.0\n",
      "openpyxl                      3.0.7\n",
      "opt-einsum                    3.3.0\n",
      "packaging                     20.9\n",
      "pandas                        1.1.5\n",
      "pandocfilters                 1.4.3\n",
      "paramiko                      2.7.2\n",
      "parso                         0.7.0\n",
      "pathspec                      0.8.1\n",
      "pathtools                     0.1.2\n",
      "patsy                         0.5.1\n",
      "pexpect                       4.8.0\n",
      "pickleshare                   0.7.5\n",
      "Pillow                        8.1.0\n",
      "pip                           20.3.3\n",
      "pluggy                        0.13.1\n",
      "prometheus-client             0.9.0\n",
      "prompt-toolkit                3.0.10Note: you may need to restart the kernel to use updated packages.\n",
      "\n",
      "protobuf                      3.15.8\n",
      "psutil                        5.8.0\n",
      "ptyprocess                    0.7.0\n",
      "pyasn1                        0.4.8\n",
      "pyasn1-modules                0.2.8\n",
      "pycodestyle                   2.6.0\n",
      "pycparser                     2.20\n",
      "pydocstyle                    5.1.1\n",
      "pydotplus                     2.0.2\n",
      "pyflakes                      2.2.0\n",
      "Pygments                      2.7.4\n",
      "pylint                        2.6.0\n",
      "pyls-black                    0.4.6\n",
      "pyls-spyder                   0.3.0\n",
      "PyNaCl                        1.4.0\n",
      "pyOpenSSL                     20.0.1\n",
      "pyparsing                     2.4.7\n",
      "PyQt5                         5.12.3\n",
      "PyQt5-sip                     12.8.1\n",
      "PyQtWebEngine                 5.12.1\n",
      "pyrsistent                    0.17.3\n",
      "PySocks                       1.7.1\n",
      "python-dateutil               2.8.1\n",
      "python-jsonrpc-server         0.4.0\n",
      "python-language-server        0.36.2\n",
      "pytz                          2021.1\n",
      "pywin32                       300\n",
      "pywin32-ctypes                0.2.0\n",
      "pywinpty                      0.5.7\n",
      "PyYAML                        5.4.1\n",
      "pyzmq                         20.0.0\n",
      "QDarkStyle                    2.8.1\n",
      "QtAwesome                     1.0.2\n",
      "qtconsole                     5.0.1\n",
      "QtPy                          1.9.0\n",
      "regex                         2020.11.13\n",
      "requests                      2.25.1\n",
      "requests-oauthlib             1.3.0\n",
      "rope                          0.18.0\n",
      "rsa                           4.7.2\n",
      "Rtree                         0.9.4\n",
      "scikit-learn                  0.23.2\n",
      "scipy                         1.5.2\n",
      "seaborn                       0.11.1\n",
      "Send2Trash                    1.5.0\n",
      "setuptools                    52.0.0.post20210125\n",
      "six                           1.15.0\n",
      "sklearn                       0.0\n",
      "snowballstemmer               2.1.0\n",
      "sortedcontainers              2.3.0\n",
      "Sphinx                        3.4.3\n",
      "sphinxcontrib-applehelp       1.0.2\n",
      "sphinxcontrib-devhelp         1.0.2\n",
      "sphinxcontrib-htmlhelp        1.0.3\n",
      "sphinxcontrib-jsmath          1.0.1\n",
      "sphinxcontrib-qthelp          1.0.3\n",
      "sphinxcontrib-serializinghtml 1.1.4\n",
      "spyder                        4.2.1\n",
      "spyder-kernels                1.10.1\n",
      "statsmodels                   0.12.2\n",
      "tensorboard                   2.5.0\n",
      "tensorboard-data-server       0.6.0\n",
      "tensorboard-plugin-wit        1.8.0\n",
      "tensorflow                    2.4.1\n",
      "tensorflow-estimator          2.4.0\n",
      "termcolor                     1.1.0\n",
      "terminado                     0.9.2\n",
      "testpath                      0.4.4\n",
      "textdistance                  4.2.0\n",
      "threadpoolctl                 2.1.0\n",
      "three-merge                   0.1.1\n",
      "toml                          0.10.2\n",
      "tornado                       6.1\n",
      "traitlets                     4.3.3\n",
      "typed-ast                     1.4.2\n",
      "typing-extensions             3.7.4.3\n",
      "ujson                         4.0.2\n",
      "urllib3                       1.26.3\n",
      "watchdog                      1.0.2\n",
      "wcwidth                       0.2.5\n",
      "webencodings                  0.5.1\n",
      "Werkzeug                      1.0.1\n",
      "wheel                         0.36.2\n",
      "widgetsnbextension            3.5.1\n",
      "win-inet-pton                 1.1.0\n",
      "wincertstore                  0.2\n",
      "wrapt                         1.12.1\n",
      "xlrd                          2.0.1\n",
      "yapf                          0.30.0\n",
      "zipp                          3.4.0\n"
     ]
    }
   ],
   "source": [
    "pip list"
   ]
  },
  {
   "cell_type": "code",
   "execution_count": 6,
   "metadata": {},
   "outputs": [
    {
     "data": {
      "image/png": "[encoded data removed]",
      "text/plain": [
       "<Figure size 432x288 with 1 Axes>"
      ]
     },
     "metadata": {},
     "output_type": "display_data"
    }
   ],
   "source": [
    "sns.set_theme(style=\"whitegrid\")\n",
    "\n",
    "tips = sns.load_dataset(\"tips\")\n",
    "\n",
    "ax = sns.barplot(x=\"day\", y=\"total_bill\", data=tips)"
   ]
  },
  {
   "cell_type": "code",
   "execution_count": 4,
   "metadata": {},
   "outputs": [
    {
     "data": {
      "image/png": "[encoded data removed]",
      "text/plain": [
       "<Figure size 432x288 with 1 Axes>"
      ]
     },
     "metadata": {},
     "output_type": "display_data"
    }
   ],
   "source": [
    "ax = sns.barplot(x=\"day\", y=\"total_bill\", hue=\"sex\", data=tips)"
   ]
  },
  {
   "cell_type": "code",
   "execution_count": 7,
   "metadata": {},
   "outputs": [
    {
     "data": {
      "image/png": "[encoded data removed]",
      "text/plain": [
       "<Figure size 432x288 with 1 Axes>"
      ]
     },
     "metadata": {},
     "output_type": "display_data"
    }
   ],
   "source": [
    "ax = sns.barplot(x=\"tip\", y=\"day\", data=tips)"
   ]
  },
  {
   "cell_type": "code",
   "execution_count": 8,
   "metadata": {},
   "outputs": [
    {
     "data": {
      "image/png": "[encoded data removed]",
      "text/plain": [
       "<Figure size 432x288 with 1 Axes>"
      ]
     },
     "metadata": {},
     "output_type": "display_data"
    }
   ],
   "source": [
    "ax = sns.barplot(x=\"time\", y=\"tip\", data=tips,\n",
    "\n",
    "                 order=[\"Dinner\", \"Lunch\"])"
   ]
  },
  {
   "cell_type": "code",
   "execution_count": 9,
   "metadata": {},
   "outputs": [
    {
     "data": {
      "image/png": "[encoded data removed]",
      "text/plain": [
       "<Figure size 432x288 with 1 Axes>"
      ]
     },
     "metadata": {},
     "output_type": "display_data"
    }
   ],
   "source": [
    "#Use median as the estimate of central tendency:\n",
    "from numpy import median\n",
    "\n",
    "ax = sns.barplot(x=\"day\", y=\"tip\", data=tips, estimator=median)"
   ]
  },
  {
   "cell_type": "code",
   "execution_count": 10,
   "metadata": {},
   "outputs": [
    {
     "data": {
      "image/png": "[encoded data removed]",
      "text/plain": [
       "<Figure size 432x288 with 1 Axes>"
      ]
     },
     "metadata": {},
     "output_type": "display_data"
    }
   ],
   "source": [
    "#Show the standard error of the mean with the error bars:\n",
    "\n",
    "ax = sns.barplot(x=\"day\", y=\"tip\", data=tips, ci=68)"
   ]
  },
  {
   "cell_type": "code",
   "execution_count": 11,
   "metadata": {},
   "outputs": [
    {
     "data": {
      "image/png": "[encoded data removed]",
      "text/plain": [
       "<Figure size 432x288 with 1 Axes>"
      ]
     },
     "metadata": {},
     "output_type": "display_data"
    }
   ],
   "source": [
    "#Show standard deviation of observations instead of a confidence interval:\n",
    "\n",
    "ax = sns.barplot(x=\"day\", y=\"tip\", data=tips, ci=\"sd\")"
   ]
  },
  {
   "cell_type": "code",
   "execution_count": 12,
   "metadata": {},
   "outputs": [
    {
     "data": {
      "image/png": "[encoded data removed]",
      "text/plain": [
       "<Figure size 432x288 with 1 Axes>"
      ]
     },
     "metadata": {},
     "output_type": "display_data"
    }
   ],
   "source": [
    "#Add “caps” to the error bars:\n",
    "\n",
    "ax = sns.barplot(x=\"day\", y=\"tip\", data=tips, capsize=.2)"
   ]
  },
  {
   "cell_type": "code",
   "execution_count": 13,
   "metadata": {},
   "outputs": [
    {
     "data": {
      "image/png": "[encoded data removed]",
      "text/plain": [
       "<Figure size 432x288 with 1 Axes>"
      ]
     },
     "metadata": {},
     "output_type": "display_data"
    }
   ],
   "source": [
    "#Use a different color palette for the bars:\n",
    "\n",
    "ax = sns.barplot(x=\"size\", y=\"total_bill\", data=tips,\n",
    "\n",
    "                 palette=\"Blues_d\")"
   ]
  },
  {
   "cell_type": "code",
   "execution_count": 14,
   "metadata": {},
   "outputs": [
    {
     "data": {
      "image/png": "[encoded data removed]",
      "text/plain": [
       "<Figure size 432x288 with 1 Axes>"
      ]
     },
     "metadata": {},
     "output_type": "display_data"
    }
   ],
   "source": [
    "#Use hue without changing bar position or width:\n",
    "\n",
    "tips[\"weekend\"] = tips[\"day\"].isin([\"Sat\", \"Sun\"])\n",
    "\n",
    "ax = sns.barplot(x=\"day\", y=\"total_bill\", hue=\"weekend\",\n",
    "\n",
    "                 data=tips, dodge=False)"
   ]
  },
  {
   "cell_type": "code",
   "execution_count": null,
   "metadata": {},
   "outputs": [],
   "source": [
    "#Plot all bars in a single color:\n",
    "\n",
    "ax = sns.barplot(x=\"size\", y=\"total_bill\", data=tips,\n",
    "\n",
    "                 color=\"salmon\", saturation=.5)"
   ]
  },
  {
   "cell_type": "code",
   "execution_count": null,
   "metadata": {},
   "outputs": [],
   "source": [
    "#Use catplot() to combine a barplot() and a FacetGrid. This allows grouping within \n",
    "#additional categorical variables. Using catplot() is safer than using FacetGrid directly, \n",
    "#as it ensures synchronization of variable order across facets:\n",
    "\n",
    "g = sns.catplot(x=\"sex\", y=\"total_bill\",\n",
    "                hue=\"smoker\", col=\"time\",\n",
    "                data=tips, kind=\"bar\",\n",
    "                height=4, aspect=.7);"
   ]
  },
  {
   "cell_type": "code",
   "execution_count": 3,
   "metadata": {},
   "outputs": [],
   "source": [
    "# Sample\n",
    "df = pd.DataFrame({'Country':['India','US','Japan','China','Australia'],'GoodWill':[2000,1600,1700,1500,1200]})"
   ]
  },
  {
   "cell_type": "code",
   "execution_count": null,
   "metadata": {},
   "outputs": [],
   "source": [
    "#fig = plt.figure(figsize=(10,12), dpi=100)"
   ]
  },
  {
   "cell_type": "code",
   "execution_count": 4,
   "metadata": {},
   "outputs": [
    {
     "data": {
      "text/html": [
       "<div>\n",
       "<style scoped>\n",
       "    .dataframe tbody tr th:only-of-type {\n",
       "        vertical-align: middle;\n",
       "    }\n",
       "\n",
       "    .dataframe tbody tr th {\n",
       "        vertical-align: top;\n",
       "    }\n",
       "\n",
       "    .dataframe thead th {\n",
       "        text-align: right;\n",
       "    }\n",
       "</style>\n",
       "<table border=\"1\" class=\"dataframe\">\n",
       "  <thead>\n",
       "    <tr style=\"text-align: right;\">\n",
       "      <th></th>\n",
       "      <th>Country</th>\n",
       "      <th>GoodWill</th>\n",
       "    </tr>\n",
       "  </thead>\n",
       "  <tbody>\n",
       "    <tr>\n",
       "      <th>0</th>\n",
       "      <td>India</td>\n",
       "      <td>2000</td>\n",
       "    </tr>\n",
       "    <tr>\n",
       "      <th>1</th>\n",
       "      <td>US</td>\n",
       "      <td>1600</td>\n",
       "    </tr>\n",
       "    <tr>\n",
       "      <th>2</th>\n",
       "      <td>Japan</td>\n",
       "      <td>1700</td>\n",
       "    </tr>\n",
       "    <tr>\n",
       "      <th>3</th>\n",
       "      <td>China</td>\n",
       "      <td>1500</td>\n",
       "    </tr>\n",
       "    <tr>\n",
       "      <th>4</th>\n",
       "      <td>Australia</td>\n",
       "      <td>1200</td>\n",
       "    </tr>\n",
       "  </tbody>\n",
       "</table>\n",
       "</div>"
      ],
      "text/plain": [
       "     Country  GoodWill\n",
       "0      India      2000\n",
       "1         US      1600\n",
       "2      Japan      1700\n",
       "3      China      1500\n",
       "4  Australia      1200"
      ]
     },
     "execution_count": 4,
     "metadata": {},
     "output_type": "execute_result"
    }
   ],
   "source": [
    "df.head()"
   ]
  },
  {
   "cell_type": "code",
   "execution_count": 5,
   "metadata": {},
   "outputs": [
    {
     "data": {
      "image/png": "[encoded data removed]",
      "text/plain": [
       "<Figure size 432x288 with 1 Axes>"
      ]
     },
     "metadata": {
      "needs_background": "light"
     },
     "output_type": "display_data"
    }
   ],
   "source": [
    "ax = sns.barplot( x = \"GoodWill\", y = \"Country\", data = df, palette =\"GnBu_d\")"
   ]
  },
  {
   "cell_type": "code",
   "execution_count": 16,
   "metadata": {},
   "outputs": [],
   "source": [
    "initialx=0\n",
    "for p in ax.patches:\n",
    "    ax.text(p.get_width(),initialx+p.get_height()/1,'{:1.0f}'.format(p.get_width()))\n",
    "    initialx +=1\n",
    "    #print(\"Initialx\",initialx)"
   ]
  },
  {
   "cell_type": "code",
   "execution_count": 17,
   "metadata": {
    "colab": {},
    "colab_type": "code",
    "id": "88DvUZX29p2Q"
   },
   "outputs": [],
   "source": [
    "#reading data\n",
    "data = pd.read_csv('datasets\\churn_prediction.csv')"
   ]
  },
  {
   "cell_type": "code",
   "execution_count": 18,
   "metadata": {
    "colab": {},
    "colab_type": "code",
    "id": "fEbSoFsu9p2c",
    "outputId": "887e74c7-98fb-452c-ddda-a43355964a81"
   },
   "outputs": [
    {
     "data": {
      "text/html": [
       "<div>\n",
       "<style scoped>\n",
       "    .dataframe tbody tr th:only-of-type {\n",
       "        vertical-align: middle;\n",
       "    }\n",
       "\n",
       "    .dataframe tbody tr th {\n",
       "        vertical-align: top;\n",
       "    }\n",
       "\n",
       "    .dataframe thead th {\n",
       "        text-align: right;\n",
       "    }\n",
       "</style>\n",
       "<table border=\"1\" class=\"dataframe\">\n",
       "  <thead>\n",
       "    <tr style=\"text-align: right;\">\n",
       "      <th></th>\n",
       "      <th>customer_id</th>\n",
       "      <th>vintage</th>\n",
       "      <th>age</th>\n",
       "      <th>gender</th>\n",
       "      <th>dependents</th>\n",
       "      <th>occupation</th>\n",
       "      <th>city</th>\n",
       "      <th>customer_nw_category</th>\n",
       "      <th>branch_code</th>\n",
       "      <th>current_balance</th>\n",
       "      <th>...</th>\n",
       "      <th>average_monthly_balance_prevQ</th>\n",
       "      <th>average_monthly_balance_prevQ2</th>\n",
       "      <th>current_month_credit</th>\n",
       "      <th>previous_month_credit</th>\n",
       "      <th>current_month_debit</th>\n",
       "      <th>previous_month_debit</th>\n",
       "      <th>current_month_balance</th>\n",
       "      <th>previous_month_balance</th>\n",
       "      <th>churn</th>\n",
       "      <th>last_transaction</th>\n",
       "    </tr>\n",
       "  </thead>\n",
       "  <tbody>\n",
       "    <tr>\n",
       "      <th>0</th>\n",
       "      <td>1</td>\n",
       "      <td>2101</td>\n",
       "      <td>66</td>\n",
       "      <td>Male</td>\n",
       "      <td>0.0</td>\n",
       "      <td>self_employed</td>\n",
       "      <td>187.0</td>\n",
       "      <td>2</td>\n",
       "      <td>755</td>\n",
       "      <td>1458.71</td>\n",
       "      <td>...</td>\n",
       "      <td>1458.71</td>\n",
       "      <td>1449.07</td>\n",
       "      <td>0.20</td>\n",
       "      <td>0.20</td>\n",
       "      <td>0.20</td>\n",
       "      <td>0.20</td>\n",
       "      <td>1458.71</td>\n",
       "      <td>1458.71</td>\n",
       "      <td>0</td>\n",
       "      <td>2019-05-21</td>\n",
       "    </tr>\n",
       "    <tr>\n",
       "      <th>1</th>\n",
       "      <td>2</td>\n",
       "      <td>2348</td>\n",
       "      <td>35</td>\n",
       "      <td>Male</td>\n",
       "      <td>0.0</td>\n",
       "      <td>self_employed</td>\n",
       "      <td>NaN</td>\n",
       "      <td>2</td>\n",
       "      <td>3214</td>\n",
       "      <td>5390.37</td>\n",
       "      <td>...</td>\n",
       "      <td>7799.26</td>\n",
       "      <td>12419.41</td>\n",
       "      <td>0.56</td>\n",
       "      <td>0.56</td>\n",
       "      <td>5486.27</td>\n",
       "      <td>100.56</td>\n",
       "      <td>6496.78</td>\n",
       "      <td>8787.61</td>\n",
       "      <td>0</td>\n",
       "      <td>2019-11-01</td>\n",
       "    </tr>\n",
       "    <tr>\n",
       "      <th>2</th>\n",
       "      <td>4</td>\n",
       "      <td>2194</td>\n",
       "      <td>31</td>\n",
       "      <td>Male</td>\n",
       "      <td>0.0</td>\n",
       "      <td>salaried</td>\n",
       "      <td>146.0</td>\n",
       "      <td>2</td>\n",
       "      <td>41</td>\n",
       "      <td>3913.16</td>\n",
       "      <td>...</td>\n",
       "      <td>4910.17</td>\n",
       "      <td>2815.94</td>\n",
       "      <td>0.61</td>\n",
       "      <td>0.61</td>\n",
       "      <td>6046.73</td>\n",
       "      <td>259.23</td>\n",
       "      <td>5006.28</td>\n",
       "      <td>5070.14</td>\n",
       "      <td>0</td>\n",
       "      <td>NaT</td>\n",
       "    </tr>\n",
       "    <tr>\n",
       "      <th>3</th>\n",
       "      <td>5</td>\n",
       "      <td>2329</td>\n",
       "      <td>90</td>\n",
       "      <td>NaN</td>\n",
       "      <td>NaN</td>\n",
       "      <td>self_employed</td>\n",
       "      <td>1020.0</td>\n",
       "      <td>2</td>\n",
       "      <td>582</td>\n",
       "      <td>2291.91</td>\n",
       "      <td>...</td>\n",
       "      <td>2084.54</td>\n",
       "      <td>1006.54</td>\n",
       "      <td>0.47</td>\n",
       "      <td>0.47</td>\n",
       "      <td>0.47</td>\n",
       "      <td>2143.33</td>\n",
       "      <td>2291.91</td>\n",
       "      <td>1669.79</td>\n",
       "      <td>1</td>\n",
       "      <td>2019-08-06</td>\n",
       "    </tr>\n",
       "    <tr>\n",
       "      <th>4</th>\n",
       "      <td>6</td>\n",
       "      <td>1579</td>\n",
       "      <td>42</td>\n",
       "      <td>Male</td>\n",
       "      <td>2.0</td>\n",
       "      <td>self_employed</td>\n",
       "      <td>1494.0</td>\n",
       "      <td>3</td>\n",
       "      <td>388</td>\n",
       "      <td>927.72</td>\n",
       "      <td>...</td>\n",
       "      <td>1643.31</td>\n",
       "      <td>1871.12</td>\n",
       "      <td>0.33</td>\n",
       "      <td>714.61</td>\n",
       "      <td>588.62</td>\n",
       "      <td>1538.06</td>\n",
       "      <td>1157.15</td>\n",
       "      <td>1677.16</td>\n",
       "      <td>1</td>\n",
       "      <td>2019-11-03</td>\n",
       "    </tr>\n",
       "  </tbody>\n",
       "</table>\n",
       "<p>5 rows × 21 columns</p>\n",
       "</div>"
      ],
      "text/plain": [
       "   customer_id  vintage  age gender  dependents     occupation    city  \\\n",
       "0            1     2101   66   Male         0.0  self_employed   187.0   \n",
       "1            2     2348   35   Male         0.0  self_employed     NaN   \n",
       "2            4     2194   31   Male         0.0       salaried   146.0   \n",
       "3            5     2329   90    NaN         NaN  self_employed  1020.0   \n",
       "4            6     1579   42   Male         2.0  self_employed  1494.0   \n",
       "\n",
       "   customer_nw_category  branch_code  current_balance  ...  \\\n",
       "0                     2          755          1458.71  ...   \n",
       "1                     2         3214          5390.37  ...   \n",
       "2                     2           41          3913.16  ...   \n",
       "3                     2          582          2291.91  ...   \n",
       "4                     3          388           927.72  ...   \n",
       "\n",
       "   average_monthly_balance_prevQ  average_monthly_balance_prevQ2  \\\n",
       "0                        1458.71                         1449.07   \n",
       "1                        7799.26                        12419.41   \n",
       "2                        4910.17                         2815.94   \n",
       "3                        2084.54                         1006.54   \n",
       "4                        1643.31                         1871.12   \n",
       "\n",
       "   current_month_credit  previous_month_credit  current_month_debit  \\\n",
       "0                  0.20                   0.20                 0.20   \n",
       "1                  0.56                   0.56              5486.27   \n",
       "2                  0.61                   0.61              6046.73   \n",
       "3                  0.47                   0.47                 0.47   \n",
       "4                  0.33                 714.61               588.62   \n",
       "\n",
       "   previous_month_debit  current_month_balance  previous_month_balance  churn  \\\n",
       "0                  0.20                1458.71                 1458.71      0   \n",
       "1                100.56                6496.78                 8787.61      0   \n",
       "2                259.23                5006.28                 5070.14      0   \n",
       "3               2143.33                2291.91                 1669.79      1   \n",
       "4               1538.06                1157.15                 1677.16      1   \n",
       "\n",
       "   last_transaction  \n",
       "0        2019-05-21  \n",
       "1        2019-11-01  \n",
       "2               NaT  \n",
       "3        2019-08-06  \n",
       "4        2019-11-03  \n",
       "\n",
       "[5 rows x 21 columns]"
      ]
     },
     "execution_count": 18,
     "metadata": {},
     "output_type": "execute_result"
    }
   ],
   "source": [
    "#first look\n",
    "data.head()"
   ]
  },
  {
   "cell_type": "code",
   "execution_count": 19,
   "metadata": {
    "colab": {},
    "colab_type": "code",
    "id": "hyVKFcgP9p2m",
    "outputId": "cc55292e-3c22-47c0-b8e3-89bd01d2d815"
   },
   "outputs": [
    {
     "data": {
      "text/plain": [
       "Index(['customer_id', 'vintage', 'age', 'gender', 'dependents', 'occupation',\n",
       "       'city', 'customer_nw_category', 'branch_code', 'current_balance',\n",
       "       'previous_month_end_balance', 'average_monthly_balance_prevQ',\n",
       "       'average_monthly_balance_prevQ2', 'current_month_credit',\n",
       "       'previous_month_credit', 'current_month_debit', 'previous_month_debit',\n",
       "       'current_month_balance', 'previous_month_balance', 'churn',\n",
       "       'last_transaction'],\n",
       "      dtype='object')"
      ]
     },
     "execution_count": 19,
     "metadata": {},
     "output_type": "execute_result"
    }
   ],
   "source": [
    "#features of the dataset\n",
    "data.columns"
   ]
  },
  {
   "cell_type": "code",
   "execution_count": 20,
   "metadata": {
    "colab": {},
    "colab_type": "code",
    "id": "tybA2kJd9p2u",
    "outputId": "96a146ba-bef1-4be0-ec21-00d56752f65b"
   },
   "outputs": [
    {
     "data": {
      "text/plain": [
       "(28382, 21)"
      ]
     },
     "execution_count": 20,
     "metadata": {},
     "output_type": "execute_result"
    }
   ],
   "source": [
    "#shape of the data\n",
    "data.shape"
   ]
  },
  {
   "cell_type": "markdown",
   "metadata": {
    "colab_type": "text",
    "id": "QMuV8xO79p22"
   },
   "source": [
    "# Basics"
   ]
  },
  {
   "cell_type": "code",
   "execution_count": 21,
   "metadata": {
    "colab": {},
    "colab_type": "code",
    "id": "DXuvFQZ89p24",
    "outputId": "39e05e11-278d-4e6e-f9bb-6705a1c2ab5e",
    "scrolled": true
   },
   "outputs": [
    {
     "data": {
      "text/plain": [
       "customer_id                          0\n",
       "vintage                              0\n",
       "age                                  0\n",
       "gender                             525\n",
       "dependents                        2463\n",
       "occupation                          80\n",
       "city                               803\n",
       "customer_nw_category                 0\n",
       "branch_code                          0\n",
       "current_balance                      0\n",
       "previous_month_end_balance           0\n",
       "average_monthly_balance_prevQ        0\n",
       "average_monthly_balance_prevQ2       0\n",
       "current_month_credit                 0\n",
       "previous_month_credit                0\n",
       "current_month_debit                  0\n",
       "previous_month_debit                 0\n",
       "current_month_balance                0\n",
       "previous_month_balance               0\n",
       "churn                                0\n",
       "last_transaction                     0\n",
       "dtype: int64"
      ]
     },
     "execution_count": 21,
     "metadata": {},
     "output_type": "execute_result"
    }
   ],
   "source": [
    "# null values\n",
    "data.isna().sum()"
   ]
  },
  {
   "cell_type": "code",
   "execution_count": 22,
   "metadata": {},
   "outputs": [
    {
     "data": {
      "text/plain": [
       "customer_id                         int64\n",
       "vintage                             int64\n",
       "age                                 int64\n",
       "gender                             object\n",
       "dependents                        float64\n",
       "occupation                         object\n",
       "city                              float64\n",
       "customer_nw_category                int64\n",
       "branch_code                         int64\n",
       "current_balance                   float64\n",
       "previous_month_end_balance        float64\n",
       "average_monthly_balance_prevQ     float64\n",
       "average_monthly_balance_prevQ2    float64\n",
       "current_month_credit              float64\n",
       "previous_month_credit             float64\n",
       "current_month_debit               float64\n",
       "previous_month_debit              float64\n",
       "current_month_balance             float64\n",
       "previous_month_balance            float64\n",
       "churn                               int64\n",
       "last_transaction                   object\n",
       "dtype: object"
      ]
     },
     "execution_count": 22,
     "metadata": {},
     "output_type": "execute_result"
    }
   ],
   "source": [
    "data.dtypes"
   ]
  },
  {
   "cell_type": "code",
   "execution_count": 23,
   "metadata": {},
   "outputs": [
    {
     "data": {
      "text/plain": [
       "Male      16548\n",
       "Female    11309\n",
       "Name: gender, dtype: int64"
      ]
     },
     "execution_count": 23,
     "metadata": {},
     "output_type": "execute_result"
    }
   ],
   "source": [
    "#distribution of gender\n",
    "data['gender'].value_counts()"
   ]
  },
  {
   "cell_type": "markdown",
   "metadata": {
    "colab_type": "text",
    "id": "ojpRzftb9p2_"
   },
   "source": [
    "Number of Male Customers is greater than Number of Female Customers in our data"
   ]
  },
  {
   "cell_type": "code",
   "execution_count": 24,
   "metadata": {
    "colab": {},
    "colab_type": "code",
    "id": "eccqoWIk9p3B",
    "outputId": "fdb85a47-1bf5-42a4-db40-7e113ee21c3d"
   },
   "outputs": [
    {
     "data": {
      "text/plain": [
       "Male      0.594034\n",
       "Female    0.405966\n",
       "Name: gender, dtype: float64"
      ]
     },
     "execution_count": 24,
     "metadata": {},
     "output_type": "execute_result"
    }
   ],
   "source": [
    "#\n",
    "data['gender'].value_counts()/sum(data['gender'].value_counts().values)"
   ]
  },
  {
   "cell_type": "code",
   "execution_count": 25,
   "metadata": {
    "colab": {},
    "colab_type": "code",
    "id": "vE-vGe1u9p3G",
    "outputId": "a4202e5f-5e23-4560-9fee-5d0b47610510"
   },
   "outputs": [
    {
     "data": {
      "text/plain": [
       "Male      0.594034\n",
       "Female    0.405966\n",
       "Name: gender, dtype: float64"
      ]
     },
     "execution_count": 25,
     "metadata": {},
     "output_type": "execute_result"
    }
   ],
   "source": [
    "data['gender'].value_counts(normalize=True)"
   ]
  },
  {
   "cell_type": "code",
   "execution_count": 26,
   "metadata": {},
   "outputs": [
    {
     "data": {
      "text/plain": [
       "Male      16548\n",
       "Female    11309\n",
       "Name: gender, dtype: int64"
      ]
     },
     "execution_count": 26,
     "metadata": {},
     "output_type": "execute_result"
    }
   ],
   "source": [
    "data['gender'].value_counts(normalize=False)"
   ]
  },
  {
   "cell_type": "markdown",
   "metadata": {
    "colab_type": "text",
    "id": "UVx5_Sq49p3M"
   },
   "source": [
    "Approximately 60% Customers are Male Customers and 40% Customers are female Customers"
   ]
  },
  {
   "cell_type": "code",
   "execution_count": 27,
   "metadata": {
    "colab": {},
    "colab_type": "code",
    "id": "cqoxfqiQ9p3N",
    "outputId": "c76d1ca7-5dd0-4271-8fb6-ff749b69847d"
   },
   "outputs": [
    {
     "data": {
      "text/plain": [
       "5"
      ]
     },
     "execution_count": 27,
     "metadata": {},
     "output_type": "execute_result"
    }
   ],
   "source": [
    "data['occupation'].nunique()"
   ]
  },
  {
   "cell_type": "code",
   "execution_count": 28,
   "metadata": {},
   "outputs": [
    {
     "data": {
      "text/plain": [
       "array(['self_employed', 'salaried', 'retired', 'student', nan, 'company'],\n",
       "      dtype=object)"
      ]
     },
     "execution_count": 28,
     "metadata": {},
     "output_type": "execute_result"
    }
   ],
   "source": [
    "data['occupation'].unique()"
   ]
  },
  {
   "cell_type": "code",
   "execution_count": 29,
   "metadata": {},
   "outputs": [
    {
     "data": {
      "text/plain": [
       "dtype('O')"
      ]
     },
     "execution_count": 29,
     "metadata": {},
     "output_type": "execute_result"
    }
   ],
   "source": [
    "data['occupation'].dtypes"
   ]
  },
  {
   "cell_type": "markdown",
   "metadata": {
    "colab_type": "text",
    "id": "CtNiOvZJ9p3U"
   },
   "source": [
    "There are total 5 unique categories for occupation feature in our data"
   ]
  },
  {
   "cell_type": "code",
   "execution_count": 30,
   "metadata": {
    "colab": {},
    "colab_type": "code",
    "id": "Vj8Zf5B49p3V",
    "outputId": "1a399dbe-bb4c-4fca-ae40-79426f2f7294"
   },
   "outputs": [
    {
     "data": {
      "text/plain": [
       "0    self_employed\n",
       "dtype: object"
      ]
     },
     "execution_count": 30,
     "metadata": {},
     "output_type": "execute_result"
    }
   ],
   "source": [
    "data['occupation'].mode()"
   ]
  },
  {
   "cell_type": "markdown",
   "metadata": {
    "colab_type": "text",
    "id": "hMdIOioG9p3c"
   },
   "source": [
    "* For occupation category, Most number of customers will follow __'Self employed'__ occupation\n",
    "* For occupation category, Mode is self employed which is represented by 0 in our dataset"
   ]
  },
  {
   "cell_type": "code",
   "execution_count": 31,
   "metadata": {
    "colab": {},
    "colab_type": "code",
    "id": "AWep1i149p3d",
    "outputId": "398f3f90-5b00-4bd3-ca75-6d85a76b5a90"
   },
   "outputs": [
    {
     "data": {
      "text/plain": [
       "self_employed    17476\n",
       "salaried          6704\n",
       "student           2058\n",
       "retired           2024\n",
       "company             40\n",
       "Name: occupation, dtype: int64"
      ]
     },
     "execution_count": 31,
     "metadata": {},
     "output_type": "execute_result"
    }
   ],
   "source": [
    "data['occupation'].value_counts()"
   ]
  },
  {
   "cell_type": "markdown",
   "metadata": {
    "colab_type": "text",
    "id": "ucbS3eYj9p3j"
   },
   "source": [
    "* Most customer follow Self Employed Profession in our dataset\n",
    "* Very Few Customers follow Company Profession in our dataset"
   ]
  },
  {
   "cell_type": "markdown",
   "metadata": {
    "colab_type": "text",
    "id": "Y4Q4FAY-9p3q"
   },
   "source": [
    "# Bernoulli "
   ]
  },
  {
   "cell_type": "code",
   "execution_count": null,
   "metadata": {},
   "outputs": [],
   "source": [
    "# Barplot of Male & Female\n",
    "\n",
    "plt.figure(dpi = 140)\n",
    "\n",
    "x=  data['gender'].value_counts().index\n",
    "y = data['gender'].value_counts().values\n",
    "sns.barplot(x,y)\n",
    "plt.xlabel(\" Gender of Customers\")\n",
    "plt.ylabel('Value Counts')\n",
    "plt.title(\"Bar Plot for Gender of Customers\")\n",
    "plt.show()"
   ]
  },
  {
   "cell_type": "code",
   "execution_count": null,
   "metadata": {},
   "outputs": [],
   "source": [
    "# Barplot of Churn Male & Female\n",
    "\n",
    "plt.figure(dpi = 140)\n",
    "\n",
    "x=  data[data['churn']==1]['gender'].value_counts().index\n",
    "y = data[data['churn']==1]['gender'].value_counts().values\n",
    "sns.barplot(x,y)\n",
    "plt.xlabel(\" Gender of Customers\")\n",
    "plt.ylabel('Value Counts')\n",
    "plt.title(\"Bar Plot for Gender of Customers\")\n",
    "plt.show()"
   ]
  },
  {
   "cell_type": "code",
   "execution_count": null,
   "metadata": {},
   "outputs": [],
   "source": [
    "print(data[data['churn']==1]['gender'].value_counts())\n",
    "#print(data[data['churn']==1]['gender'].value_counts().values)"
   ]
  },
  {
   "cell_type": "markdown",
   "metadata": {
    "colab_type": "text",
    "id": "G55FSZes9p3x"
   },
   "source": [
    "There are more Male Customers who are churning than the female customers who are churning"
   ]
  },
  {
   "cell_type": "code",
   "execution_count": null,
   "metadata": {
    "colab": {},
    "colab_type": "code",
    "id": "KmIir_vd9p3z",
    "outputId": "c291558b-9fed-4cd9-ce6c-bb84722cd384"
   },
   "outputs": [],
   "source": [
    "plt.figure(dpi = 140)\n",
    "\n",
    "x=data[data['churn']==1]['gender'].value_counts().index\n",
    "y=data[data['churn']==1]['gender'].value_counts().values\n",
    "\n",
    "ax = sns.barplot(x, y, orient = 'v')\n",
    "plt.title('Distribution of Gender')\n",
    "plt.xlabel('Gender')\n",
    "for p in ax.patches:\n",
    "    ax.annotate('{:1.0f}'.format(p.get_height()), (p.get_x()+0.3, p.get_height()),\n",
    "             ha='center', va='bottom',\n",
    "             color= 'black')\n",
    "        \n",
    "       \n",
    "    plt.show()"
   ]
  },
  {
   "cell_type": "code",
   "execution_count": 10,
   "metadata": {},
   "outputs": [
    {
     "data": {
      "image/png": "[encoded data removed]",
      "text/plain": [
       "<Figure size 840x560 with 1 Axes>"
      ]
     },
     "metadata": {
      "needs_background": "light"
     },
     "output_type": "display_data"
    }
   ],
   "source": [
    "plt.figure(dpi = 140)\n",
    "\n",
    "x=data[data['churn']==1]['gender'].value_counts().index\n",
    "y=data[data['churn']==1]['gender'].value_counts().values\n",
    "\n",
    "ax = sns.barplot(x, y, orient = 'v')\n",
    "plt.title('Distribution of Gender')\n",
    "plt.xlabel('Gender')\n",
    "for p in ax.patches:\n",
    "    ax.annotate        \n",
    "       \n",
    "    plt.show()"
   ]
  },
  {
   "cell_type": "markdown",
   "metadata": {
    "colab_type": "text",
    "id": "-WeI-1aE9p35"
   },
   "source": [
    "3169 Male customers are churning in compare to 1985 female customers."
   ]
  },
  {
   "cell_type": "code",
   "execution_count": null,
   "metadata": {
    "colab": {},
    "colab_type": "code",
    "id": "zDlL2NpK9p36",
    "outputId": "cd7b6768-1b60-47ee-8975-d72c9ee9aa07"
   },
   "outputs": [],
   "source": [
    "plt.figure(dpi = 140)\n",
    "ax = sns.barplot(x=data[data['churn']==1]['gender'].value_counts().index, y = data[data['churn']==1]['gender'].value_counts(normalize=True).values, orient = 'v')\n",
    "plt.title('Distribution of Gender')\n",
    "plt.xlabel('Gender')\n",
    "\n",
    "for p in ax.patches:\n",
    "        ax.annotate('{:1.5f}'.format(p.get_height()), (p.get_x()+0.3, p.get_height()),\n",
    "                    ha='center', va='bottom',\n",
    "                    color= 'black')\n",
    "        \n",
    "plt.show()"
   ]
  },
  {
   "cell_type": "markdown",
   "metadata": {
    "colab_type": "text",
    "id": "FMUY8Cq_9p4B"
   },
   "source": [
    "* Around 61% of Churning Customers are Male Customers in our Dataset\n",
    "* Around 39% of Churning Customers are female Customers in our Dataset"
   ]
  },
  {
   "cell_type": "markdown",
   "metadata": {
    "colab_type": "text",
    "id": "YNG6JE419p4C"
   },
   "source": [
    "# Categorical"
   ]
  },
  {
   "cell_type": "code",
   "execution_count": null,
   "metadata": {
    "colab": {},
    "colab_type": "code",
    "id": "uIqLysGg9p4C",
    "outputId": "7f6ab6aa-6fa7-401d-b081-692b04536608"
   },
   "outputs": [],
   "source": [
    "plt.figure(dpi = 140)\n",
    "\n",
    "x=data[data['churn']==1]['occupation'].value_counts().index\n",
    "y = data[data['churn']==1]['occupation'].value_counts().values\n",
    "\n",
    "sns.barplot(x, y)\n",
    "plt.xlabel(\"Occupation of Customers\")\n",
    "plt.ylabel('Value Counts')\n",
    "plt.title(\"Bar Plot for Occupation of Customers\")\n",
    "plt.show()\n"
   ]
  },
  {
   "cell_type": "markdown",
   "metadata": {
    "colab_type": "text",
    "id": "WfdcHzgt9p4H"
   },
   "source": [
    "* Highest Number of Customers are churning from self employed profession followed by salaried.\n",
    "* Number of Customers who are churning from Student and retired category are close to each other.\n",
    "* Company as a profession has the least number of customers who are churning"
   ]
  },
  {
   "cell_type": "code",
   "execution_count": null,
   "metadata": {
    "colab": {},
    "colab_type": "code",
    "id": "4rjJN1Xr9p4J",
    "outputId": "f0d92208-f0f4-4eb9-d170-0e7dd897ffa5"
   },
   "outputs": [],
   "source": [
    "plt.figure(dpi = 140)\n",
    "\n",
    "x=data[data['churn']==1]['occupation'].value_counts().index\n",
    "y = data[data['churn']==1]['occupation'].value_counts().values\n",
    "\n",
    "ax = sns.barplot( x,y , orient = 'v')\n",
    "plt.title('Distribution of Occupation')\n",
    "plt.xlabel('Occupation')\n",
    "\n",
    "for p in ax.patches:\n",
    "        ax.annotate('{:.0f}'.format(p.get_height()), (p.get_x()+0.3, p.get_height()),\n",
    "                    ha='center', va='bottom',\n",
    "                    color= 'black')\n",
    "        \n",
    "plt.show()"
   ]
  },
  {
   "cell_type": "markdown",
   "metadata": {
    "colab_type": "text",
    "id": "IMS-9jys9p4N"
   },
   "source": [
    "* 3467 Customers are churning from self employed category\n",
    "* 1147 customers are churning from salaried category\n",
    "* 324 and 305 customers are churning from student and retired category\n",
    "* Only 4 customers are churning from company profession"
   ]
  },
  {
   "cell_type": "code",
   "execution_count": 16,
   "metadata": {
    "colab": {},
    "colab_type": "code",
    "id": "TENbBgMW9p4P",
    "outputId": "68f4a065-65bd-48d8-ff65-344e46c641e3"
   },
   "outputs": [
    {
     "data": {
      "image/png": "[encoded data removed]",
      "text/plain": [
       "<Figure size 840x560 with 1 Axes>"
      ]
     },
     "metadata": {
      "needs_background": "light"
     },
     "output_type": "display_data"
    }
   ],
   "source": [
    "plt.figure(dpi = 140)\n",
    "\n",
    "x=data[data['churn']==1]['occupation'].value_counts().index\n",
    "y = data[data['churn']==1]['occupation'].value_counts(normalize=True).values\n",
    "\n",
    "ax = sns.barplot(x,y , orient = 'v')\n",
    "plt.title('Distribution of Occupation')\n",
    "plt.xlabel('Occupation')\n",
    "\n",
    "for p in ax.patches:\n",
    "        ax.annotate('{:1.5f}'.format(p.get_height()), (p.get_x()+0.3, p.get_height()),\n",
    "                    ha='center', va='bottom',\n",
    "                    color= 'red')\n",
    "        \n",
    "        #ax.annotate('{:1.5f}'.format(p.get_height()), (p.get_x()+0.3, p.get_height()),\n",
    "        #            ha='center', va='bottom',\n",
    "        #            color= 'black')\n",
    "        \n",
    "plt.show()"
   ]
  },
  {
   "cell_type": "markdown",
   "metadata": {
    "colab_type": "text",
    "id": "Llb1Dc5b9p4U"
   },
   "source": [
    "* Almost 66 % of the customers who are churning belong to self employed profession\n",
    "* Followed by 21% of customers who are churning belong to salaried profession"
   ]
  }
 ],
 "metadata": {
  "colab": {
   "name": "Discrete.ipynb",
   "provenance": []
  },
  "kernelspec": {
   "display_name": "Python 3",
   "language": "python",
   "name": "python3"
  },
  "language_info": {
   "codemirror_mode": {
    "name": "ipython",
    "version": 3
   },
   "file_extension": ".py",
   "mimetype": "text/x-python",
   "name": "python",
   "nbconvert_exporter": "python",
   "pygments_lexer": "ipython3",
   "version": "3.6.12"
  }
 },
 "nbformat": 4,
 "nbformat_minor": 1
}
