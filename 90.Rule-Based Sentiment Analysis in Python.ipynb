{
 "cells": [
  {
   "cell_type": "markdown",
   "id": "sticky-motor",
   "metadata": {},
   "source": [
    "# What is Sentiment Analysis?\n",
    "\n",
    "# Sentiment Analysis (also known as opinion mining or emotion # AI) is a sub-field of NLP that # measures the inclination of # people’s opinions (Positive/Negative/Neutral) within the\n",
    "unstructured text.\n",
    "\n",
    "Sentiment Analysis can be performed using two approaches: Rule-based, Machine Learning based.\n",
    "Few applications of Sentiment Analysis\n",
    "\n",
    "    Market analysis\n",
    "    Social media monitoring\n",
    "    Customer feedback analysis – Brand sentiment or reputation analysis\n",
    "    Market research\n",
    "\n",
    "What is Natural Language Processing(NLP)?\n",
    "\n",
    "Natural Language is the way we, humans, communicate with each other. It could be Speech or Text. NLP is the automatic manipulation of the natural language by software. NLP is a higher-level term and is the combination of Natural Language Understanding (NLU) and Natural Language Generation  (NLG).\n",
    "\n",
    "    NLP = NLU + NLG\n",
    "\n",
    "Some of the Python Natural Language Processing (NLP) libraries are:\n",
    "\n",
    "    Natural Language Toolkit (NLTK)\n",
    "    TextBlob\n",
    "    SpaCy\n",
    "    Gensim\n",
    "    CoreNLP\n",
    "\n",
    "I hope we have got a basic understanding of the terms Sentiment Analysis, NLP.\n",
    "\n",
    "This article focusses on the Rule-based approach of Sentiment Analysis\n",
    "\n",
    "Data preprocessing steps:\n",
    "\n",
    "    Cleaning the text\n",
    "    Tokenization\n",
    "    Enrichment – POS tagging\n",
    "    Stopwords removal\n",
    "    Obtaining the stem words\n",
    "\n",
    "\n",
    " "
   ]
  },
  {
   "cell_type": "code",
   "execution_count": null,
   "id": "separate-revision",
   "metadata": {},
   "outputs": [],
   "source": [
    "# https://www.analyticsvidhya.com/blog/2021/06/web-scraping-with-python-beautifulsoup-library/\n",
    "# https://www.consumeraffairs.com/food/dominos.html?page=2#scroll_to_reviews=true\n",
    "\n",
    "# Web Scraping With Python: BeautifulSoup Library\n",
    "\n",
    "base_url = \"https://www.consumeraffairs.com/food/dominos.html?page=\"\n",
    "query_parameter = \"?page=\"+str(i) # i represents the page number\n"
   ]
  },
  {
   "cell_type": "code",
   "execution_count": null,
   "id": "nervous-edinburgh",
   "metadata": {},
   "outputs": [],
   "source": [
    "!pip install pandas requests BeautifulSoup4"
   ]
  },
  {
   "cell_type": "code",
   "execution_count": 1,
   "id": "pressed-revolution",
   "metadata": {},
   "outputs": [],
   "source": [
    "import pandas as pd\n",
    "import requests\n",
    "from bs4 import BeautifulSoup as bs"
   ]
  },
  {
   "cell_type": "code",
   "execution_count": 2,
   "id": "informational-ordinance",
   "metadata": {},
   "outputs": [],
   "source": [
    "# Define the base URL\n",
    "base_url = \"https://www.consumeraffairs.com/food/dominos.html\"\n",
    "\n",
    "# Create an empty list to store all review\n",
    "all_pages_reviews =[]\n"
   ]
  },
  {
   "cell_type": "code",
   "execution_count": 3,
   "id": "silver-recruitment",
   "metadata": {},
   "outputs": [],
   "source": [
    "# Create a Scraper function\n",
    "def scraper():\n",
    "\t# Web scraping - fetching the reviews from the webpage using BeautifulSoup\n",
    "\n",
    "\t# loop through a range of page numbers \n",
    "\tfor i in range(1,6): # fetching reviews from five pages\n",
    "\n",
    "\t\t# Creating an empty list to store the reviews of each page\n",
    "\t\tpagewise_reviews = [] \n",
    "\n",
    "\t\t# Query parameter\n",
    "\t\tquery_parameter = \"?page=\"+str(i)\n",
    "\n",
    "\t\t# Constructing the URL\n",
    "\t\turl = base_url + query_parameter\n",
    "\t\t\n",
    "\t\t# Send HTTP request to the URL\n",
    "\t\tresponse = requests.get(url)\n",
    "\n",
    "\t\t# Create a soup object and parse the HTML page\n",
    "\t\tsoup = bs(response.content, 'html.parser') \n",
    "\n",
    "\t\t# Finding all the elements having reviews using class attribute\n",
    "\t\trev_div = soup.findAll(\"div\",attrs={\"class\",\"rvw-bd\"}) \n",
    "\n",
    "\t\t# loop through all the divs and append \n",
    "\t\tfor j in range(len(rev_div)):\n",
    "\t\t\t# finding all the p tags to fetch only the review text\n",
    "\t\t\tpagewise_reviews.append(rev_div[j].find(\"p\").text)\n",
    "\n",
    "\t\t# writing all the reviews into a list\n",
    "\t\tfor k in range(len(pagewise_reviews)):\n",
    "\t\t\tall_pages_reviews.append(pagewise_reviews[k]) \n",
    "\n",
    "\t# return the final list of reviews\n",
    "\treturn all_pages_reviews\n",
    "\n",
    "# Driver code\n",
    "reviews = scraper()"
   ]
  },
  {
   "cell_type": "code",
   "execution_count": 4,
   "id": "experimental-metro",
   "metadata": {},
   "outputs": [],
   "source": [
    "# Storing in a dataframe\n",
    "i = range(1, len(reviews)+1)\n",
    "reviews_df = pd.DataFrame({'review':reviews}, index=i)\n",
    "\n",
    "# Writing to a text file\n",
    "reviews_df.to_csv('datasets\\\\webreviews.txt', sep='\\t')"
   ]
  },
  {
   "cell_type": "code",
   "execution_count": 7,
   "id": "ideal-montgomery",
   "metadata": {},
   "outputs": [],
   "source": [
    "# Problem 2\n",
    "# https://www.analyticsvidhya.com/blog/2021/06/rule-based-sentiment-analysis-in-python/\n",
    "# Using Sentiment Analysis\n",
    "\n",
    "\n",
    "# Creating a pandas dataframe from reviews.txt file\n",
    "data = pd.read_csv('datasets\\\\webreviews.txt',sep='\\t')"
   ]
  },
  {
   "cell_type": "code",
   "execution_count": 8,
   "id": "elementary-things",
   "metadata": {},
   "outputs": [
    {
     "data": {
      "text/html": [
       "<div>\n",
       "<style scoped>\n",
       "    .dataframe tbody tr th:only-of-type {\n",
       "        vertical-align: middle;\n",
       "    }\n",
       "\n",
       "    .dataframe tbody tr th {\n",
       "        vertical-align: top;\n",
       "    }\n",
       "\n",
       "    .dataframe thead th {\n",
       "        text-align: right;\n",
       "    }\n",
       "</style>\n",
       "<table border=\"1\" class=\"dataframe\">\n",
       "  <thead>\n",
       "    <tr style=\"text-align: right;\">\n",
       "      <th></th>\n",
       "      <th>Unnamed: 0</th>\n",
       "      <th>review</th>\n",
       "    </tr>\n",
       "  </thead>\n",
       "  <tbody>\n",
       "    <tr>\n",
       "      <th>0</th>\n",
       "      <td>1</td>\n",
       "      <td>Omg they have the best gluten free pizza ever!...</td>\n",
       "    </tr>\n",
       "    <tr>\n",
       "      <th>1</th>\n",
       "      <td>2</td>\n",
       "      <td>Just another good experience with the Domino's...</td>\n",
       "    </tr>\n",
       "    <tr>\n",
       "      <th>2</th>\n",
       "      <td>3</td>\n",
       "      <td>Review for Dominos del Amo bl, Lakewood CA. Ve...</td>\n",
       "    </tr>\n",
       "    <tr>\n",
       "      <th>3</th>\n",
       "      <td>4</td>\n",
       "      <td>I called because my food was cold and not done...</td>\n",
       "    </tr>\n",
       "    <tr>\n",
       "      <th>4</th>\n",
       "      <td>5</td>\n",
       "      <td>OMG, hands down the best pizza I've had from D...</td>\n",
       "    </tr>\n",
       "    <tr>\n",
       "      <th>5</th>\n",
       "      <td>6</td>\n",
       "      <td>The location that was sending my pizza to make...</td>\n",
       "    </tr>\n",
       "    <tr>\n",
       "      <th>6</th>\n",
       "      <td>7</td>\n",
       "      <td>For the price is poor value. Delivery plus tip...</td>\n",
       "    </tr>\n",
       "    <tr>\n",
       "      <th>7</th>\n",
       "      <td>8</td>\n",
       "      <td>Versova, I have paid extra amount. When I ask ...</td>\n",
       "    </tr>\n",
       "    <tr>\n",
       "      <th>8</th>\n",
       "      <td>9</td>\n",
       "      <td>The Domino's pizza in Lomita Ca. 90717 on Waln...</td>\n",
       "    </tr>\n",
       "    <tr>\n",
       "      <th>9</th>\n",
       "      <td>10</td>\n",
       "      <td>I’m the last year or so they have added jalape...</td>\n",
       "    </tr>\n",
       "  </tbody>\n",
       "</table>\n",
       "</div>"
      ],
      "text/plain": [
       "   Unnamed: 0                                             review\n",
       "0           1  Omg they have the best gluten free pizza ever!...\n",
       "1           2  Just another good experience with the Domino's...\n",
       "2           3  Review for Dominos del Amo bl, Lakewood CA. Ve...\n",
       "3           4  I called because my food was cold and not done...\n",
       "4           5  OMG, hands down the best pizza I've had from D...\n",
       "5           6  The location that was sending my pizza to make...\n",
       "6           7  For the price is poor value. Delivery plus tip...\n",
       "7           8  Versova, I have paid extra amount. When I ask ...\n",
       "8           9  The Domino's pizza in Lomita Ca. 90717 on Waln...\n",
       "9          10  I’m the last year or so they have added jalape..."
      ]
     },
     "execution_count": 8,
     "metadata": {},
     "output_type": "execute_result"
    }
   ],
   "source": [
    "data.head(10)"
   ]
  },
  {
   "cell_type": "code",
   "execution_count": 9,
   "id": "subject-mountain",
   "metadata": {},
   "outputs": [
    {
     "data": {
      "text/plain": [
       "Index(['Unnamed: 0', 'review'], dtype='object')"
      ]
     },
     "execution_count": 9,
     "metadata": {},
     "output_type": "execute_result"
    }
   ],
   "source": [
    "data.columns"
   ]
  },
  {
   "cell_type": "code",
   "execution_count": 10,
   "id": "exposed-carry",
   "metadata": {},
   "outputs": [
    {
     "data": {
      "text/html": [
       "<div>\n",
       "<style scoped>\n",
       "    .dataframe tbody tr th:only-of-type {\n",
       "        vertical-align: middle;\n",
       "    }\n",
       "\n",
       "    .dataframe tbody tr th {\n",
       "        vertical-align: top;\n",
       "    }\n",
       "\n",
       "    .dataframe thead th {\n",
       "        text-align: right;\n",
       "    }\n",
       "</style>\n",
       "<table border=\"1\" class=\"dataframe\">\n",
       "  <thead>\n",
       "    <tr style=\"text-align: right;\">\n",
       "      <th></th>\n",
       "      <th>review</th>\n",
       "    </tr>\n",
       "  </thead>\n",
       "  <tbody>\n",
       "    <tr>\n",
       "      <th>0</th>\n",
       "      <td>Omg they have the best gluten free pizza ever!...</td>\n",
       "    </tr>\n",
       "    <tr>\n",
       "      <th>1</th>\n",
       "      <td>Just another good experience with the Domino's...</td>\n",
       "    </tr>\n",
       "    <tr>\n",
       "      <th>2</th>\n",
       "      <td>Review for Dominos del Amo bl, Lakewood CA. Ve...</td>\n",
       "    </tr>\n",
       "    <tr>\n",
       "      <th>3</th>\n",
       "      <td>I called because my food was cold and not done...</td>\n",
       "    </tr>\n",
       "    <tr>\n",
       "      <th>4</th>\n",
       "      <td>OMG, hands down the best pizza I've had from D...</td>\n",
       "    </tr>\n",
       "  </tbody>\n",
       "</table>\n",
       "</div>"
      ],
      "text/plain": [
       "                                              review\n",
       "0  Omg they have the best gluten free pizza ever!...\n",
       "1  Just another good experience with the Domino's...\n",
       "2  Review for Dominos del Amo bl, Lakewood CA. Ve...\n",
       "3  I called because my food was cold and not done...\n",
       "4  OMG, hands down the best pizza I've had from D..."
      ]
     },
     "execution_count": 10,
     "metadata": {},
     "output_type": "execute_result"
    }
   ],
   "source": [
    "mydata = data.drop('Unnamed: 0', axis=1)\n",
    "mydata.head()"
   ]
  },
  {
   "cell_type": "markdown",
   "id": "juvenile-engagement",
   "metadata": {},
   "source": [
    "Step 1: Cleaning the text\n",
    "\n",
    "In this step, we need to remove the special characters, numbers from the text. We can use the regular expression operations library of Python."
   ]
  },
  {
   "cell_type": "code",
   "execution_count": 12,
   "id": "leading-acoustic",
   "metadata": {},
   "outputs": [],
   "source": [
    "import re"
   ]
  },
  {
   "cell_type": "code",
   "execution_count": 13,
   "id": "focal-penguin",
   "metadata": {},
   "outputs": [
    {
     "data": {
      "text/html": [
       "<div>\n",
       "<style scoped>\n",
       "    .dataframe tbody tr th:only-of-type {\n",
       "        vertical-align: middle;\n",
       "    }\n",
       "\n",
       "    .dataframe tbody tr th {\n",
       "        vertical-align: top;\n",
       "    }\n",
       "\n",
       "    .dataframe thead th {\n",
       "        text-align: right;\n",
       "    }\n",
       "</style>\n",
       "<table border=\"1\" class=\"dataframe\">\n",
       "  <thead>\n",
       "    <tr style=\"text-align: right;\">\n",
       "      <th></th>\n",
       "      <th>review</th>\n",
       "      <th>Cleaned Reviews</th>\n",
       "    </tr>\n",
       "  </thead>\n",
       "  <tbody>\n",
       "    <tr>\n",
       "      <th>0</th>\n",
       "      <td>Omg they have the best gluten free pizza ever!...</td>\n",
       "      <td>Omg they have the best gluten free pizza ever ...</td>\n",
       "    </tr>\n",
       "    <tr>\n",
       "      <th>1</th>\n",
       "      <td>Just another good experience with the Domino's...</td>\n",
       "      <td>Just another good experience with the Domino s...</td>\n",
       "    </tr>\n",
       "    <tr>\n",
       "      <th>2</th>\n",
       "      <td>Review for Dominos del Amo bl, Lakewood CA. Ve...</td>\n",
       "      <td>Review for Dominos del Amo bl Lakewood CA Very...</td>\n",
       "    </tr>\n",
       "    <tr>\n",
       "      <th>3</th>\n",
       "      <td>I called because my food was cold and not done...</td>\n",
       "      <td>I called because my food was cold and not done...</td>\n",
       "    </tr>\n",
       "    <tr>\n",
       "      <th>4</th>\n",
       "      <td>OMG, hands down the best pizza I've had from D...</td>\n",
       "      <td>OMG hands down the best pizza I ve had from Do...</td>\n",
       "    </tr>\n",
       "  </tbody>\n",
       "</table>\n",
       "</div>"
      ],
      "text/plain": [
       "                                              review  \\\n",
       "0  Omg they have the best gluten free pizza ever!...   \n",
       "1  Just another good experience with the Domino's...   \n",
       "2  Review for Dominos del Amo bl, Lakewood CA. Ve...   \n",
       "3  I called because my food was cold and not done...   \n",
       "4  OMG, hands down the best pizza I've had from D...   \n",
       "\n",
       "                                     Cleaned Reviews  \n",
       "0  Omg they have the best gluten free pizza ever ...  \n",
       "1  Just another good experience with the Domino s...  \n",
       "2  Review for Dominos del Amo bl Lakewood CA Very...  \n",
       "3  I called because my food was cold and not done...  \n",
       "4  OMG hands down the best pizza I ve had from Do...  "
      ]
     },
     "execution_count": 13,
     "metadata": {},
     "output_type": "execute_result"
    }
   ],
   "source": [
    "# Define a function to clean the text\n",
    "def clean(text):\n",
    "# Removes all special characters and numericals leaving the alphabets\n",
    "    text = re.sub('[^A-Za-z]+', ' ', text)\n",
    "    return text\n",
    "\n",
    "# Cleaning the text in the review column\n",
    "mydata['Cleaned Reviews'] = mydata['review'].apply(clean)\n",
    "mydata.head()"
   ]
  },
  {
   "cell_type": "code",
   "execution_count": 15,
   "id": "unusual-cloud",
   "metadata": {},
   "outputs": [
    {
     "name": "stdout",
     "output_type": "stream",
     "text": [
      "Collecting nltk\n",
      "  Downloading nltk-3.6.7-py3-none-any.whl (1.5 MB)\n",
      "Requirement already satisfied: click in e:\\anaconda3\\envs\\ml_3.6\\lib\\site-packages (from nltk) (7.1.2)\n",
      "Requirement already satisfied: tqdm in e:\\anaconda3\\envs\\ml_3.6\\lib\\site-packages (from nltk) (4.62.3)\n",
      "Requirement already satisfied: joblib in e:\\anaconda3\\envs\\ml_3.6\\lib\\site-packages (from nltk) (1.0.0)\n",
      "Collecting regex>=2021.8.3\n",
      "  Downloading regex-2021.11.10-cp36-cp36m-win_amd64.whl (272 kB)\n",
      "Requirement already satisfied: colorama in e:\\anaconda3\\envs\\ml_3.6\\lib\\site-packages (from tqdm->nltk) (0.4.4)\n",
      "Installing collected packages: regex, nltk\n",
      "  Attempting uninstall: regex\n",
      "    Found existing installation: regex 2020.11.13\n",
      "    Uninstalling regex-2020.11.13:\n",
      "      Successfully uninstalled regex-2020.11.13\n",
      "Successfully installed nltk-3.6.7 regex-2021.11.10\n"
     ]
    }
   ],
   "source": [
    "!pip install nltk"
   ]
  },
  {
   "cell_type": "code",
   "execution_count": 16,
   "id": "chief-indonesia",
   "metadata": {},
   "outputs": [
    {
     "name": "stderr",
     "output_type": "stream",
     "text": [
      "[nltk_data] Downloading package punkt to\n",
      "[nltk_data]     C:\\Users\\rajkumar.mo\\AppData\\Roaming\\nltk_data...\n",
      "[nltk_data]   Unzipping tokenizers\\punkt.zip.\n",
      "[nltk_data] Downloading package stopwords to\n",
      "[nltk_data]     C:\\Users\\rajkumar.mo\\AppData\\Roaming\\nltk_data...\n",
      "[nltk_data]   Unzipping corpora\\stopwords.zip.\n",
      "[nltk_data] Downloading package wordnet to\n",
      "[nltk_data]     C:\\Users\\rajkumar.mo\\AppData\\Roaming\\nltk_data...\n",
      "[nltk_data]   Unzipping corpora\\wordnet.zip.\n"
     ]
    }
   ],
   "source": [
    "import nltk\n",
    "nltk.download('punkt')\n",
    "from nltk.tokenize import word_tokenize\n",
    "from nltk import pos_tag\n",
    "nltk.download('stopwords')\n",
    "from nltk.corpus import stopwords\n",
    "nltk.download('wordnet')\n",
    "from nltk.corpus import wordnet"
   ]
  },
  {
   "cell_type": "code",
   "execution_count": 19,
   "id": "becoming-frank",
   "metadata": {},
   "outputs": [
    {
     "name": "stderr",
     "output_type": "stream",
     "text": [
      "[nltk_data] Downloading package omw-1.4 to\n",
      "[nltk_data]     C:\\Users\\rajkumar.mo\\AppData\\Roaming\\nltk_data...\n",
      "[nltk_data]   Unzipping corpora\\omw-1.4.zip.\n"
     ]
    },
    {
     "data": {
      "text/plain": [
       "True"
      ]
     },
     "execution_count": 19,
     "metadata": {},
     "output_type": "execute_result"
    }
   ],
   "source": [
    "nltk.download('omw-1.4')"
   ]
  },
  {
   "cell_type": "code",
   "execution_count": 21,
   "id": "working-establishment",
   "metadata": {},
   "outputs": [
    {
     "name": "stderr",
     "output_type": "stream",
     "text": [
      "[nltk_data] Downloading package averaged_perceptron_tagger to\n",
      "[nltk_data]     C:\\Users\\rajkumar.mo\\AppData\\Roaming\\nltk_data...\n",
      "[nltk_data]   Unzipping taggers\\averaged_perceptron_tagger.zip.\n"
     ]
    },
    {
     "data": {
      "text/plain": [
       "True"
      ]
     },
     "execution_count": 21,
     "metadata": {},
     "output_type": "execute_result"
    }
   ],
   "source": [
    "nltk.download('averaged_perceptron_tagger')"
   ]
  },
  {
   "cell_type": "code",
   "execution_count": 22,
   "id": "parental-closer",
   "metadata": {},
   "outputs": [
    {
     "data": {
      "text/html": [
       "<div>\n",
       "<style scoped>\n",
       "    .dataframe tbody tr th:only-of-type {\n",
       "        vertical-align: middle;\n",
       "    }\n",
       "\n",
       "    .dataframe tbody tr th {\n",
       "        vertical-align: top;\n",
       "    }\n",
       "\n",
       "    .dataframe thead th {\n",
       "        text-align: right;\n",
       "    }\n",
       "</style>\n",
       "<table border=\"1\" class=\"dataframe\">\n",
       "  <thead>\n",
       "    <tr style=\"text-align: right;\">\n",
       "      <th></th>\n",
       "      <th>review</th>\n",
       "      <th>Cleaned Reviews</th>\n",
       "      <th>POS tagged</th>\n",
       "    </tr>\n",
       "  </thead>\n",
       "  <tbody>\n",
       "    <tr>\n",
       "      <th>0</th>\n",
       "      <td>Omg they have the best gluten free pizza ever!...</td>\n",
       "      <td>Omg they have the best gluten free pizza ever ...</td>\n",
       "      <td>[(Omg, None), (best, a), (gluten, a), (free, a...</td>\n",
       "    </tr>\n",
       "    <tr>\n",
       "      <th>1</th>\n",
       "      <td>Just another good experience with the Domino's...</td>\n",
       "      <td>Just another good experience with the Domino s...</td>\n",
       "      <td>[(another, None), (good, a), (experience, n), ...</td>\n",
       "    </tr>\n",
       "    <tr>\n",
       "      <th>2</th>\n",
       "      <td>Review for Dominos del Amo bl, Lakewood CA. Ve...</td>\n",
       "      <td>Review for Dominos del Amo bl Lakewood CA Very...</td>\n",
       "      <td>[(Review, n), (Dominos, n), (del, None), (Amo,...</td>\n",
       "    </tr>\n",
       "    <tr>\n",
       "      <th>3</th>\n",
       "      <td>I called because my food was cold and not done...</td>\n",
       "      <td>I called because my food was cold and not done...</td>\n",
       "      <td>[(called, v), (food, n), (cold, a), (done, v),...</td>\n",
       "    </tr>\n",
       "    <tr>\n",
       "      <th>4</th>\n",
       "      <td>OMG, hands down the best pizza I've had from D...</td>\n",
       "      <td>OMG hands down the best pizza I ve had from Do...</td>\n",
       "      <td>[(OMG, n), (hands, v), (best, a), (pizza, n), ...</td>\n",
       "    </tr>\n",
       "  </tbody>\n",
       "</table>\n",
       "</div>"
      ],
      "text/plain": [
       "                                              review  \\\n",
       "0  Omg they have the best gluten free pizza ever!...   \n",
       "1  Just another good experience with the Domino's...   \n",
       "2  Review for Dominos del Amo bl, Lakewood CA. Ve...   \n",
       "3  I called because my food was cold and not done...   \n",
       "4  OMG, hands down the best pizza I've had from D...   \n",
       "\n",
       "                                     Cleaned Reviews  \\\n",
       "0  Omg they have the best gluten free pizza ever ...   \n",
       "1  Just another good experience with the Domino s...   \n",
       "2  Review for Dominos del Amo bl Lakewood CA Very...   \n",
       "3  I called because my food was cold and not done...   \n",
       "4  OMG hands down the best pizza I ve had from Do...   \n",
       "\n",
       "                                          POS tagged  \n",
       "0  [(Omg, None), (best, a), (gluten, a), (free, a...  \n",
       "1  [(another, None), (good, a), (experience, n), ...  \n",
       "2  [(Review, n), (Dominos, n), (del, None), (Amo,...  \n",
       "3  [(called, v), (food, n), (cold, a), (done, v),...  \n",
       "4  [(OMG, n), (hands, v), (best, a), (pizza, n), ...  "
      ]
     },
     "execution_count": 22,
     "metadata": {},
     "output_type": "execute_result"
    }
   ],
   "source": [
    "# POS tagger dictionary\n",
    "pos_dict = {'J':wordnet.ADJ, 'V':wordnet.VERB, 'N':wordnet.NOUN, 'R':wordnet.ADV}\n",
    "def token_stop_pos(text):\n",
    "    tags = pos_tag(word_tokenize(text))\n",
    "    newlist = []\n",
    "    for word, tag in tags:\n",
    "        if word.lower() not in set(stopwords.words('english')):\n",
    "            newlist.append(tuple([word, pos_dict.get(tag[0])]))\n",
    "    return newlist\n",
    "\n",
    "mydata['POS tagged'] = mydata['Cleaned Reviews'].apply(token_stop_pos)\n",
    "mydata.head()"
   ]
  },
  {
   "cell_type": "code",
   "execution_count": 23,
   "id": "designed-cyprus",
   "metadata": {},
   "outputs": [
    {
     "name": "stdout",
     "output_type": "stream",
     "text": [
      "['Hello', 'there', '!', 'Welcome', 'to', 'the', 'programming', 'world', '.']\n"
     ]
    }
   ],
   "source": [
    "# Sample - Example - WORDS\n",
    "from nltk.tokenize import word_tokenize\n",
    "text=\"Hello there! Welcome to the programming world.\"\n",
    "print(word_tokenize(text))"
   ]
  },
  {
   "cell_type": "code",
   "execution_count": 24,
   "id": "varied-saint",
   "metadata": {},
   "outputs": [
    {
     "name": "stdout",
     "output_type": "stream",
     "text": [
      "['It’s easy to point out someone else’s mistake.', 'Harder to recognize your own.']\n"
     ]
    }
   ],
   "source": [
    "# Sample - Example - LINE\n",
    "\n",
    "from nltk.tokenize import sent_tokenize\n",
    "text=\"It’s easy to point out someone else’s mistake. Harder to recognize your own.\"\n",
    "print(sent_tokenize(text))"
   ]
  },
  {
   "cell_type": "code",
   "execution_count": 26,
   "id": "straight-glossary",
   "metadata": {},
   "outputs": [
    {
     "ename": "TypeError",
     "evalue": "tokens: expected a list of strings, got a string",
     "output_type": "error",
     "traceback": [
      "\u001b[1;31m---------------------------------------------------------------------------\u001b[0m",
      "\u001b[1;31mTypeError\u001b[0m                                 Traceback (most recent call last)",
      "\u001b[1;32m<ipython-input-26-2df96f1c5601>\u001b[0m in \u001b[0;36m<module>\u001b[1;34m\u001b[0m\n\u001b[0;32m      1\u001b[0m \u001b[0mtokens\u001b[0m \u001b[1;33m=\u001b[0m\u001b[1;34m\"This is an article on Sentiment Analysis\"\u001b[0m\u001b[1;33m\u001b[0m\u001b[1;33m\u001b[0m\u001b[0m\n\u001b[1;32m----> 2\u001b[1;33m \u001b[0mpos\u001b[0m \u001b[1;33m=\u001b[0m \u001b[0mnltk\u001b[0m\u001b[1;33m.\u001b[0m\u001b[0mpos_tag\u001b[0m\u001b[1;33m(\u001b[0m\u001b[0mtokens\u001b[0m\u001b[1;33m)\u001b[0m\u001b[1;33m\u001b[0m\u001b[1;33m\u001b[0m\u001b[0m\n\u001b[0m\u001b[0;32m      3\u001b[0m \u001b[0mpos\u001b[0m\u001b[1;33m\u001b[0m\u001b[1;33m\u001b[0m\u001b[0m\n",
      "\u001b[1;32mE:\\Anaconda3\\envs\\ml_3.6\\lib\\site-packages\\nltk\\tag\\__init__.py\u001b[0m in \u001b[0;36mpos_tag\u001b[1;34m(tokens, tagset, lang)\u001b[0m\n\u001b[0;32m    164\u001b[0m     \"\"\"\n\u001b[0;32m    165\u001b[0m     \u001b[0mtagger\u001b[0m \u001b[1;33m=\u001b[0m \u001b[0m_get_tagger\u001b[0m\u001b[1;33m(\u001b[0m\u001b[0mlang\u001b[0m\u001b[1;33m)\u001b[0m\u001b[1;33m\u001b[0m\u001b[1;33m\u001b[0m\u001b[0m\n\u001b[1;32m--> 166\u001b[1;33m     \u001b[1;32mreturn\u001b[0m \u001b[0m_pos_tag\u001b[0m\u001b[1;33m(\u001b[0m\u001b[0mtokens\u001b[0m\u001b[1;33m,\u001b[0m \u001b[0mtagset\u001b[0m\u001b[1;33m,\u001b[0m \u001b[0mtagger\u001b[0m\u001b[1;33m,\u001b[0m \u001b[0mlang\u001b[0m\u001b[1;33m)\u001b[0m\u001b[1;33m\u001b[0m\u001b[1;33m\u001b[0m\u001b[0m\n\u001b[0m\u001b[0;32m    167\u001b[0m \u001b[1;33m\u001b[0m\u001b[0m\n\u001b[0;32m    168\u001b[0m \u001b[1;33m\u001b[0m\u001b[0m\n",
      "\u001b[1;32mE:\\Anaconda3\\envs\\ml_3.6\\lib\\site-packages\\nltk\\tag\\__init__.py\u001b[0m in \u001b[0;36m_pos_tag\u001b[1;34m(tokens, tagset, tagger, lang)\u001b[0m\n\u001b[0;32m    118\u001b[0m     \u001b[1;31m# Throws Error if tokens is of string type\u001b[0m\u001b[1;33m\u001b[0m\u001b[1;33m\u001b[0m\u001b[1;33m\u001b[0m\u001b[0m\n\u001b[0;32m    119\u001b[0m     \u001b[1;32melif\u001b[0m \u001b[0misinstance\u001b[0m\u001b[1;33m(\u001b[0m\u001b[0mtokens\u001b[0m\u001b[1;33m,\u001b[0m \u001b[0mstr\u001b[0m\u001b[1;33m)\u001b[0m\u001b[1;33m:\u001b[0m\u001b[1;33m\u001b[0m\u001b[1;33m\u001b[0m\u001b[0m\n\u001b[1;32m--> 120\u001b[1;33m         \u001b[1;32mraise\u001b[0m \u001b[0mTypeError\u001b[0m\u001b[1;33m(\u001b[0m\u001b[1;34m\"tokens: expected a list of strings, got a string\"\u001b[0m\u001b[1;33m)\u001b[0m\u001b[1;33m\u001b[0m\u001b[1;33m\u001b[0m\u001b[0m\n\u001b[0m\u001b[0;32m    121\u001b[0m \u001b[1;33m\u001b[0m\u001b[0m\n\u001b[0;32m    122\u001b[0m     \u001b[1;32melse\u001b[0m\u001b[1;33m:\u001b[0m\u001b[1;33m\u001b[0m\u001b[1;33m\u001b[0m\u001b[0m\n",
      "\u001b[1;31mTypeError\u001b[0m: tokens: expected a list of strings, got a string"
     ]
    }
   ],
   "source": [
    "#https://www.geeksforgeeks.org/part-speech-tagging-stop-words-using-nltk-python/\n",
    "tokens =\"This is an article on Sentiment Analysis\"\n",
    "pos = nltk.pos_tag(tokens)\n",
    "pos"
   ]
  },
  {
   "cell_type": "code",
   "execution_count": 28,
   "id": "about-mills",
   "metadata": {},
   "outputs": [
    {
     "data": {
      "text/html": [
       "<div>\n",
       "<style scoped>\n",
       "    .dataframe tbody tr th:only-of-type {\n",
       "        vertical-align: middle;\n",
       "    }\n",
       "\n",
       "    .dataframe tbody tr th {\n",
       "        vertical-align: top;\n",
       "    }\n",
       "\n",
       "    .dataframe thead th {\n",
       "        text-align: right;\n",
       "    }\n",
       "</style>\n",
       "<table border=\"1\" class=\"dataframe\">\n",
       "  <thead>\n",
       "    <tr style=\"text-align: right;\">\n",
       "      <th></th>\n",
       "      <th>review</th>\n",
       "      <th>Cleaned Reviews</th>\n",
       "      <th>POS tagged</th>\n",
       "      <th>Lemma</th>\n",
       "    </tr>\n",
       "  </thead>\n",
       "  <tbody>\n",
       "    <tr>\n",
       "      <th>0</th>\n",
       "      <td>Omg they have the best gluten free pizza ever!...</td>\n",
       "      <td>Omg they have the best gluten free pizza ever ...</td>\n",
       "      <td>[(Omg, None), (best, a), (gluten, a), (free, a...</td>\n",
       "      <td>Omg best gluten free pizza ever love us glut...</td>\n",
       "    </tr>\n",
       "    <tr>\n",
       "      <th>1</th>\n",
       "      <td>Just another good experience with the Domino's...</td>\n",
       "      <td>Just another good experience with the Domino s...</td>\n",
       "      <td>[(another, None), (good, a), (experience, n), ...</td>\n",
       "      <td>another good experience Domino Pizza store K...</td>\n",
       "    </tr>\n",
       "    <tr>\n",
       "      <th>2</th>\n",
       "      <td>Review for Dominos del Amo bl, Lakewood CA. Ve...</td>\n",
       "      <td>Review for Dominos del Amo bl Lakewood CA Very...</td>\n",
       "      <td>[(Review, n), (Dominos, n), (del, None), (Amo,...</td>\n",
       "      <td>Review Dominos del Amo bl Lakewood CA highly...</td>\n",
       "    </tr>\n",
       "    <tr>\n",
       "      <th>3</th>\n",
       "      <td>I called because my food was cold and not done...</td>\n",
       "      <td>I called because my food was cold and not done...</td>\n",
       "      <td>[(called, v), (food, n), (cold, a), (done, v),...</td>\n",
       "      <td>call food cold do right miss item call answe...</td>\n",
       "    </tr>\n",
       "    <tr>\n",
       "      <th>4</th>\n",
       "      <td>OMG, hands down the best pizza I've had from D...</td>\n",
       "      <td>OMG hands down the best pizza I ve had from Do...</td>\n",
       "      <td>[(OMG, n), (hands, v), (best, a), (pizza, n), ...</td>\n",
       "      <td>OMG hand best pizza Domino pizza Southaven M...</td>\n",
       "    </tr>\n",
       "  </tbody>\n",
       "</table>\n",
       "</div>"
      ],
      "text/plain": [
       "                                              review  \\\n",
       "0  Omg they have the best gluten free pizza ever!...   \n",
       "1  Just another good experience with the Domino's...   \n",
       "2  Review for Dominos del Amo bl, Lakewood CA. Ve...   \n",
       "3  I called because my food was cold and not done...   \n",
       "4  OMG, hands down the best pizza I've had from D...   \n",
       "\n",
       "                                     Cleaned Reviews  \\\n",
       "0  Omg they have the best gluten free pizza ever ...   \n",
       "1  Just another good experience with the Domino s...   \n",
       "2  Review for Dominos del Amo bl Lakewood CA Very...   \n",
       "3  I called because my food was cold and not done...   \n",
       "4  OMG hands down the best pizza I ve had from Do...   \n",
       "\n",
       "                                          POS tagged  \\\n",
       "0  [(Omg, None), (best, a), (gluten, a), (free, a...   \n",
       "1  [(another, None), (good, a), (experience, n), ...   \n",
       "2  [(Review, n), (Dominos, n), (del, None), (Amo,...   \n",
       "3  [(called, v), (food, n), (cold, a), (done, v),...   \n",
       "4  [(OMG, n), (hands, v), (best, a), (pizza, n), ...   \n",
       "\n",
       "                                               Lemma  \n",
       "0    Omg best gluten free pizza ever love us glut...  \n",
       "1    another good experience Domino Pizza store K...  \n",
       "2    Review Dominos del Amo bl Lakewood CA highly...  \n",
       "3    call food cold do right miss item call answe...  \n",
       "4    OMG hand best pizza Domino pizza Southaven M...  "
      ]
     },
     "execution_count": 28,
     "metadata": {},
     "output_type": "execute_result"
    }
   ],
   "source": [
    "#Explanation: lemmatize is a function that takes pos_tag tuples, and gives the Lemma \n",
    "#for each word in pos_tag based on the pos of that word. We applied it to the ‘POS tagged’ \n",
    "#column and created a column ‘Lemma’ to store the output.\n",
    "\n",
    "from nltk.stem import WordNetLemmatizer\n",
    "wordnet_lemmatizer = WordNetLemmatizer()\n",
    "def lemmatize(pos_data):\n",
    "    lemma_rew = \" \"\n",
    "    for word, pos in pos_data:\n",
    "        if not pos:\n",
    "            lemma = word\n",
    "            lemma_rew = lemma_rew + \" \" + lemma\n",
    "        else:\n",
    "            lemma = wordnet_lemmatizer.lemmatize(word, pos=pos)\n",
    "            lemma_rew = lemma_rew + \" \" + lemma\n",
    "    return lemma_rew\n",
    "\n",
    "mydata['Lemma'] = mydata['POS tagged'].apply(lemmatize)\n",
    "mydata.head()"
   ]
  },
  {
   "cell_type": "code",
   "execution_count": 29,
   "id": "generic-biology",
   "metadata": {},
   "outputs": [
    {
     "data": {
      "text/html": [
       "<div>\n",
       "<style scoped>\n",
       "    .dataframe tbody tr th:only-of-type {\n",
       "        vertical-align: middle;\n",
       "    }\n",
       "\n",
       "    .dataframe tbody tr th {\n",
       "        vertical-align: top;\n",
       "    }\n",
       "\n",
       "    .dataframe thead th {\n",
       "        text-align: right;\n",
       "    }\n",
       "</style>\n",
       "<table border=\"1\" class=\"dataframe\">\n",
       "  <thead>\n",
       "    <tr style=\"text-align: right;\">\n",
       "      <th></th>\n",
       "      <th>review</th>\n",
       "      <th>Lemma</th>\n",
       "    </tr>\n",
       "  </thead>\n",
       "  <tbody>\n",
       "    <tr>\n",
       "      <th>0</th>\n",
       "      <td>Omg they have the best gluten free pizza ever!...</td>\n",
       "      <td>Omg best gluten free pizza ever love us glut...</td>\n",
       "    </tr>\n",
       "    <tr>\n",
       "      <th>1</th>\n",
       "      <td>Just another good experience with the Domino's...</td>\n",
       "      <td>another good experience Domino Pizza store K...</td>\n",
       "    </tr>\n",
       "    <tr>\n",
       "      <th>2</th>\n",
       "      <td>Review for Dominos del Amo bl, Lakewood CA. Ve...</td>\n",
       "      <td>Review Dominos del Amo bl Lakewood CA highly...</td>\n",
       "    </tr>\n",
       "    <tr>\n",
       "      <th>3</th>\n",
       "      <td>I called because my food was cold and not done...</td>\n",
       "      <td>call food cold do right miss item call answe...</td>\n",
       "    </tr>\n",
       "    <tr>\n",
       "      <th>4</th>\n",
       "      <td>OMG, hands down the best pizza I've had from D...</td>\n",
       "      <td>OMG hand best pizza Domino pizza Southaven M...</td>\n",
       "    </tr>\n",
       "    <tr>\n",
       "      <th>...</th>\n",
       "      <td>...</td>\n",
       "      <td>...</td>\n",
       "    </tr>\n",
       "    <tr>\n",
       "      <th>125</th>\n",
       "      <td>S. P road Gaya Domino's denied to provide ever...</td>\n",
       "      <td>P road Gaya Domino deny provide every day va...</td>\n",
       "    </tr>\n",
       "    <tr>\n",
       "      <th>126</th>\n",
       "      <td>I ordered a 12inch pizza and a pasta bowl. I f...</td>\n",
       "      <td>order inch pizza pasta bowl find long black ...</td>\n",
       "    </tr>\n",
       "    <tr>\n",
       "      <th>127</th>\n",
       "      <td>I place the order at Domino's at 1801 Valley V...</td>\n",
       "      <td>place order Domino Valley View Drive p Satur...</td>\n",
       "    </tr>\n",
       "    <tr>\n",
       "      <th>128</th>\n",
       "      <td>After an hour passed and refused cold uncooked...</td>\n",
       "      <td>hour pass refuse cold uncooked way pizza man...</td>\n",
       "    </tr>\n",
       "    <tr>\n",
       "      <th>129</th>\n",
       "      <td>This Domino's has the best pizza delivery and ...</td>\n",
       "      <td>Domino best pizza delivery customer service ...</td>\n",
       "    </tr>\n",
       "  </tbody>\n",
       "</table>\n",
       "<p>130 rows × 2 columns</p>\n",
       "</div>"
      ],
      "text/plain": [
       "                                                review  \\\n",
       "0    Omg they have the best gluten free pizza ever!...   \n",
       "1    Just another good experience with the Domino's...   \n",
       "2    Review for Dominos del Amo bl, Lakewood CA. Ve...   \n",
       "3    I called because my food was cold and not done...   \n",
       "4    OMG, hands down the best pizza I've had from D...   \n",
       "..                                                 ...   \n",
       "125  S. P road Gaya Domino's denied to provide ever...   \n",
       "126  I ordered a 12inch pizza and a pasta bowl. I f...   \n",
       "127  I place the order at Domino's at 1801 Valley V...   \n",
       "128  After an hour passed and refused cold uncooked...   \n",
       "129  This Domino's has the best pizza delivery and ...   \n",
       "\n",
       "                                                 Lemma  \n",
       "0      Omg best gluten free pizza ever love us glut...  \n",
       "1      another good experience Domino Pizza store K...  \n",
       "2      Review Dominos del Amo bl Lakewood CA highly...  \n",
       "3      call food cold do right miss item call answe...  \n",
       "4      OMG hand best pizza Domino pizza Southaven M...  \n",
       "..                                                 ...  \n",
       "125    P road Gaya Domino deny provide every day va...  \n",
       "126    order inch pizza pasta bowl find long black ...  \n",
       "127    place order Domino Valley View Drive p Satur...  \n",
       "128    hour pass refuse cold uncooked way pizza man...  \n",
       "129    Domino best pizza delivery customer service ...  \n",
       "\n",
       "[130 rows x 2 columns]"
      ]
     },
     "execution_count": 29,
     "metadata": {},
     "output_type": "execute_result"
    }
   ],
   "source": [
    "mydata[['review','Lemma']]"
   ]
  },
  {
   "cell_type": "markdown",
   "id": "individual-sussex",
   "metadata": {},
   "source": [
    "Sentiment Analysis using TextBlob:\n",
    "\n",
    "TextBlob is a Python library for processing textual data. It provides a consistent API for diving into common natural language processing (NLP) tasks such as part-of-speech tagging, noun phrase extraction, sentiment analysis, and more.\n",
    "\n",
    "The two measures that are used to analyze the sentiment are:\n",
    "\n",
    "    Polarity – talks about how positive or negative the opinion is\n",
    "    Subjectivity – talks about how subjective the opinion is\n",
    "\n",
    "    TextBlob(text).sentiment gives us the Polarity, Subjectivity values.\n",
    "    Polarity ranges from -1 to 1 (1 is more positive, 0 is neutral, -1 is more negative)\n",
    "    Subjectivity ranges from 0 to 1(0 being very objective and 1 being very subjective)\n",
    "\n",
    "Sentiment Analysis using TextBlob:"
   ]
  },
  {
   "cell_type": "code",
   "execution_count": 31,
   "id": "sustained-overhead",
   "metadata": {},
   "outputs": [
    {
     "name": "stdout",
     "output_type": "stream",
     "text": [
      "Collecting textblob\n",
      "  Downloading textblob-0.17.1-py2.py3-none-any.whl (636 kB)\n",
      "Requirement already satisfied: nltk>=3.1 in e:\\anaconda3\\envs\\ml_3.6\\lib\\site-packages (from textblob) (3.6.7)\n",
      "Requirement already satisfied: joblib in e:\\anaconda3\\envs\\ml_3.6\\lib\\site-packages (from nltk>=3.1->textblob) (1.0.0)\n",
      "Requirement already satisfied: tqdm in e:\\anaconda3\\envs\\ml_3.6\\lib\\site-packages (from nltk>=3.1->textblob) (4.62.3)\n",
      "Requirement already satisfied: regex>=2021.8.3 in e:\\anaconda3\\envs\\ml_3.6\\lib\\site-packages (from nltk>=3.1->textblob) (2021.11.10)\n",
      "Requirement already satisfied: click in e:\\anaconda3\\envs\\ml_3.6\\lib\\site-packages (from nltk>=3.1->textblob) (7.1.2)\n",
      "Requirement already satisfied: colorama in e:\\anaconda3\\envs\\ml_3.6\\lib\\site-packages (from tqdm->nltk>=3.1->textblob) (0.4.4)\n",
      "Installing collected packages: textblob\n",
      "Successfully installed textblob-0.17.1\n"
     ]
    }
   ],
   "source": [
    "!pip install textblob"
   ]
  },
  {
   "cell_type": "code",
   "execution_count": 33,
   "id": "assisted-chocolate",
   "metadata": {},
   "outputs": [
    {
     "data": {
      "text/plain": [
       "Sentiment(polarity=0.5, subjectivity=0.6)"
      ]
     },
     "execution_count": 33,
     "metadata": {},
     "output_type": "execute_result"
    }
   ],
   "source": [
    "from textblob import TextBlob\n",
    "res = TextBlob(\"I love horror films\").sentiment\n",
    "res"
   ]
  },
  {
   "cell_type": "code",
   "execution_count": 37,
   "id": "median-unemployment",
   "metadata": {},
   "outputs": [],
   "source": [
    "# function to calculate subjectivity\n",
    "def getSubjectivity(review):\n",
    "    return TextBlob(review).sentiment.subjectivity\n",
    "    # function to calculate polarity\n",
    "def getPolarity(review):\n",
    "    return TextBlob(review).sentiment.polarity\n",
    "\n",
    "# function to analyze the reviews\n",
    "def analysis(score):\n",
    "    if score < 0:\n",
    "        return 'Negative'\n",
    "    elif score == 0:\n",
    "        return 'Neutral'\n",
    "    else:\n",
    "        return 'Positive'"
   ]
  },
  {
   "cell_type": "code",
   "execution_count": 38,
   "id": "strategic-bridges",
   "metadata": {},
   "outputs": [],
   "source": [
    "fin_data = pd.DataFrame(mydata[['review', 'Lemma']])"
   ]
  },
  {
   "cell_type": "code",
   "execution_count": 39,
   "id": "chief-archive",
   "metadata": {},
   "outputs": [
    {
     "data": {
      "text/html": [
       "<div>\n",
       "<style scoped>\n",
       "    .dataframe tbody tr th:only-of-type {\n",
       "        vertical-align: middle;\n",
       "    }\n",
       "\n",
       "    .dataframe tbody tr th {\n",
       "        vertical-align: top;\n",
       "    }\n",
       "\n",
       "    .dataframe thead th {\n",
       "        text-align: right;\n",
       "    }\n",
       "</style>\n",
       "<table border=\"1\" class=\"dataframe\">\n",
       "  <thead>\n",
       "    <tr style=\"text-align: right;\">\n",
       "      <th></th>\n",
       "      <th>review</th>\n",
       "      <th>Lemma</th>\n",
       "      <th>Polarity</th>\n",
       "      <th>Analysis</th>\n",
       "    </tr>\n",
       "  </thead>\n",
       "  <tbody>\n",
       "    <tr>\n",
       "      <th>0</th>\n",
       "      <td>Omg they have the best gluten free pizza ever!...</td>\n",
       "      <td>Omg best gluten free pizza ever love us glut...</td>\n",
       "      <td>0.470455</td>\n",
       "      <td>Positive</td>\n",
       "    </tr>\n",
       "    <tr>\n",
       "      <th>1</th>\n",
       "      <td>Just another good experience with the Domino's...</td>\n",
       "      <td>another good experience Domino Pizza store K...</td>\n",
       "      <td>0.233333</td>\n",
       "      <td>Positive</td>\n",
       "    </tr>\n",
       "    <tr>\n",
       "      <th>2</th>\n",
       "      <td>Review for Dominos del Amo bl, Lakewood CA. Ve...</td>\n",
       "      <td>Review Dominos del Amo bl Lakewood CA highly...</td>\n",
       "      <td>0.373500</td>\n",
       "      <td>Positive</td>\n",
       "    </tr>\n",
       "    <tr>\n",
       "      <th>3</th>\n",
       "      <td>I called because my food was cold and not done...</td>\n",
       "      <td>call food cold do right miss item call answe...</td>\n",
       "      <td>0.217143</td>\n",
       "      <td>Positive</td>\n",
       "    </tr>\n",
       "    <tr>\n",
       "      <th>4</th>\n",
       "      <td>OMG, hands down the best pizza I've had from D...</td>\n",
       "      <td>OMG hand best pizza Domino pizza Southaven M...</td>\n",
       "      <td>0.538889</td>\n",
       "      <td>Positive</td>\n",
       "    </tr>\n",
       "  </tbody>\n",
       "</table>\n",
       "</div>"
      ],
      "text/plain": [
       "                                              review  \\\n",
       "0  Omg they have the best gluten free pizza ever!...   \n",
       "1  Just another good experience with the Domino's...   \n",
       "2  Review for Dominos del Amo bl, Lakewood CA. Ve...   \n",
       "3  I called because my food was cold and not done...   \n",
       "4  OMG, hands down the best pizza I've had from D...   \n",
       "\n",
       "                                               Lemma  Polarity  Analysis  \n",
       "0    Omg best gluten free pizza ever love us glut...  0.470455  Positive  \n",
       "1    another good experience Domino Pizza store K...  0.233333  Positive  \n",
       "2    Review Dominos del Amo bl Lakewood CA highly...  0.373500  Positive  \n",
       "3    call food cold do right miss item call answe...  0.217143  Positive  \n",
       "4    OMG hand best pizza Domino pizza Southaven M...  0.538889  Positive  "
      ]
     },
     "execution_count": 39,
     "metadata": {},
     "output_type": "execute_result"
    }
   ],
   "source": [
    "# fin_data['Subjectivity'] = fin_data['Lemma'].apply(getSubjectivity) \n",
    "fin_data['Polarity'] = fin_data['Lemma'].apply(getPolarity) \n",
    "fin_data['Analysis'] = fin_data['Polarity'].apply(analysis)\n",
    "fin_data.head()"
   ]
  },
  {
   "cell_type": "code",
   "execution_count": 40,
   "id": "integral-friday",
   "metadata": {},
   "outputs": [
    {
     "data": {
      "text/plain": [
       "Positive    67\n",
       "Negative    56\n",
       "Neutral      7\n",
       "Name: Analysis, dtype: int64"
      ]
     },
     "execution_count": 40,
     "metadata": {},
     "output_type": "execute_result"
    }
   ],
   "source": [
    "fin_data['Analysis'].value_counts()"
   ]
  },
  {
   "cell_type": "code",
   "execution_count": 44,
   "id": "conscious-destruction",
   "metadata": {},
   "outputs": [
    {
     "name": "stdout",
     "output_type": "stream",
     "text": [
      "Collecting vaderSentiment\n",
      "  Downloading vaderSentiment-3.3.2-py2.py3-none-any.whl (125 kB)\n",
      "Requirement already satisfied: requests in e:\\anaconda3\\envs\\ml_3.6\\lib\\site-packages (from vaderSentiment) (2.25.1)\n",
      "Requirement already satisfied: idna<3,>=2.5 in e:\\anaconda3\\envs\\ml_3.6\\lib\\site-packages (from requests->vaderSentiment) (2.10)\n",
      "Requirement already satisfied: urllib3<1.27,>=1.21.1 in e:\\anaconda3\\envs\\ml_3.6\\lib\\site-packages (from requests->vaderSentiment) (1.26.3)\n",
      "Requirement already satisfied: chardet<5,>=3.0.2 in e:\\anaconda3\\envs\\ml_3.6\\lib\\site-packages (from requests->vaderSentiment) (4.0.0)\n",
      "Requirement already satisfied: certifi>=2017.4.17 in e:\\anaconda3\\envs\\ml_3.6\\lib\\site-packages (from requests->vaderSentiment) (2021.5.30)\n",
      "Installing collected packages: vaderSentiment\n",
      "Successfully installed vaderSentiment-3.3.2\n"
     ]
    }
   ],
   "source": [
    "# Sentiment Analysis using VADER\n",
    "\n",
    "#VADER stands for Valence Aware Dictionary and Sentiment Reasoner. Vader sentiment not only tells if the statement is positive or negative along with the intensity of emotion.\n",
    "#Sentiment Analysis using VADER\n",
    "!pip install vaderSentiment\n"
   ]
  },
  {
   "cell_type": "code",
   "execution_count": 45,
   "id": "collected-cisco",
   "metadata": {},
   "outputs": [
    {
     "data": {
      "text/plain": [
       "{'neg': 0.374, 'neu': 0.202, 'pos': 0.424, 'compound': 0.128}"
      ]
     },
     "execution_count": 45,
     "metadata": {},
     "output_type": "execute_result"
    }
   ],
   "source": [
    "from vaderSentiment.vaderSentiment import SentimentIntensityAnalyzer\n",
    "analyzer = SentimentIntensityAnalyzer()\n",
    "\n",
    "vs = analyzer.polarity_scores(\"I love horror films\")\n",
    "vs\n"
   ]
  },
  {
   "cell_type": "code",
   "execution_count": 48,
   "id": "artificial-apartment",
   "metadata": {},
   "outputs": [
    {
     "data": {
      "text/html": [
       "<div>\n",
       "<style scoped>\n",
       "    .dataframe tbody tr th:only-of-type {\n",
       "        vertical-align: middle;\n",
       "    }\n",
       "\n",
       "    .dataframe tbody tr th {\n",
       "        vertical-align: top;\n",
       "    }\n",
       "\n",
       "    .dataframe thead th {\n",
       "        text-align: right;\n",
       "    }\n",
       "</style>\n",
       "<table border=\"1\" class=\"dataframe\">\n",
       "  <thead>\n",
       "    <tr style=\"text-align: right;\">\n",
       "      <th></th>\n",
       "      <th>review</th>\n",
       "      <th>Lemma</th>\n",
       "      <th>Polarity</th>\n",
       "      <th>Analysis</th>\n",
       "      <th>Vader Sentiment</th>\n",
       "      <th>Vader Analysis</th>\n",
       "    </tr>\n",
       "  </thead>\n",
       "  <tbody>\n",
       "    <tr>\n",
       "      <th>0</th>\n",
       "      <td>Omg they have the best gluten free pizza ever!...</td>\n",
       "      <td>Omg best gluten free pizza ever love us glut...</td>\n",
       "      <td>0.470455</td>\n",
       "      <td>Positive</td>\n",
       "      <td>0.9872</td>\n",
       "      <td>Positive</td>\n",
       "    </tr>\n",
       "    <tr>\n",
       "      <th>1</th>\n",
       "      <td>Just another good experience with the Domino's...</td>\n",
       "      <td>another good experience Domino Pizza store K...</td>\n",
       "      <td>0.233333</td>\n",
       "      <td>Positive</td>\n",
       "      <td>0.9371</td>\n",
       "      <td>Positive</td>\n",
       "    </tr>\n",
       "    <tr>\n",
       "      <th>2</th>\n",
       "      <td>Review for Dominos del Amo bl, Lakewood CA. Ve...</td>\n",
       "      <td>Review Dominos del Amo bl Lakewood CA highly...</td>\n",
       "      <td>0.373500</td>\n",
       "      <td>Positive</td>\n",
       "      <td>0.9897</td>\n",
       "      <td>Positive</td>\n",
       "    </tr>\n",
       "    <tr>\n",
       "      <th>3</th>\n",
       "      <td>I called because my food was cold and not done...</td>\n",
       "      <td>call food cold do right miss item call answe...</td>\n",
       "      <td>0.217143</td>\n",
       "      <td>Positive</td>\n",
       "      <td>0.7579</td>\n",
       "      <td>Positive</td>\n",
       "    </tr>\n",
       "    <tr>\n",
       "      <th>4</th>\n",
       "      <td>OMG, hands down the best pizza I've had from D...</td>\n",
       "      <td>OMG hand best pizza Domino pizza Southaven M...</td>\n",
       "      <td>0.538889</td>\n",
       "      <td>Positive</td>\n",
       "      <td>0.9312</td>\n",
       "      <td>Positive</td>\n",
       "    </tr>\n",
       "  </tbody>\n",
       "</table>\n",
       "</div>"
      ],
      "text/plain": [
       "                                              review  \\\n",
       "0  Omg they have the best gluten free pizza ever!...   \n",
       "1  Just another good experience with the Domino's...   \n",
       "2  Review for Dominos del Amo bl, Lakewood CA. Ve...   \n",
       "3  I called because my food was cold and not done...   \n",
       "4  OMG, hands down the best pizza I've had from D...   \n",
       "\n",
       "                                               Lemma  Polarity  Analysis  \\\n",
       "0    Omg best gluten free pizza ever love us glut...  0.470455  Positive   \n",
       "1    another good experience Domino Pizza store K...  0.233333  Positive   \n",
       "2    Review Dominos del Amo bl Lakewood CA highly...  0.373500  Positive   \n",
       "3    call food cold do right miss item call answe...  0.217143  Positive   \n",
       "4    OMG hand best pizza Domino pizza Southaven M...  0.538889  Positive   \n",
       "\n",
       "   Vader Sentiment Vader Analysis  \n",
       "0           0.9872       Positive  \n",
       "1           0.9371       Positive  \n",
       "2           0.9897       Positive  \n",
       "3           0.7579       Positive  \n",
       "4           0.9312       Positive  "
      ]
     },
     "execution_count": 48,
     "metadata": {},
     "output_type": "execute_result"
    }
   ],
   "source": [
    "from vaderSentiment.vaderSentiment import SentimentIntensityAnalyzer\n",
    "analyzer = SentimentIntensityAnalyzer()\n",
    "# function to calculate vader sentiment\n",
    "def vadersentimentanalysis(review):\n",
    "    vs = analyzer.polarity_scores(review)\n",
    "    return vs['compound']\n",
    "\n",
    "fin_data['Vader Sentiment'] = fin_data['Lemma'].apply(vadersentimentanalysis)\n",
    "\n",
    "# function to analyse\n",
    "def vader_analysis(compound):\n",
    "    if compound >= 0.5:\n",
    "        return 'Positive'\n",
    "    elif compound <= -0.5 :\n",
    "        return 'Negative'\n",
    "    else:\n",
    "        return 'Neutral'\n",
    "\n",
    "fin_data['Vader Analysis'] = fin_data['Vader Sentiment'].apply(vader_analysis)\n",
    "fin_data.head()"
   ]
  },
  {
   "cell_type": "code",
   "execution_count": 49,
   "id": "peaceful-yield",
   "metadata": {},
   "outputs": [
    {
     "data": {
      "text/plain": [
       "Neutral     58\n",
       "Positive    47\n",
       "Negative    25\n",
       "Name: Vader Analysis, dtype: int64"
      ]
     },
     "execution_count": 49,
     "metadata": {},
     "output_type": "execute_result"
    }
   ],
   "source": [
    "vader_counts = fin_data['Vader Analysis'].value_counts()\n",
    "vader_counts"
   ]
  },
  {
   "cell_type": "code",
   "execution_count": null,
   "id": "higher-elizabeth",
   "metadata": {},
   "outputs": [],
   "source": []
  }
 ],
 "metadata": {
  "kernelspec": {
   "display_name": "Python 3",
   "language": "python",
   "name": "python3"
  },
  "language_info": {
   "codemirror_mode": {
    "name": "ipython",
    "version": 3
   },
   "file_extension": ".py",
   "mimetype": "text/x-python",
   "name": "python",
   "nbconvert_exporter": "python",
   "pygments_lexer": "ipython3",
   "version": "3.6.12"
  }
 },
 "nbformat": 4,
 "nbformat_minor": 5
}
