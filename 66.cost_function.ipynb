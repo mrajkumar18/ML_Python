{
 "cells": [
  {
   "cell_type": "markdown",
   "metadata": {
    "colab_type": "text",
    "id": "fYOHTuW3W7Is"
   },
   "source": [
    "# Cost Function"
   ]
  },
  {
   "cell_type": "code",
   "execution_count": 1,
   "metadata": {
    "colab": {},
    "colab_type": "code",
    "id": "GlJaXfg0iyr8"
   },
   "outputs": [],
   "source": [
    "#import the libraries\n",
    "import matplotlib.pyplot as plt\n",
    "import pandas as pd\n",
    "from sklearn.metrics import mean_squared_error as mse"
   ]
  },
  {
   "cell_type": "markdown",
   "metadata": {
    "colab_type": "text",
    "id": "2Fh-DhXGW-Q7"
   },
   "source": [
    "## Creating sample Data"
   ]
  },
  {
   "cell_type": "code",
   "execution_count": 2,
   "metadata": {
    "colab": {
     "base_uri": "https://localhost:8080/",
     "height": 198
    },
    "colab_type": "code",
    "executionInfo": {
     "elapsed": 1302,
     "status": "ok",
     "timestamp": 1563261342569,
     "user": {
      "displayName": "Sharoon Saxena",
      "photoUrl": "",
      "userId": "14774175216384036942"
     },
     "user_tz": -330
    },
    "id": "RUr712Sti5A8",
    "outputId": "fd9a3b64-c099-4bd1-c448-4d352c64cc46"
   },
   "outputs": [
    {
     "data": {
      "text/html": [
       "<div>\n",
       "<style scoped>\n",
       "    .dataframe tbody tr th:only-of-type {\n",
       "        vertical-align: middle;\n",
       "    }\n",
       "\n",
       "    .dataframe tbody tr th {\n",
       "        vertical-align: top;\n",
       "    }\n",
       "\n",
       "    .dataframe thead th {\n",
       "        text-align: right;\n",
       "    }\n",
       "</style>\n",
       "<table border=\"1\" class=\"dataframe\">\n",
       "  <thead>\n",
       "    <tr style=\"text-align: right;\">\n",
       "      <th></th>\n",
       "      <th>salary</th>\n",
       "      <th>experience</th>\n",
       "    </tr>\n",
       "  </thead>\n",
       "  <tbody>\n",
       "    <tr>\n",
       "      <th>0</th>\n",
       "      <td>1.7</td>\n",
       "      <td>1.2</td>\n",
       "    </tr>\n",
       "    <tr>\n",
       "      <th>1</th>\n",
       "      <td>2.4</td>\n",
       "      <td>1.5</td>\n",
       "    </tr>\n",
       "    <tr>\n",
       "      <th>2</th>\n",
       "      <td>2.3</td>\n",
       "      <td>1.9</td>\n",
       "    </tr>\n",
       "    <tr>\n",
       "      <th>3</th>\n",
       "      <td>3.1</td>\n",
       "      <td>2.2</td>\n",
       "    </tr>\n",
       "    <tr>\n",
       "      <th>4</th>\n",
       "      <td>3.7</td>\n",
       "      <td>2.4</td>\n",
       "    </tr>\n",
       "  </tbody>\n",
       "</table>\n",
       "</div>"
      ],
      "text/plain": [
       "   salary  experience\n",
       "0     1.7         1.2\n",
       "1     2.4         1.5\n",
       "2     2.3         1.9\n",
       "3     3.1         2.2\n",
       "4     3.7         2.4"
      ]
     },
     "execution_count": 2,
     "metadata": {},
     "output_type": "execute_result"
    }
   ],
   "source": [
    "# creating the sample dataset\n",
    "experience = [1.2,1.5,1.9,2.2,2.4,2.5,2.8,3.1,3.3,3.7,4.2,4.4]\n",
    "salary     = [1.7,2.4,2.3,3.1,3.7,4.2,4.4,6.1,5.4,5.7,6.4,6.2]\n",
    "\n",
    "data = pd.DataFrame({\n",
    "    \"salary\" : salary,\n",
    "    \"experience\"   : experience\n",
    "})\n",
    "data.head()"
   ]
  },
  {
   "cell_type": "code",
   "execution_count": 22,
   "metadata": {},
   "outputs": [
    {
     "data": {
      "text/plain": [
       "2.766666666666667"
      ]
     },
     "execution_count": 22,
     "metadata": {},
     "output_type": "execute_result"
    }
   ],
   "source": [
    "data['experience'].mean()"
   ]
  },
  {
   "cell_type": "markdown",
   "metadata": {
    "colab_type": "text",
    "id": "V5VGnEofXDUh"
   },
   "source": [
    "## Plotting th data"
   ]
  },
  {
   "cell_type": "code",
   "execution_count": 3,
   "metadata": {
    "colab": {
     "base_uri": "https://localhost:8080/",
     "height": 301
    },
    "colab_type": "code",
    "executionInfo": {
     "elapsed": 1256,
     "status": "ok",
     "timestamp": 1563261344516,
     "user": {
      "displayName": "Sharoon Saxena",
      "photoUrl": "",
      "userId": "14774175216384036942"
     },
     "user_tz": -330
    },
    "id": "DdENo57dj6hn",
    "outputId": "1f99a65d-d7e5-4e4c-e2a6-070b814d484f"
   },
   "outputs": [
    {
     "data": {
      "text/plain": [
       "<matplotlib.legend.Legend at 0x20e9d875b38>"
      ]
     },
     "execution_count": 3,
     "metadata": {},
     "output_type": "execute_result"
    },
    {
     "data": {
      "image/png": "[encoded data removed]",
      "text/plain": [
       "<Figure size 432x288 with 1 Axes>"
      ]
     },
     "metadata": {
      "needs_background": "light"
     },
     "output_type": "display_data"
    }
   ],
   "source": [
    "# plotting the data\n",
    "plt.scatter(data.experience, data.salary, color = 'red', label = 'data points')\n",
    "plt.xlim(1,4.5)\n",
    "plt.ylim(1,7)\n",
    "plt.xlabel('experience')\n",
    "plt.ylabel('salary')\n",
    "plt.legend()"
   ]
  },
  {
   "cell_type": "markdown",
   "metadata": {
    "colab_type": "text",
    "id": "XrG641GxmFfl"
   },
   "source": [
    "## Starting the Line using small values of parameters"
   ]
  },
  {
   "cell_type": "code",
   "execution_count": 28,
   "metadata": {
    "colab": {
     "base_uri": "https://localhost:8080/",
     "height": 295
    },
    "colab_type": "code",
    "executionInfo": {
     "elapsed": 1623,
     "status": "ok",
     "timestamp": 1563262245502,
     "user": {
      "displayName": "Sharoon Saxena",
      "photoUrl": "",
      "userId": "14774175216384036942"
     },
     "user_tz": -330
    },
    "id": "aToNdLtGkxVR",
    "outputId": "9c228118-8233-48df-904f-a8fe530429fe"
   },
   "outputs": [
    {
     "data": {
      "image/png": "[encoded data removed]",
      "text/plain": [
       "<Figure size 432x288 with 1 Axes>"
      ]
     },
     "metadata": {
      "needs_background": "light"
     },
     "output_type": "display_data"
    }
   ],
   "source": [
    "# making lines for different Values of Beta 0.1, 0.8, 1.5\n",
    "#beta = 0.7\n",
    "#beta = 1.2\n",
    "beta=1.2\n",
    "# keeping intercept constant\n",
    "#b = 1.1\n",
    "b = 0.9\n",
    "\n",
    "# to store predicted points\n",
    "line1 = []\n",
    "\n",
    "# generating predictions for every data point\n",
    "for i in range(len(data)):\n",
    "    line1.append(data.experience[i]*beta + b)\n",
    "\n",
    "# Plotting the line\n",
    "plt.scatter(data.experience, data.salary, color = 'red')\n",
    "plt.plot(data.experience, line1, color = 'black', label = 'line')\n",
    "plt.xlim(1,4.5)\n",
    "plt.ylim(1,7)\n",
    "plt.xlabel('Experience')\n",
    "plt.ylabel('Salary')\n",
    "plt.legend()\n",
    "MSE = mse(data.salary, line1)\n",
    "plt.title(\"Beta value \"+str(beta)+\" with MSE \"+ str(MSE))\n",
    "MSE = mse(data.salary, line1)"
   ]
  },
  {
   "cell_type": "markdown",
   "metadata": {
    "colab_type": "text",
    "id": "2jQjyBbX_2jU"
   },
   "source": [
    "<img src=\"Multiple_plots.png\">"
   ]
  },
  {
   "cell_type": "markdown",
   "metadata": {
    "colab_type": "text",
    "id": "Jay4VzpOYNoS"
   },
   "source": [
    "## Computing Cost over a range of values of Beta"
   ]
  },
  {
   "cell_type": "code",
   "execution_count": 12,
   "metadata": {
    "colab": {},
    "colab_type": "code",
    "id": "qutpG7MHPE6a"
   },
   "outputs": [],
   "source": [
    "# function to calculate error\n",
    "\n",
    "def Error(Beta, data):\n",
    "  # b is constant\n",
    "    b = 1.1\n",
    "  \n",
    "    salary = []\n",
    "    experience  = data.experience\n",
    "  \n",
    "  # Loop to calculate predict salary variables\n",
    "    for i in range(len(data.experience)):\n",
    "        tmp = data.experience[i] * Beta + b\n",
    "        salary.append(tmp)\n",
    "    MSE = mse(data.salary, salary)\n",
    "    return MSE"
   ]
  },
  {
   "cell_type": "code",
   "execution_count": 16,
   "metadata": {},
   "outputs": [
    {
     "data": {
      "text/html": [
       "<div>\n",
       "<style scoped>\n",
       "    .dataframe tbody tr th:only-of-type {\n",
       "        vertical-align: middle;\n",
       "    }\n",
       "\n",
       "    .dataframe tbody tr th {\n",
       "        vertical-align: top;\n",
       "    }\n",
       "\n",
       "    .dataframe thead th {\n",
       "        text-align: right;\n",
       "    }\n",
       "</style>\n",
       "<table border=\"1\" class=\"dataframe\">\n",
       "  <thead>\n",
       "    <tr style=\"text-align: right;\">\n",
       "      <th></th>\n",
       "      <th>salary</th>\n",
       "      <th>experience</th>\n",
       "    </tr>\n",
       "  </thead>\n",
       "  <tbody>\n",
       "    <tr>\n",
       "      <th>0</th>\n",
       "      <td>1.7</td>\n",
       "      <td>1.2</td>\n",
       "    </tr>\n",
       "    <tr>\n",
       "      <th>1</th>\n",
       "      <td>2.4</td>\n",
       "      <td>1.5</td>\n",
       "    </tr>\n",
       "    <tr>\n",
       "      <th>2</th>\n",
       "      <td>2.3</td>\n",
       "      <td>1.9</td>\n",
       "    </tr>\n",
       "    <tr>\n",
       "      <th>3</th>\n",
       "      <td>3.1</td>\n",
       "      <td>2.2</td>\n",
       "    </tr>\n",
       "    <tr>\n",
       "      <th>4</th>\n",
       "      <td>3.7</td>\n",
       "      <td>2.4</td>\n",
       "    </tr>\n",
       "    <tr>\n",
       "      <th>5</th>\n",
       "      <td>4.2</td>\n",
       "      <td>2.5</td>\n",
       "    </tr>\n",
       "    <tr>\n",
       "      <th>6</th>\n",
       "      <td>4.4</td>\n",
       "      <td>2.8</td>\n",
       "    </tr>\n",
       "    <tr>\n",
       "      <th>7</th>\n",
       "      <td>6.1</td>\n",
       "      <td>3.1</td>\n",
       "    </tr>\n",
       "    <tr>\n",
       "      <th>8</th>\n",
       "      <td>5.4</td>\n",
       "      <td>3.3</td>\n",
       "    </tr>\n",
       "    <tr>\n",
       "      <th>9</th>\n",
       "      <td>5.7</td>\n",
       "      <td>3.7</td>\n",
       "    </tr>\n",
       "    <tr>\n",
       "      <th>10</th>\n",
       "      <td>6.4</td>\n",
       "      <td>4.2</td>\n",
       "    </tr>\n",
       "    <tr>\n",
       "      <th>11</th>\n",
       "      <td>6.2</td>\n",
       "      <td>4.4</td>\n",
       "    </tr>\n",
       "  </tbody>\n",
       "</table>\n",
       "</div>"
      ],
      "text/plain": [
       "    salary  experience\n",
       "0      1.7         1.2\n",
       "1      2.4         1.5\n",
       "2      2.3         1.9\n",
       "3      3.1         2.2\n",
       "4      3.7         2.4\n",
       "5      4.2         2.5\n",
       "6      4.4         2.8\n",
       "7      6.1         3.1\n",
       "8      5.4         3.3\n",
       "9      5.7         3.7\n",
       "10     6.4         4.2\n",
       "11     6.2         4.4"
      ]
     },
     "execution_count": 16,
     "metadata": {},
     "output_type": "execute_result"
    }
   ],
   "source": [
    "data"
   ]
  },
  {
   "cell_type": "code",
   "execution_count": 17,
   "metadata": {
    "colab": {},
    "colab_type": "code",
    "id": "GZUCsxP5QHb-"
   },
   "outputs": [],
   "source": [
    "# Range of slopes from 0 to 1.5 with increment of 0.01\n",
    "slope = [i/100 for i in range(0,150)]\n",
    "Cost = []\n",
    "for i in slope:\n",
    "    cost = Error( Beta = i, data = data)\n",
    "    Cost.append(cost)"
   ]
  },
  {
   "cell_type": "code",
   "execution_count": 20,
   "metadata": {},
   "outputs": [
    {
     "data": {
      "text/plain": [
       "[12.791666666666666,\n",
       " 12.5858765,\n",
       " 12.381806,\n",
       " 12.179455166666669,\n",
       " 11.978824000000001,\n",
       " 11.779912500000002,\n",
       " 11.582720666666667,\n",
       " 11.3872485,\n",
       " 11.193496000000003,\n",
       " 11.00146316666667,\n",
       " 10.81115,\n",
       " 10.6225565,\n",
       " 10.435682666666668,\n",
       " 10.2505285,\n",
       " 10.067093999999999,\n",
       " 9.885379166666667,\n",
       " 9.705384,\n",
       " 9.527108499999999,\n",
       " 9.350552666666667,\n",
       " 9.1757165,\n",
       " 9.0026,\n",
       " 8.831203166666667,\n",
       " 8.661526,\n",
       " 8.493568499999999,\n",
       " 8.327330666666667,\n",
       " 8.1628125,\n",
       " 8.000014,\n",
       " 7.8389351666666665,\n",
       " 7.679576,\n",
       " 7.5219365,\n",
       " 7.366016666666666,\n",
       " 7.2118165,\n",
       " 7.059335999999999,\n",
       " 6.908575166666665,\n",
       " 6.759533999999999,\n",
       " 6.612212500000001,\n",
       " 6.466610666666667,\n",
       " 6.3227285,\n",
       " 6.180566,\n",
       " 6.040123166666667,\n",
       " 5.9014,\n",
       " 5.7643965,\n",
       " 5.629112666666668,\n",
       " 5.495548500000001,\n",
       " 5.363703999999999,\n",
       " 5.233579166666667,\n",
       " 5.105174000000001,\n",
       " 4.978488500000001,\n",
       " 4.853522666666667,\n",
       " 4.7302765,\n",
       " 4.608750000000001,\n",
       " 4.488943166666666,\n",
       " 4.370856000000001,\n",
       " 4.2544885,\n",
       " 4.139840666666666,\n",
       " 4.0269125,\n",
       " 3.915704,\n",
       " 3.8062151666666675,\n",
       " 3.698446,\n",
       " 3.5923965,\n",
       " 3.4880666666666666,\n",
       " 3.3854565,\n",
       " 3.284566,\n",
       " 3.1853951666666673,\n",
       " 3.087944,\n",
       " 2.9922124999999995,\n",
       " 2.898200666666666,\n",
       " 2.8059084999999997,\n",
       " 2.7153359999999993,\n",
       " 2.626483166666667,\n",
       " 2.53935,\n",
       " 2.4539365000000006,\n",
       " 2.3702426666666665,\n",
       " 2.2882685000000005,\n",
       " 2.208014,\n",
       " 2.1294791666666666,\n",
       " 2.0526639999999996,\n",
       " 1.9775685,\n",
       " 1.9041926666666666,\n",
       " 1.8325364999999996,\n",
       " 1.762599999999999,\n",
       " 1.6943831666666664,\n",
       " 1.6278860000000004,\n",
       " 1.5631085,\n",
       " 1.5000506666666666,\n",
       " 1.4387125000000003,\n",
       " 1.3790940000000003,\n",
       " 1.3211951666666666,\n",
       " 1.265016,\n",
       " 1.2105564999999996,\n",
       " 1.1578166666666665,\n",
       " 1.1067964999999995,\n",
       " 1.0574959999999995,\n",
       " 1.0099151666666664,\n",
       " 0.9640540000000004,\n",
       " 0.9199125000000005,\n",
       " 0.8774906666666668,\n",
       " 0.8367885,\n",
       " 0.7978060000000003,\n",
       " 0.7605431666666665,\n",
       " 0.7249999999999998,\n",
       " 0.6911765000000001,\n",
       " 0.6590726666666665,\n",
       " 0.6286884999999999,\n",
       " 0.600024,\n",
       " 0.5730791666666667,\n",
       " 0.5478539999999995,\n",
       " 0.5243484999999998,\n",
       " 0.5025626666666665,\n",
       " 0.4824964999999997,\n",
       " 0.4641499999999998,\n",
       " 0.4475231666666665,\n",
       " 0.43261599999999967,\n",
       " 0.41942850000000015,\n",
       " 0.4079606666666667,\n",
       " 0.3982124999999999,\n",
       " 0.39018400000000014,\n",
       " 0.3838751666666665,\n",
       " 0.3792860000000002,\n",
       " 0.37641649999999993,\n",
       " 0.3752666666666666,\n",
       " 0.3758364999999999,\n",
       " 0.37812600000000013,\n",
       " 0.3821351666666666,\n",
       " 0.387864,\n",
       " 0.3953125000000001,\n",
       " 0.40448066666666666,\n",
       " 0.41536849999999986,\n",
       " 0.4279760000000001,\n",
       " 0.4423031666666668,\n",
       " 0.45835,\n",
       " 0.4761165000000002,\n",
       " 0.49560266666666686,\n",
       " 0.5168085000000003,\n",
       " 0.539734,\n",
       " 0.5643791666666669,\n",
       " 0.5907440000000004,\n",
       " 0.6188285000000004,\n",
       " 0.6486326666666665,\n",
       " 0.6801564999999993,\n",
       " 0.7133999999999996,\n",
       " 0.7483631666666665,\n",
       " 0.7850459999999998,\n",
       " 0.8234484999999996,\n",
       " 0.8635706666666665,\n",
       " 0.9054124999999997,\n",
       " 0.9489740000000001,\n",
       " 0.9942551666666665,\n",
       " 1.041256,\n",
       " 1.0899765]"
      ]
     },
     "execution_count": 20,
     "metadata": {},
     "output_type": "execute_result"
    }
   ],
   "source": [
    "Cost"
   ]
  },
  {
   "cell_type": "code",
   "execution_count": 21,
   "metadata": {
    "colab": {
     "base_uri": "https://localhost:8080/",
     "height": 198
    },
    "colab_type": "code",
    "executionInfo": {
     "elapsed": 2403,
     "status": "ok",
     "timestamp": 1563261832066,
     "user": {
      "displayName": "Sharoon Saxena",
      "photoUrl": "",
      "userId": "14774175216384036942"
     },
     "user_tz": -330
    },
    "id": "TkTVWJE3UL1y",
    "outputId": "bb47ebe9-2b86-4567-d5b5-18a46b0ead68"
   },
   "outputs": [
    {
     "data": {
      "text/html": [
       "<div>\n",
       "<style scoped>\n",
       "    .dataframe tbody tr th:only-of-type {\n",
       "        vertical-align: middle;\n",
       "    }\n",
       "\n",
       "    .dataframe tbody tr th {\n",
       "        vertical-align: top;\n",
       "    }\n",
       "\n",
       "    .dataframe thead th {\n",
       "        text-align: right;\n",
       "    }\n",
       "</style>\n",
       "<table border=\"1\" class=\"dataframe\">\n",
       "  <thead>\n",
       "    <tr style=\"text-align: right;\">\n",
       "      <th></th>\n",
       "      <th>Beta</th>\n",
       "      <th>Cost</th>\n",
       "    </tr>\n",
       "  </thead>\n",
       "  <tbody>\n",
       "    <tr>\n",
       "      <th>0</th>\n",
       "      <td>0.00</td>\n",
       "      <td>12.791667</td>\n",
       "    </tr>\n",
       "    <tr>\n",
       "      <th>1</th>\n",
       "      <td>0.01</td>\n",
       "      <td>12.585876</td>\n",
       "    </tr>\n",
       "    <tr>\n",
       "      <th>2</th>\n",
       "      <td>0.02</td>\n",
       "      <td>12.381806</td>\n",
       "    </tr>\n",
       "    <tr>\n",
       "      <th>3</th>\n",
       "      <td>0.03</td>\n",
       "      <td>12.179455</td>\n",
       "    </tr>\n",
       "    <tr>\n",
       "      <th>4</th>\n",
       "      <td>0.04</td>\n",
       "      <td>11.978824</td>\n",
       "    </tr>\n",
       "  </tbody>\n",
       "</table>\n",
       "</div>"
      ],
      "text/plain": [
       "   Beta       Cost\n",
       "0  0.00  12.791667\n",
       "1  0.01  12.585876\n",
       "2  0.02  12.381806\n",
       "3  0.03  12.179455\n",
       "4  0.04  11.978824"
      ]
     },
     "execution_count": 21,
     "metadata": {},
     "output_type": "execute_result"
    }
   ],
   "source": [
    "# Arranging in DataFrame\n",
    "Cost_table = pd.DataFrame({\n",
    "    'Beta' : slope,\n",
    "    'Cost' : Cost\n",
    "})\n",
    "Cost_table.head()"
   ]
  },
  {
   "cell_type": "markdown",
   "metadata": {
    "colab_type": "text",
    "id": "SjZYXIulZ2bA"
   },
   "source": [
    "## Visualising cost with respect to Beta"
   ]
  },
  {
   "cell_type": "code",
   "execution_count": 15,
   "metadata": {
    "colab": {
     "base_uri": "https://localhost:8080/",
     "height": 301
    },
    "colab_type": "code",
    "executionInfo": {
     "elapsed": 3515,
     "status": "ok",
     "timestamp": 1563261833553,
     "user": {
      "displayName": "Sharoon Saxena",
      "photoUrl": "",
      "userId": "14774175216384036942"
     },
     "user_tz": -330
    },
    "id": "UN-dV1GUU6RH",
    "outputId": "f507fcf8-bf93-42b2-c2e8-370f54094f0a"
   },
   "outputs": [
    {
     "data": {
      "text/plain": [
       "<matplotlib.legend.Legend at 0x20e9dee94a8>"
      ]
     },
     "execution_count": 15,
     "metadata": {},
     "output_type": "execute_result"
    },
    {
     "data": {
      "image/png": "[encoded data removed]",
      "text/plain": [
       "<Figure size 432x288 with 1 Axes>"
      ]
     },
     "metadata": {
      "needs_background": "light"
     },
     "output_type": "display_data"
    }
   ],
   "source": [
    "# plotting the cost values corresponding to every value of Beta\n",
    "plt.plot(Cost_table.Beta, Cost_table.Cost, color = 'blue', label = 'Cost Function Curve')\n",
    "plt.xlabel('Value of Beta')\n",
    "plt.ylabel('Cost')\n",
    "plt.legend()"
   ]
  },
  {
   "cell_type": "markdown",
   "metadata": {
    "colab_type": "text",
    "id": "xiJVhQ04-kn1"
   },
   "source": [
    "<img src=\"3d_convex.jpg\">"
   ]
  },
  {
   "cell_type": "markdown",
   "metadata": {
    "colab_type": "text",
    "id": "fIUchenLYi30"
   },
   "source": [
    "## But what if we are given...\n",
    "# $Y = ß_1X_1 + ß_2X_2 + ß_3X_3 ... + ß_nX_n + b$\n"
   ]
  }
 ],
 "metadata": {
  "colab": {
   "collapsed_sections": [],
   "name": "cost_function.ipynb",
   "provenance": [],
   "version": "0.3.2"
  },
  "kernelspec": {
   "display_name": "Python 3",
   "language": "python",
   "name": "python3"
  },
  "language_info": {
   "codemirror_mode": {
    "name": "ipython",
    "version": 3
   },
   "file_extension": ".py",
   "mimetype": "text/x-python",
   "name": "python",
   "nbconvert_exporter": "python",
   "pygments_lexer": "ipython3",
   "version": "3.6.12"
  }
 },
 "nbformat": 4,
 "nbformat_minor": 1
}
