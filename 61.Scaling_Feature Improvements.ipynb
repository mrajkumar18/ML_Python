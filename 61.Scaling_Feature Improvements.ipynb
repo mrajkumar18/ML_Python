{
 "cells": [
  {
   "cell_type": "code",
   "execution_count": 9,
   "id": "expensive-amazon",
   "metadata": {},
   "outputs": [
    {
     "name": "stdout",
     "output_type": "stream",
     "text": [
      "Before Scaling \n",
      " [[30]\n",
      " [20]\n",
      " [10]\n",
      " [20]\n",
      " [30]]\n",
      "nAfter standard scalern \n",
      " [[2. ]\n",
      " [1.5]\n",
      " [1. ]\n",
      " [1.5]\n",
      " [2. ]]\n"
     ]
    }
   ],
   "source": [
    "\n",
    "# Standard Scaler - Let me check again..\n",
    "#Standardizes a feature by subtracting the mean and then scaling to unit variance. \n",
    "#Unit variance means dividing all the values by the standard\n",
    "import numpy as np\n",
    "from sklearn import preprocessing\n",
    "data1 = np.array([\n",
    "[30],\n",
    "[20],\n",
    "[10],\n",
    "[20],\n",
    "[30]                  \n",
    "])\n",
    "print('Before Scaling \\n',data1)\n",
    "standard_scaler = preprocessing.StandardScaler()\n",
    "print('nAfter standard scalern \\n',scaled)\n",
    "scaled = standard_scaler.fit_transform(data1)\n"
   ]
  },
  {
   "cell_type": "code",
   "execution_count": 8,
   "id": "modern-behalf",
   "metadata": {},
   "outputs": [
    {
     "name": "stdout",
     "output_type": "stream",
     "text": [
      "Before scalingn [[30]\n",
      " [20]\n",
      " [10]\n",
      " [20]\n",
      " [30]]\n",
      "nAfter Min-Max Scalern [[2. ]\n",
      " [1.5]\n",
      " [1. ]\n",
      " [1.5]\n",
      " [2. ]]\n"
     ]
    }
   ],
   "source": [
    "#Min-Max Scaler\n",
    "#Will transform each value in the column proportionally within the range [0,1]\n",
    "import numpy as np\n",
    "from sklearn import preprocessing\n",
    "data1 = np.array([\n",
    "[30],\n",
    "[20],\n",
    "[10],\n",
    "[20],\n",
    "[30]                  \n",
    "])\n",
    "print('Before scalingn',data1)\n",
    "minmax_scale = preprocessing.MinMaxScaler(feature_range=(1, 2))\n",
    "scaled = minmax_scale.fit_transform(data1)\n",
    "print('nAfter Min-Max Scalern',scaled)"
   ]
  },
  {
   "cell_type": "code",
   "execution_count": null,
   "id": "periodic-poker",
   "metadata": {},
   "outputs": [],
   "source": [
    "#Robust Scaler\n",
    "# Robust Scalar: Robust Scalar is specifically to handle the outliers. \n",
    "# Since other scaling methods are not supported effectively.\n",
    "# This method removes the median and scales the data according to the QUANTILE RANGE, from defaults to IQR: Interquartile Range. (Range è 25% – 75%)\n",
    "import numpy as np\n",
    "from sklearn import preprocessing\n",
    "data1 = np.array([[-100.3],\n",
    "[27.5],\n",
    "[0],\n",
    "[-200.9],\n",
    "[1000]])\n",
    "print('Before Scalingn',data1)\n",
    "robust_scaler = preprocessing.RobustScaler()\n",
    "scaled = robust_scaler.fit_transform(data1)\n",
    "print('n After Robust Scalern',scaled)"
   ]
  }
 ],
 "metadata": {
  "kernelspec": {
   "display_name": "Python 3",
   "language": "python",
   "name": "python3"
  },
  "language_info": {
   "codemirror_mode": {
    "name": "ipython",
    "version": 3
   },
   "file_extension": ".py",
   "mimetype": "text/x-python",
   "name": "python",
   "nbconvert_exporter": "python",
   "pygments_lexer": "ipython3",
   "version": "3.6.12"
  }
 },
 "nbformat": 4,
 "nbformat_minor": 5
}
