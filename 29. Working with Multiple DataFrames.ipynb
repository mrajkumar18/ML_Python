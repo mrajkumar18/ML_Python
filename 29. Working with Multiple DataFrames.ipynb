{
 "cells": [
  {
   "cell_type": "markdown",
   "metadata": {},
   "source": [
    "---\n",
    "---\n",
    "\n",
    "<center><h1> 📍 📍 Working with Multiple DataFrames 📍 📍 </h1></center>\n",
    "\n",
    "\n",
    "---\n",
    "\n",
    "- In most of the real life projects you will not get data from a single resource. You might need to combine data that you gather from multiple sources. In this notebook, we will see how to work with multiple data files? \n",
    "\n",
    "\n",
    "***We have already worked with big mart sales data. Here, we have divided the data based on different outlet size. Let's see how to work with the multiple files***\n",
    "\n",
    "\n",
    "---\n",
    "\n",
    "#### `READ THE DATA`\n",
    "\n",
    "---"
   ]
  },
  {
   "cell_type": "code",
   "execution_count": 1,
   "metadata": {},
   "outputs": [],
   "source": [
    "# importing the pandas library\n",
    "import pandas as pd"
   ]
  },
  {
   "cell_type": "code",
   "execution_count": null,
   "metadata": {},
   "outputs": [],
   "source": [
    "SGK = pd.DataFrame ({\n",
    "    \n",
    "    'Name':['Valli','Kumaran','Srikumar','Dr. RR','RK'],\n",
    "    'Age':['42','46','17','33','45']\n",
    "})"
   ]
  },
  {
   "cell_type": "code",
   "execution_count": null,
   "metadata": {},
   "outputs": [],
   "source": [
    "SGK"
   ]
  },
  {
   "cell_type": "markdown",
   "metadata": {},
   "source": [
    "---\n",
    "\n",
    "***Read 3 different files `outlet_size_small.csv`, `outlet_size_medium.csv` and `outlet_size_high.csv` stored in the folder datasets.***\n",
    "\n",
    "---"
   ]
  },
  {
   "cell_type": "code",
   "execution_count": null,
   "metadata": {},
   "outputs": [],
   "source": [
    "# read the datasets\n",
    "outlet_size_small = pd.read_csv('Concatenation data/outlet_size_small.csv')\n",
    "outlet_size_medium = pd.read_csv('Concatenation data/outlet_size_medium.csv')\n",
    "outlet_size_large = pd.read_csv('Concatenation data/outlet_size_high.csv')"
   ]
  },
  {
   "cell_type": "markdown",
   "metadata": {},
   "source": [
    "***Let's check the shape of the data.***\n",
    "\n",
    "---"
   ]
  },
  {
   "cell_type": "code",
   "execution_count": null,
   "metadata": {},
   "outputs": [],
   "source": [
    "outlet_size_small.shape, outlet_size_medium.shape, outlet_size_large.shape"
   ]
  },
  {
   "cell_type": "markdown",
   "metadata": {},
   "source": [
    "***So, there are 2388 small, 2793 medium and 932 large size outlets are there.***\n",
    "\n",
    "\n",
    "---\n",
    "\n",
    "***Let's have a look at the data***\n",
    "\n",
    "#### `OUTLET SIZE SMALL`\n",
    "---"
   ]
  },
  {
   "cell_type": "code",
   "execution_count": null,
   "metadata": {},
   "outputs": [],
   "source": [
    "outlet_size_small.head()"
   ]
  },
  {
   "cell_type": "markdown",
   "metadata": {},
   "source": [
    "#### `OUTLET SIZE MEDIUM`\n",
    "\n",
    "---"
   ]
  },
  {
   "cell_type": "code",
   "execution_count": null,
   "metadata": {},
   "outputs": [],
   "source": [
    "outlet_size_medium.head()"
   ]
  },
  {
   "cell_type": "markdown",
   "metadata": {},
   "source": [
    "#### `OUTLET SIZE LARGE`\n",
    "\n",
    "---"
   ]
  },
  {
   "cell_type": "code",
   "execution_count": null,
   "metadata": {},
   "outputs": [],
   "source": [
    "outlet_size_large.head()"
   ]
  },
  {
   "cell_type": "markdown",
   "metadata": {},
   "source": [
    "---\n",
    "\n",
    "#### `CONCATENATE ALL THE DATAFRAMES`\n",
    "\n",
    "\n",
    "We will use the concat function to concatenate all the dataframes. You just need to pass the list of dataframes to concatenate.\n",
    "\n",
    "---\n",
    "\n",
    "#### `FOR ROW-WISE CONCATENATION USE AXIS=0`\n",
    "\n",
    "\n",
    "---"
   ]
  },
  {
   "cell_type": "code",
   "execution_count": null,
   "metadata": {},
   "outputs": [],
   "source": [
    "# dataframes list\n",
    "all_dataframes = [outlet_size_small, outlet_size_medium, outlet_size_large]"
   ]
  },
  {
   "cell_type": "code",
   "execution_count": null,
   "metadata": {},
   "outputs": [],
   "source": [
    "# concatenate all the dataframes\n",
    "data = pd.concat(all_dataframes, axis=0)"
   ]
  },
  {
   "cell_type": "code",
   "execution_count": null,
   "metadata": {},
   "outputs": [],
   "source": [
    "# shape of the data\n",
    "data.shape"
   ]
  },
  {
   "cell_type": "code",
   "execution_count": null,
   "metadata": {},
   "outputs": [],
   "source": [
    "data.head()"
   ]
  },
  {
   "cell_type": "markdown",
   "metadata": {},
   "source": [
    "#### `FOR COLUMN-WISE CONCATENATION USE AXIS=1`\n",
    "\n",
    "\n",
    "It is not advised to concatenate dataframes column wise. If you want to then you need to take care of some checks like the number of rows must be same in both the dataframes. Indexes are sorted of both the dataframes. If you are done with all the checks then you can simply use `axis=1` to do the job.\n",
    "\n",
    "\n",
    "\n",
    "Let's see with the help of an example.\n",
    "\n",
    "\n",
    "---"
   ]
  },
  {
   "cell_type": "code",
   "execution_count": null,
   "metadata": {},
   "outputs": [],
   "source": [
    "sample_dataframe = pd.DataFrame({\n",
    "    'roll_no': [ 102, 101, 104, 103, 105],\n",
    "    'name' : ['Aravind', 'Rahul', 'Prateek', 'Piyuesh', 'Kartik'],\n",
    "    'grade': ['B', 'B', 'A', 'C', 'A'],\n",
    "    'marks': [ 15, 15, 20, 4, 22],\n",
    "    'city' : ['Gurugram', 'Delhi', 'Delhi', 'Gurugram', 'Hyderabad']\n",
    "})\n",
    "sample_dataframe"
   ]
  },
  {
   "cell_type": "markdown",
   "metadata": {},
   "source": [
    "***Let's create a dataframe which contains column name `phone_no`. Here, we are assuming that order of phone numbers are correct as the order of names in the sample_dataframe.***\n",
    "\n",
    "---"
   ]
  },
  {
   "cell_type": "code",
   "execution_count": null,
   "metadata": {},
   "outputs": [],
   "source": [
    "# another sample dataframe\n",
    "phone_no = pd.DataFrame({ 'phone_no' : [212202, 202021, 212334, 213431, 211721]})\n",
    "phone_no"
   ]
  },
  {
   "cell_type": "code",
   "execution_count": null,
   "metadata": {},
   "outputs": [],
   "source": [
    "combined = pd.concat([sample_dataframe,phone_no], axis=1)\n",
    "combined"
   ]
  },
  {
   "cell_type": "markdown",
   "metadata": {},
   "source": [
    "---\n",
    "\n",
    "#### `Performing SQL-Like Joins in Pandas`\n",
    "\n",
    "\n",
    "#### `LET'S LEARN ABOUT THE JOINS IN PANDAS WITH SOME EXAMPLES`\n",
    "\n",
    "- We will create a sample dataframe of students data that will contain `roll_no`, `name`, `grade`, `marks` and `city`. \n",
    "\n",
    "\n",
    "---"
   ]
  },
  {
   "cell_type": "code",
   "execution_count": null,
   "metadata": {},
   "outputs": [],
   "source": [
    "student_df = pd.DataFrame({\n",
    "    'roll_no': [ 102, 101, 104, 103, 105],\n",
    "    'name' : ['Aravind', 'Rahul', 'Prateek', 'Piyuesh', 'Kartik'],\n",
    "    'grade': ['B', 'B', 'A', 'C', 'A'],\n",
    "    'marks': [ 15, 15, 20, 4, 22],\n",
    "    'city' : ['Gurugram', 'Delhi', 'Delhi', 'Gurugram', 'Hyderabad']\n",
    "})\n",
    "student_df"
   ]
  },
  {
   "cell_type": "markdown",
   "metadata": {},
   "source": [
    "---\n",
    "\n",
    "***Now, we have a mapping of city and state. We want to add another feature to our dataframe state using this mapping.***\n",
    "\n",
    "\n",
    "Let's create the city_state_mapping \n",
    "\n",
    "---"
   ]
  },
  {
   "cell_type": "code",
   "execution_count": null,
   "metadata": {},
   "outputs": [],
   "source": [
    "city_state_mapping = pd.DataFrame({\n",
    "    'city' :  ['Gurugram', 'Delhi', 'Hyderabad', 'Faridabad'],\n",
    "    'state' : ['Haryana',  'Delhi', 'Telangana', 'Haryana']\n",
    "})\n",
    "city_state_mapping"
   ]
  },
  {
   "cell_type": "markdown",
   "metadata": {},
   "source": [
    "***Now, we want to add another column state to the `student_df` using the `city_state_mapping`. We can do this by doing a left join. We need to use the merge function and set the parameters `how='left'` and `on='city`.***\n",
    "\n",
    "![](left.png)\n",
    "---"
   ]
  },
  {
   "cell_type": "code",
   "execution_count": null,
   "metadata": {},
   "outputs": [],
   "source": [
    "city_state_mapping"
   ]
  },
  {
   "cell_type": "code",
   "execution_count": null,
   "metadata": {},
   "outputs": [],
   "source": [
    "student_df.merge(city_state_mapping, how='left', on='city')"
   ]
  },
  {
   "cell_type": "markdown",
   "metadata": {},
   "source": [
    "***Now, we have another dataframe that contains roll_no of some students. We need to find out the other details of the students. We can do this by using `right join`. You just need to set `how='right'`.***\n",
    "\n",
    "![](right.png)\n",
    "---"
   ]
  },
  {
   "cell_type": "code",
   "execution_count": null,
   "metadata": {},
   "outputs": [],
   "source": [
    "roll_no = pd.DataFrame({\n",
    "    'roll_no' : [ 102, 103]\n",
    "})\n",
    "roll_no"
   ]
  },
  {
   "cell_type": "code",
   "execution_count": null,
   "metadata": {},
   "outputs": [],
   "source": [
    "student_df"
   ]
  },
  {
   "cell_type": "code",
   "execution_count": null,
   "metadata": {},
   "outputs": [],
   "source": [
    "student_df.merge(roll_no, how='right', on='roll_no')"
   ]
  },
  {
   "cell_type": "markdown",
   "metadata": {},
   "source": [
    "***Now, students participated in a placement drive and some of the students got placed and the details are given in the `student_selection` dataframe.***\n",
    "\n",
    "---"
   ]
  },
  {
   "cell_type": "code",
   "execution_count": null,
   "metadata": {},
   "outputs": [],
   "source": [
    "student_selection = pd.DataFrame({\n",
    "    'roll_no' : [102, 105, 101],\n",
    "    'company' : ['ABC', 'XYZ', 'ABC'],\n",
    "    'package (lpa)' : [ 8, 14.5, 11 ]\n",
    "})\n",
    "student_selection"
   ]
  },
  {
   "cell_type": "markdown",
   "metadata": {},
   "source": [
    "***Now, we want to combine the `student_df` and `student_selection`. We can do this by using `outer/full join`. You need to set parameter `how = 'outer'`.***\n",
    "\n",
    "![](outer.png)\n",
    "\n",
    "---"
   ]
  },
  {
   "cell_type": "code",
   "execution_count": null,
   "metadata": {},
   "outputs": [],
   "source": [
    "student_df"
   ]
  },
  {
   "cell_type": "code",
   "execution_count": null,
   "metadata": {},
   "outputs": [],
   "source": [
    "student_df.merge(student_selection, how='outer')"
   ]
  },
  {
   "cell_type": "markdown",
   "metadata": {},
   "source": [
    "---\n",
    "\n",
    "***Now, consider it was a pool placement drive and students from multiple colleges participated. The college `\"ZU UNIVERSITY\"` got the list of students selected for the job. You need to find out the details of the students who got selected from the college `\"ZU UNIVERSITY\"`***\n",
    "\n",
    "\n",
    "---"
   ]
  },
  {
   "cell_type": "code",
   "execution_count": null,
   "metadata": {},
   "outputs": [],
   "source": [
    "student_df = pd.DataFrame({\n",
    "    'college': ['ZU UNIVERSITY', 'ZU UNIVERSITY', 'ZU UNIVERSITY', 'ZU UNIVERSITY', 'ZU UNIVERSITY'],\n",
    "    'roll_no': [ 102, 101, 104, 103, 105],\n",
    "    'name' : ['Aravind', 'Rahul', 'Prateek', 'Piyuesh', 'Kartik'],\n",
    "    'grade': ['B', 'B', 'A', 'C', 'A'],\n",
    "    'marks': [ 15, 15, 20, 4, 22],\n",
    "    'city' : ['Gurugram', 'Delhi', 'Delhi', 'Gurugram', 'Hyderabad']\n",
    "})\n",
    "student_df"
   ]
  },
  {
   "cell_type": "code",
   "execution_count": null,
   "metadata": {},
   "outputs": [],
   "source": [
    "pool = pd.DataFrame({\n",
    "        'college': ['ZU UNIVERSITY', 'ZU UNIVERSITY', 'AB UNIVERSITY', 'ZU UNIVERSITY','AB UNIVERSITY'],\n",
    "        'name' : ['Aravind', 'Rahul', 'Rahul', 'Prateek', 'Harsh'],\n",
    "        'company' : ['ABC', 'XYZ', 'ABC', 'AEP', 'ABC'],\n",
    "        'package (lpa)' : [ 8, 14.5, 11, 6, 6 ]\n",
    "})\n",
    "pool"
   ]
  },
  {
   "cell_type": "markdown",
   "metadata": {},
   "source": [
    "---\n",
    "\n",
    "***Now, we have 2 columns common `college` and `name` in both the dataframes. So, here we will use the `inner join`. You just need to set the parameters `how='inner'` and as we have 2 common columns therefore, set the parameter `on=['college','name']`.***\n",
    "\n",
    "\n",
    "![](inner.png)\n",
    "\n",
    "---"
   ]
  },
  {
   "cell_type": "code",
   "execution_count": null,
   "metadata": {},
   "outputs": [],
   "source": [
    "student_df.merge(pool, how='inner', on=['college', 'name'])"
   ]
  },
  {
   "cell_type": "markdown",
   "metadata": {},
   "source": [
    "---\n",
    "\n",
    "### `NOW LET'S SOLVE THE PROBLEM`\n",
    "\n",
    "---\n",
    "\n",
    "We have another dataset `outlet_data.csv` in the dataset folder. It has column `Outlet_Identifier`, `Outlet_Establishment_Year`, `Outlet_Size` and `Outlet_Location_Type`.\n",
    "\n",
    "\n",
    "Now, we have `Outlet_Identifier` in both the datasets and we need to combine them and get the rest of the variables in our dataset. So we will do a `left join` to merge the data frames. Let's see how?\n",
    "\n",
    "---\n",
    "\n",
    "\n",
    "#### `READ THE OUTLET DATA`\n",
    "\n",
    "---"
   ]
  },
  {
   "cell_type": "code",
   "execution_count": null,
   "metadata": {},
   "outputs": [],
   "source": [
    "### all merges with sample "
   ]
  },
  {
   "cell_type": "code",
   "execution_count": 3,
   "metadata": {},
   "outputs": [],
   "source": [
    "previous_data = pd.read_csv('Concatenation data/outlet_size_concatenated_data.csv')"
   ]
  },
  {
   "cell_type": "code",
   "execution_count": 4,
   "metadata": {},
   "outputs": [
    {
     "data": {
      "text/html": [
       "<div>\n",
       "<style scoped>\n",
       "    .dataframe tbody tr th:only-of-type {\n",
       "        vertical-align: middle;\n",
       "    }\n",
       "\n",
       "    .dataframe tbody tr th {\n",
       "        vertical-align: top;\n",
       "    }\n",
       "\n",
       "    .dataframe thead th {\n",
       "        text-align: right;\n",
       "    }\n",
       "</style>\n",
       "<table border=\"1\" class=\"dataframe\">\n",
       "  <thead>\n",
       "    <tr style=\"text-align: right;\">\n",
       "      <th></th>\n",
       "      <th>Item_Identifier</th>\n",
       "      <th>Item_Weight</th>\n",
       "      <th>Item_Fat_Content</th>\n",
       "      <th>Item_Visibility</th>\n",
       "      <th>Item_Type</th>\n",
       "      <th>Item_MRP</th>\n",
       "      <th>Outlet_Identifier</th>\n",
       "      <th>Outlet_Type</th>\n",
       "      <th>Item_Outlet_Sales</th>\n",
       "    </tr>\n",
       "  </thead>\n",
       "  <tbody>\n",
       "    <tr>\n",
       "      <th>0</th>\n",
       "      <td>FDA03</td>\n",
       "      <td>18.50</td>\n",
       "      <td>Regular</td>\n",
       "      <td>0.045464</td>\n",
       "      <td>Dairy</td>\n",
       "      <td>144.1102</td>\n",
       "      <td>OUT046</td>\n",
       "      <td>Supermarket Type1</td>\n",
       "      <td>2187.1530</td>\n",
       "    </tr>\n",
       "    <tr>\n",
       "      <th>1</th>\n",
       "      <td>FDS46</td>\n",
       "      <td>17.60</td>\n",
       "      <td>Regular</td>\n",
       "      <td>0.047257</td>\n",
       "      <td>Snack Foods</td>\n",
       "      <td>119.6782</td>\n",
       "      <td>OUT046</td>\n",
       "      <td>Supermarket Type1</td>\n",
       "      <td>2145.2076</td>\n",
       "    </tr>\n",
       "    <tr>\n",
       "      <th>2</th>\n",
       "      <td>FDP49</td>\n",
       "      <td>9.00</td>\n",
       "      <td>Regular</td>\n",
       "      <td>0.069089</td>\n",
       "      <td>Breakfast</td>\n",
       "      <td>56.3614</td>\n",
       "      <td>OUT046</td>\n",
       "      <td>Supermarket Type1</td>\n",
       "      <td>1547.3192</td>\n",
       "    </tr>\n",
       "    <tr>\n",
       "      <th>3</th>\n",
       "      <td>FDU02</td>\n",
       "      <td>13.35</td>\n",
       "      <td>Low Fat</td>\n",
       "      <td>0.102492</td>\n",
       "      <td>Dairy</td>\n",
       "      <td>230.5352</td>\n",
       "      <td>OUT035</td>\n",
       "      <td>Supermarket Type1</td>\n",
       "      <td>2748.4224</td>\n",
       "    </tr>\n",
       "    <tr>\n",
       "      <th>4</th>\n",
       "      <td>NCB30</td>\n",
       "      <td>14.60</td>\n",
       "      <td>Low Fat</td>\n",
       "      <td>0.025698</td>\n",
       "      <td>Household</td>\n",
       "      <td>196.5084</td>\n",
       "      <td>OUT035</td>\n",
       "      <td>Supermarket Type1</td>\n",
       "      <td>1587.2672</td>\n",
       "    </tr>\n",
       "  </tbody>\n",
       "</table>\n",
       "</div>"
      ],
      "text/plain": [
       "  Item_Identifier  Item_Weight Item_Fat_Content  Item_Visibility    Item_Type  \\\n",
       "0           FDA03        18.50          Regular         0.045464        Dairy   \n",
       "1           FDS46        17.60          Regular         0.047257  Snack Foods   \n",
       "2           FDP49         9.00          Regular         0.069089    Breakfast   \n",
       "3           FDU02        13.35          Low Fat         0.102492        Dairy   \n",
       "4           NCB30        14.60          Low Fat         0.025698    Household   \n",
       "\n",
       "   Item_MRP Outlet_Identifier        Outlet_Type  Item_Outlet_Sales  \n",
       "0  144.1102            OUT046  Supermarket Type1          2187.1530  \n",
       "1  119.6782            OUT046  Supermarket Type1          2145.2076  \n",
       "2   56.3614            OUT046  Supermarket Type1          1547.3192  \n",
       "3  230.5352            OUT035  Supermarket Type1          2748.4224  \n",
       "4  196.5084            OUT035  Supermarket Type1          1587.2672  "
      ]
     },
     "execution_count": 4,
     "metadata": {},
     "output_type": "execute_result"
    }
   ],
   "source": [
    "previous_data.head()"
   ]
  },
  {
   "cell_type": "code",
   "execution_count": 5,
   "metadata": {},
   "outputs": [],
   "source": [
    "# read the outlet data\n",
    "outlet_data = pd.read_csv('Concatenation data/outlet_data.csv')"
   ]
  },
  {
   "cell_type": "code",
   "execution_count": 6,
   "metadata": {},
   "outputs": [
    {
     "data": {
      "text/html": [
       "<div>\n",
       "<style scoped>\n",
       "    .dataframe tbody tr th:only-of-type {\n",
       "        vertical-align: middle;\n",
       "    }\n",
       "\n",
       "    .dataframe tbody tr th {\n",
       "        vertical-align: top;\n",
       "    }\n",
       "\n",
       "    .dataframe thead th {\n",
       "        text-align: right;\n",
       "    }\n",
       "</style>\n",
       "<table border=\"1\" class=\"dataframe\">\n",
       "  <thead>\n",
       "    <tr style=\"text-align: right;\">\n",
       "      <th></th>\n",
       "      <th>Outlet_Identifier</th>\n",
       "      <th>Outlet_Establishment_Year</th>\n",
       "      <th>Outlet_Size</th>\n",
       "      <th>Outlet_Location_Type</th>\n",
       "    </tr>\n",
       "  </thead>\n",
       "  <tbody>\n",
       "    <tr>\n",
       "      <th>0</th>\n",
       "      <td>OUT013</td>\n",
       "      <td>1987</td>\n",
       "      <td>High</td>\n",
       "      <td>Tier 3</td>\n",
       "    </tr>\n",
       "    <tr>\n",
       "      <th>1</th>\n",
       "      <td>OUT018</td>\n",
       "      <td>2009</td>\n",
       "      <td>Medium</td>\n",
       "      <td>Tier 3</td>\n",
       "    </tr>\n",
       "    <tr>\n",
       "      <th>2</th>\n",
       "      <td>OUT019</td>\n",
       "      <td>1985</td>\n",
       "      <td>Small</td>\n",
       "      <td>Tier 1</td>\n",
       "    </tr>\n",
       "    <tr>\n",
       "      <th>3</th>\n",
       "      <td>OUT027</td>\n",
       "      <td>1985</td>\n",
       "      <td>Medium</td>\n",
       "      <td>Tier 3</td>\n",
       "    </tr>\n",
       "    <tr>\n",
       "      <th>4</th>\n",
       "      <td>OUT035</td>\n",
       "      <td>2004</td>\n",
       "      <td>Small</td>\n",
       "      <td>Tier 2</td>\n",
       "    </tr>\n",
       "  </tbody>\n",
       "</table>\n",
       "</div>"
      ],
      "text/plain": [
       "  Outlet_Identifier  Outlet_Establishment_Year Outlet_Size  \\\n",
       "0            OUT013                       1987        High   \n",
       "1            OUT018                       2009      Medium   \n",
       "2            OUT019                       1985       Small   \n",
       "3            OUT027                       1985      Medium   \n",
       "4            OUT035                       2004       Small   \n",
       "\n",
       "  Outlet_Location_Type  \n",
       "0               Tier 3  \n",
       "1               Tier 3  \n",
       "2               Tier 1  \n",
       "3               Tier 3  \n",
       "4               Tier 2  "
      ]
     },
     "execution_count": 6,
     "metadata": {},
     "output_type": "execute_result"
    }
   ],
   "source": [
    "# view the top rows of the data\n",
    "outlet_data.head()"
   ]
  },
  {
   "cell_type": "markdown",
   "metadata": {},
   "source": [
    "---\n",
    "\n",
    "\n",
    "***Use the merge function to set parameter `how = 'left'` for the left join and the set the on parameter as the common column name as `on='Outlet_Identifier'`.***\n",
    "\n",
    "\n",
    "---"
   ]
  },
  {
   "cell_type": "code",
   "execution_count": 12,
   "metadata": {},
   "outputs": [],
   "source": [
    "# merge the data\n",
    "combined_data = previous_data.merge(outlet_data, how='left', on='Outlet_Identifier')"
   ]
  },
  {
   "cell_type": "code",
   "execution_count": 13,
   "metadata": {},
   "outputs": [
    {
     "data": {
      "text/html": [
       "<div>\n",
       "<style scoped>\n",
       "    .dataframe tbody tr th:only-of-type {\n",
       "        vertical-align: middle;\n",
       "    }\n",
       "\n",
       "    .dataframe tbody tr th {\n",
       "        vertical-align: top;\n",
       "    }\n",
       "\n",
       "    .dataframe thead th {\n",
       "        text-align: right;\n",
       "    }\n",
       "</style>\n",
       "<table border=\"1\" class=\"dataframe\">\n",
       "  <thead>\n",
       "    <tr style=\"text-align: right;\">\n",
       "      <th></th>\n",
       "      <th>Item_Identifier</th>\n",
       "      <th>Item_Weight</th>\n",
       "      <th>Item_Fat_Content</th>\n",
       "      <th>Item_Visibility</th>\n",
       "      <th>Item_Type</th>\n",
       "      <th>Item_MRP</th>\n",
       "      <th>Outlet_Identifier</th>\n",
       "      <th>Outlet_Type</th>\n",
       "      <th>Item_Outlet_Sales</th>\n",
       "      <th>Outlet_Establishment_Year</th>\n",
       "      <th>Outlet_Size</th>\n",
       "      <th>Outlet_Location_Type</th>\n",
       "    </tr>\n",
       "  </thead>\n",
       "  <tbody>\n",
       "    <tr>\n",
       "      <th>0</th>\n",
       "      <td>FDA03</td>\n",
       "      <td>18.50</td>\n",
       "      <td>Regular</td>\n",
       "      <td>0.045464</td>\n",
       "      <td>Dairy</td>\n",
       "      <td>144.1102</td>\n",
       "      <td>OUT046</td>\n",
       "      <td>Supermarket Type1</td>\n",
       "      <td>2187.1530</td>\n",
       "      <td>1997</td>\n",
       "      <td>Small</td>\n",
       "      <td>Tier 1</td>\n",
       "    </tr>\n",
       "    <tr>\n",
       "      <th>1</th>\n",
       "      <td>FDS46</td>\n",
       "      <td>17.60</td>\n",
       "      <td>Regular</td>\n",
       "      <td>0.047257</td>\n",
       "      <td>Snack Foods</td>\n",
       "      <td>119.6782</td>\n",
       "      <td>OUT046</td>\n",
       "      <td>Supermarket Type1</td>\n",
       "      <td>2145.2076</td>\n",
       "      <td>1997</td>\n",
       "      <td>Small</td>\n",
       "      <td>Tier 1</td>\n",
       "    </tr>\n",
       "    <tr>\n",
       "      <th>2</th>\n",
       "      <td>FDP49</td>\n",
       "      <td>9.00</td>\n",
       "      <td>Regular</td>\n",
       "      <td>0.069089</td>\n",
       "      <td>Breakfast</td>\n",
       "      <td>56.3614</td>\n",
       "      <td>OUT046</td>\n",
       "      <td>Supermarket Type1</td>\n",
       "      <td>1547.3192</td>\n",
       "      <td>1997</td>\n",
       "      <td>Small</td>\n",
       "      <td>Tier 1</td>\n",
       "    </tr>\n",
       "    <tr>\n",
       "      <th>3</th>\n",
       "      <td>FDU02</td>\n",
       "      <td>13.35</td>\n",
       "      <td>Low Fat</td>\n",
       "      <td>0.102492</td>\n",
       "      <td>Dairy</td>\n",
       "      <td>230.5352</td>\n",
       "      <td>OUT035</td>\n",
       "      <td>Supermarket Type1</td>\n",
       "      <td>2748.4224</td>\n",
       "      <td>2004</td>\n",
       "      <td>Small</td>\n",
       "      <td>Tier 2</td>\n",
       "    </tr>\n",
       "    <tr>\n",
       "      <th>4</th>\n",
       "      <td>NCB30</td>\n",
       "      <td>14.60</td>\n",
       "      <td>Low Fat</td>\n",
       "      <td>0.025698</td>\n",
       "      <td>Household</td>\n",
       "      <td>196.5084</td>\n",
       "      <td>OUT035</td>\n",
       "      <td>Supermarket Type1</td>\n",
       "      <td>1587.2672</td>\n",
       "      <td>2004</td>\n",
       "      <td>Small</td>\n",
       "      <td>Tier 2</td>\n",
       "    </tr>\n",
       "  </tbody>\n",
       "</table>\n",
       "</div>"
      ],
      "text/plain": [
       "  Item_Identifier  Item_Weight Item_Fat_Content  Item_Visibility    Item_Type  \\\n",
       "0           FDA03        18.50          Regular         0.045464        Dairy   \n",
       "1           FDS46        17.60          Regular         0.047257  Snack Foods   \n",
       "2           FDP49         9.00          Regular         0.069089    Breakfast   \n",
       "3           FDU02        13.35          Low Fat         0.102492        Dairy   \n",
       "4           NCB30        14.60          Low Fat         0.025698    Household   \n",
       "\n",
       "   Item_MRP Outlet_Identifier        Outlet_Type  Item_Outlet_Sales  \\\n",
       "0  144.1102            OUT046  Supermarket Type1          2187.1530   \n",
       "1  119.6782            OUT046  Supermarket Type1          2145.2076   \n",
       "2   56.3614            OUT046  Supermarket Type1          1547.3192   \n",
       "3  230.5352            OUT035  Supermarket Type1          2748.4224   \n",
       "4  196.5084            OUT035  Supermarket Type1          1587.2672   \n",
       "\n",
       "   Outlet_Establishment_Year Outlet_Size Outlet_Location_Type  \n",
       "0                       1997       Small               Tier 1  \n",
       "1                       1997       Small               Tier 1  \n",
       "2                       1997       Small               Tier 1  \n",
       "3                       2004       Small               Tier 2  \n",
       "4                       2004       Small               Tier 2  "
      ]
     },
     "execution_count": 13,
     "metadata": {},
     "output_type": "execute_result"
    }
   ],
   "source": [
    "# view the data\n",
    "combined_data.head()"
   ]
  },
  {
   "cell_type": "code",
   "execution_count": null,
   "metadata": {},
   "outputs": [],
   "source": [
    "combined_data.shape"
   ]
  },
  {
   "cell_type": "markdown",
   "metadata": {},
   "source": [
    "----\n",
    "\n",
    "So, you can see that we got some extra variables in the dataset.\n",
    "\n",
    "----\n",
    "\n",
    "\n",
    "***Now, we have a sample list of Item_Identifiers in a separate file `item_identifier.csv`. We are required to provide all the details that we have related to that particular Item_Identifier. Let's see how can we do that with the help of a `RIGHT JOIN`***\n",
    "\n",
    "---\n",
    "\n",
    "\n",
    "#### `READ THE DATA`\n",
    "\n",
    "---"
   ]
  },
  {
   "cell_type": "code",
   "execution_count": 8,
   "metadata": {},
   "outputs": [],
   "source": [
    "# read the data\n",
    "item_data = pd.read_csv('Concatenation data/item_idenifier.csv')"
   ]
  },
  {
   "cell_type": "code",
   "execution_count": 9,
   "metadata": {},
   "outputs": [
    {
     "data": {
      "text/html": [
       "<div>\n",
       "<style scoped>\n",
       "    .dataframe tbody tr th:only-of-type {\n",
       "        vertical-align: middle;\n",
       "    }\n",
       "\n",
       "    .dataframe tbody tr th {\n",
       "        vertical-align: top;\n",
       "    }\n",
       "\n",
       "    .dataframe thead th {\n",
       "        text-align: right;\n",
       "    }\n",
       "</style>\n",
       "<table border=\"1\" class=\"dataframe\">\n",
       "  <thead>\n",
       "    <tr style=\"text-align: right;\">\n",
       "      <th></th>\n",
       "      <th>Item_Identifier</th>\n",
       "    </tr>\n",
       "  </thead>\n",
       "  <tbody>\n",
       "    <tr>\n",
       "      <th>0</th>\n",
       "      <td>DRI51</td>\n",
       "    </tr>\n",
       "    <tr>\n",
       "      <th>1</th>\n",
       "      <td>FDL48</td>\n",
       "    </tr>\n",
       "    <tr>\n",
       "      <th>2</th>\n",
       "      <td>FDL38</td>\n",
       "    </tr>\n",
       "    <tr>\n",
       "      <th>3</th>\n",
       "      <td>FDF17</td>\n",
       "    </tr>\n",
       "    <tr>\n",
       "      <th>4</th>\n",
       "      <td>FDN56</td>\n",
       "    </tr>\n",
       "  </tbody>\n",
       "</table>\n",
       "</div>"
      ],
      "text/plain": [
       "  Item_Identifier\n",
       "0           DRI51\n",
       "1           FDL48\n",
       "2           FDL38\n",
       "3           FDF17\n",
       "4           FDN56"
      ]
     },
     "execution_count": 9,
     "metadata": {},
     "output_type": "execute_result"
    }
   ],
   "source": [
    "# view the top rows\n",
    "item_data.head()"
   ]
  },
  {
   "cell_type": "code",
   "execution_count": 10,
   "metadata": {},
   "outputs": [
    {
     "data": {
      "text/plain": [
       "(100, 1)"
      ]
     },
     "execution_count": 10,
     "metadata": {},
     "output_type": "execute_result"
    }
   ],
   "source": [
    "item_data.shape"
   ]
  },
  {
   "cell_type": "markdown",
   "metadata": {},
   "source": [
    "***So, we have 100 Item_Identifiers and we need to provide the other details. We just need to use the merge function and set parameter `how='right'` and the common variable name is `Item_Identifier`.***\n",
    "\n",
    "---"
   ]
  },
  {
   "cell_type": "code",
   "execution_count": 14,
   "metadata": {},
   "outputs": [],
   "source": [
    "item_details = combined_data.merge(item_data, how='right',on='Item_Identifier')"
   ]
  },
  {
   "cell_type": "code",
   "execution_count": 15,
   "metadata": {},
   "outputs": [
    {
     "data": {
      "text/html": [
       "<div>\n",
       "<style scoped>\n",
       "    .dataframe tbody tr th:only-of-type {\n",
       "        vertical-align: middle;\n",
       "    }\n",
       "\n",
       "    .dataframe tbody tr th {\n",
       "        vertical-align: top;\n",
       "    }\n",
       "\n",
       "    .dataframe thead th {\n",
       "        text-align: right;\n",
       "    }\n",
       "</style>\n",
       "<table border=\"1\" class=\"dataframe\">\n",
       "  <thead>\n",
       "    <tr style=\"text-align: right;\">\n",
       "      <th></th>\n",
       "      <th>Item_Identifier</th>\n",
       "      <th>Item_Weight</th>\n",
       "      <th>Item_Fat_Content</th>\n",
       "      <th>Item_Visibility</th>\n",
       "      <th>Item_Type</th>\n",
       "      <th>Item_MRP</th>\n",
       "      <th>Outlet_Identifier</th>\n",
       "      <th>Outlet_Type</th>\n",
       "      <th>Item_Outlet_Sales</th>\n",
       "      <th>Outlet_Establishment_Year</th>\n",
       "      <th>Outlet_Size</th>\n",
       "      <th>Outlet_Location_Type</th>\n",
       "    </tr>\n",
       "  </thead>\n",
       "  <tbody>\n",
       "    <tr>\n",
       "      <th>0</th>\n",
       "      <td>DRI51</td>\n",
       "      <td>17.25</td>\n",
       "      <td>Low Fat</td>\n",
       "      <td>0.042234</td>\n",
       "      <td>Dairy</td>\n",
       "      <td>173.3764</td>\n",
       "      <td>OUT035</td>\n",
       "      <td>Supermarket Type1</td>\n",
       "      <td>2061.3168</td>\n",
       "      <td>2004</td>\n",
       "      <td>Small</td>\n",
       "      <td>Tier 2</td>\n",
       "    </tr>\n",
       "    <tr>\n",
       "      <th>1</th>\n",
       "      <td>DRI51</td>\n",
       "      <td>17.25</td>\n",
       "      <td>Low Fat</td>\n",
       "      <td>0.042414</td>\n",
       "      <td>Dairy</td>\n",
       "      <td>173.1764</td>\n",
       "      <td>OUT018</td>\n",
       "      <td>Supermarket Type2</td>\n",
       "      <td>4466.1864</td>\n",
       "      <td>2009</td>\n",
       "      <td>Medium</td>\n",
       "      <td>Tier 3</td>\n",
       "    </tr>\n",
       "    <tr>\n",
       "      <th>2</th>\n",
       "      <td>DRI51</td>\n",
       "      <td>NaN</td>\n",
       "      <td>Low Fat</td>\n",
       "      <td>0.042037</td>\n",
       "      <td>Dairy</td>\n",
       "      <td>172.6764</td>\n",
       "      <td>OUT027</td>\n",
       "      <td>Supermarket Type3</td>\n",
       "      <td>6183.9504</td>\n",
       "      <td>1985</td>\n",
       "      <td>Medium</td>\n",
       "      <td>Tier 3</td>\n",
       "    </tr>\n",
       "    <tr>\n",
       "      <th>3</th>\n",
       "      <td>FDL48</td>\n",
       "      <td>19.35</td>\n",
       "      <td>Regular</td>\n",
       "      <td>0.082251</td>\n",
       "      <td>Baking Goods</td>\n",
       "      <td>48.7034</td>\n",
       "      <td>OUT035</td>\n",
       "      <td>Supermarket Type1</td>\n",
       "      <td>534.6374</td>\n",
       "      <td>2004</td>\n",
       "      <td>Small</td>\n",
       "      <td>Tier 2</td>\n",
       "    </tr>\n",
       "    <tr>\n",
       "      <th>4</th>\n",
       "      <td>FDL48</td>\n",
       "      <td>19.35</td>\n",
       "      <td>Regular</td>\n",
       "      <td>0.082266</td>\n",
       "      <td>Baking Goods</td>\n",
       "      <td>48.8034</td>\n",
       "      <td>OUT046</td>\n",
       "      <td>Supermarket Type1</td>\n",
       "      <td>340.2238</td>\n",
       "      <td>1997</td>\n",
       "      <td>Small</td>\n",
       "      <td>Tier 1</td>\n",
       "    </tr>\n",
       "    <tr>\n",
       "      <th>...</th>\n",
       "      <td>...</td>\n",
       "      <td>...</td>\n",
       "      <td>...</td>\n",
       "      <td>...</td>\n",
       "      <td>...</td>\n",
       "      <td>...</td>\n",
       "      <td>...</td>\n",
       "      <td>...</td>\n",
       "      <td>...</td>\n",
       "      <td>...</td>\n",
       "      <td>...</td>\n",
       "      <td>...</td>\n",
       "    </tr>\n",
       "    <tr>\n",
       "      <th>417</th>\n",
       "      <td>FDD57</td>\n",
       "      <td>18.10</td>\n",
       "      <td>LF</td>\n",
       "      <td>0.022381</td>\n",
       "      <td>Fruits and Vegetables</td>\n",
       "      <td>93.6094</td>\n",
       "      <td>OUT013</td>\n",
       "      <td>Supermarket Type1</td>\n",
       "      <td>476.0470</td>\n",
       "      <td>1987</td>\n",
       "      <td>High</td>\n",
       "      <td>Tier 3</td>\n",
       "    </tr>\n",
       "    <tr>\n",
       "      <th>418</th>\n",
       "      <td>FDG41</td>\n",
       "      <td>8.84</td>\n",
       "      <td>Regular</td>\n",
       "      <td>0.076548</td>\n",
       "      <td>Frozen Foods</td>\n",
       "      <td>109.5228</td>\n",
       "      <td>OUT035</td>\n",
       "      <td>Supermarket Type1</td>\n",
       "      <td>1657.8420</td>\n",
       "      <td>2004</td>\n",
       "      <td>Small</td>\n",
       "      <td>Tier 2</td>\n",
       "    </tr>\n",
       "    <tr>\n",
       "      <th>419</th>\n",
       "      <td>FDG41</td>\n",
       "      <td>8.84</td>\n",
       "      <td>Regular</td>\n",
       "      <td>0.076681</td>\n",
       "      <td>Frozen Foods</td>\n",
       "      <td>110.7228</td>\n",
       "      <td>OUT049</td>\n",
       "      <td>Supermarket Type1</td>\n",
       "      <td>1657.8420</td>\n",
       "      <td>1999</td>\n",
       "      <td>Medium</td>\n",
       "      <td>Tier 1</td>\n",
       "    </tr>\n",
       "    <tr>\n",
       "      <th>420</th>\n",
       "      <td>FDG41</td>\n",
       "      <td>8.84</td>\n",
       "      <td>Regular</td>\n",
       "      <td>0.076874</td>\n",
       "      <td>Frozen Foods</td>\n",
       "      <td>109.9228</td>\n",
       "      <td>OUT018</td>\n",
       "      <td>Supermarket Type2</td>\n",
       "      <td>1547.3192</td>\n",
       "      <td>2009</td>\n",
       "      <td>Medium</td>\n",
       "      <td>Tier 3</td>\n",
       "    </tr>\n",
       "    <tr>\n",
       "      <th>421</th>\n",
       "      <td>NCM42</td>\n",
       "      <td>6.13</td>\n",
       "      <td>Low Fat</td>\n",
       "      <td>0.028366</td>\n",
       "      <td>Household</td>\n",
       "      <td>110.0912</td>\n",
       "      <td>OUT049</td>\n",
       "      <td>Supermarket Type1</td>\n",
       "      <td>1637.8680</td>\n",
       "      <td>1999</td>\n",
       "      <td>Medium</td>\n",
       "      <td>Tier 1</td>\n",
       "    </tr>\n",
       "  </tbody>\n",
       "</table>\n",
       "<p>422 rows × 12 columns</p>\n",
       "</div>"
      ],
      "text/plain": [
       "    Item_Identifier  Item_Weight Item_Fat_Content  Item_Visibility  \\\n",
       "0             DRI51        17.25          Low Fat         0.042234   \n",
       "1             DRI51        17.25          Low Fat         0.042414   \n",
       "2             DRI51          NaN          Low Fat         0.042037   \n",
       "3             FDL48        19.35          Regular         0.082251   \n",
       "4             FDL48        19.35          Regular         0.082266   \n",
       "..              ...          ...              ...              ...   \n",
       "417           FDD57        18.10               LF         0.022381   \n",
       "418           FDG41         8.84          Regular         0.076548   \n",
       "419           FDG41         8.84          Regular         0.076681   \n",
       "420           FDG41         8.84          Regular         0.076874   \n",
       "421           NCM42         6.13          Low Fat         0.028366   \n",
       "\n",
       "                 Item_Type  Item_MRP Outlet_Identifier        Outlet_Type  \\\n",
       "0                    Dairy  173.3764            OUT035  Supermarket Type1   \n",
       "1                    Dairy  173.1764            OUT018  Supermarket Type2   \n",
       "2                    Dairy  172.6764            OUT027  Supermarket Type3   \n",
       "3             Baking Goods   48.7034            OUT035  Supermarket Type1   \n",
       "4             Baking Goods   48.8034            OUT046  Supermarket Type1   \n",
       "..                     ...       ...               ...                ...   \n",
       "417  Fruits and Vegetables   93.6094            OUT013  Supermarket Type1   \n",
       "418           Frozen Foods  109.5228            OUT035  Supermarket Type1   \n",
       "419           Frozen Foods  110.7228            OUT049  Supermarket Type1   \n",
       "420           Frozen Foods  109.9228            OUT018  Supermarket Type2   \n",
       "421              Household  110.0912            OUT049  Supermarket Type1   \n",
       "\n",
       "     Item_Outlet_Sales  Outlet_Establishment_Year Outlet_Size  \\\n",
       "0            2061.3168                       2004       Small   \n",
       "1            4466.1864                       2009      Medium   \n",
       "2            6183.9504                       1985      Medium   \n",
       "3             534.6374                       2004       Small   \n",
       "4             340.2238                       1997       Small   \n",
       "..                 ...                        ...         ...   \n",
       "417           476.0470                       1987        High   \n",
       "418          1657.8420                       2004       Small   \n",
       "419          1657.8420                       1999      Medium   \n",
       "420          1547.3192                       2009      Medium   \n",
       "421          1637.8680                       1999      Medium   \n",
       "\n",
       "    Outlet_Location_Type  \n",
       "0                 Tier 2  \n",
       "1                 Tier 3  \n",
       "2                 Tier 3  \n",
       "3                 Tier 2  \n",
       "4                 Tier 1  \n",
       "..                   ...  \n",
       "417               Tier 3  \n",
       "418               Tier 2  \n",
       "419               Tier 1  \n",
       "420               Tier 3  \n",
       "421               Tier 1  \n",
       "\n",
       "[422 rows x 12 columns]"
      ]
     },
     "execution_count": 15,
     "metadata": {},
     "output_type": "execute_result"
    }
   ],
   "source": [
    "item_details"
   ]
  },
  {
   "cell_type": "code",
   "execution_count": null,
   "metadata": {},
   "outputs": [],
   "source": []
  }
 ],
 "metadata": {
  "kernelspec": {
   "display_name": "Python 3",
   "language": "python",
   "name": "python3"
  },
  "language_info": {
   "codemirror_mode": {
    "name": "ipython",
    "version": 3
   },
   "file_extension": ".py",
   "mimetype": "text/x-python",
   "name": "python",
   "nbconvert_exporter": "python",
   "pygments_lexer": "ipython3",
   "version": "3.6.12"
  }
 },
 "nbformat": 4,
 "nbformat_minor": 2
}
