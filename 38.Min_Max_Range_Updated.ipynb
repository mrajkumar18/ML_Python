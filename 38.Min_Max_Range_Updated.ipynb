{
 "cells": [
  {
   "cell_type": "markdown",
   "metadata": {
    "colab_type": "text",
    "id": "LIOaq8QL8CDm"
   },
   "source": [
    "## Min, Max and Range of Data"
   ]
  },
  {
   "cell_type": "code",
   "execution_count": 4,
   "metadata": {
    "colab": {},
    "colab_type": "code",
    "id": "Jn7K0qBlR_Kn"
   },
   "outputs": [],
   "source": [
    "#import libraries\n",
    "import pandas as pd\n",
    "import numpy as np"
   ]
  },
  {
   "cell_type": "markdown",
   "metadata": {
    "colab_type": "text",
    "id": "NxC7Fy8fOuRz"
   },
   "source": [
    "This is the dataset for __Customer Churn Problem__. \n"
   ]
  },
  {
   "cell_type": "code",
   "execution_count": 5,
   "metadata": {
    "colab": {},
    "colab_type": "code",
    "id": "jtGI5XRpR_Ku"
   },
   "outputs": [],
   "source": [
    "# importing dataset\n",
    "data = pd.read_csv('datasets\\churn_prediction.csv')"
   ]
  },
  {
   "cell_type": "markdown",
   "metadata": {
    "colab_type": "text",
    "id": "TkE9qtAvOuSD"
   },
   "source": [
    "Identification of __Datatypes__"
   ]
  },
  {
   "cell_type": "code",
   "execution_count": 6,
   "metadata": {
    "colab": {},
    "colab_type": "code",
    "id": "D1eopfppOuSG",
    "outputId": "7b2b8784-bce5-4424-e2a1-7e649fc2ce62"
   },
   "outputs": [
    {
     "data": {
      "text/plain": [
       "customer_id                         int64\n",
       "vintage                             int64\n",
       "age                                 int64\n",
       "gender                             object\n",
       "dependents                        float64\n",
       "occupation                         object\n",
       "city                              float64\n",
       "customer_nw_category                int64\n",
       "branch_code                         int64\n",
       "current_balance                   float64\n",
       "previous_month_end_balance        float64\n",
       "average_monthly_balance_prevQ     float64\n",
       "average_monthly_balance_prevQ2    float64\n",
       "current_month_credit              float64\n",
       "previous_month_credit             float64\n",
       "current_month_debit               float64\n",
       "previous_month_debit              float64\n",
       "current_month_balance             float64\n",
       "previous_month_balance            float64\n",
       "churn                               int64\n",
       "last_transaction                   object\n",
       "dtype: object"
      ]
     },
     "execution_count": 6,
     "metadata": {},
     "output_type": "execute_result"
    }
   ],
   "source": [
    "data.dtypes"
   ]
  },
  {
   "cell_type": "markdown",
   "metadata": {
    "colab_type": "text",
    "id": "s3iJ7r43Ac0W"
   },
   "source": [
    "## Isolating numerical columns"
   ]
  },
  {
   "cell_type": "markdown",
   "metadata": {
    "colab_type": "text",
    "id": "-l0diipkOuSb"
   },
   "source": [
    "Storing indices of  __Integer and Float__ in numercial_cols because we are dealing with __numerical variables__"
   ]
  },
  {
   "cell_type": "code",
   "execution_count": 9,
   "metadata": {
    "colab": {
     "base_uri": "https://localhost:8080/",
     "height": 153
    },
    "colab_type": "code",
    "executionInfo": {
     "elapsed": 1441,
     "status": "ok",
     "timestamp": 1581504105970,
     "user": {
      "displayName": "Sharoon Saxena",
      "photoUrl": "https://lh3.googleusercontent.com/a-/AAuE7mA06b2KEfgpAIC1tQCip2ka2KqXrCY2GfWW9Fww=s64",
      "userId": "01167841530696023488"
     },
     "user_tz": -330
    },
    "id": "0PrPd53w-rp6",
    "outputId": "6d46988f-e384-43d7-9622-353cd5cfc487"
   },
   "outputs": [
    {
     "data": {
      "text/plain": [
       "Index(['dependents', 'city', 'current_balance', 'previous_month_end_balance',\n",
       "       'average_monthly_balance_prevQ', 'average_monthly_balance_prevQ2',\n",
       "       'current_month_credit', 'previous_month_credit', 'current_month_debit',\n",
       "       'previous_month_debit', 'current_month_balance',\n",
       "       'previous_month_balance'],\n",
       "      dtype='object')"
      ]
     },
     "execution_count": 9,
     "metadata": {},
     "output_type": "execute_result"
    }
   ],
   "source": [
    "# storing indices of all numerical data types in numerical_cols\n",
    "numerical_cols = data.select_dtypes(include=['int', 'float']).columns\n",
    "\n",
    "# checking\n",
    "numerical_cols"
   ]
  },
  {
   "cell_type": "markdown",
   "metadata": {
    "colab_type": "text",
    "id": "Vnm7rEvEAbel"
   },
   "source": [
    "### Min obseravtion"
   ]
  },
  {
   "cell_type": "code",
   "execution_count": 10,
   "metadata": {
    "colab": {},
    "colab_type": "code",
    "id": "6oGzqFxqR_K9",
    "outputId": "f19a1072-9be5-403c-9337-6dc22cce9394"
   },
   "outputs": [
    {
     "data": {
      "text/html": [
       "<div>\n",
       "<style scoped>\n",
       "    .dataframe tbody tr th:only-of-type {\n",
       "        vertical-align: middle;\n",
       "    }\n",
       "\n",
       "    .dataframe tbody tr th {\n",
       "        vertical-align: top;\n",
       "    }\n",
       "\n",
       "    .dataframe thead th {\n",
       "        text-align: right;\n",
       "    }\n",
       "</style>\n",
       "<table border=\"1\" class=\"dataframe\">\n",
       "  <thead>\n",
       "    <tr style=\"text-align: right;\">\n",
       "      <th></th>\n",
       "      <th>customer_id</th>\n",
       "      <th>vintage</th>\n",
       "      <th>age</th>\n",
       "      <th>gender</th>\n",
       "      <th>dependents</th>\n",
       "      <th>occupation</th>\n",
       "      <th>city</th>\n",
       "      <th>customer_nw_category</th>\n",
       "      <th>branch_code</th>\n",
       "      <th>current_balance</th>\n",
       "      <th>...</th>\n",
       "      <th>average_monthly_balance_prevQ</th>\n",
       "      <th>average_monthly_balance_prevQ2</th>\n",
       "      <th>current_month_credit</th>\n",
       "      <th>previous_month_credit</th>\n",
       "      <th>current_month_debit</th>\n",
       "      <th>previous_month_debit</th>\n",
       "      <th>current_month_balance</th>\n",
       "      <th>previous_month_balance</th>\n",
       "      <th>churn</th>\n",
       "      <th>last_transaction</th>\n",
       "    </tr>\n",
       "  </thead>\n",
       "  <tbody>\n",
       "    <tr>\n",
       "      <th>12608</th>\n",
       "      <td>13467</td>\n",
       "      <td>2140</td>\n",
       "      <td>80</td>\n",
       "      <td>Male</td>\n",
       "      <td>0.0</td>\n",
       "      <td>retired</td>\n",
       "      <td>1096.0</td>\n",
       "      <td>1</td>\n",
       "      <td>27</td>\n",
       "      <td>-5503.96</td>\n",
       "      <td>...</td>\n",
       "      <td>1694.57</td>\n",
       "      <td>868.26</td>\n",
       "      <td>9471.01</td>\n",
       "      <td>2680.04</td>\n",
       "      <td>15229.44</td>\n",
       "      <td>7859.37</td>\n",
       "      <td>1050.17</td>\n",
       "      <td>2002.97</td>\n",
       "      <td>1</td>\n",
       "      <td>2019-12-26</td>\n",
       "    </tr>\n",
       "  </tbody>\n",
       "</table>\n",
       "<p>1 rows × 21 columns</p>\n",
       "</div>"
      ],
      "text/plain": [
       "       customer_id  vintage  age gender  dependents occupation    city  \\\n",
       "12608        13467     2140   80   Male         0.0    retired  1096.0   \n",
       "\n",
       "       customer_nw_category  branch_code  current_balance  ...  \\\n",
       "12608                     1           27         -5503.96  ...   \n",
       "\n",
       "       average_monthly_balance_prevQ  average_monthly_balance_prevQ2  \\\n",
       "12608                        1694.57                          868.26   \n",
       "\n",
       "       current_month_credit  previous_month_credit  current_month_debit  \\\n",
       "12608               9471.01                2680.04             15229.44   \n",
       "\n",
       "       previous_month_debit  current_month_balance  previous_month_balance  \\\n",
       "12608               7859.37                1050.17                 2002.97   \n",
       "\n",
       "       churn  last_transaction  \n",
       "12608      1        2019-12-26  \n",
       "\n",
       "[1 rows x 21 columns]"
      ]
     },
     "execution_count": 10,
     "metadata": {},
     "output_type": "execute_result"
    }
   ],
   "source": [
    "# observation with minimum current balance\n",
    "data[data['current_balance'] == data['current_balance'].min()]"
   ]
  },
  {
   "cell_type": "markdown",
   "metadata": {
    "colab_type": "text",
    "id": "yDJjIU9POuS9"
   },
   "source": [
    "* Customer's id is 13467\n",
    "* Customer has __minimum current balance__ is -5503.96 \n"
   ]
  },
  {
   "cell_type": "markdown",
   "metadata": {
    "colab_type": "text",
    "id": "SCHZvc0XOuTC"
   },
   "source": [
    "### Max observation"
   ]
  },
  {
   "cell_type": "code",
   "execution_count": 14,
   "metadata": {
    "colab": {},
    "colab_type": "code",
    "id": "YqXn9lcyR_LA",
    "outputId": "c48e8ca4-f9d6-471c-dd0d-9f8c14c8af28"
   },
   "outputs": [
    {
     "data": {
      "text/html": [
       "<div>\n",
       "<style scoped>\n",
       "    .dataframe tbody tr th:only-of-type {\n",
       "        vertical-align: middle;\n",
       "    }\n",
       "\n",
       "    .dataframe tbody tr th {\n",
       "        vertical-align: top;\n",
       "    }\n",
       "\n",
       "    .dataframe thead th {\n",
       "        text-align: right;\n",
       "    }\n",
       "</style>\n",
       "<table border=\"1\" class=\"dataframe\">\n",
       "  <thead>\n",
       "    <tr style=\"text-align: right;\">\n",
       "      <th></th>\n",
       "      <th>customer_id</th>\n",
       "      <th>vintage</th>\n",
       "      <th>age</th>\n",
       "      <th>gender</th>\n",
       "      <th>dependents</th>\n",
       "      <th>occupation</th>\n",
       "      <th>city</th>\n",
       "      <th>customer_nw_category</th>\n",
       "      <th>branch_code</th>\n",
       "      <th>current_balance</th>\n",
       "      <th>...</th>\n",
       "      <th>average_monthly_balance_prevQ</th>\n",
       "      <th>average_monthly_balance_prevQ2</th>\n",
       "      <th>current_month_credit</th>\n",
       "      <th>previous_month_credit</th>\n",
       "      <th>current_month_debit</th>\n",
       "      <th>previous_month_debit</th>\n",
       "      <th>current_month_balance</th>\n",
       "      <th>previous_month_balance</th>\n",
       "      <th>churn</th>\n",
       "      <th>last_transaction</th>\n",
       "    </tr>\n",
       "  </thead>\n",
       "  <tbody>\n",
       "    <tr>\n",
       "      <th>24095</th>\n",
       "      <td>25712</td>\n",
       "      <td>1902</td>\n",
       "      <td>90</td>\n",
       "      <td>Male</td>\n",
       "      <td>0.0</td>\n",
       "      <td>retired</td>\n",
       "      <td>1020.0</td>\n",
       "      <td>2</td>\n",
       "      <td>5</td>\n",
       "      <td>46.5</td>\n",
       "      <td>...</td>\n",
       "      <td>11728.39</td>\n",
       "      <td>111617.41</td>\n",
       "      <td>12269845.39</td>\n",
       "      <td>0.21</td>\n",
       "      <td>7637857.36</td>\n",
       "      <td>0.21</td>\n",
       "      <td>8399.62</td>\n",
       "      <td>24270.54</td>\n",
       "      <td>1</td>\n",
       "      <td>2019-12-13</td>\n",
       "    </tr>\n",
       "  </tbody>\n",
       "</table>\n",
       "<p>1 rows × 21 columns</p>\n",
       "</div>"
      ],
      "text/plain": [
       "       customer_id  vintage  age gender  dependents occupation    city  \\\n",
       "24095        25712     1902   90   Male         0.0    retired  1020.0   \n",
       "\n",
       "       customer_nw_category  branch_code  current_balance  ...  \\\n",
       "24095                     2            5             46.5  ...   \n",
       "\n",
       "       average_monthly_balance_prevQ  average_monthly_balance_prevQ2  \\\n",
       "24095                       11728.39                       111617.41   \n",
       "\n",
       "       current_month_credit  previous_month_credit  current_month_debit  \\\n",
       "24095           12269845.39                   0.21           7637857.36   \n",
       "\n",
       "       previous_month_debit  current_month_balance  previous_month_balance  \\\n",
       "24095                  0.21                8399.62                24270.54   \n",
       "\n",
       "       churn  last_transaction  \n",
       "24095      1        2019-12-13  \n",
       "\n",
       "[1 rows x 21 columns]"
      ]
     },
     "execution_count": 14,
     "metadata": {},
     "output_type": "execute_result"
    }
   ],
   "source": [
    "# obseravtion with maxximum current month debit\n",
    "data[data['current_month_debit'] == data['current_month_debit'].max()]"
   ]
  },
  {
   "cell_type": "markdown",
   "metadata": {
    "colab_type": "text",
    "id": "qKH3ErymOuTU"
   },
   "source": [
    "* Customer's id is 25712\n",
    "* Customer has __maximum current month debit__ is   7637857.36 \n"
   ]
  },
  {
   "cell_type": "markdown",
   "metadata": {
    "colab_type": "text",
    "id": "X0UJT_w3OuTW"
   },
   "source": [
    "### Range "
   ]
  },
  {
   "cell_type": "markdown",
   "metadata": {
    "colab_type": "text",
    "id": "-RO9lwQeOuTa"
   },
   "source": [
    " __Range of Age__ in our datase indicating the difference of Age between the oldest and youngest customers"
   ]
  },
  {
   "cell_type": "code",
   "execution_count": 15,
   "metadata": {
    "colab": {
     "base_uri": "https://localhost:8080/",
     "height": 34
    },
    "colab_type": "code",
    "executionInfo": {
     "elapsed": 1044,
     "status": "ok",
     "timestamp": 1581505193463,
     "user": {
      "displayName": "Sharoon Saxena",
      "photoUrl": "https://lh3.googleusercontent.com/a-/AAuE7mA06b2KEfgpAIC1tQCip2ka2KqXrCY2GfWW9Fww=s64",
      "userId": "01167841530696023488"
     },
     "user_tz": -330
    },
    "id": "kkHzHmLrR_LF",
    "outputId": "223f34f6-1355-49b8-86a5-33a50d4b7d24"
   },
   "outputs": [
    {
     "name": "stdout",
     "output_type": "stream",
     "text": [
      "1 90\n"
     ]
    }
   ],
   "source": [
    "# Range of Age \n",
    "\n",
    "print(data['age'].min(),  data['age'].max())"
   ]
  },
  {
   "cell_type": "markdown",
   "metadata": {
    "colab_type": "text",
    "id": "QRiwOGUTOuTp"
   },
   "source": [
    "* Oldest Customer Age is 90\n",
    "* Youngest Customer Age is 1\n",
    "* Range is [1,90]"
   ]
  },
  {
   "cell_type": "markdown",
   "metadata": {
    "colab_type": "text",
    "id": "ObUYzPs5OuTt"
   },
   "source": [
    "### Max, Min, Range for each column"
   ]
  },
  {
   "cell_type": "code",
   "execution_count": 16,
   "metadata": {
    "colab": {
     "base_uri": "https://localhost:8080/",
     "height": 408
    },
    "colab_type": "code",
    "executionInfo": {
     "elapsed": 1055,
     "status": "ok",
     "timestamp": 1581505222868,
     "user": {
      "displayName": "Sharoon Saxena",
      "photoUrl": "https://lh3.googleusercontent.com/a-/AAuE7mA06b2KEfgpAIC1tQCip2ka2KqXrCY2GfWW9Fww=s64",
      "userId": "01167841530696023488"
     },
     "user_tz": -330
    },
    "id": "VusaDbjqR_LH",
    "outputId": "b045a934-0606-4298-d0c6-edb1df53eae1"
   },
   "outputs": [
    {
     "data": {
      "text/plain": [
       "dependents                              52.00\n",
       "city                                  1649.00\n",
       "current_balance                    5905904.03\n",
       "previous_month_end_balance         5740438.63\n",
       "average_monthly_balance_prevQ      5700289.57\n",
       "average_monthly_balance_prevQ2     5010170.10\n",
       "current_month_credit              12269845.39\n",
       "previous_month_credit              2361808.29\n",
       "current_month_debit                7637857.36\n",
       "previous_month_debit               1414168.06\n",
       "current_month_balance              5778184.77\n",
       "previous_month_balance             5720144.50\n",
       "dtype: float64"
      ]
     },
     "execution_count": 16,
     "metadata": {},
     "output_type": "execute_result"
    }
   ],
   "source": [
    "# Printing Max of evey numerical column\n",
    "data[numerical_cols].max()"
   ]
  },
  {
   "cell_type": "markdown",
   "metadata": {
    "colab_type": "text",
    "id": "MM_lBwUHYXa2"
   },
   "source": [
    "* Maximum value of vintage for a customer is 12899.\n",
    "* Maximum age of a customer in our dataset is 90\n",
    "* Maximum number of dependents in our dataset is 52\n",
    "* Maximum day since last transaction is 365\n",
    "* Maximum values for __current_balance, previous_month_end_balance,average_monthly_balance_prevQ,    current_month_balance, previous_month_balance__ are close to 57 lakhs.\n",
    "* Maximum value for current_month_credit is 12269845.39\n",
    "* Maximum value for previous_month_credit is 2361808.29\n",
    "* maximum value for current_month_debit and previous_month debit is respectively 7637857.36 and 1414168.06.\n",
    "* The features like __customer_id, city, customer_nw_category, branch_code, churn__ are required to be treated as categorcial variable so their maximum value don't represent numerical significance.\n"
   ]
  },
  {
   "cell_type": "code",
   "execution_count": 17,
   "metadata": {
    "colab": {
     "base_uri": "https://localhost:8080/",
     "height": 408
    },
    "colab_type": "code",
    "executionInfo": {
     "elapsed": 1084,
     "status": "ok",
     "timestamp": 1581505242279,
     "user": {
      "displayName": "Sharoon Saxena",
      "photoUrl": "https://lh3.googleusercontent.com/a-/AAuE7mA06b2KEfgpAIC1tQCip2ka2KqXrCY2GfWW9Fww=s64",
      "userId": "01167841530696023488"
     },
     "user_tz": -330
    },
    "id": "8OSHRZvfR_LK",
    "outputId": "a6e584fc-e627-4ca4-bdf6-e02d6348760b"
   },
   "outputs": [
    {
     "data": {
      "text/plain": [
       "dependents                            0.00\n",
       "city                                  0.00\n",
       "current_balance                   -5503.96\n",
       "previous_month_end_balance        -3149.57\n",
       "average_monthly_balance_prevQ      1428.69\n",
       "average_monthly_balance_prevQ2   -16506.10\n",
       "current_month_credit                  0.01\n",
       "previous_month_credit                 0.01\n",
       "current_month_debit                   0.01\n",
       "previous_month_debit                  0.01\n",
       "current_month_balance             -3374.18\n",
       "previous_month_balance            -5171.92\n",
       "dtype: float64"
      ]
     },
     "execution_count": 17,
     "metadata": {},
     "output_type": "execute_result"
    }
   ],
   "source": [
    "# printing min of every numercial column\n",
    "data[numerical_cols].min()"
   ]
  },
  {
   "cell_type": "code",
   "execution_count": 18,
   "metadata": {
    "colab": {},
    "colab_type": "code",
    "id": "ZMnoIdSmYXa5",
    "outputId": "08e05724-a51a-4a81-9815-c2f869813b45"
   },
   "outputs": [
    {
     "name": "stdout",
     "output_type": "stream",
     "text": [
      "range of dependents: [0.0, 52.0]\n",
      "range of city: [0.0, 1649.0]\n",
      "range of current_balance: [-5503.96, 5905904.03]\n",
      "range of previous_month_end_balance: [-3149.57, 5740438.63]\n",
      "range of average_monthly_balance_prevQ: [1428.69, 5700289.57]\n",
      "range of average_monthly_balance_prevQ2: [-16506.1, 5010170.1]\n",
      "range of current_month_credit: [0.01, 12269845.39]\n",
      "range of previous_month_credit: [0.01, 2361808.29]\n",
      "range of current_month_debit: [0.01, 7637857.36]\n",
      "range of previous_month_debit: [0.01, 1414168.06]\n",
      "range of current_month_balance: [-3374.18, 5778184.77]\n",
      "range of previous_month_balance: [-5171.92, 5720144.5]\n"
     ]
    }
   ],
   "source": [
    "for col in numerical_cols:\n",
    "    print(\"range of {}{}{}{}{}{}{}{}\".format(col,\":\",\" \",\"[\",data[col].min(), \", \",data[col].max(),\"]\"))"
   ]
  },
  {
   "cell_type": "markdown",
   "metadata": {
    "colab_type": "text",
    "id": "TzIxUenlYXa8"
   },
   "source": [
    "* Range of current_month_credit is highest among all features.\n",
    "* Range of days_since_last_transaction is 1 year."
   ]
  },
  {
   "cell_type": "code",
   "execution_count": 0,
   "metadata": {
    "colab": {},
    "colab_type": "code",
    "id": "rZ-87c8xYXa8"
   },
   "outputs": [],
   "source": []
  }
 ],
 "metadata": {
  "colab": {
   "collapsed_sections": [],
   "name": "Min_Max_Range_Updated.ipynb",
   "provenance": []
  },
  "kernelspec": {
   "display_name": "Python 3",
   "language": "python",
   "name": "python3"
  },
  "language_info": {
   "codemirror_mode": {
    "name": "ipython",
    "version": 3
   },
   "file_extension": ".py",
   "mimetype": "text/x-python",
   "name": "python",
   "nbconvert_exporter": "python",
   "pygments_lexer": "ipython3",
   "version": "3.6.12"
  }
 },
 "nbformat": 4,
 "nbformat_minor": 1
}
