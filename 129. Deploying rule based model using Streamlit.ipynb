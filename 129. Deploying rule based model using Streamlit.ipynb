{
 "cells": [
  {
   "cell_type": "markdown",
   "metadata": {
    "id": "jPtUSXpZfntZ"
   },
   "source": [
    "## Deploying the rule based model to automate loan prediction\n",
    "\n",
    "1. Building the Frontend of the application\n",
    "2. Loading the data\n",
    "3. Building the model to automate Loan Eligibility\n",
    "4. Deploying the application"
   ]
  },
  {
   "cell_type": "markdown",
   "metadata": {
    "id": "UyQbUqDr7AUK"
   },
   "source": [
    "## 1. Building the Frontend of the application\n",
    "\n",
    "1.1 Install Required Libraries<br>\n",
    "1.2 Creating the Frontend of the app using Streamlit\n",
    "\n",
    "### 1.1 Install Required Libraries"
   ]
  },
  {
   "cell_type": "code",
   "execution_count": 1,
   "metadata": {
    "colab": {
     "base_uri": "https://localhost:8080/"
    },
    "executionInfo": {
     "elapsed": 5548,
     "status": "ok",
     "timestamp": 1616657965963,
     "user": {
      "displayName": "Subhash Meena",
      "photoUrl": "https://lh3.googleusercontent.com/a-/AOh14GjlYUo0RW8qCl-1gd9LR46qtyzQBuRLoySJAMrc=s64",
      "userId": "01461370006936346968"
     },
     "user_tz": -330
    },
    "id": "8o2Nv-0GVhsv",
    "outputId": "8142fd7d-acbf-4742-e344-0137cc45cd5b"
   },
   "outputs": [
    {
     "name": "stderr",
     "output_type": "stream",
     "text": [
      "WARNING: Ignoring invalid distribution -ip (e:\\anaconda3\\envs\\ml_3.6\\lib\\site-packages)\n",
      "WARNING: Ignoring invalid distribution -illow (e:\\anaconda3\\envs\\ml_3.6\\lib\\site-packages)\n",
      "WARNING: Ignoring invalid distribution -ip (e:\\anaconda3\\envs\\ml_3.6\\lib\\site-packages)\n",
      "WARNING: Ignoring invalid distribution -illow (e:\\anaconda3\\envs\\ml_3.6\\lib\\site-packages)\n",
      "WARNING: Ignoring invalid distribution -ip (e:\\anaconda3\\envs\\ml_3.6\\lib\\site-packages)\n",
      "WARNING: Ignoring invalid distribution -illow (e:\\anaconda3\\envs\\ml_3.6\\lib\\site-packages)\n",
      "WARNING: Ignoring invalid distribution -ip (e:\\anaconda3\\envs\\ml_3.6\\lib\\site-packages)\n",
      "WARNING: Ignoring invalid distribution -illow (e:\\anaconda3\\envs\\ml_3.6\\lib\\site-packages)\n",
      "WARNING: Ignoring invalid distribution -ip (e:\\anaconda3\\envs\\ml_3.6\\lib\\site-packages)\n",
      "WARNING: Ignoring invalid distribution -illow (e:\\anaconda3\\envs\\ml_3.6\\lib\\site-packages)\n",
      "WARNING: Ignoring invalid distribution -ip (e:\\anaconda3\\envs\\ml_3.6\\lib\\site-packages)\n",
      "WARNING: Ignoring invalid distribution -illow (e:\\anaconda3\\envs\\ml_3.6\\lib\\site-packages)\n"
     ]
    }
   ],
   "source": [
    "# installing pyngrok\n",
    "!pip install -q pyngrok"
   ]
  },
  {
   "cell_type": "code",
   "execution_count": 1,
   "metadata": {
    "colab": {
     "base_uri": "https://localhost:8080/"
    },
    "executionInfo": {
     "elapsed": 18750,
     "status": "ok",
     "timestamp": 1616657933171,
     "user": {
      "displayName": "Subhash Meena",
      "photoUrl": "https://lh3.googleusercontent.com/a-/AOh14GjlYUo0RW8qCl-1gd9LR46qtyzQBuRLoySJAMrc=s64",
      "userId": "01461370006936346968"
     },
     "user_tz": -330
    },
    "id": "96rKP77EJSvR",
    "outputId": "4fd6b09d-33b5-4b10-d257-00b6a4a5243e"
   },
   "outputs": [
    {
     "name": "stdout",
     "output_type": "stream",
     "text": [
      "\u001b[K     |████████████████████████████████| 7.0MB 11.4MB/s \n",
      "\u001b[K     |████████████████████████████████| 81kB 8.1MB/s \n",
      "\u001b[K     |████████████████████████████████| 4.6MB 40.3MB/s \n",
      "\u001b[K     |████████████████████████████████| 163kB 43.9MB/s \n",
      "\u001b[K     |████████████████████████████████| 112kB 40.4MB/s \n",
      "\u001b[K     |████████████████████████████████| 122kB 42.2MB/s \n",
      "\u001b[K     |████████████████████████████████| 71kB 8.1MB/s \n",
      "\u001b[?25h  Building wheel for blinker (setup.py) ... \u001b[?25l\u001b[?25hdone\n",
      "\u001b[31mERROR: google-colab 1.0.0 has requirement ipykernel~=4.10, but you'll have ipykernel 5.5.0 which is incompatible.\u001b[0m\n"
     ]
    }
   ],
   "source": [
    "# installing streamlit\n",
    "!pip install -q streamlit"
   ]
  },
  {
   "cell_type": "code",
   "execution_count": 2,
   "metadata": {
    "colab": {
     "base_uri": "https://localhost:8080/"
    },
    "executionInfo": {
     "elapsed": 14626,
     "status": "ok",
     "timestamp": 1616657933907,
     "user": {
      "displayName": "Subhash Meena",
      "photoUrl": "https://lh3.googleusercontent.com/a-/AOh14GjlYUo0RW8qCl-1gd9LR46qtyzQBuRLoySJAMrc=s64",
      "userId": "01461370006936346968"
     },
     "user_tz": -330
    },
    "id": "6FaA15vWZfyu",
    "outputId": "096e8e1e-36c7-4bc7-a866-78a001f57960"
   },
   "outputs": [
    {
     "name": "stdout",
     "output_type": "stream",
     "text": [
      "Streamlit, version 0.79.0\n"
     ]
    }
   ],
   "source": [
    "!streamlit version"
   ]
  },
  {
   "cell_type": "markdown",
   "metadata": {
    "id": "rlKW2k6x7YS-"
   },
   "source": [
    "### 1.2 Creating the frontend of the app using streamlit"
   ]
  },
  {
   "cell_type": "code",
   "execution_count": 9,
   "metadata": {
    "colab": {
     "base_uri": "https://localhost:8080/"
    },
    "executionInfo": {
     "elapsed": 1187,
     "status": "ok",
     "timestamp": 1616658025507,
     "user": {
      "displayName": "Subhash Meena",
      "photoUrl": "https://lh3.googleusercontent.com/a-/AOh14GjlYUo0RW8qCl-1gd9LR46qtyzQBuRLoySJAMrc=s64",
      "userId": "01461370006936346968"
     },
     "user_tz": -330
    },
    "id": "ZC4c6EMgRYX1",
    "outputId": "848164f3-a7a1-428f-8879-e09e2b46ac92"
   },
   "outputs": [
    {
     "name": "stdout",
     "output_type": "stream",
     "text": [
      "Overwriting app.py\n"
     ]
    }
   ],
   "source": [
    "# creating the script\n",
    "%%writefile app.py\n",
    "\n",
    "# importing streamlit\n",
    "import streamlit as st\n",
    "  \n",
    "# this is the main function in which we define our app  \n",
    "def main():\n",
    "    # header of the page\n",
    "    st.markdown(\"Check your Loan Eligibility\") \n",
    "\n",
    "    # 2. Loading the data\n",
    "      \n",
    "    # following lines create boxes in which user can enter data required to make prediction \n",
    "    Gender = st.selectbox('Gender',(\"Male\",\"Female\",\"Other\"))\n",
    "    Married = st.selectbox('Marital Status',(\"Unmarried\",\"Married\",\"Other\")) \n",
    "    ApplicantIncome = st.number_input(\"Monthly Income in Rupees\") \n",
    "    LoanAmount = st.number_input(\"Loan Amount in Rupees\")\n",
    "    result =\"\"\n",
    "      \n",
    "    # when 'Check' is clicked, make the prediction and store it \n",
    "    if st.button(\"Check\"): \n",
    "        result = prediction(Gender, Married, ApplicantIncome, LoanAmount) \n",
    "        st.success('Your loan is {}'.format(result))\n",
    "\n",
    "# defining the function which will make the prediction using the data which the user inputs \n",
    "def prediction(Gender, Married, ApplicantIncome, LoanAmount):\n",
    "\n",
    "    # 3. Building the model to automate Loan Eligibility\n",
    "    if (ApplicantIncome >= 100):\n",
    "        loan_status = 'Approved'\n",
    "    elif (LoanAmount < 100):\n",
    "        loan_status = 'Approved'\n",
    "    else:\n",
    "        loan_status = 'Rejected'\n",
    "    return loan_status\n",
    "     \n",
    "if __name__=='__main__': \n",
    "    main()"
   ]
  },
  {
   "cell_type": "markdown",
   "metadata": {
    "id": "dWM7e9709d72"
   },
   "source": [
    "## 4. Deploying the application"
   ]
  },
  {
   "cell_type": "code",
   "execution_count": 4,
   "metadata": {
    "executionInfo": {
     "elapsed": 9498,
     "status": "ok",
     "timestamp": 1616657934623,
     "user": {
      "displayName": "Subhash Meena",
      "photoUrl": "https://lh3.googleusercontent.com/a-/AOh14GjlYUo0RW8qCl-1gd9LR46qtyzQBuRLoySJAMrc=s64",
      "userId": "01461370006936346968"
     },
     "user_tz": -330
    },
    "id": "fLsQUC3qgtZl"
   },
   "outputs": [],
   "source": [
    "# running the app\n",
    "!streamlit run app.py &>/dev/null&"
   ]
  },
  {
   "cell_type": "code",
   "execution_count": 8,
   "metadata": {
    "colab": {
     "base_uri": "https://localhost:8080/"
    },
    "executionInfo": {
     "elapsed": 3294,
     "status": "ok",
     "timestamp": 1616657970038,
     "user": {
      "displayName": "Subhash Meena",
      "photoUrl": "https://lh3.googleusercontent.com/a-/AOh14GjlYUo0RW8qCl-1gd9LR46qtyzQBuRLoySJAMrc=s64",
      "userId": "01461370006936346968"
     },
     "user_tz": -330
    },
    "id": "G93y3SeHgf6H",
    "outputId": "c6becae7-7184-46d9-fe3a-3141bd72397e"
   },
   "outputs": [
    {
     "name": "stdout",
     "output_type": "stream",
     "text": []
    },
    {
     "data": {
      "text/plain": [
       "<NgrokTunnel: \"http://b1a6b2557e38.ngrok.io\" -> \"http://localhost:8501\">"
      ]
     },
     "execution_count": 8,
     "metadata": {
      "tags": []
     },
     "output_type": "execute_result"
    }
   ],
   "source": [
    "# making the locally-hosted web application to be publicly accessible\n",
    "from pyngrok import ngrok\n",
    "\n",
    "public_url = ngrok.connect('8501')\n",
    "public_url"
   ]
  },
  {
   "cell_type": "code",
   "execution_count": null,
   "metadata": {
    "executionInfo": {
     "elapsed": 8783,
     "status": "aborted",
     "timestamp": 1616657934625,
     "user": {
      "displayName": "Subhash Meena",
      "photoUrl": "https://lh3.googleusercontent.com/a-/AOh14GjlYUo0RW8qCl-1gd9LR46qtyzQBuRLoySJAMrc=s64",
      "userId": "01461370006936346968"
     },
     "user_tz": -330
    },
    "id": "kTg-2Nar2Wsi"
   },
   "outputs": [],
   "source": []
  }
 ],
 "metadata": {
  "accelerator": "GPU",
  "colab": {
   "collapsed_sections": [],
   "name": "3.5 Deploying rule based model using Streamlit",
   "provenance": [
    {
     "file_id": "1MOdsbJAguhIorTWuIfqhwv52uN4FEJ4s",
     "timestamp": 1610610665580
    }
   ]
  },
  "kernelspec": {
   "display_name": "Python 3 (ipykernel)",
   "language": "python",
   "name": "python3"
  },
  "language_info": {
   "codemirror_mode": {
    "name": "ipython",
    "version": 3
   },
   "file_extension": ".py",
   "mimetype": "text/x-python",
   "name": "python",
   "nbconvert_exporter": "python",
   "pygments_lexer": "ipython3",
   "version": "3.9.7"
  }
 },
 "nbformat": 4,
 "nbformat_minor": 1
}
