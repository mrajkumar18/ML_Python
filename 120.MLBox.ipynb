{
 "cells": [
  {
   "cell_type": "markdown",
   "metadata": {
    "collapsed": true
   },
   "source": [
    "## Load the Libraries"
   ]
  },
  {
   "cell_type": "code",
   "execution_count": 11,
   "metadata": {},
   "outputs": [
    {
     "name": "stdout",
     "output_type": "stream",
     "text": [
      "Collecting mlbox\n",
      "  Using cached mlbox-0.8.5-py3-none-any.whl\n",
      "Collecting hyperopt==0.2.3\n",
      "  Using cached hyperopt-0.2.3-py3-none-any.whl (1.9 MB)\n",
      "Requirement already satisfied: tables==3.5.2 in e:\\anaconda3\\envs\\ml_3.6\\lib\\site-packages (from mlbox) (3.5.2)\n",
      "Requirement already satisfied: numpy==1.18.2 in e:\\anaconda3\\envs\\ml_3.6\\lib\\site-packages (from mlbox) (1.18.2)\n",
      "Requirement already satisfied: xlrd==1.2.0 in e:\\anaconda3\\envs\\ml_3.6\\lib\\site-packages (from mlbox) (1.2.0)"
     ]
    },
    {
     "name": "stderr",
     "output_type": "stream",
     "text": [
      "WARNING: Ignoring invalid distribution -ip (e:\\anaconda3\\envs\\ml_3.6\\lib\\site-packages)\n",
      "WARNING: Ignoring invalid distribution -illow (e:\\anaconda3\\envs\\ml_3.6\\lib\\site-packages)\n",
      "WARNING: Ignoring invalid distribution -ip (e:\\anaconda3\\envs\\ml_3.6\\lib\\site-packages)\n",
      "WARNING: Ignoring invalid distribution -illow (e:\\anaconda3\\envs\\ml_3.6\\lib\\site-packages)\n",
      "WARNING: Ignoring invalid distribution -ip (e:\\anaconda3\\envs\\ml_3.6\\lib\\site-packages)\n",
      "WARNING: Ignoring invalid distribution -illow (e:\\anaconda3\\envs\\ml_3.6\\lib\\site-packages)\n",
      "    WARNING: Ignoring invalid distribution -ip (e:\\anaconda3\\envs\\ml_3.6\\lib\\site-packages)\n",
      "    WARNING: Ignoring invalid distribution -illow (e:\\anaconda3\\envs\\ml_3.6\\lib\\site-packages)\n",
      "    WARNING: Ignoring invalid distribution -ip (e:\\anaconda3\\envs\\ml_3.6\\lib\\site-packages)\n",
      "    WARNING: Ignoring invalid distribution -illow (e:\\anaconda3\\envs\\ml_3.6\\lib\\site-packages)\n",
      "WARNING: Ignoring invalid distribution -ip (e:\\anaconda3\\envs\\ml_3.6\\lib\\site-packages)\n",
      "WARNING: Ignoring invalid distribution -illow (e:\\anaconda3\\envs\\ml_3.6\\lib\\site-packages)\n",
      "WARNING: Ignoring invalid distribution -ip (e:\\anaconda3\\envs\\ml_3.6\\lib\\site-packages)\n",
      "WARNING: Ignoring invalid distribution -illow (e:\\anaconda3\\envs\\ml_3.6\\lib\\site-packages)\n",
      "WARNING: Ignoring invalid distribution -ip (e:\\anaconda3\\envs\\ml_3.6\\lib\\site-packages)\n",
      "WARNING: Ignoring invalid distribution -illow (e:\\anaconda3\\envs\\ml_3.6\\lib\\site-packages)\n",
      "WARNING: Ignoring invalid distribution -ip (e:\\anaconda3\\envs\\ml_3.6\\lib\\site-packages)\n",
      "WARNING: Ignoring invalid distribution -illow (e:\\anaconda3\\envs\\ml_3.6\\lib\\site-packages)\n",
      "WARNING: Ignoring invalid distribution -ip (e:\\anaconda3\\envs\\ml_3.6\\lib\\site-packages)\n",
      "WARNING: Ignoring invalid distribution -illow (e:\\anaconda3\\envs\\ml_3.6\\lib\\site-packages)\n",
      "WARNING: Ignoring invalid distribution -ip (e:\\anaconda3\\envs\\ml_3.6\\lib\\site-packages)\n",
      "WARNING: Ignoring invalid distribution -illow (e:\\anaconda3\\envs\\ml_3.6\\lib\\site-packages)\n"
     ]
    },
    {
     "name": "stdout",
     "output_type": "stream",
     "text": [
      "\n",
      "Requirement already satisfied: joblib==0.14.1 in e:\\anaconda3\\envs\\ml_3.6\\lib\\site-packages (from mlbox) (0.14.1)\n",
      "Collecting matplotlib==3.0.3\n",
      "  Using cached matplotlib-3.0.3-cp36-cp36m-win_amd64.whl (9.1 MB)\n",
      "Requirement already satisfied: tensorflow==2.0.0 in e:\\anaconda3\\envs\\ml_3.6\\lib\\site-packages (from mlbox) (2.0.0)\n",
      "Requirement already satisfied: scikit-learn==0.22.1 in e:\\anaconda3\\envs\\ml_3.6\\lib\\site-packages (from mlbox) (0.22.1)\n",
      "Collecting lightgbm==2.3.1\n",
      "  Using cached lightgbm-2.3.1-py2.py3-none-win_amd64.whl (544 kB)\n",
      "Requirement already satisfied: scipy==1.4.1 in e:\\anaconda3\\envs\\ml_3.6\\lib\\site-packages (from mlbox) (1.4.1)\n",
      "Requirement already satisfied: pandas==0.25.3 in e:\\anaconda3\\envs\\ml_3.6\\lib\\site-packages (from mlbox) (0.25.3)\n",
      "Requirement already satisfied: networkx==2.2 in e:\\anaconda3\\envs\\ml_3.6\\lib\\site-packages (from hyperopt==0.2.3->mlbox) (2.2)\n",
      "Requirement already satisfied: six in e:\\anaconda3\\envs\\ml_3.6\\lib\\site-packages (from hyperopt==0.2.3->mlbox) (1.15.0)\n",
      "Requirement already satisfied: future in e:\\anaconda3\\envs\\ml_3.6\\lib\\site-packages (from hyperopt==0.2.3->mlbox) (0.18.2)\n",
      "Requirement already satisfied: cloudpickle in e:\\anaconda3\\envs\\ml_3.6\\lib\\site-packages (from hyperopt==0.2.3->mlbox) (1.6.0)\n",
      "Requirement already satisfied: tqdm in e:\\anaconda3\\envs\\ml_3.6\\lib\\site-packages (from hyperopt==0.2.3->mlbox) (4.62.3)\n",
      "Requirement already satisfied: python-dateutil>=2.1 in e:\\anaconda3\\envs\\ml_3.6\\lib\\site-packages (from matplotlib==3.0.3->mlbox) (2.8.1)\n",
      "Requirement already satisfied: kiwisolver>=1.0.1 in e:\\anaconda3\\envs\\ml_3.6\\lib\\site-packages (from matplotlib==3.0.3->mlbox) (1.3.1)\n",
      "Requirement already satisfied: cycler>=0.10 in e:\\anaconda3\\envs\\ml_3.6\\lib\\site-packages (from matplotlib==3.0.3->mlbox) (0.10.0)\n",
      "Requirement already satisfied: pyparsing!=2.0.4,!=2.1.2,!=2.1.6,>=2.0.1 in e:\\anaconda3\\envs\\ml_3.6\\lib\\site-packages (from matplotlib==3.0.3->mlbox) (2.4.7)\n",
      "Requirement already satisfied: pytz>=2017.2 in e:\\anaconda3\\envs\\ml_3.6\\lib\\site-packages (from pandas==0.25.3->mlbox) (2021.1)\n",
      "Requirement already satisfied: numexpr>=2.6.2 in e:\\anaconda3\\envs\\ml_3.6\\lib\\site-packages (from tables==3.5.2->mlbox) (2.8.1)\n",
      "Requirement already satisfied: mock>=2.0 in e:\\anaconda3\\envs\\ml_3.6\\lib\\site-packages (from tables==3.5.2->mlbox) (4.0.3)\n",
      "Requirement already satisfied: grpcio>=1.8.6 in e:\\anaconda3\\envs\\ml_3.6\\lib\\site-packages (from tensorflow==2.0.0->mlbox) (1.32.0)\n",
      "Requirement already satisfied: tensorboard<2.1.0,>=2.0.0 in e:\\anaconda3\\envs\\ml_3.6\\lib\\site-packages (from tensorflow==2.0.0->mlbox) (2.0.2)\n",
      "Requirement already satisfied: google-pasta>=0.1.6 in e:\\anaconda3\\envs\\ml_3.6\\lib\\site-packages (from tensorflow==2.0.0->mlbox) (0.2.0)\n",
      "Requirement already satisfied: tensorflow-estimator<2.1.0,>=2.0.0 in e:\\anaconda3\\envs\\ml_3.6\\lib\\site-packages (from tensorflow==2.0.0->mlbox) (2.0.1)\n",
      "Requirement already satisfied: opt-einsum>=2.3.2 in e:\\anaconda3\\envs\\ml_3.6\\lib\\site-packages (from tensorflow==2.0.0->mlbox) (3.3.0)\n",
      "Requirement already satisfied: wheel>=0.26 in e:\\anaconda3\\envs\\ml_3.6\\lib\\site-packages (from tensorflow==2.0.0->mlbox) (0.37.1)\n",
      "Requirement already satisfied: protobuf>=3.6.1 in e:\\anaconda3\\envs\\ml_3.6\\lib\\site-packages (from tensorflow==2.0.0->mlbox) (3.15.8)\n",
      "Requirement already satisfied: wrapt>=1.11.1 in e:\\anaconda3\\envs\\ml_3.6\\lib\\site-packages (from tensorflow==2.0.0->mlbox) (1.12.1)\n",
      "Requirement already satisfied: absl-py>=0.7.0 in e:\\anaconda3\\envs\\ml_3.6\\lib\\site-packages (from tensorflow==2.0.0->mlbox) (0.12.0)\n",
      "Requirement already satisfied: keras-applications>=1.0.8 in e:\\anaconda3\\envs\\ml_3.6\\lib\\site-packages (from tensorflow==2.0.0->mlbox) (1.0.8)\n",
      "Requirement already satisfied: termcolor>=1.1.0 in e:\\anaconda3\\envs\\ml_3.6\\lib\\site-packages (from tensorflow==2.0.0->mlbox) (1.1.0)\n",
      "Requirement already satisfied: gast==0.2.2 in e:\\anaconda3\\envs\\ml_3.6\\lib\\site-packages (from tensorflow==2.0.0->mlbox) (0.2.2)\n",
      "Requirement already satisfied: astor>=0.6.0 in e:\\anaconda3\\envs\\ml_3.6\\lib\\site-packages (from tensorflow==2.0.0->mlbox) (0.8.1)\n",
      "Requirement already satisfied: keras-preprocessing>=1.0.5 in e:\\anaconda3\\envs\\ml_3.6\\lib\\site-packages (from tensorflow==2.0.0->mlbox) (1.1.2)\n",
      "Requirement already satisfied: decorator>=4.3.0 in e:\\anaconda3\\envs\\ml_3.6\\lib\\site-packages (from networkx==2.2->hyperopt==0.2.3->mlbox) (4.4.2)\n",
      "Requirement already satisfied: h5py in e:\\anaconda3\\envs\\ml_3.6\\lib\\site-packages (from keras-applications>=1.0.8->tensorflow==2.0.0->mlbox) (2.10.0)\n",
      "Requirement already satisfied: packaging in e:\\anaconda3\\envs\\ml_3.6\\lib\\site-packages (from numexpr>=2.6.2->tables==3.5.2->mlbox) (20.9)\n",
      "Requirement already satisfied: requests<3,>=2.21.0 in e:\\anaconda3\\envs\\ml_3.6\\lib\\site-packages (from tensorboard<2.1.0,>=2.0.0->tensorflow==2.0.0->mlbox) (2.25.1)\n",
      "Requirement already satisfied: markdown>=2.6.8 in e:\\anaconda3\\envs\\ml_3.6\\lib\\site-packages (from tensorboard<2.1.0,>=2.0.0->tensorflow==2.0.0->mlbox) (3.3.4)\n",
      "Requirement already satisfied: google-auth-oauthlib<0.5,>=0.4.1 in e:\\anaconda3\\envs\\ml_3.6\\lib\\site-packages (from tensorboard<2.1.0,>=2.0.0->tensorflow==2.0.0->mlbox) (0.4.4)\n",
      "Requirement already satisfied: google-auth<2,>=1.6.3 in e:\\anaconda3\\envs\\ml_3.6\\lib\\site-packages (from tensorboard<2.1.0,>=2.0.0->tensorflow==2.0.0->mlbox) (1.29.0)\n",
      "Requirement already satisfied: werkzeug>=0.11.15 in e:\\anaconda3\\envs\\ml_3.6\\lib\\site-packages (from tensorboard<2.1.0,>=2.0.0->tensorflow==2.0.0->mlbox) (1.0.1)\n",
      "Requirement already satisfied: setuptools>=41.0.0 in e:\\anaconda3\\envs\\ml_3.6\\lib\\site-packages (from tensorboard<2.1.0,>=2.0.0->tensorflow==2.0.0->mlbox) (59.6.0)\n",
      "Requirement already satisfied: colorama in e:\\anaconda3\\envs\\ml_3.6\\lib\\site-packages (from tqdm->hyperopt==0.2.3->mlbox) (0.4.4)\n",
      "Requirement already satisfied: rsa<5,>=3.1.4 in e:\\anaconda3\\envs\\ml_3.6\\lib\\site-packages (from google-auth<2,>=1.6.3->tensorboard<2.1.0,>=2.0.0->tensorflow==2.0.0->mlbox) (4.7.2)\n",
      "Requirement already satisfied: pyasn1-modules>=0.2.1 in e:\\anaconda3\\envs\\ml_3.6\\lib\\site-packages (from google-auth<2,>=1.6.3->tensorboard<2.1.0,>=2.0.0->tensorflow==2.0.0->mlbox) (0.2.8)\n",
      "Requirement already satisfied: cachetools<5.0,>=2.0.0 in e:\\anaconda3\\envs\\ml_3.6\\lib\\site-packages (from google-auth<2,>=1.6.3->tensorboard<2.1.0,>=2.0.0->tensorflow==2.0.0->mlbox) (4.2.1)\n",
      "Requirement already satisfied: requests-oauthlib>=0.7.0 in e:\\anaconda3\\envs\\ml_3.6\\lib\\site-packages (from google-auth-oauthlib<0.5,>=0.4.1->tensorboard<2.1.0,>=2.0.0->tensorflow==2.0.0->mlbox) (1.3.0)\n",
      "Requirement already satisfied: importlib-metadata in e:\\anaconda3\\envs\\ml_3.6\\lib\\site-packages (from markdown>=2.6.8->tensorboard<2.1.0,>=2.0.0->tensorflow==2.0.0->mlbox) (3.4.0)\n",
      "Requirement already satisfied: chardet<5,>=3.0.2 in e:\\anaconda3\\envs\\ml_3.6\\lib\\site-packages (from requests<3,>=2.21.0->tensorboard<2.1.0,>=2.0.0->tensorflow==2.0.0->mlbox) (4.0.0)\n",
      "Requirement already satisfied: certifi>=2017.4.17 in e:\\anaconda3\\envs\\ml_3.6\\lib\\site-packages (from requests<3,>=2.21.0->tensorboard<2.1.0,>=2.0.0->tensorflow==2.0.0->mlbox) (2021.5.30)\n",
      "Requirement already satisfied: urllib3<1.27,>=1.21.1 in e:\\anaconda3\\envs\\ml_3.6\\lib\\site-packages (from requests<3,>=2.21.0->tensorboard<2.1.0,>=2.0.0->tensorflow==2.0.0->mlbox) (1.26.3)\n",
      "Requirement already satisfied: idna<3,>=2.5 in e:\\anaconda3\\envs\\ml_3.6\\lib\\site-packages (from requests<3,>=2.21.0->tensorboard<2.1.0,>=2.0.0->tensorflow==2.0.0->mlbox) (2.10)\n",
      "Requirement already satisfied: pyasn1<0.5.0,>=0.4.6 in e:\\anaconda3\\envs\\ml_3.6\\lib\\site-packages (from pyasn1-modules>=0.2.1->google-auth<2,>=1.6.3->tensorboard<2.1.0,>=2.0.0->tensorflow==2.0.0->mlbox) (0.4.8)\n",
      "Requirement already satisfied: oauthlib>=3.0.0 in e:\\anaconda3\\envs\\ml_3.6\\lib\\site-packages (from requests-oauthlib>=0.7.0->google-auth-oauthlib<0.5,>=0.4.1->tensorboard<2.1.0,>=2.0.0->tensorflow==2.0.0->mlbox) (3.1.0)\n",
      "Requirement already satisfied: zipp>=0.5 in e:\\anaconda3\\envs\\ml_3.6\\lib\\site-packages (from importlib-metadata->markdown>=2.6.8->tensorboard<2.1.0,>=2.0.0->tensorflow==2.0.0->mlbox) (3.4.0)\n",
      "Requirement already satisfied: typing-extensions>=3.6.4 in e:\\anaconda3\\envs\\ml_3.6\\lib\\site-packages (from importlib-metadata->markdown>=2.6.8->tensorboard<2.1.0,>=2.0.0->tensorflow==2.0.0->mlbox) (3.7.4.3)\n",
      "Installing collected packages: matplotlib, lightgbm, hyperopt, mlbox\n",
      "  Attempting uninstall: matplotlib\n",
      "    Found existing installation: matplotlib 3.3.4\n",
      "    Uninstalling matplotlib-3.3.4:\n",
      "      Successfully uninstalled matplotlib-3.3.4\n",
      "  Attempting uninstall: lightgbm\n",
      "    Found existing installation: lightgbm 3.3.1\n",
      "    Uninstalling lightgbm-3.3.1:\n",
      "      Successfully uninstalled lightgbm-3.3.1\n",
      "Successfully installed hyperopt-0.2.3 lightgbm-2.3.1 matplotlib-3.0.3 mlbox-0.8.5\n"
     ]
    }
   ],
   "source": [
    "!pip install mlbox\n",
    "#!git clone git://github.com/AxeldeRomblay/mlbox"
   ]
  },
  {
   "cell_type": "code",
   "execution_count": 14,
   "metadata": {},
   "outputs": [
    {
     "name": "stdout",
     "output_type": "stream",
     "text": [
      "Requirement already satisfied: setuptools in e:\\anaconda3\\envs\\ml_3.6\\lib\\site-packages (59.6.0)\n"
     ]
    },
    {
     "name": "stderr",
     "output_type": "stream",
     "text": [
      "WARNING: Ignoring invalid distribution -ip (e:\\anaconda3\\envs\\ml_3.6\\lib\\site-packages)\n",
      "WARNING: Ignoring invalid distribution -illow (e:\\anaconda3\\envs\\ml_3.6\\lib\\site-packages)\n",
      "WARNING: Ignoring invalid distribution -ip (e:\\anaconda3\\envs\\ml_3.6\\lib\\site-packages)\n",
      "WARNING: Ignoring invalid distribution -illow (e:\\anaconda3\\envs\\ml_3.6\\lib\\site-packages)\n",
      "WARNING: Ignoring invalid distribution -ip (e:\\anaconda3\\envs\\ml_3.6\\lib\\site-packages)\n",
      "WARNING: Ignoring invalid distribution -illow (e:\\anaconda3\\envs\\ml_3.6\\lib\\site-packages)\n",
      "WARNING: Ignoring invalid distribution -ip (e:\\anaconda3\\envs\\ml_3.6\\lib\\site-packages)\n",
      "WARNING: Ignoring invalid distribution -illow (e:\\anaconda3\\envs\\ml_3.6\\lib\\site-packages)\n",
      "WARNING: Ignoring invalid distribution -ip (e:\\anaconda3\\envs\\ml_3.6\\lib\\site-packages)\n",
      "WARNING: Ignoring invalid distribution -illow (e:\\anaconda3\\envs\\ml_3.6\\lib\\site-packages)\n"
     ]
    }
   ],
   "source": [
    "#!pip install setuptools\n",
    "#!pip install wheel"
   ]
  },
  {
   "cell_type": "code",
   "execution_count": 13,
   "metadata": {},
   "outputs": [
    {
     "name": "stdout",
     "output_type": "stream",
     "text": [
      "Package                       Version"
     ]
    },
    {
     "name": "stderr",
     "output_type": "stream",
     "text": [
      "WARNING: Ignoring invalid distribution -ip (e:\\anaconda3\\envs\\ml_3.6\\lib\\site-packages)"
     ]
    },
    {
     "name": "stdout",
     "output_type": "stream",
     "text": [
      "\n",
      "----------------------------- ----------\n",
      "absl-py                       0.12.0\n",
      "alabaster                     0.7.12\n",
      "appdirs                       1.4.4\n",
      "argh                          0.26.2\n",
      "argon2-cffi                   20.1.0\n",
      "astor                         0.8.1\n",
      "astroid                       2.4.2\n",
      "astunparse                    1.6.3\n",
      "async-generator               1.10\n",
      "atomicwrites                  1.4.0\n",
      "attrs                         20.3.0\n",
      "autopep8                      1.5.4\n",
      "Babel                         2.9.0\n",
      "backcall                      0.2.0\n",
      "bcrypt                        3.2.0\n",
      "beautifulsoup4                4.10.0\n",
      "black                         20.8b1\n",
      "bleach                        3.3.0\n",
      "brotlipy                      0.7.0\n",
      "cachetools                    4.2.1\n",
      "catboost                      1.0.3\n",
      "certifi                       2021.5.30\n",
      "cffi                          1.14.4\n",
      "chardet                       4.0.0\n",
      "click                         7.1.2\n",
      "cloudpickle                   1.6.0\n",
      "colorama                      0.4.4\n",
      "contextvars                   2.4\n",
      "cryptography                  3.3.1\n",
      "cycler                        0.10.0\n",
      "dask                          2021.3.0\n",
      "dask-glm                      0.2.0\n",
      "dask-ml                       1.9.0\n",
      "dataclasses                   0.8\n",
      "decorator                     4.4.2\n",
      "defusedxml                    0.6.0\n",
      "diff-match-patch              20200713\n",
      "distributed                   2021.3.0\n",
      "docutils                      0.16\n",
      "entrypoints                   0.3\n",
      "et-xmlfile                    1.1.0\n",
      "featuretools                  0.23.3\n",
      "flake8                        3.8.4\n",
      "flatbuffers                   1.12\n",
      "fsspec                        2021.6.0\n",
      "future                        0.18.2\n",
      "gast                          0.2.2\n",
      "google-auth                   1.29.0\n"
     ]
    },
    {
     "name": "stderr",
     "output_type": "stream",
     "text": [
      "\n",
      "WARNING: Ignoring invalid distribution -illow (e:\\anaconda3\\envs\\ml_3.6\\lib\\site-packages)\n",
      "WARNING: Ignoring invalid distribution -ip (e:\\anaconda3\\envs\\ml_3.6\\lib\\site-packages)\n",
      "WARNING: Ignoring invalid distribution -illow (e:\\anaconda3\\envs\\ml_3.6\\lib\\site-packages)\n",
      "WARNING: Ignoring invalid distribution -ip (e:\\anaconda3\\envs\\ml_3.6\\lib\\site-packages)\n",
      "WARNING: Ignoring invalid distribution -illow (e:\\anaconda3\\envs\\ml_3.6\\lib\\site-packages)\n"
     ]
    },
    {
     "name": "stdout",
     "output_type": "stream",
     "text": [
      "google-auth-oauthlib          0.4.4\n",
      "google-pasta                  0.2.0\n",
      "graphviz                      0.19\n",
      "grpcio                        1.32.0\n",
      "h5py                          2.10.0\n",
      "haversine                     2.5.1\n",
      "HeapDict                      1.0.1\n",
      "helpdev                       0.7.1\n",
      "hyperopt                      0.2.3\n",
      "idna                          2.10\n",
      "imageio                       2.14.0\n",
      "imagesize                     1.2.0\n",
      "immutables                    0.16\n",
      "importlib-metadata            3.4.0\n",
      "intervaltree                  3.1.0\n",
      "ipykernel                     5.4.2\n",
      "ipython                       7.16.1\n",
      "ipython-genutils              0.2.0\n",
      "ipywidgets                    7.6.3\n",
      "isort                         5.7.0\n",
      "jedi                          0.17.2\n",
      "Jinja2                        2.11.3\n",
      "joblib                        0.14.1\n",
      "jsonschema                    3.2.0\n",
      "jupyter                       1.0.0\n",
      "jupyter-client                6.1.11\n",
      "jupyter-console               6.2.0\n",
      "jupyter-core                  4.7.1\n",
      "jupyterlab-pygments           0.1.2\n",
      "jupyterlab-widgets            1.0.0\n",
      "Keras-Applications            1.0.8\n",
      "Keras-Preprocessing           1.1.2\n",
      "keyring                       22.0.1\n",
      "kiwisolver                    1.3.1\n",
      "lazy-object-proxy             1.4.3\n",
      "lightgbm                      2.3.1\n",
      "llvmlite                      0.36.0\n",
      "locket                        0.2.1\n",
      "Markdown                      3.3.4\n",
      "MarkupSafe                    1.1.1\n",
      "matplotlib                    3.0.3\n",
      "mccabe                        0.6.1\n",
      "mistune                       0.8.4\n",
      "mkl-fft                       1.2.0\n",
      "mkl-random                    1.1.1\n",
      "mkl-service                   2.3.0\n",
      "mlbox                         0.8.5\n",
      "mlxtend                       0.19.0\n",
      "mock                          4.0.3\n",
      "msgpack                       1.0.3\n",
      "multipledispatch              0.6.0\n",
      "mypy-extensions               0.4.3\n",
      "mysql-connector-python        8.0.27\n",
      "nbclient                      0.5.1\n",
      "nbconvert                     6.0.7\n",
      "nbformat                      5.1.2\n",
      "nest-asyncio                  1.4.3\n",
      "networkx                      2.2\n",
      "nltk                          3.6.7\n",
      "notebook                      6.1.6\n",
      "numba                         0.53.1\n",
      "numexpr                       2.8.1\n",
      "numpy                         1.18.2\n",
      "numpydoc                      1.1.0\n",
      "oauthlib                      3.1.0\n",
      "openpyxl                      3.0.7\n",
      "opt-einsum                    3.3.0\n",
      "packaging                     20.9\n",
      "pandas                        0.25.3\n",
      "pandocfilters                 1.4.3\n",
      "paramiko                      2.7.2\n",
      "parso                         0.7.0\n",
      "partd                         1.2.0\n",
      "pathspec                      0.8.1\n",
      "pathtools                     0.1.2\n",
      "patsy                         0.5.1\n",
      "pexpect                       4.8.0\n",
      "pickleshare                   0.7.5\n",
      "Pillow                        8.4.0\n",
      "pip                           21.3.1\n",
      "plotly                        4.3.0\n",
      "pluggy                        0.13.1\n",
      "prometheus-client             0.9.0\n",
      "prompt-toolkit                3.0.10\n",
      "protobuf                      3.15.8\n",
      "psutil                        5.8.0\n",
      "ptyprocess                    0.7.0\n",
      "pyasn1                        0.4.8\n",
      "pyasn1-modules                0.2.8\n",
      "pycodestyle                   2.6.0\n",
      "pycparser                     2.20\n",
      "pydocstyle                    5.1.1\n",
      "pydotplus                     2.0.2\n",
      "pyflakes                      2.2.0\n",
      "Pygments                      2.7.4\n",
      "pylint                        2.6.0\n",
      "pyls-black                    0.4.6\n",
      "pyls-spyder                   0.3.0\n",
      "PyNaCl                        1.4.0\n",
      "pyOpenSSL                     20.0.1\n",
      "pyparsing                     2.4.7\n",
      "PyQt5                         5.12.3\n",
      "PyQt5-sip                     12.8.1\n",
      "PyQtWebEngine                 5.12.1\n",
      "pyrsistent                    0.17.3\n",
      "PySocks                       1.7.1\n",
      "python-dateutil               2.8.1\n",
      "python-jsonrpc-server         0.4.0\n",
      "python-language-server        0.36.2\n",
      "pytz                          2021.1\n",
      "PyWavelets                    1.1.1\n",
      "pywin32                       300\n",
      "pywin32-ctypes                0.2.0\n",
      "pywinpty                      0.5.7\n",
      "PyYAML                        5.4.1\n",
      "pyzmq                         20.0.0\n",
      "QDarkStyle                    2.8.1\n",
      "QtAwesome                     1.0.2\n",
      "qtconsole                     5.0.1\n",
      "QtPy                          1.9.0\n",
      "regex                         2021.11.10\n",
      "requests                      2.25.1\n",
      "requests-oauthlib             1.3.0\n",
      "retrying                      1.3.3\n",
      "rope                          0.18.0\n",
      "rsa                           4.7.2\n",
      "Rtree                         0.9.4\n",
      "scikit-image                  0.17.2\n",
      "scikit-learn                  0.22.1\n",
      "scipy                         1.4.1\n",
      "seaborn                       0.11.1\n",
      "Send2Trash                    1.5.0\n",
      "setuptools                    59.6.0\n",
      "six                           1.15.0\n",
      "sklearn                       0.0\n",
      "snowballstemmer               2.1.0\n",
      "sortedcontainers              2.3.0\n",
      "soupsieve                     2.3.1\n",
      "Sphinx                        3.4.3\n",
      "sphinxcontrib-applehelp       1.0.2\n",
      "sphinxcontrib-devhelp         1.0.2\n",
      "sphinxcontrib-htmlhelp        1.0.3\n",
      "sphinxcontrib-jsmath          1.0.1\n",
      "sphinxcontrib-qthelp          1.0.3\n",
      "sphinxcontrib-serializinghtml 1.1.4\n",
      "spyder                        4.2.1\n",
      "spyder-kernels                1.10.1\n",
      "statsmodels                   0.12.2\n",
      "tables                        3.5.2\n",
      "tblib                         1.7.0\n",
      "tensorboard                   2.0.2\n",
      "tensorboard-data-server       0.6.0\n",
      "tensorboard-plugin-wit        1.8.0\n",
      "tensorflow                    2.0.0\n",
      "tensorflow-estimator          2.0.1\n",
      "termcolor                     1.1.0\n",
      "terminado                     0.9.2\n",
      "testpath                      0.4.4\n",
      "textblob                      0.17.1\n",
      "textdistance                  4.2.0\n",
      "threadpoolctl                 2.1.0\n",
      "three-merge                   0.1.1\n",
      "tifffile                      2020.9.3\n",
      "toml                          0.10.2\n",
      "toolz                         0.11.2\n",
      "tornado                       6.1\n",
      "tqdm                          4.62.3\n",
      "traitlets                     4.3.3\n",
      "typed-ast                     1.4.2\n",
      "typing-extensions             3.7.4.3\n",
      "ujson                         4.0.2\n",
      "urllib3                       1.26.3\n",
      "vaderSentiment                3.3.2\n",
      "watchdog                      1.0.2\n",
      "wcwidth                       0.2.5\n",
      "webencodings                  0.5.1\n",
      "Werkzeug                      1.0.1\n",
      "wheel                         0.37.1\n",
      "widgetsnbextension            3.5.1\n",
      "win-inet-pton                 1.1.0\n",
      "wincertstore                  0.2\n",
      "wordcloud                     1.8.1\n",
      "wrapt                         1.12.1\n",
      "xgboost                       1.4.2\n",
      "xlrd                          1.2.0\n",
      "yapf                          0.30.0\n",
      "zict                          2.0.0\n",
      "zipp                          3.4.0\n"
     ]
    }
   ],
   "source": [
    "\n",
    "!pip3 list command mlbox\n",
    "\n",
    "#!pip list --format=columns | find mlbox\n"
   ]
  },
  {
   "cell_type": "code",
   "execution_count": 15,
   "metadata": {},
   "outputs": [
    {
     "ename": "ModuleNotFoundError",
     "evalue": "No module named 'mlbox.preprocessing'",
     "output_type": "error",
     "traceback": [
      "\u001b[1;31m---------------------------------------------------------------------------\u001b[0m",
      "\u001b[1;31mModuleNotFoundError\u001b[0m                       Traceback (most recent call last)",
      "\u001b[1;32m<ipython-input-15-2d1b084de555>\u001b[0m in \u001b[0;36m<module>\u001b[1;34m\u001b[0m\n\u001b[0;32m      1\u001b[0m \u001b[1;31m#https://mlbox.readthedocs.io/en/latest/index.html\u001b[0m\u001b[1;33m\u001b[0m\u001b[1;33m\u001b[0m\u001b[1;33m\u001b[0m\u001b[0m\n\u001b[0;32m      2\u001b[0m \u001b[1;31m# importing the required libraries\u001b[0m\u001b[1;33m\u001b[0m\u001b[1;33m\u001b[0m\u001b[1;33m\u001b[0m\u001b[0m\n\u001b[1;32m----> 3\u001b[1;33m \u001b[1;32mfrom\u001b[0m \u001b[0mmlbox\u001b[0m\u001b[1;33m.\u001b[0m\u001b[0mpreprocessing\u001b[0m \u001b[1;32mimport\u001b[0m \u001b[1;33m*\u001b[0m\u001b[1;33m\u001b[0m\u001b[1;33m\u001b[0m\u001b[0m\n\u001b[0m\u001b[0;32m      4\u001b[0m \u001b[1;32mfrom\u001b[0m \u001b[0mmlbox\u001b[0m\u001b[1;33m.\u001b[0m\u001b[0moptimisation\u001b[0m \u001b[1;32mimport\u001b[0m \u001b[1;33m*\u001b[0m\u001b[1;33m\u001b[0m\u001b[1;33m\u001b[0m\u001b[0m\n\u001b[0;32m      5\u001b[0m \u001b[1;32mfrom\u001b[0m \u001b[0mmlbox\u001b[0m\u001b[1;33m.\u001b[0m\u001b[0mprediction\u001b[0m \u001b[1;32mimport\u001b[0m \u001b[1;33m*\u001b[0m\u001b[1;33m\u001b[0m\u001b[1;33m\u001b[0m\u001b[0m\n",
      "\u001b[1;31mModuleNotFoundError\u001b[0m: No module named 'mlbox.preprocessing'"
     ]
    }
   ],
   "source": [
    "#https://mlbox.readthedocs.io/en/latest/index.html\n",
    "# https://playground.tensorflow.org/#activation=tanh&batchSize=10&dataset=spiral&regDataset=reg-plane&learningRate=0.03&regularizationRate=0&noise=0&networkShape=5,2&seed=0.41661&showTestData=false&discretize=false&percTrainData=50&x=true&y=true&xTimesY=true&xSquared=true&ySquared=true&cosX=false&sinX=false&cosY=false&sinY=false&collectStats=false&problem=classification&initZero=false&hideText=false\n",
    "# importing the required libraries\n",
    "from mlbox.preprocessing import *\n",
    "from mlbox.optimisation import *\n",
    "from mlbox.prediction import *\n",
    "\n",
    "import warnings\n",
    "warnings.filterwarnings(\"ignore\")"
   ]
  },
  {
   "cell_type": "markdown",
   "metadata": {},
   "source": [
    "## Preprocessing"
   ]
  },
  {
   "cell_type": "code",
   "execution_count": 3,
   "metadata": {
    "scrolled": true
   },
   "outputs": [
    {
     "ename": "NameError",
     "evalue": "name 'Reader' is not defined",
     "output_type": "error",
     "traceback": [
      "\u001b[1;31m---------------------------------------------------------------------------\u001b[0m",
      "\u001b[1;31mNameError\u001b[0m                                 Traceback (most recent call last)",
      "\u001b[1;32m<ipython-input-3-9355f6f7a5f0>\u001b[0m in \u001b[0;36m<module>\u001b[1;34m\u001b[0m\n\u001b[0;32m      1\u001b[0m \u001b[1;31m# reading and cleaning the train and test files\u001b[0m\u001b[1;33m\u001b[0m\u001b[1;33m\u001b[0m\u001b[1;33m\u001b[0m\u001b[0m\n\u001b[1;32m----> 2\u001b[1;33m \u001b[0mdf\u001b[0m\u001b[1;33m=\u001b[0m\u001b[0mReader\u001b[0m\u001b[1;33m(\u001b[0m\u001b[0msep\u001b[0m\u001b[1;33m=\u001b[0m\u001b[1;34m\",\"\u001b[0m\u001b[1;33m)\u001b[0m\u001b[1;33m.\u001b[0m\u001b[0mtrain_test_split\u001b[0m\u001b[1;33m(\u001b[0m\u001b[1;33m[\u001b[0m\u001b[1;34m'train_bm.csv'\u001b[0m\u001b[1;33m,\u001b[0m \u001b[1;34m'test_bm.csv'\u001b[0m\u001b[1;33m]\u001b[0m\u001b[1;33m,\u001b[0m\u001b[1;34m'Item_Outlet_Sales'\u001b[0m\u001b[1;33m)\u001b[0m\u001b[1;33m\u001b[0m\u001b[1;33m\u001b[0m\u001b[0m\n\u001b[0m",
      "\u001b[1;31mNameError\u001b[0m: name 'Reader' is not defined"
     ]
    }
   ],
   "source": [
    "# reading and cleaning the train and test files\n",
    "df=Reader(sep=\",\").train_test_split(['train_bm.csv', 'test_bm.csv'],'Item_Outlet_Sales')"
   ]
  },
  {
   "cell_type": "code",
   "execution_count": 4,
   "metadata": {},
   "outputs": [
    {
     "ename": "NameError",
     "evalue": "name 'df' is not defined",
     "output_type": "error",
     "traceback": [
      "\u001b[1;31m---------------------------------------------------------------------------\u001b[0m",
      "\u001b[1;31mNameError\u001b[0m                                 Traceback (most recent call last)",
      "\u001b[1;32m<ipython-input-4-16f65e8a7555>\u001b[0m in \u001b[0;36m<module>\u001b[1;34m\u001b[0m\n\u001b[1;32m----> 1\u001b[1;33m \u001b[0mtype\u001b[0m\u001b[1;33m(\u001b[0m\u001b[0mdf\u001b[0m\u001b[1;33m)\u001b[0m\u001b[1;33m\u001b[0m\u001b[1;33m\u001b[0m\u001b[0m\n\u001b[0m",
      "\u001b[1;31mNameError\u001b[0m: name 'df' is not defined"
     ]
    }
   ],
   "source": [
    "type(df)"
   ]
  },
  {
   "cell_type": "code",
   "execution_count": 5,
   "metadata": {},
   "outputs": [
    {
     "data": {
      "text/plain": [
       "dict_keys(['train', 'test', 'target'])"
      ]
     },
     "execution_count": 5,
     "metadata": {},
     "output_type": "execute_result"
    }
   ],
   "source": [
    "df.keys()"
   ]
  },
  {
   "cell_type": "code",
   "execution_count": 6,
   "metadata": {},
   "outputs": [
    {
     "data": {
      "text/html": [
       "<div>\n",
       "<style scoped>\n",
       "    .dataframe tbody tr th:only-of-type {\n",
       "        vertical-align: middle;\n",
       "    }\n",
       "\n",
       "    .dataframe tbody tr th {\n",
       "        vertical-align: top;\n",
       "    }\n",
       "\n",
       "    .dataframe thead th {\n",
       "        text-align: right;\n",
       "    }\n",
       "</style>\n",
       "<table border=\"1\" class=\"dataframe\">\n",
       "  <thead>\n",
       "    <tr style=\"text-align: right;\">\n",
       "      <th></th>\n",
       "      <th>Item_Fat_Content</th>\n",
       "      <th>Item_Identifier</th>\n",
       "      <th>Item_MRP</th>\n",
       "      <th>Item_Type</th>\n",
       "      <th>Item_Visibility</th>\n",
       "      <th>Item_Weight</th>\n",
       "      <th>Outlet_Establishment_Year</th>\n",
       "      <th>Outlet_Identifier</th>\n",
       "      <th>Outlet_Location_Type</th>\n",
       "      <th>Outlet_Size</th>\n",
       "      <th>Outlet_Type</th>\n",
       "    </tr>\n",
       "  </thead>\n",
       "  <tbody>\n",
       "    <tr>\n",
       "      <th>0</th>\n",
       "      <td>Low Fat</td>\n",
       "      <td>FDA15</td>\n",
       "      <td>249.8092</td>\n",
       "      <td>Dairy</td>\n",
       "      <td>0.016047</td>\n",
       "      <td>9.30</td>\n",
       "      <td>1999.0</td>\n",
       "      <td>OUT049</td>\n",
       "      <td>Tier 1</td>\n",
       "      <td>Medium</td>\n",
       "      <td>Supermarket Type1</td>\n",
       "    </tr>\n",
       "    <tr>\n",
       "      <th>1</th>\n",
       "      <td>Regular</td>\n",
       "      <td>DRC01</td>\n",
       "      <td>48.2692</td>\n",
       "      <td>Soft Drinks</td>\n",
       "      <td>0.019278</td>\n",
       "      <td>5.92</td>\n",
       "      <td>2009.0</td>\n",
       "      <td>OUT018</td>\n",
       "      <td>Tier 3</td>\n",
       "      <td>Medium</td>\n",
       "      <td>Supermarket Type2</td>\n",
       "    </tr>\n",
       "    <tr>\n",
       "      <th>2</th>\n",
       "      <td>Low Fat</td>\n",
       "      <td>FDN15</td>\n",
       "      <td>141.6180</td>\n",
       "      <td>Meat</td>\n",
       "      <td>0.016760</td>\n",
       "      <td>17.50</td>\n",
       "      <td>1999.0</td>\n",
       "      <td>OUT049</td>\n",
       "      <td>Tier 1</td>\n",
       "      <td>Medium</td>\n",
       "      <td>Supermarket Type1</td>\n",
       "    </tr>\n",
       "    <tr>\n",
       "      <th>3</th>\n",
       "      <td>Regular</td>\n",
       "      <td>FDX07</td>\n",
       "      <td>182.0950</td>\n",
       "      <td>Fruits and Vegetables</td>\n",
       "      <td>0.000000</td>\n",
       "      <td>19.20</td>\n",
       "      <td>1998.0</td>\n",
       "      <td>OUT010</td>\n",
       "      <td>Tier 3</td>\n",
       "      <td>NaN</td>\n",
       "      <td>Grocery Store</td>\n",
       "    </tr>\n",
       "    <tr>\n",
       "      <th>4</th>\n",
       "      <td>Low Fat</td>\n",
       "      <td>NCD19</td>\n",
       "      <td>53.8614</td>\n",
       "      <td>Household</td>\n",
       "      <td>0.000000</td>\n",
       "      <td>8.93</td>\n",
       "      <td>1987.0</td>\n",
       "      <td>OUT013</td>\n",
       "      <td>Tier 3</td>\n",
       "      <td>High</td>\n",
       "      <td>Supermarket Type1</td>\n",
       "    </tr>\n",
       "  </tbody>\n",
       "</table>\n",
       "</div>"
      ],
      "text/plain": [
       "  Item_Fat_Content Item_Identifier  Item_MRP              Item_Type  \\\n",
       "0          Low Fat           FDA15  249.8092                  Dairy   \n",
       "1          Regular           DRC01   48.2692            Soft Drinks   \n",
       "2          Low Fat           FDN15  141.6180                   Meat   \n",
       "3          Regular           FDX07  182.0950  Fruits and Vegetables   \n",
       "4          Low Fat           NCD19   53.8614              Household   \n",
       "\n",
       "   Item_Visibility  Item_Weight  Outlet_Establishment_Year Outlet_Identifier  \\\n",
       "0         0.016047         9.30                     1999.0            OUT049   \n",
       "1         0.019278         5.92                     2009.0            OUT018   \n",
       "2         0.016760        17.50                     1999.0            OUT049   \n",
       "3         0.000000        19.20                     1998.0            OUT010   \n",
       "4         0.000000         8.93                     1987.0            OUT013   \n",
       "\n",
       "  Outlet_Location_Type Outlet_Size        Outlet_Type  \n",
       "0               Tier 1      Medium  Supermarket Type1  \n",
       "1               Tier 3      Medium  Supermarket Type2  \n",
       "2               Tier 1      Medium  Supermarket Type1  \n",
       "3               Tier 3         NaN      Grocery Store  \n",
       "4               Tier 3        High  Supermarket Type1  "
      ]
     },
     "execution_count": 6,
     "metadata": {},
     "output_type": "execute_result"
    }
   ],
   "source": [
    "df['train'].head()"
   ]
  },
  {
   "cell_type": "code",
   "execution_count": 7,
   "metadata": {},
   "outputs": [
    {
     "data": {
      "text/plain": [
       "Item_Fat_Content                0\n",
       "Item_Identifier                 0\n",
       "Item_MRP                        0\n",
       "Item_Type                       0\n",
       "Item_Visibility                 0\n",
       "Item_Weight                  1463\n",
       "Outlet_Establishment_Year       0\n",
       "Outlet_Identifier               0\n",
       "Outlet_Location_Type            0\n",
       "Outlet_Size                  2410\n",
       "Outlet_Type                     0\n",
       "dtype: int64"
      ]
     },
     "execution_count": 7,
     "metadata": {},
     "output_type": "execute_result"
    }
   ],
   "source": [
    "df['train'].isnull().sum()"
   ]
  },
  {
   "cell_type": "markdown",
   "metadata": {},
   "source": [
    "## Optimisation"
   ]
  },
  {
   "cell_type": "code",
   "execution_count": 8,
   "metadata": {
    "collapsed": true
   },
   "outputs": [],
   "source": [
    "# setting the hyperparameter space\n",
    "space={'ne__numerical_strategy':{\"space\":['median']},\n",
    "'ne__categorical_strategy':{\"space\":['mode']},\n",
    "       \n",
    "'ce__strategy':{\"search\":\"choice\",\"space\":['label_encoding','entity_embedding']},\n",
    "'fs__strategy':{\"search\":\"choice\",\"space\":['variance','rf_feature_importance']},\n",
    "'fs__threshold':{\"search\":\"uniform\",\"space\":[0.01, 0.3]},\n",
    "       \n",
    "'est__strategy' : {\"space\" : [\"RandomForest\"]},\n",
    "'est__max_depth':{\"search\":\"choice\",\"space\":[3,5,7,9]},\n",
    "'est__n_estimators':{\"search\":\"choice\",\"space\":[250,500,700,1000]}}"
   ]
  },
  {
   "cell_type": "code",
   "execution_count": 9,
   "metadata": {
    "scrolled": true
   },
   "outputs": [
    {
     "name": "stdout",
     "output_type": "stream",
     "text": [
      "\n",
      "##################################################### testing hyper-parameters... #####################################################\n",
      "\n",
      ">>> NA ENCODER :{'numerical_strategy': 'median', 'categorical_strategy': 'mode'}\n",
      "\n",
      ">>> CA ENCODER :{'strategy': 'label_encoding'}\n",
      "\n",
      ">>> FEATURE SELECTOR :{'strategy': 'variance', 'threshold': 0.290810744939252}\n",
      "\n",
      ">>> ESTIMATOR :{'strategy': 'RandomForest', 'max_depth': 9, 'n_estimators': 700, 'bootstrap': True, 'criterion': 'mse', 'max_features': 'sqrt', 'max_leaf_nodes': None, 'min_impurity_decrease': 0.0, 'min_impurity_split': None, 'min_samples_leaf': 1, 'min_samples_split': 2, 'min_weight_fraction_leaf': 0.0, 'n_jobs': -1, 'oob_score': False, 'random_state': 0, 'verbose': 0, 'warm_start': False}\n",
      "\n",
      "\n",
      "MEAN SCORE : r2 = 0.5884089368754352\n",
      "VARIANCE : 0.01589347931541683 (fold 1 = 0.585687382410703, fold 2 = 0.5797469921092984, fold 3 = 0.5868701408071972, fold 4 = 0.618265773515415, fold 5 = 0.5714743955345621)\n",
      "CPU time: 10.895755290985107 seconds\n",
      "\n",
      "\n",
      "##################################################### testing hyper-parameters... #####################################################\n",
      "\n",
      ">>> NA ENCODER :{'numerical_strategy': 'median', 'categorical_strategy': 'mode'}\n",
      "\n",
      ">>> CA ENCODER :{'strategy': 'entity_embedding'}\n",
      "\n",
      ">>> FEATURE SELECTOR :{'strategy': 'variance', 'threshold': 0.13522499469239344}\n",
      "\n",
      ">>> ESTIMATOR :{'strategy': 'RandomForest', 'max_depth': 7, 'n_estimators': 250, 'bootstrap': True, 'criterion': 'mse', 'max_features': 'sqrt', 'max_leaf_nodes': None, 'min_impurity_decrease': 0.0, 'min_impurity_split': None, 'min_samples_leaf': 1, 'min_samples_split': 2, 'min_weight_fraction_leaf': 0.0, 'n_jobs': -1, 'oob_score': False, 'random_state': 0, 'verbose': 0, 'warm_start': False}\n",
      "\n",
      "\n",
      "MEAN SCORE : r2 = 0.5042627245430824\n",
      "VARIANCE : 0.011520080109848568 (fold 1 = 0.4985728801681384, fold 2 = 0.4996634660046809, fold 3 = 0.5024293069422945, fold 4 = 0.5266517915828408, fold 5 = 0.4939961780174572)\n",
      "CPU time: 7.016660690307617 seconds\n",
      "\n",
      "\n",
      "##################################################### testing hyper-parameters... #####################################################\n",
      "\n",
      ">>> NA ENCODER :{'numerical_strategy': 'median', 'categorical_strategy': 'mode'}\n",
      "\n",
      ">>> CA ENCODER :{'strategy': 'entity_embedding'}\n",
      "\n",
      ">>> FEATURE SELECTOR :{'strategy': 'rf_feature_importance', 'threshold': 0.14615647957112976}\n",
      "\n",
      ">>> ESTIMATOR :{'strategy': 'RandomForest', 'max_depth': 3, 'n_estimators': 1000, 'bootstrap': True, 'criterion': 'mse', 'max_features': 'sqrt', 'max_leaf_nodes': None, 'min_impurity_decrease': 0.0, 'min_impurity_split': None, 'min_samples_leaf': 1, 'min_samples_split': 2, 'min_weight_fraction_leaf': 0.0, 'n_jobs': -1, 'oob_score': False, 'random_state': 0, 'verbose': 0, 'warm_start': False}\n",
      "\n",
      "\n",
      "MEAN SCORE : r2 = 0.44592439460279093\n",
      "VARIANCE : 0.017174058076760666 (fold 1 = 0.4548048253573621, fold 2 = 0.43851854670447166, fold 3 = 0.43361840080912906, fold 4 = 0.47511966594161636, fold 5 = 0.4275605342013753)\n",
      "CPU time: 20.115878105163574 seconds\n",
      "\n",
      "\n",
      "##################################################### testing hyper-parameters... #####################################################\n",
      "\n",
      ">>> NA ENCODER :{'numerical_strategy': 'median', 'categorical_strategy': 'mode'}\n",
      "\n",
      ">>> CA ENCODER :{'strategy': 'entity_embedding'}\n",
      "\n",
      ">>> FEATURE SELECTOR :{'strategy': 'rf_feature_importance', 'threshold': 0.10638265179223372}\n",
      "\n",
      ">>> ESTIMATOR :{'strategy': 'RandomForest', 'max_depth': 5, 'n_estimators': 250, 'bootstrap': True, 'criterion': 'mse', 'max_features': 'sqrt', 'max_leaf_nodes': None, 'min_impurity_decrease': 0.0, 'min_impurity_split': None, 'min_samples_leaf': 1, 'min_samples_split': 2, 'min_weight_fraction_leaf': 0.0, 'n_jobs': -1, 'oob_score': False, 'random_state': 0, 'verbose': 0, 'warm_start': False}\n",
      "\n",
      "\n",
      "MEAN SCORE : r2 = 0.49792068910033366\n",
      "VARIANCE : 0.012986211706576935 (fold 1 = 0.4970126986390191, fold 2 = 0.4919420041389061, fold 3 = 0.4972990001019658, fold 4 = 0.5213987792216394, fold 5 = 0.48195096340013777)\n",
      "CPU time: 13.397889375686646 seconds\n",
      "\n",
      "\n",
      "##################################################### testing hyper-parameters... #####################################################\n",
      "\n",
      ">>> NA ENCODER :{'numerical_strategy': 'median', 'categorical_strategy': 'mode'}\n",
      "\n",
      ">>> CA ENCODER :{'strategy': 'label_encoding'}\n",
      "\n",
      ">>> FEATURE SELECTOR :{'strategy': 'variance', 'threshold': 0.07723398422735013}\n",
      "\n",
      ">>> ESTIMATOR :{'strategy': 'RandomForest', 'max_depth': 3, 'n_estimators': 700, 'bootstrap': True, 'criterion': 'mse', 'max_features': 'sqrt', 'max_leaf_nodes': None, 'min_impurity_decrease': 0.0, 'min_impurity_split': None, 'min_samples_leaf': 1, 'min_samples_split': 2, 'min_weight_fraction_leaf': 0.0, 'n_jobs': -1, 'oob_score': False, 'random_state': 0, 'verbose': 0, 'warm_start': False}\n",
      "\n",
      "\n",
      "MEAN SCORE : r2 = 0.47152430767165204\n",
      "VARIANCE : 0.011423512911226659 (fold 1 = 0.477139243895392, fold 2 = 0.46685642859756704, fold 3 = 0.47051894791897897, fold 4 = 0.48884730447508473, fold 5 = 0.45425961347123744)\n",
      "CPU time: 5.999194383621216 seconds\n",
      "\n",
      "\n",
      "##################################################### testing hyper-parameters... #####################################################\n",
      "\n",
      ">>> NA ENCODER :{'numerical_strategy': 'median', 'categorical_strategy': 'mode'}\n",
      "\n",
      ">>> CA ENCODER :{'strategy': 'entity_embedding'}\n",
      "\n",
      ">>> FEATURE SELECTOR :{'strategy': 'rf_feature_importance', 'threshold': 0.11488369119372299}\n",
      "\n",
      ">>> ESTIMATOR :{'strategy': 'RandomForest', 'max_depth': 9, 'n_estimators': 500, 'bootstrap': True, 'criterion': 'mse', 'max_features': 'sqrt', 'max_leaf_nodes': None, 'min_impurity_decrease': 0.0, 'min_impurity_split': None, 'min_samples_leaf': 1, 'min_samples_split': 2, 'min_weight_fraction_leaf': 0.0, 'n_jobs': -1, 'oob_score': False, 'random_state': 0, 'verbose': 0, 'warm_start': False}\n",
      "\n",
      "\n",
      "MEAN SCORE : r2 = 0.5035841104258965\n",
      "VARIANCE : 0.011287128790227394 (fold 1 = 0.4983785824065171, fold 2 = 0.49822554651436446, fold 3 = 0.5023784921950704, fold 4 = 0.5254450116151932, fold 5 = 0.4934929193983374)\n",
      "CPU time: 19.47974395751953 seconds\n",
      "\n",
      "\n",
      "##################################################### testing hyper-parameters... #####################################################\n",
      "\n",
      ">>> NA ENCODER :{'numerical_strategy': 'median', 'categorical_strategy': 'mode'}\n",
      "\n",
      ">>> CA ENCODER :{'strategy': 'label_encoding'}\n",
      "\n",
      ">>> FEATURE SELECTOR :{'strategy': 'rf_feature_importance', 'threshold': 0.034897475871066876}\n",
      "\n",
      ">>> ESTIMATOR :{'strategy': 'RandomForest', 'max_depth': 7, 'n_estimators': 250, 'bootstrap': True, 'criterion': 'mse', 'max_features': 'sqrt', 'max_leaf_nodes': None, 'min_impurity_decrease': 0.0, 'min_impurity_split': None, 'min_samples_leaf': 1, 'min_samples_split': 2, 'min_weight_fraction_leaf': 0.0, 'n_jobs': -1, 'oob_score': False, 'random_state': 0, 'verbose': 0, 'warm_start': False}\n",
      "\n",
      "\n",
      "MEAN SCORE : r2 = 0.5856419960147219\n",
      "VARIANCE : 0.016026077832583505 (fold 1 = 0.5812462380512831, fold 2 = 0.574503097496326, fold 3 = 0.5879752834530065, fold 4 = 0.6151358651404595, fold 5 = 0.5693494959325347)\n",
      "CPU time: 10.240574598312378 seconds\n",
      "\n",
      "\n",
      "##################################################### testing hyper-parameters... #####################################################\n",
      "\n",
      ">>> NA ENCODER :{'numerical_strategy': 'median', 'categorical_strategy': 'mode'}\n",
      "\n",
      ">>> CA ENCODER :{'strategy': 'label_encoding'}\n",
      "\n",
      ">>> FEATURE SELECTOR :{'strategy': 'variance', 'threshold': 0.046717332107790145}\n",
      "\n",
      ">>> ESTIMATOR :{'strategy': 'RandomForest', 'max_depth': 3, 'n_estimators': 500, 'bootstrap': True, 'criterion': 'mse', 'max_features': 'sqrt', 'max_leaf_nodes': None, 'min_impurity_decrease': 0.0, 'min_impurity_split': None, 'min_samples_leaf': 1, 'min_samples_split': 2, 'min_weight_fraction_leaf': 0.0, 'n_jobs': -1, 'oob_score': False, 'random_state': 0, 'verbose': 0, 'warm_start': False}\n",
      "\n",
      "\n",
      "MEAN SCORE : r2 = 0.4729067927910985\n",
      "VARIANCE : 0.0109740166726861 (fold 1 = 0.4771824825806029, fold 2 = 0.4682392465881623, fold 3 = 0.47410447387077537, fold 4 = 0.4892418400448607, fold 5 = 0.45576592087109147)\n",
      "CPU time: 4.367085695266724 seconds\n",
      "\n",
      "\n",
      "##################################################### testing hyper-parameters... #####################################################\n",
      "\n",
      ">>> NA ENCODER :{'numerical_strategy': 'median', 'categorical_strategy': 'mode'}\n",
      "\n",
      ">>> CA ENCODER :{'strategy': 'entity_embedding'}\n",
      "\n",
      ">>> FEATURE SELECTOR :{'strategy': 'rf_feature_importance', 'threshold': 0.21218510888661965}\n",
      "\n",
      ">>> ESTIMATOR :{'strategy': 'RandomForest', 'max_depth': 3, 'n_estimators': 500, 'bootstrap': True, 'criterion': 'mse', 'max_features': 'sqrt', 'max_leaf_nodes': None, 'min_impurity_decrease': 0.0, 'min_impurity_split': None, 'min_samples_leaf': 1, 'min_samples_split': 2, 'min_weight_fraction_leaf': 0.0, 'n_jobs': -1, 'oob_score': False, 'random_state': 0, 'verbose': 0, 'warm_start': False}\n",
      "\n"
     ]
    },
    {
     "name": "stdout",
     "output_type": "stream",
     "text": [
      "\n",
      "MEAN SCORE : r2 = 0.4381012707801246\n",
      "VARIANCE : 0.014735418770391917 (fold 1 = 0.4468513189709198, fold 2 = 0.43115539047643225, fold 3 = 0.4259826768632752, fold 4 = 0.46276233244695086, fold 5 = 0.4237546351430449)\n",
      "CPU time: 13.820397853851318 seconds\n",
      "\n",
      "\n",
      "##################################################### testing hyper-parameters... #####################################################\n",
      "\n",
      ">>> NA ENCODER :{'numerical_strategy': 'median', 'categorical_strategy': 'mode'}\n",
      "\n",
      ">>> CA ENCODER :{'strategy': 'entity_embedding'}\n",
      "\n",
      ">>> FEATURE SELECTOR :{'strategy': 'rf_feature_importance', 'threshold': 0.044404784103226}\n",
      "\n",
      ">>> ESTIMATOR :{'strategy': 'RandomForest', 'max_depth': 5, 'n_estimators': 1000, 'bootstrap': True, 'criterion': 'mse', 'max_features': 'sqrt', 'max_leaf_nodes': None, 'min_impurity_decrease': 0.0, 'min_impurity_split': None, 'min_samples_leaf': 1, 'min_samples_split': 2, 'min_weight_fraction_leaf': 0.0, 'n_jobs': -1, 'oob_score': False, 'random_state': 0, 'verbose': 0, 'warm_start': False}\n",
      "\n",
      "\n",
      "MEAN SCORE : r2 = 0.4977412111571692\n",
      "VARIANCE : 0.012868752952984968 (fold 1 = 0.49755612442683106, fold 2 = 0.4918193389783817, fold 3 = 0.49509377623909534, fold 4 = 0.5214522200117553, fold 5 = 0.4827845961297823)\n",
      "CPU time: 22.128357648849487 seconds\n",
      "\n",
      "\n",
      "\n",
      "~~~~~~~~~~~~~~~~~~~~~~~~~~~~~~~~~~~~~~~~~~~~~~~~~~~~~~~~~~~~~~~~~~~~~~~~~~~~~~~~~~~~~~~~~~~~~~~~~~~~~~~~~~~~~~~~~~~~~~~~~~~~~~~~~~~~~~~~~\n",
      "~~~~~~~~~~~~~~~~~~~~~~~~~~~~~~~~~~~~~~~~~~~~~~~~~~~~~~~~~ BEST HYPER-PARAMETERS ~~~~~~~~~~~~~~~~~~~~~~~~~~~~~~~~~~~~~~~~~~~~~~~~~~~~~~~~~\n",
      "~~~~~~~~~~~~~~~~~~~~~~~~~~~~~~~~~~~~~~~~~~~~~~~~~~~~~~~~~~~~~~~~~~~~~~~~~~~~~~~~~~~~~~~~~~~~~~~~~~~~~~~~~~~~~~~~~~~~~~~~~~~~~~~~~~~~~~~~~\n",
      "\n",
      "{'ce__strategy': 'label_encoding', 'est__max_depth': 9, 'est__n_estimators': 700, 'est__strategy': 'RandomForest', 'fs__strategy': 'variance', 'fs__threshold': 0.290810744939252, 'ne__categorical_strategy': 'mode', 'ne__numerical_strategy': 'median'}\n"
     ]
    }
   ],
   "source": [
    "# calculating the best hyper-parameter\n",
    "best=Optimiser(scoring=\"r2\",n_folds=5).optimise(space,df,10)"
   ]
  },
  {
   "cell_type": "code",
   "execution_count": 10,
   "metadata": {},
   "outputs": [
    {
     "data": {
      "text/plain": [
       "{'ce__strategy': 'label_encoding',\n",
       " 'est__max_depth': 9,\n",
       " 'est__n_estimators': 700,\n",
       " 'est__strategy': 'RandomForest',\n",
       " 'fs__strategy': 'variance',\n",
       " 'fs__threshold': 0.290810744939252,\n",
       " 'ne__categorical_strategy': 'mode',\n",
       " 'ne__numerical_strategy': 'median'}"
      ]
     },
     "execution_count": 10,
     "metadata": {},
     "output_type": "execute_result"
    }
   ],
   "source": [
    "best"
   ]
  },
  {
   "cell_type": "markdown",
   "metadata": {},
   "source": [
    "## Predictions"
   ]
  },
  {
   "cell_type": "code",
   "execution_count": 11,
   "metadata": {
    "scrolled": false
   },
   "outputs": [
    {
     "name": "stdout",
     "output_type": "stream",
     "text": [
      "\n",
      "fitting the pipeline ...\n",
      "CPU time: 1.8255245685577393 seconds\n",
      "\n",
      "predicting...\n",
      "CPU time: 0.34248805046081543 seconds\n",
      "\n",
      "> Overview on predictions : \n",
      "\n",
      "   Item_Outlet_Sales_predicted\n",
      "0                  1743.491722\n",
      "1                  1498.373917\n",
      "2                   641.687723\n",
      "3                  2522.618260\n",
      "4                  6280.104087\n",
      "5                  1868.182294\n",
      "6                   855.838796\n",
      "7                  2251.364443\n",
      "8                  1539.536206\n",
      "9                  2909.515888\n",
      "\n",
      "dumping predictions into directory : save ...\n"
     ]
    },
    {
     "data": {
      "text/plain": [
       "<mlbox.prediction.predictor.Predictor at 0x7fab721a3908>"
      ]
     },
     "execution_count": 11,
     "metadata": {},
     "output_type": "execute_result"
    }
   ],
   "source": [
    "# predicting on the test dataset\n",
    "Predictor().fit_predict(best,df)"
   ]
  },
  {
   "cell_type": "code",
   "execution_count": null,
   "metadata": {
    "collapsed": true
   },
   "outputs": [],
   "source": []
  },
  {
   "cell_type": "code",
   "execution_count": null,
   "metadata": {
    "collapsed": true
   },
   "outputs": [],
   "source": []
  },
  {
   "cell_type": "code",
   "execution_count": null,
   "metadata": {
    "collapsed": true
   },
   "outputs": [],
   "source": []
  },
  {
   "cell_type": "code",
   "execution_count": null,
   "metadata": {
    "collapsed": true
   },
   "outputs": [],
   "source": []
  },
  {
   "cell_type": "code",
   "execution_count": null,
   "metadata": {
    "collapsed": true
   },
   "outputs": [],
   "source": []
  }
 ],
 "metadata": {
  "kernelspec": {
   "display_name": "Python 3",
   "language": "python",
   "name": "python3"
  },
  "language_info": {
   "codemirror_mode": {
    "name": "ipython",
    "version": 3
   },
   "file_extension": ".py",
   "mimetype": "text/x-python",
   "name": "python",
   "nbconvert_exporter": "python",
   "pygments_lexer": "ipython3",
   "version": "3.6.12"
  }
 },
 "nbformat": 4,
 "nbformat_minor": 2
}
