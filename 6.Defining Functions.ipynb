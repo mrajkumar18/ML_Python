{
 "cells": [
  {
   "cell_type": "markdown",
   "metadata": {},
   "source": [
    "---\n",
    "\n",
    "## 📍📍 Defining Functions 📍📍\n",
    "---\n",
    "\n",
    "* ***Purpose of functions is to group a particular lines of code that needs to be executed multiple times.***\n",
    "* ***The keyword `def` introduces a function definition and it must be followed by the function name.***\n",
    "\n",
    "---"
   ]
  },
  {
   "cell_type": "code",
   "execution_count": 6,
   "metadata": {},
   "outputs": [],
   "source": [
    "def welcome():\n",
    "    print(\"Welcome to the Python Course!!\")"
   ]
  },
  {
   "cell_type": "code",
   "execution_count": 4,
   "metadata": {},
   "outputs": [
    {
     "name": "stdout",
     "output_type": "stream",
     "text": [
      "0 KodiDharma\n",
      "1 KodiDharma\n",
      "2 KodiDharma\n",
      "3 KodiDharma\n",
      "4 KodiDharma\n"
     ]
    }
   ],
   "source": [
    "def pprint(n):\n",
    "    for i in range(n):\n",
    "        print(i,\"KodiDharma\")\n",
    "        \n",
    "\n",
    "pprint(5)        "
   ]
  },
  {
   "cell_type": "code",
   "execution_count": 7,
   "metadata": {},
   "outputs": [
    {
     "name": "stdout",
     "output_type": "stream",
     "text": [
      "Welcome to the Python Course!!\n"
     ]
    }
   ],
   "source": [
    "# calling a function in python\n",
    "welcome()"
   ]
  },
  {
   "cell_type": "code",
   "execution_count": 24,
   "metadata": {},
   "outputs": [
    {
     "name": "stdout",
     "output_type": "stream",
     "text": [
      "Welcome to the Python Course!!\n"
     ]
    }
   ],
   "source": [
    "welcome()"
   ]
  },
  {
   "cell_type": "markdown",
   "metadata": {},
   "source": [
    "---\n",
    "\n",
    "***`return statement:`***\n",
    "\n",
    "- A `return` statement is used to end the execution of the function call and gives the result. \n",
    "- The statements after the `return statements` are not executed.\n",
    "\n",
    "---"
   ]
  },
  {
   "cell_type": "code",
   "execution_count": 14,
   "metadata": {},
   "outputs": [],
   "source": [
    "def add_two_numbers():\n",
    "    # add two numbers 3 and 4\n",
    "    total = 3 + 4\n",
    "    \n",
    "    # print the total\n",
    "    print(\"Sum of 3 and 4 is:\", total)"
   ]
  },
  {
   "cell_type": "code",
   "execution_count": 18,
   "metadata": {},
   "outputs": [
    {
     "name": "stdout",
     "output_type": "stream",
     "text": [
      "X+Y 3\n",
      "aa 3\n"
     ]
    }
   ],
   "source": [
    "def rAdd(x=1,y=2):\n",
    "    a = x + y\n",
    "    print(\"X+Y\",a)\n",
    "    return a\n",
    "\n",
    "aa = rAdd()\n",
    "print(\"aa\",aa)"
   ]
  },
  {
   "cell_type": "code",
   "execution_count": 15,
   "metadata": {},
   "outputs": [],
   "source": [
    "def add_two_numbers_with_return():\n",
    "    # add two numbers 3 and 4\n",
    "    total = 3 + 4\n",
    "    \n",
    "    # print the total\n",
    "    print(\"Sum of 3 and 4 is:\", total)\n",
    "    \n",
    "    # return the value of total\n",
    "    return total"
   ]
  },
  {
   "cell_type": "code",
   "execution_count": 16,
   "metadata": {},
   "outputs": [
    {
     "name": "stdout",
     "output_type": "stream",
     "text": [
      "Sum of 3 and 4 is: 7\n"
     ]
    }
   ],
   "source": [
    "add_two_numbers()"
   ]
  },
  {
   "cell_type": "code",
   "execution_count": 28,
   "metadata": {},
   "outputs": [
    {
     "name": "stdout",
     "output_type": "stream",
     "text": [
      "Sum of 3 and 4 is: 7\n"
     ]
    }
   ],
   "source": [
    "output_1 = add_two_numbers()"
   ]
  },
  {
   "cell_type": "code",
   "execution_count": 29,
   "metadata": {},
   "outputs": [],
   "source": [
    "output_1 # values not saved"
   ]
  },
  {
   "cell_type": "code",
   "execution_count": 30,
   "metadata": {},
   "outputs": [
    {
     "name": "stdout",
     "output_type": "stream",
     "text": [
      "Sum of 3 and 4 is: 7\n"
     ]
    }
   ],
   "source": [
    "output_2 = add_two_numbers_with_return()"
   ]
  },
  {
   "cell_type": "code",
   "execution_count": 31,
   "metadata": {},
   "outputs": [
    {
     "data": {
      "text/plain": [
       "7"
      ]
     },
     "execution_count": 31,
     "metadata": {},
     "output_type": "execute_result"
    }
   ],
   "source": [
    "output_2"
   ]
  },
  {
   "cell_type": "markdown",
   "metadata": {},
   "source": [
    "---\n",
    "\n",
    "###  Passing Parameters\n",
    "\n",
    "---"
   ]
  },
  {
   "cell_type": "code",
   "execution_count": null,
   "metadata": {},
   "outputs": [],
   "source": [
    "def welcome(name):\n",
    "    return \"Welcome to Python Course, \" + name"
   ]
  },
  {
   "cell_type": "code",
   "execution_count": null,
   "metadata": {},
   "outputs": [],
   "source": [
    "welcome('Lakshay')"
   ]
  },
  {
   "cell_type": "code",
   "execution_count": null,
   "metadata": {},
   "outputs": [],
   "source": [
    "welcome('Sanad')"
   ]
  },
  {
   "cell_type": "markdown",
   "metadata": {},
   "source": [
    "---\n",
    "\n",
    "***Default value of Parameters***\n",
    "\n",
    "\n",
    "---"
   ]
  },
  {
   "cell_type": "code",
   "execution_count": null,
   "metadata": {},
   "outputs": [],
   "source": [
    "def welcome(name = 'Aravind'):\n",
    "    return \"Welcome to Python Course, \" + name"
   ]
  },
  {
   "cell_type": "code",
   "execution_count": null,
   "metadata": {},
   "outputs": [],
   "source": [
    "welcome(\"Rohan\")"
   ]
  },
  {
   "cell_type": "code",
   "execution_count": null,
   "metadata": {},
   "outputs": [],
   "source": [
    "welcome()"
   ]
  },
  {
   "cell_type": "code",
   "execution_count": null,
   "metadata": {},
   "outputs": [],
   "source": [
    "name = \"Lakshay\"\n",
    "welcome(name)"
   ]
  },
  {
   "cell_type": "markdown",
   "metadata": {},
   "source": [
    "---\n",
    "\n",
    "***`POSITIONAL ARGUMENTS`***\n",
    "\n",
    "***Most arguments are identified by their position in the function call. `print(a,b)` will give different results from `print(b,a)`***\n",
    "\n",
    "---"
   ]
  },
  {
   "cell_type": "code",
   "execution_count": null,
   "metadata": {},
   "outputs": [],
   "source": [
    "def math_functions(small_number, large_number):\n",
    "    \n",
    "    difference = large_number - small_number\n",
    "    return difference"
   ]
  },
  {
   "cell_type": "markdown",
   "metadata": {},
   "source": [
    "***If we define only the values of the arguments, the values will be assigned in position.***\n",
    "\n",
    "---"
   ]
  },
  {
   "cell_type": "code",
   "execution_count": null,
   "metadata": {},
   "outputs": [],
   "source": [
    "math_functions(4,16)"
   ]
  },
  {
   "cell_type": "code",
   "execution_count": null,
   "metadata": {},
   "outputs": [],
   "source": [
    "math_functions(16,4)"
   ]
  },
  {
   "cell_type": "markdown",
   "metadata": {},
   "source": [
    "---\n",
    "\n",
    "***`KEYWORD ARGUMENTS`***\n",
    "\n",
    "---\n",
    "\n"
   ]
  },
  {
   "cell_type": "markdown",
   "metadata": {},
   "source": [
    "***If we are defining the keywords, then we can define them in any order.***\n",
    "\n",
    "---"
   ]
  },
  {
   "cell_type": "code",
   "execution_count": null,
   "metadata": {},
   "outputs": [],
   "source": [
    "math_functions(large_number = 16, small_number= 4)"
   ]
  },
  {
   "cell_type": "code",
   "execution_count": null,
   "metadata": {},
   "outputs": [],
   "source": [
    "math_functions(small_number = 4, large_number= 16)"
   ]
  },
  {
   "cell_type": "markdown",
   "metadata": {},
   "source": [
    "***In Python, we cannot first define keyword argument and then positional arguments***\n",
    "\n",
    "---"
   ]
  },
  {
   "cell_type": "code",
   "execution_count": null,
   "metadata": {},
   "outputs": [],
   "source": [
    "math_functions(small_number= 4, 16)"
   ]
  },
  {
   "cell_type": "markdown",
   "metadata": {},
   "source": [
    "***In Python, we always define positional arguments before the keyword arguments***\n",
    "\n",
    "---"
   ]
  },
  {
   "cell_type": "code",
   "execution_count": null,
   "metadata": {},
   "outputs": [],
   "source": [
    "math_functions(4,large_number= 16)"
   ]
  },
  {
   "cell_type": "markdown",
   "metadata": {},
   "source": [
    "---\n",
    "\n",
    "***VARIABLE LENGTH ARGUMENTS***\n",
    "\n",
    "- Sometimes, we need more flexibility while defining functions like we don't know in advance the fixed number of arguments. \n",
    "- Python allows us to make function calls with variable length arguments.\n",
    "\n",
    "---\n",
    "\n",
    "- In the argument use an **(*)** astrick sign before the argument. Let's see how to use in below example. "
   ]
  },
  {
   "cell_type": "code",
   "execution_count": 19,
   "metadata": {},
   "outputs": [],
   "source": [
    "# define a function\n",
    "def my_function(*args):\n",
    "    \n",
    "    for i in args:\n",
    "        print(i)"
   ]
  },
  {
   "cell_type": "code",
   "execution_count": 20,
   "metadata": {},
   "outputs": [
    {
     "name": "stdout",
     "output_type": "stream",
     "text": [
      "1\n",
      "2\n",
      "3\n",
      "4\n"
     ]
    }
   ],
   "source": [
    "my_function(1, 2, 3, 4)"
   ]
  },
  {
   "cell_type": "code",
   "execution_count": 34,
   "metadata": {},
   "outputs": [
    {
     "name": "stdout",
     "output_type": "stream",
     "text": [
      "* 6\n"
     ]
    }
   ],
   "source": [
    "# define a function - testing\n",
    "\n",
    "def my_rfunction(*args):\n",
    "    \n",
    "    if args[1] == \"+\":\n",
    "        a = args[0]+args[2]\n",
    "        print(\"+\",a)\n",
    "    elif args[1] == \"-\":\n",
    "        a = args[0]-args[2]\n",
    "        print(\"-\",a)\n",
    "    elif args[1] == \"*\":\n",
    "        a = args[0]*args[2]\n",
    "        print(\"*\",a)\n",
    "        \n",
    "        \n",
    "my_rfunction(2,\"*\",3)        "
   ]
  },
  {
   "cell_type": "code",
   "execution_count": 24,
   "metadata": {},
   "outputs": [
    {
     "name": "stdout",
     "output_type": "stream",
     "text": [
      "1\n",
      "2\n"
     ]
    }
   ],
   "source": [
    "my_function(1,2)"
   ]
  },
  {
   "cell_type": "code",
   "execution_count": 25,
   "metadata": {},
   "outputs": [
    {
     "name": "stdout",
     "output_type": "stream",
     "text": [
      "1\n",
      "2\n",
      "cijeoi\n",
      "foejof\n",
      "ojfiejfpiwe\n"
     ]
    }
   ],
   "source": [
    "my_function('1', '2', 'cijeoi', 'foejof', 'ojfiejfpiwe')"
   ]
  },
  {
   "cell_type": "markdown",
   "metadata": {},
   "source": [
    "#### If you have unknown number of keyword arguments, then you can use double asterick (**)\n",
    "\n",
    "---"
   ]
  },
  {
   "cell_type": "code",
   "execution_count": 31,
   "metadata": {},
   "outputs": [],
   "source": [
    "def my_keyword_arguments(**kwargs):\n",
    "    for key, value in kwargs.items():\n",
    "        print(key, value)"
   ]
  },
  {
   "cell_type": "code",
   "execution_count": 32,
   "metadata": {},
   "outputs": [
    {
     "name": "stdout",
     "output_type": "stream",
     "text": [
      "a 1\n",
      "b 2\n",
      "c 3\n",
      "d 4\n"
     ]
    }
   ],
   "source": [
    "my_keyword_arguments(a= 1, b= 2, c= 3, d= 4)"
   ]
  },
  {
   "cell_type": "code",
   "execution_count": 28,
   "metadata": {},
   "outputs": [
    {
     "name": "stdout",
     "output_type": "stream",
     "text": [
      "x s\n",
      "y e\n"
     ]
    }
   ],
   "source": [
    "my_keyword_arguments(x='s',y='e')"
   ]
  },
  {
   "cell_type": "markdown",
   "metadata": {},
   "source": [
    "---\n",
    "\n",
    "***Scope of Variables: Local and Global Variables***\n",
    "\n",
    "---\n",
    "\n",
    "- **`\"Scope of Variable\"`** means that part of program where we can access the particular variable.\n",
    "- **`\"Local Variable\"`** are those which are defined inside the function and can be only accessed inside that particular function.\n",
    "- **`\"Global Variable\"`** are defined outside the function and can be accessed throughout the program.\n",
    " \n",
    "---\n",
    "\n",
    "\n",
    "***Let's define a global variable, `\"name\"` outside the function. We will return its value using a function `\"my_function\"` and see that we would be able to access its value using that function also.***\n",
    "\n",
    "---"
   ]
  },
  {
   "cell_type": "code",
   "execution_count": null,
   "metadata": {},
   "outputs": [],
   "source": [
    "# define a global variable\n",
    "name = \"variable outside function\" \n",
    "\n",
    "# define a function\n",
    "def my_function():\n",
    "    # access the variable outside the function\n",
    "    return name"
   ]
  },
  {
   "cell_type": "code",
   "execution_count": null,
   "metadata": {},
   "outputs": [],
   "source": [
    "print(my_function())\n",
    "print(name)"
   ]
  },
  {
   "cell_type": "markdown",
   "metadata": {},
   "source": [
    "***So, we were able to access the value of a global variable from inside the function. Let's see what will happen if we try to change the value of global variable inside the function***\n",
    "\n",
    "---"
   ]
  },
  {
   "cell_type": "code",
   "execution_count": null,
   "metadata": {},
   "outputs": [],
   "source": [
    "# define a global variable\n",
    "name = \"variable outside function\"\n",
    "\n",
    "def my_function():\n",
    "    # try to change the value of global variable inside the function\n",
    "    name = \"variable inside function\"  \n",
    "    return name"
   ]
  },
  {
   "cell_type": "code",
   "execution_count": null,
   "metadata": {},
   "outputs": [],
   "source": [
    "print(my_function())\n",
    "print(name)"
   ]
  },
  {
   "cell_type": "markdown",
   "metadata": {},
   "source": [
    "---\n",
    "\n",
    "* ***So, here when we tried to change the value of the variable `\"name\"` inside the function then instead of updating its value, python created another variable `(\"another local variable\")` whose scope was only limited to the function itself.***\n",
    "* ***When we called the function, it returned the value of the local variable whereas when we directly accessed the `\"name\"` variable, it returned the value of the global variable.***\n",
    "\n",
    "---\n",
    "\n",
    "#### `LET'S SEE HOW CAN WE UPDATE THE VALUE OF THE GLOBAL VARIABLE INSIDE ANY USER-DEFINED FUNCTION.`\n",
    "\n",
    "\n",
    "---\n",
    "***`global` keyword***\n",
    "\n",
    "---"
   ]
  },
  {
   "cell_type": "code",
   "execution_count": null,
   "metadata": {},
   "outputs": [],
   "source": [
    "# define a global variable\n",
    "name = \"variable outside function\"\n",
    "\n",
    "def my_function():\n",
    "    # tell the function which variables are global\n",
    "    global name\n",
    "    name = \"variable inside function\"  \n",
    "    return name"
   ]
  },
  {
   "cell_type": "code",
   "execution_count": null,
   "metadata": {},
   "outputs": [],
   "source": [
    "my_function()"
   ]
  },
  {
   "cell_type": "code",
   "execution_count": null,
   "metadata": {},
   "outputs": [],
   "source": [
    "name"
   ]
  },
  {
   "cell_type": "markdown",
   "metadata": {},
   "source": [
    "***While defining a function, we can tell the function that these `variables are global` using the `global` keyword.***\n",
    "\n",
    "\n",
    "---"
   ]
  },
  {
   "cell_type": "code",
   "execution_count": null,
   "metadata": {},
   "outputs": [],
   "source": []
  }
 ],
 "metadata": {
  "kernelspec": {
   "display_name": "Python 3",
   "language": "python",
   "name": "python3"
  },
  "language_info": {
   "codemirror_mode": {
    "name": "ipython",
    "version": 3
   },
   "file_extension": ".py",
   "mimetype": "text/x-python",
   "name": "python",
   "nbconvert_exporter": "python",
   "pygments_lexer": "ipython3",
   "version": "3.6.12"
  }
 },
 "nbformat": 4,
 "nbformat_minor": 2
}
